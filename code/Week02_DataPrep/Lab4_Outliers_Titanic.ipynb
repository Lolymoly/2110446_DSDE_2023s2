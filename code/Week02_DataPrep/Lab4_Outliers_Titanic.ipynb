





<!DOCTYPE html>
<html
  lang="en"
  
  data-color-mode="auto" data-light-theme="light" data-dark-theme="dark"
  data-a11y-animated-images="system" data-a11y-link-underlines="true"
  >




  <head>
    <meta charset="utf-8">
  <link rel="dns-prefetch" href="https://github.githubassets.com">
  <link rel="dns-prefetch" href="https://avatars.githubusercontent.com">
  <link rel="dns-prefetch" href="https://github-cloud.s3.amazonaws.com">
  <link rel="dns-prefetch" href="https://user-images.githubusercontent.com/">
  <link rel="preconnect" href="https://github.githubassets.com" crossorigin>
  <link rel="preconnect" href="https://avatars.githubusercontent.com">

  


  <link crossorigin="anonymous" media="all" rel="stylesheet" href="https://github.githubassets.com/assets/light-38f1bf52eeeb.css" /><link crossorigin="anonymous" media="all" rel="stylesheet" href="https://github.githubassets.com/assets/dark-56010aa53a8f.css" /><link data-color-theme="dark_dimmed" crossorigin="anonymous" media="all" rel="stylesheet" data-href="https://github.githubassets.com/assets/dark_dimmed-b2e1b478d5b4.css" /><link data-color-theme="dark_high_contrast" crossorigin="anonymous" media="all" rel="stylesheet" data-href="https://github.githubassets.com/assets/dark_high_contrast-e7f12ffa82f3.css" /><link data-color-theme="dark_colorblind" crossorigin="anonymous" media="all" rel="stylesheet" data-href="https://github.githubassets.com/assets/dark_colorblind-ddca79c20026.css" /><link data-color-theme="light_colorblind" crossorigin="anonymous" media="all" rel="stylesheet" data-href="https://github.githubassets.com/assets/light_colorblind-8017b9c4037b.css" /><link data-color-theme="light_high_contrast" crossorigin="anonymous" media="all" rel="stylesheet" data-href="https://github.githubassets.com/assets/light_high_contrast-3ce2d3d8a4d3.css" /><link data-color-theme="light_tritanopia" crossorigin="anonymous" media="all" rel="stylesheet" data-href="https://github.githubassets.com/assets/light_tritanopia-02059c141ad5.css" /><link data-color-theme="dark_tritanopia" crossorigin="anonymous" media="all" rel="stylesheet" data-href="https://github.githubassets.com/assets/dark_tritanopia-870ee47909bf.css" />
    <link crossorigin="anonymous" media="all" rel="stylesheet" href="https://github.githubassets.com/assets/primer-primitives-971c6be3ec9f.css" />
    <link crossorigin="anonymous" media="all" rel="stylesheet" href="https://github.githubassets.com/assets/primer-6b3d1b701ef1.css" />
    <link crossorigin="anonymous" media="all" rel="stylesheet" href="https://github.githubassets.com/assets/global-484ba3bb07be.css" />
    <link crossorigin="anonymous" media="all" rel="stylesheet" href="https://github.githubassets.com/assets/github-fd21cceed2ca.css" />
  <link crossorigin="anonymous" media="all" rel="stylesheet" href="https://github.githubassets.com/assets/repository-c44766927ec9.css" />
<link crossorigin="anonymous" media="all" rel="stylesheet" href="https://github.githubassets.com/assets/code-84d2eb3bfd6c.css" />

  

  <script type="application/json" id="client-env">{"locale":"en","featureFlags":["docset_management_ui","failbot_handle_non_errors","geojson_azure_maps","image_metric_tracking","repository_suggester_elastic_search","turbo_experiment_risky","sample_network_conn_type","no_character_key_shortcuts_in_inputs"]}</script>
<script crossorigin="anonymous" defer="defer" type="application/javascript" src="https://github.githubassets.com/assets/wp-runtime-19826922a740.js"></script>
<script crossorigin="anonymous" defer="defer" type="application/javascript" src="https://github.githubassets.com/assets/vendors-node_modules_dompurify_dist_purify_js-6890e890956f.js"></script>
<script crossorigin="anonymous" defer="defer" type="application/javascript" src="https://github.githubassets.com/assets/vendors-node_modules_stacktrace-parser_dist_stack-trace-parser_esm_js-node_modules_github_bro-a4c183-79f9611c275b.js"></script>
<script crossorigin="anonymous" defer="defer" type="application/javascript" src="https://github.githubassets.com/assets/vendors-node_modules_github_hydro-analytics-client_dist_analytics-client_js-node_modules_gith-6a10dd-8837a7c17569.js"></script>
<script crossorigin="anonymous" defer="defer" type="application/javascript" src="https://github.githubassets.com/assets/ui_packages_failbot_failbot_ts-d0d83ce7cc11.js"></script>
<script crossorigin="anonymous" defer="defer" type="application/javascript" src="https://github.githubassets.com/assets/environment-9c9dc918c219.js"></script>
<script crossorigin="anonymous" defer="defer" type="application/javascript" src="https://github.githubassets.com/assets/vendors-node_modules_github_selector-observer_dist_index_esm_js-9f960d9b217c.js"></script>
<script crossorigin="anonymous" defer="defer" type="application/javascript" src="https://github.githubassets.com/assets/vendors-node_modules_primer_behaviors_dist_esm_focus-zone_js-086f7a27bac0.js"></script>
<script crossorigin="anonymous" defer="defer" type="application/javascript" src="https://github.githubassets.com/assets/vendors-node_modules_github_relative-time-element_dist_index_js-c6fd49e3fd28.js"></script>
<script crossorigin="anonymous" defer="defer" type="application/javascript" src="https://github.githubassets.com/assets/vendors-node_modules_github_markdown-toolbar-element_dist_index_js-50c5393dc6a6.js"></script>
<script crossorigin="anonymous" defer="defer" type="application/javascript" src="https://github.githubassets.com/assets/vendors-node_modules_delegated-events_dist_index_js-node_modules_github_details-dialog-elemen-29dc30-a2a71f11a507.js"></script>
<script crossorigin="anonymous" defer="defer" type="application/javascript" src="https://github.githubassets.com/assets/vendors-node_modules_github_auto-complete-element_dist_index_js-d6c09d7e4e48.js"></script>
<script crossorigin="anonymous" defer="defer" type="application/javascript" src="https://github.githubassets.com/assets/vendors-node_modules_github_filter-input-element_dist_index_js-node_modules_github_remote-inp-b7d8f4-3867c6400aef.js"></script>
<script crossorigin="anonymous" defer="defer" type="application/javascript" src="https://github.githubassets.com/assets/vendors-node_modules_github_file-attachment-element_dist_index_js-node_modules_primer_view-co-eb424d-1f1d46301f70.js"></script>
<script crossorigin="anonymous" defer="defer" type="application/javascript" src="https://github.githubassets.com/assets/github-elements-55c0fbe6bffe.js"></script>
<script crossorigin="anonymous" defer="defer" type="application/javascript" src="https://github.githubassets.com/assets/element-registry-c95a42be370f.js"></script>
<script crossorigin="anonymous" defer="defer" type="application/javascript" src="https://github.githubassets.com/assets/vendors-node_modules_github_catalyst_lib_index_js-node_modules_github_hydro-analytics-client_-978abc0-15861e0630b6.js"></script>
<script crossorigin="anonymous" defer="defer" type="application/javascript" src="https://github.githubassets.com/assets/vendors-node_modules_lit-html_lit-html_js-5b376145beff.js"></script>
<script crossorigin="anonymous" defer="defer" type="application/javascript" src="https://github.githubassets.com/assets/vendors-node_modules_github_mini-throttle_dist_index_js-node_modules_github_alive-client_dist-bf5aa2-1b562c29ab8e.js"></script>
<script crossorigin="anonymous" defer="defer" type="application/javascript" src="https://github.githubassets.com/assets/vendors-node_modules_morphdom_dist_morphdom-esm_js-5bff297a06de.js"></script>
<script crossorigin="anonymous" defer="defer" type="application/javascript" src="https://github.githubassets.com/assets/vendors-node_modules_github_turbo_dist_turbo_es2017-esm_js-c91f4ad18b62.js"></script>
<script crossorigin="anonymous" defer="defer" type="application/javascript" src="https://github.githubassets.com/assets/vendors-node_modules_color-convert_index_js-72c9fbde5ad4.js"></script>
<script crossorigin="anonymous" defer="defer" type="application/javascript" src="https://github.githubassets.com/assets/vendors-node_modules_github_remote-form_dist_index_js-node_modules_scroll-anchoring_dist_scro-231ccf-aa129238d13b.js"></script>
<script crossorigin="anonymous" defer="defer" type="application/javascript" src="https://github.githubassets.com/assets/vendors-node_modules_primer_behaviors_dist_esm_dimensions_js-node_modules_github_jtml_lib_index_js-95b84ee6bc34.js"></script>
<script crossorigin="anonymous" defer="defer" type="application/javascript" src="https://github.githubassets.com/assets/vendors-node_modules_github_paste-markdown_dist_index_esm_js-node_modules_github_quote-select-c83403-d1beba7fa520.js"></script>
<script crossorigin="anonymous" defer="defer" type="application/javascript" src="https://github.githubassets.com/assets/app_assets_modules_github_updatable-content_ts-9347f91169af.js"></script>
<script crossorigin="anonymous" defer="defer" type="application/javascript" src="https://github.githubassets.com/assets/app_assets_modules_github_behaviors_task-list_ts-app_assets_modules_github_onfocus_ts-app_ass-421cec-751caa0072bd.js"></script>
<script crossorigin="anonymous" defer="defer" type="application/javascript" src="https://github.githubassets.com/assets/app_assets_modules_github_sticky-scroll-into-view_ts-0a630b4c5ac5.js"></script>
<script crossorigin="anonymous" defer="defer" type="application/javascript" src="https://github.githubassets.com/assets/app_assets_modules_github_behaviors_ajax-error_ts-app_assets_modules_github_behaviors_include-467754-bec8239542bc.js"></script>
<script crossorigin="anonymous" defer="defer" type="application/javascript" src="https://github.githubassets.com/assets/app_assets_modules_github_behaviors_commenting_edit_ts-app_assets_modules_github_behaviors_ht-83c235-b85e9f4f1304.js"></script>
<script crossorigin="anonymous" defer="defer" type="application/javascript" src="https://github.githubassets.com/assets/behaviors-f9a8c3f53f8b.js"></script>
<script crossorigin="anonymous" defer="defer" type="application/javascript" src="https://github.githubassets.com/assets/vendors-node_modules_delegated-events_dist_index_js-node_modules_github_catalyst_lib_index_js-d0256ebff5cd.js"></script>
<script crossorigin="anonymous" defer="defer" type="application/javascript" src="https://github.githubassets.com/assets/notifications-global-99d196517b1b.js"></script>
<script crossorigin="anonymous" defer="defer" type="application/javascript" src="https://github.githubassets.com/assets/code-menu-2658b004279a.js"></script>
  
  <script crossorigin="anonymous" defer="defer" type="application/javascript" src="https://github.githubassets.com/assets/react-lib-1fbfc5be2c18.js"></script>
<script crossorigin="anonymous" defer="defer" type="application/javascript" src="https://github.githubassets.com/assets/vendors-node_modules_primer_octicons-react_dist_index_esm_js-node_modules_primer_react_lib-es-2e8e7c-10a09821ebde.js"></script>
<script crossorigin="anonymous" defer="defer" type="application/javascript" src="https://github.githubassets.com/assets/vendors-node_modules_primer_react_lib-esm_Box_Box_js-ebfceb11fb57.js"></script>
<script crossorigin="anonymous" defer="defer" type="application/javascript" src="https://github.githubassets.com/assets/vendors-node_modules_primer_react_lib-esm_Button_Button_js-397c76c09f1c.js"></script>
<script crossorigin="anonymous" defer="defer" type="application/javascript" src="https://github.githubassets.com/assets/vendors-node_modules_primer_react_lib-esm_ActionList_index_js-0e72b663ff86.js"></script>
<script crossorigin="anonymous" defer="defer" type="application/javascript" src="https://github.githubassets.com/assets/vendors-node_modules_primer_react_lib-esm_Overlay_Overlay_js-node_modules_primer_react_lib-es-fa1130-604df962252b.js"></script>
<script crossorigin="anonymous" defer="defer" type="application/javascript" src="https://github.githubassets.com/assets/vendors-node_modules_primer_react_lib-esm_Text_Text_js-node_modules_primer_react_lib-esm_Text-85a14b-249efa9c2fae.js"></script>
<script crossorigin="anonymous" defer="defer" type="application/javascript" src="https://github.githubassets.com/assets/vendors-node_modules_primer_react_lib-esm_FormControl_FormControl_js-4836978f458d.js"></script>
<script crossorigin="anonymous" defer="defer" type="application/javascript" src="https://github.githubassets.com/assets/vendors-node_modules_primer_react_lib-esm_ActionMenu_ActionMenu_js-a3c61ff6363e.js"></script>
<script crossorigin="anonymous" defer="defer" type="application/javascript" src="https://github.githubassets.com/assets/vendors-node_modules_react-router-dom_dist_index_js-cc35d258380c.js"></script>
<script crossorigin="anonymous" defer="defer" type="application/javascript" src="https://github.githubassets.com/assets/vendors-node_modules_primer_react_lib-esm_PageLayout_PageLayout_js-a0f5dc4acaba.js"></script>
<script crossorigin="anonymous" defer="defer" type="application/javascript" src="https://github.githubassets.com/assets/vendors-node_modules_primer_react_lib-esm_ConfirmationDialog_ConfirmationDialog_js-1396cd0754d9.js"></script>
<script crossorigin="anonymous" defer="defer" type="application/javascript" src="https://github.githubassets.com/assets/vendors-node_modules_primer_react_lib-esm_Dialog_js-node_modules_primer_react_lib-esm_Flash_F-ad64b6-7663299a84eb.js"></script>
<script crossorigin="anonymous" defer="defer" type="application/javascript" src="https://github.githubassets.com/assets/vendors-node_modules_primer_react_lib-esm_Avatar_Avatar_js-node_modules_primer_react_lib-esm_-23b59f-4217d5edbfa9.js"></script>
<script crossorigin="anonymous" defer="defer" type="application/javascript" src="https://github.githubassets.com/assets/vendors-node_modules_primer_react_lib-esm_TreeView_TreeView_js-5d623f8c8e93.js"></script>
<script crossorigin="anonymous" defer="defer" type="application/javascript" src="https://github.githubassets.com/assets/vendors-node_modules_primer_react_lib-esm_UnderlineNav_index_js-68debb3ba7c5.js"></script>
<script crossorigin="anonymous" defer="defer" type="application/javascript" src="https://github.githubassets.com/assets/vendors-node_modules_primer_react_lib-esm_AvatarStack_AvatarStack_js-node_modules_primer_reac-f028ee-6d536c37fd99.js"></script>
<script crossorigin="anonymous" defer="defer" type="application/javascript" src="https://github.githubassets.com/assets/ui_packages_react-core_create-browser-history_ts-ui_packages_react-core_AppContextProvider_ts-809ab9-10c23fc44eab.js"></script>
<script crossorigin="anonymous" defer="defer" type="application/javascript" src="https://github.githubassets.com/assets/ui_packages_react-core_register-app_ts-e02f221820ce.js"></script>
<script crossorigin="anonymous" defer="defer" type="application/javascript" src="https://github.githubassets.com/assets/ui_packages_paths_index_ts-6e3a367dcc7e.js"></script>
<script crossorigin="anonymous" defer="defer" type="application/javascript" src="https://github.githubassets.com/assets/ui_packages_ref-selector_RefSelector_tsx-858bb94813b1.js"></script>
<script crossorigin="anonymous" defer="defer" type="application/javascript" src="https://github.githubassets.com/assets/ui_packages_commit-attribution_index_ts-ui_packages_commit-checks-status_index_ts-ui_packages-5acf59-7f75acbdb36e.js"></script>
<script crossorigin="anonymous" defer="defer" type="application/javascript" src="https://github.githubassets.com/assets/app_assets_modules_github_blob-anchor_ts-app_assets_modules_github_filter-sort_ts-app_assets_-681869-a92a31706e0e.js"></script>
<script crossorigin="anonymous" defer="defer" type="application/javascript" src="https://github.githubassets.com/assets/app_assets_modules_react-code-view_pages_CodeView_tsx-7a8c7e48633c.js"></script>
<script crossorigin="anonymous" defer="defer" type="application/javascript" src="https://github.githubassets.com/assets/react-code-view-3e57a23e2ced.js"></script>


  <title>2110531_DSDE_2023s1/code/Week02_DataPrep/Lab4_Outliers_Titanic.ipynb at main · pvateekul/2110531_DSDE_2023s1</title>



  <meta name="route-pattern" content="/:user_id/:repository/blob/*name(/*path)">

    
  <meta name="current-catalog-service-hash" content="82c569b93da5c18ed649ebd4c2c79437db4611a6a1373e805a3cb001c64130b7">


  <meta name="request-id" content="F611:1E0DC1:2AED89:2EA460:65A59BEE" data-turbo-transient="true" /><meta name="html-safe-nonce" content="c53e480d413b081c1e13917f337a1fb3460c1d571327dd542fadc4075b47f204" data-turbo-transient="true" /><meta name="visitor-payload" content="eyJyZWZlcnJlciI6Imh0dHBzOi8vZ2l0aHViLmNvbS9wdmF0ZWVrdWwvMjExMDUzMV9EU0RFXzIwMjNzMS90cmVlL21haW4vY29kZS9XZWVrMDJfRGF0YVByZXAiLCJyZXF1ZXN0X2lkIjoiRjYxMToxRTBEQzE6MkFFRDg5OjJFQTQ2MDo2NUE1OUJFRSIsInZpc2l0b3JfaWQiOiIzMzQ3MDczNTMwMjA4MzMwMTU4IiwicmVnaW9uX2VkZ2UiOiJzb3V0aGVhc3Rhc2lhIiwicmVnaW9uX3JlbmRlciI6ImlhZCJ9" data-turbo-transient="true" /><meta name="visitor-hmac" content="08c9ed47111099e4f129f37b7576a91db8763995361d564d1c7d6ea978b6dd8b" data-turbo-transient="true" />


    <meta name="hovercard-subject-tag" content="repository:674017728" data-turbo-transient>


  <meta name="github-keyboard-shortcuts" content="repository,source-code,file-tree" data-turbo-transient="true" />
  

  <meta name="selected-link" value="repo_source" data-turbo-transient>
  <link rel="assets" href="https://github.githubassets.com/">

    <meta name="google-site-verification" content="c1kuD-K2HIVF635lypcsWPoD4kilo5-jA_wBFyT4uMY">
  <meta name="google-site-verification" content="KT5gs8h0wvaagLKAVWq8bbeNwnZZK1r1XQysX3xurLU">
  <meta name="google-site-verification" content="ZzhVyEFwb7w3e0-uOTltm8Jsck2F5StVihD0exw2fsA">
  <meta name="google-site-verification" content="GXs5KoUUkNCoaAZn7wPN-t01Pywp9M3sEjnt_3_ZWPc">
  <meta name="google-site-verification" content="Apib7-x98H0j5cPqHWwSMm6dNU4GmODRoqxLiDzdx9I">

<meta name="octolytics-url" content="https://collector.github.com/github/collect" /><meta name="octolytics-actor-id" content="13675209" /><meta name="octolytics-actor-login" content="pvateekul" /><meta name="octolytics-actor-hash" content="51ca767a296ccbc049b0f3e0176234ccd6487bc591b7a13c76e9829da891d132" />

  <meta name="analytics-location" content="/&lt;user-name&gt;/&lt;repo-name&gt;/blob/show" data-turbo-transient="true" />

  




  

    <meta name="user-login" content="pvateekul">

  <link rel="sudo-modal" href="/sessions/sudo_modal">

    <meta name="viewport" content="width=device-width">
    
      <meta name="description" content="2110531 Data Science and Data Engineering Tools (2023/1) - 2110531_DSDE_2023s1/code/Week02_DataPrep/Lab4_Outliers_Titanic.ipynb at main · pvateekul/2110531_DSDE_2023s1">
      <link rel="search" type="application/opensearchdescription+xml" href="/opensearch.xml" title="GitHub">
    <link rel="fluid-icon" href="https://github.com/fluidicon.png" title="GitHub">
    <meta property="fb:app_id" content="1401488693436528">
    <meta name="apple-itunes-app" content="app-id=1477376905, app-argument=https://github.com/pvateekul/2110531_DSDE_2023s1/blob/main/code/Week02_DataPrep/Lab4_Outliers_Titanic.ipynb" />
      <meta name="twitter:image:src" content="https://opengraph.githubassets.com/9420c9b7cb52c4e379307c40352be62e828a732533496caed1f104744f2b1178/pvateekul/2110531_DSDE_2023s1" /><meta name="twitter:site" content="@github" /><meta name="twitter:card" content="summary_large_image" /><meta name="twitter:title" content="2110531_DSDE_2023s1/code/Week02_DataPrep/Lab4_Outliers_Titanic.ipynb at main · pvateekul/2110531_DSDE_2023s1" /><meta name="twitter:description" content="2110531 Data Science and Data Engineering Tools (2023/1) - pvateekul/2110531_DSDE_2023s1" />
      <meta property="og:image" content="https://opengraph.githubassets.com/9420c9b7cb52c4e379307c40352be62e828a732533496caed1f104744f2b1178/pvateekul/2110531_DSDE_2023s1" /><meta property="og:image:alt" content="2110531 Data Science and Data Engineering Tools (2023/1) - pvateekul/2110531_DSDE_2023s1" /><meta property="og:image:width" content="1200" /><meta property="og:image:height" content="600" /><meta property="og:site_name" content="GitHub" /><meta property="og:type" content="object" /><meta property="og:title" content="2110531_DSDE_2023s1/code/Week02_DataPrep/Lab4_Outliers_Titanic.ipynb at main · pvateekul/2110531_DSDE_2023s1" /><meta property="og:url" content="https://github.com/pvateekul/2110531_DSDE_2023s1/blob/main/code/Week02_DataPrep/Lab4_Outliers_Titanic.ipynb" /><meta property="og:description" content="2110531 Data Science and Data Engineering Tools (2023/1) - pvateekul/2110531_DSDE_2023s1" />
      

      <link rel="shared-web-socket" href="wss://alive.github.com/_sockets/u/13675209/ws?session=eyJ2IjoiVjMiLCJ1IjoxMzY3NTIwOSwicyI6MTI4Mzk2OTY1MywiYyI6MjIzNjE5NTQwNCwidCI6MTcwNTM1MjE3OH0=--a7ebd9e255953071e04fb643018d024b7ed5f8b4b7c83a2dfd2801dee8961f7e" data-refresh-url="/_alive" data-session-id="79cd90026ddf9d1236ac3d367f92ed9de5f5d70ecb2c7392293753be58db0e65">
      <link rel="shared-web-socket-src" href="/assets-cdn/worker/socket-worker-9cc1149b224c.js">


        <meta name="hostname" content="github.com">


      <meta name="keyboard-shortcuts-preference" content="all">

        <meta name="expected-hostname" content="github.com">


  <meta http-equiv="x-pjax-version" content="476416fddae7cae5738375e437053b43f6ee6d7dfa0609994a886a4089fd6145" data-turbo-track="reload">
  <meta http-equiv="x-pjax-csp-version" content="611e3beaf6df2ba8f98070845c8e5ef70f0ffc535519af6685e8341fcd41c235" data-turbo-track="reload">
  <meta http-equiv="x-pjax-css-version" content="b45af04c4fa1a2921d1f8cc74b68b7206e3538b9033846b785a527ca23825423" data-turbo-track="reload">
  <meta http-equiv="x-pjax-js-version" content="b022abff355166fae4951aad8c298f5e5b53dc4ba047e1d3de5e1c7049b038ed" data-turbo-track="reload">

  <meta name="turbo-cache-control" content="no-preview" data-turbo-transient="">

      <meta name="turbo-cache-control" content="no-cache" data-turbo-transient>
    <meta data-hydrostats="publish">

  <meta name="go-import" content="github.com/pvateekul/2110531_DSDE_2023s1 git https://github.com/pvateekul/2110531_DSDE_2023s1.git">

  <meta name="octolytics-dimension-user_id" content="13675209" /><meta name="octolytics-dimension-user_login" content="pvateekul" /><meta name="octolytics-dimension-repository_id" content="674017728" /><meta name="octolytics-dimension-repository_nwo" content="pvateekul/2110531_DSDE_2023s1" /><meta name="octolytics-dimension-repository_public" content="true" /><meta name="octolytics-dimension-repository_is_fork" content="false" /><meta name="octolytics-dimension-repository_network_root_id" content="674017728" /><meta name="octolytics-dimension-repository_network_root_nwo" content="pvateekul/2110531_DSDE_2023s1" />



  <meta name="turbo-body-classes" content="logged-in env-production page-responsive">


  <meta name="browser-stats-url" content="https://api.github.com/_private/browser/stats">

  <meta name="browser-errors-url" content="https://api.github.com/_private/browser/errors">

  <meta name="browser-optimizely-client-errors-url" content="https://api.github.com/_private/browser/optimizely_client/errors">

  <link rel="mask-icon" href="https://github.githubassets.com/assets/pinned-octocat-093da3e6fa40.svg" color="#000000">
  <link rel="alternate icon" class="js-site-favicon" type="image/png" href="https://github.githubassets.com/favicons/favicon.png">
  <link rel="icon" class="js-site-favicon" type="image/svg+xml" href="https://github.githubassets.com/favicons/favicon.svg">

<meta name="theme-color" content="#1e2327">
<meta name="color-scheme" content="light dark" />


  <link rel="manifest" href="/manifest.json" crossOrigin="use-credentials">

  </head>

  <body class="logged-in env-production page-responsive" style="word-wrap: break-word;">
    <div data-turbo-body class="logged-in env-production page-responsive" style="word-wrap: break-word;">
      


    <div class="position-relative js-header-wrapper ">
      <a href="#start-of-content" class="p-3 color-bg-accent-emphasis color-fg-on-emphasis show-on-focus js-skip-to-content">Skip to content</a>
      <span data-view-component="true" class="progress-pjax-loader Progress position-fixed width-full">
    <span style="width: 0%;" data-view-component="true" class="Progress-item progress-pjax-loader-bar left-0 top-0 color-bg-accent-emphasis"></span>
</span>      
      
  




<script crossorigin="anonymous" defer="defer" type="application/javascript" src="https://github.githubassets.com/assets/vendors-node_modules_primer_react_lib-esm_Button_IconButton_js-node_modules_primer_react_lib--23bcad-ccf1d5fc6054.js"></script>

<script crossorigin="anonymous" defer="defer" type="application/javascript" src="https://github.githubassets.com/assets/keyboard-shortcuts-dialog-01e2217ff7ff.js"></script>

<react-partial
  partial-name="keyboard-shortcuts-dialog"
  data-ssr="false"
>
  
  <script type="application/json" data-target="react-partial.embeddedData">{"props":{}}</script>
  <div data-target="react-partial.reactRoot"></div>
</react-partial>



      

        <script crossorigin="anonymous" defer="defer" type="application/javascript" src="https://github.githubassets.com/assets/vendors-node_modules_allex_crc32_lib_crc32_esm_js-node_modules_github_mini-throttle_dist_deco-b38cad-748e74df23ce.js"></script>
<script crossorigin="anonymous" defer="defer" type="application/javascript" src="https://github.githubassets.com/assets/vendors-node_modules_github_clipboard-copy-element_dist_index_esm_js-node_modules_delegated-e-b37f7d-2f24d321a3fb.js"></script>
<script crossorigin="anonymous" defer="defer" type="application/javascript" src="https://github.githubassets.com/assets/app_assets_modules_github_command-palette_items_help-item_ts-app_assets_modules_github_comman-48ad9d-2c698992678a.js"></script>
<script crossorigin="anonymous" defer="defer" type="application/javascript" src="https://github.githubassets.com/assets/command-palette-636dff165f91.js"></script>

            <header class="AppHeader">
    

    <div class="AppHeader-globalBar pb-2 js-global-bar">
      <div class="AppHeader-globalBar-start">
          <deferred-side-panel data-url="/_side-panels/global">
  <include-fragment data-target="deferred-side-panel.fragment">
      <button aria-label="Open global navigation menu" data-action="click:deferred-side-panel#loadPanel click:deferred-side-panel#panelOpened" data-show-dialog-id="dialog-f58aca86-57cc-4d38-a6e3-cba4e534e640" id="dialog-show-dialog-f58aca86-57cc-4d38-a6e3-cba4e534e640" type="button" data-view-component="true" class="Button Button--iconOnly Button--secondary Button--medium AppHeader-button color-bg-transparent p-0 color-fg-muted">  <svg aria-hidden="true" height="16" viewBox="0 0 16 16" version="1.1" width="16" data-view-component="true" class="octicon octicon-three-bars Button-visual">
    <path d="M1 2.75A.75.75 0 0 1 1.75 2h12.5a.75.75 0 0 1 0 1.5H1.75A.75.75 0 0 1 1 2.75Zm0 5A.75.75 0 0 1 1.75 7h12.5a.75.75 0 0 1 0 1.5H1.75A.75.75 0 0 1 1 7.75ZM1.75 12h12.5a.75.75 0 0 1 0 1.5H1.75a.75.75 0 0 1 0-1.5Z"></path>
</svg>
</button>

<div class="Overlay--hidden Overlay-backdrop--side Overlay-backdrop--placement-left" data-modal-dialog-overlay>
  <modal-dialog data-target="deferred-side-panel.panel" role="dialog" id="dialog-f58aca86-57cc-4d38-a6e3-cba4e534e640" aria-modal="true" aria-disabled="true" aria-labelledby="dialog-f58aca86-57cc-4d38-a6e3-cba4e534e640-title" aria-describedby="dialog-f58aca86-57cc-4d38-a6e3-cba4e534e640-description" data-view-component="true" class="Overlay Overlay-whenNarrow Overlay--size-small-portrait Overlay--motion-scaleFade SidePanel">
    <div styles="flex-direction: row;" data-view-component="true" class="Overlay-header">
  <div class="Overlay-headerContentWrap">
    <div class="Overlay-titleWrap">
      <h1 class="Overlay-title sr-only" id="dialog-f58aca86-57cc-4d38-a6e3-cba4e534e640-title">
        Global navigation
      </h1>
            <div data-view-component="true" class="d-flex">
      <div data-view-component="true" class="AppHeader-logo position-relative">
        <svg aria-hidden="true" height="24" viewBox="0 0 16 16" version="1.1" width="24" data-view-component="true" class="octicon octicon-mark-github">
    <path d="M8 0c4.42 0 8 3.58 8 8a8.013 8.013 0 0 1-5.45 7.59c-.4.08-.55-.17-.55-.38 0-.27.01-1.13.01-2.2 0-.75-.25-1.23-.54-1.48 1.78-.2 3.65-.88 3.65-3.95 0-.88-.31-1.59-.82-2.15.08-.2.36-1.02-.08-2.12 0 0-.67-.22-2.2.82-.64-.18-1.32-.27-2-.27-.68 0-1.36.09-2 .27-1.53-1.03-2.2-.82-2.2-.82-.44 1.1-.16 1.92-.08 2.12-.51.56-.82 1.28-.82 2.15 0 3.06 1.86 3.75 3.64 3.95-.23.2-.44.55-.51 1.07-.46.21-1.61.55-2.33-.66-.15-.24-.6-.83-1.23-.82-.67.01-.27.38.01.53.34.19.73.9.82 1.13.16.45.68 1.31 2.69.94 0 .67.01 1.3.01 1.49 0 .21-.15.45-.55.38A7.995 7.995 0 0 1 0 8c0-4.42 3.58-8 8-8Z"></path>
</svg>
</div></div>
    </div>
    <div class="Overlay-actionWrap">
      <button data-close-dialog-id="dialog-f58aca86-57cc-4d38-a6e3-cba4e534e640" aria-label="Close" type="button" data-view-component="true" class="close-button Overlay-closeButton"><svg aria-hidden="true" height="16" viewBox="0 0 16 16" version="1.1" width="16" data-view-component="true" class="octicon octicon-x">
    <path d="M3.72 3.72a.75.75 0 0 1 1.06 0L8 6.94l3.22-3.22a.749.749 0 0 1 1.275.326.749.749 0 0 1-.215.734L9.06 8l3.22 3.22a.749.749 0 0 1-.326 1.275.749.749 0 0 1-.734-.215L8 9.06l-3.22 3.22a.751.751 0 0 1-1.042-.018.751.751 0 0 1-.018-1.042L6.94 8 3.72 4.78a.75.75 0 0 1 0-1.06Z"></path>
</svg></button>
    </div>
  </div>
</div>
      <scrollable-region data-labelled-by="dialog-f58aca86-57cc-4d38-a6e3-cba4e534e640-title">
        <div data-view-component="true" class="Overlay-body d-flex flex-column px-2">    <div data-view-component="true" class="d-flex flex-column mb-3">
        <nav aria-label="Site navigation" data-view-component="true" class="ActionList">
  
  <nav-list>
    <ul data-view-component="true" class="ActionListWrap">
        
          
<li data-targets="nav-list.items nav-list.items" data-item-id="" data-view-component="true" class="ActionListItem">
    
    <a data-hotkey="g d" data-analytics-event="{&quot;category&quot;:&quot;Global navigation&quot;,&quot;action&quot;:&quot;HOME&quot;,&quot;label&quot;:null}" id="item-8a62e1d2-13ff-4296-a84f-e9a49f9cc18b" href="/dashboard" data-view-component="true" class="ActionListContent ActionListContent--visual16">
        <span class="ActionListItem-visual ActionListItem-visual--leading">
          <svg aria-hidden="true" height="16" viewBox="0 0 16 16" version="1.1" width="16" data-view-component="true" class="octicon octicon-home">
    <path d="M6.906.664a1.749 1.749 0 0 1 2.187 0l5.25 4.2c.415.332.657.835.657 1.367v7.019A1.75 1.75 0 0 1 13.25 15h-3.5a.75.75 0 0 1-.75-.75V9H7v5.25a.75.75 0 0 1-.75.75h-3.5A1.75 1.75 0 0 1 1 13.25V6.23c0-.531.242-1.034.657-1.366l5.25-4.2Zm1.25 1.171a.25.25 0 0 0-.312 0l-5.25 4.2a.25.25 0 0 0-.094.196v7.019c0 .138.112.25.25.25H5.5V8.25a.75.75 0 0 1 .75-.75h3.5a.75.75 0 0 1 .75.75v5.25h2.75a.25.25 0 0 0 .25-.25V6.23a.25.25 0 0 0-.094-.195Z"></path>
</svg>
        </span>
      
        <span data-view-component="true" class="ActionListItem-label">
          Home
</span></a>
  
  
</li>

        
          
<li data-targets="nav-list.items nav-list.items" data-item-id="" data-view-component="true" class="ActionListItem">
    
    <a data-hotkey="g i" data-analytics-event="{&quot;category&quot;:&quot;Global navigation&quot;,&quot;action&quot;:&quot;ISSUES&quot;,&quot;label&quot;:null}" id="item-f18391ea-734b-4edf-99bc-6ddf97ffb407" href="/issues" data-view-component="true" class="ActionListContent ActionListContent--visual16">
        <span class="ActionListItem-visual ActionListItem-visual--leading">
          <svg aria-hidden="true" height="16" viewBox="0 0 16 16" version="1.1" width="16" data-view-component="true" class="octicon octicon-issue-opened">
    <path d="M8 9.5a1.5 1.5 0 1 0 0-3 1.5 1.5 0 0 0 0 3Z"></path><path d="M8 0a8 8 0 1 1 0 16A8 8 0 0 1 8 0ZM1.5 8a6.5 6.5 0 1 0 13 0 6.5 6.5 0 0 0-13 0Z"></path>
</svg>
        </span>
      
        <span data-view-component="true" class="ActionListItem-label">
          Issues
</span></a>
  
  
</li>

        
          
<li data-targets="nav-list.items nav-list.items" data-item-id="" data-view-component="true" class="ActionListItem">
    
    <a data-hotkey="g p" data-analytics-event="{&quot;category&quot;:&quot;Global navigation&quot;,&quot;action&quot;:&quot;PULL_REQUESTS&quot;,&quot;label&quot;:null}" id="item-b7f28613-98fe-4f0c-b584-3f5ce0f61558" href="/pulls" data-view-component="true" class="ActionListContent ActionListContent--visual16">
        <span class="ActionListItem-visual ActionListItem-visual--leading">
          <svg aria-hidden="true" height="16" viewBox="0 0 16 16" version="1.1" width="16" data-view-component="true" class="octicon octicon-git-pull-request">
    <path d="M1.5 3.25a2.25 2.25 0 1 1 3 2.122v5.256a2.251 2.251 0 1 1-1.5 0V5.372A2.25 2.25 0 0 1 1.5 3.25Zm5.677-.177L9.573.677A.25.25 0 0 1 10 .854V2.5h1A2.5 2.5 0 0 1 13.5 5v5.628a2.251 2.251 0 1 1-1.5 0V5a1 1 0 0 0-1-1h-1v1.646a.25.25 0 0 1-.427.177L7.177 3.427a.25.25 0 0 1 0-.354ZM3.75 2.5a.75.75 0 1 0 0 1.5.75.75 0 0 0 0-1.5Zm0 9.5a.75.75 0 1 0 0 1.5.75.75 0 0 0 0-1.5Zm8.25.75a.75.75 0 1 0 1.5 0 .75.75 0 0 0-1.5 0Z"></path>
</svg>
        </span>
      
        <span data-view-component="true" class="ActionListItem-label">
          Pull requests
</span></a>
  
  
</li>

        
          
<li data-targets="nav-list.items nav-list.items" data-item-id="" data-item-id="projects" data-view-component="true" class="ActionListItem">
    
    <a data-analytics-event="{&quot;category&quot;:&quot;Global navigation&quot;,&quot;action&quot;:&quot;PROJECTS&quot;,&quot;label&quot;:null}" id="item-ed84e9d1-04a2-47b3-a534-809de42ef100" href="/projects" data-view-component="true" class="ActionListContent ActionListContent--visual16">
        <span class="ActionListItem-visual ActionListItem-visual--leading">
          <svg aria-hidden="true" height="16" viewBox="0 0 16 16" version="1.1" width="16" data-view-component="true" class="octicon octicon-table">
    <path d="M0 1.75C0 .784.784 0 1.75 0h12.5C15.216 0 16 .784 16 1.75v12.5A1.75 1.75 0 0 1 14.25 16H1.75A1.75 1.75 0 0 1 0 14.25ZM6.5 6.5v8h7.75a.25.25 0 0 0 .25-.25V6.5Zm8-1.5V1.75a.25.25 0 0 0-.25-.25H6.5V5Zm-13 1.5v7.75c0 .138.112.25.25.25H5v-8ZM5 5V1.5H1.75a.25.25 0 0 0-.25.25V5Z"></path>
</svg>
        </span>
      
        <span data-view-component="true" class="ActionListItem-label">
          Projects
</span></a>
  
  
</li>

        
          
<li data-targets="nav-list.items nav-list.items" data-item-id="" data-view-component="true" class="ActionListItem">
    
    <a data-analytics-event="{&quot;category&quot;:&quot;Global navigation&quot;,&quot;action&quot;:&quot;DISCUSSIONS&quot;,&quot;label&quot;:null}" id="item-eea862b2-3049-4628-9daa-dd28edd2ee7f" href="/discussions" data-view-component="true" class="ActionListContent ActionListContent--visual16">
        <span class="ActionListItem-visual ActionListItem-visual--leading">
          <svg aria-hidden="true" height="16" viewBox="0 0 16 16" version="1.1" width="16" data-view-component="true" class="octicon octicon-comment-discussion">
    <path d="M1.75 1h8.5c.966 0 1.75.784 1.75 1.75v5.5A1.75 1.75 0 0 1 10.25 10H7.061l-2.574 2.573A1.458 1.458 0 0 1 2 11.543V10h-.25A1.75 1.75 0 0 1 0 8.25v-5.5C0 1.784.784 1 1.75 1ZM1.5 2.75v5.5c0 .138.112.25.25.25h1a.75.75 0 0 1 .75.75v2.19l2.72-2.72a.749.749 0 0 1 .53-.22h3.5a.25.25 0 0 0 .25-.25v-5.5a.25.25 0 0 0-.25-.25h-8.5a.25.25 0 0 0-.25.25Zm13 2a.25.25 0 0 0-.25-.25h-.5a.75.75 0 0 1 0-1.5h.5c.966 0 1.75.784 1.75 1.75v5.5A1.75 1.75 0 0 1 14.25 12H14v1.543a1.458 1.458 0 0 1-2.487 1.03L9.22 12.28a.749.749 0 0 1 .326-1.275.749.749 0 0 1 .734.215l2.22 2.22v-2.19a.75.75 0 0 1 .75-.75h1a.25.25 0 0 0 .25-.25Z"></path>
</svg>
        </span>
      
        <span data-view-component="true" class="ActionListItem-label">
          Discussions
</span></a>
  
  
</li>

        
          
<li data-targets="nav-list.items nav-list.items" data-item-id="" data-view-component="true" class="ActionListItem">
    
    <a data-analytics-event="{&quot;category&quot;:&quot;Global navigation&quot;,&quot;action&quot;:&quot;CODESPACES&quot;,&quot;label&quot;:null}" id="item-736c4431-015c-41fa-b365-74d9c54f34a9" href="https://github.com/codespaces" data-view-component="true" class="ActionListContent ActionListContent--visual16">
        <span class="ActionListItem-visual ActionListItem-visual--leading">
          <svg aria-hidden="true" height="16" viewBox="0 0 16 16" version="1.1" width="16" data-view-component="true" class="octicon octicon-codespaces">
    <path d="M0 11.25c0-.966.784-1.75 1.75-1.75h12.5c.966 0 1.75.784 1.75 1.75v3A1.75 1.75 0 0 1 14.25 16H1.75A1.75 1.75 0 0 1 0 14.25Zm2-9.5C2 .784 2.784 0 3.75 0h8.5C13.216 0 14 .784 14 1.75v5a1.75 1.75 0 0 1-1.75 1.75h-8.5A1.75 1.75 0 0 1 2 6.75Zm1.75-.25a.25.25 0 0 0-.25.25v5c0 .138.112.25.25.25h8.5a.25.25 0 0 0 .25-.25v-5a.25.25 0 0 0-.25-.25Zm-2 9.5a.25.25 0 0 0-.25.25v3c0 .138.112.25.25.25h12.5a.25.25 0 0 0 .25-.25v-3a.25.25 0 0 0-.25-.25Z"></path><path d="M7 12.75a.75.75 0 0 1 .75-.75h4.5a.75.75 0 0 1 0 1.5h-4.5a.75.75 0 0 1-.75-.75Zm-4 0a.75.75 0 0 1 .75-.75h.5a.75.75 0 0 1 0 1.5h-.5a.75.75 0 0 1-.75-.75Z"></path>
</svg>
        </span>
      
        <span data-view-component="true" class="ActionListItem-label">
          Codespaces
</span></a>
  
  
</li>

        
          <li role="presentation" aria-hidden="true" data-view-component="true" class="ActionList-sectionDivider"></li>
        
          
<li data-targets="nav-list.items nav-list.items" data-item-id="" data-view-component="true" class="ActionListItem">
    
    <a data-analytics-event="{&quot;category&quot;:&quot;Global navigation&quot;,&quot;action&quot;:&quot;EXPLORE&quot;,&quot;label&quot;:null}" id="item-4125fbc6-0a89-41ce-8e37-6ba34d1bc2af" href="/explore" data-view-component="true" class="ActionListContent ActionListContent--visual16">
        <span class="ActionListItem-visual ActionListItem-visual--leading">
          <svg aria-hidden="true" height="16" viewBox="0 0 16 16" version="1.1" width="16" data-view-component="true" class="octicon octicon-telescope">
    <path d="M14.184 1.143v-.001l1.422 2.464a1.75 1.75 0 0 1-.757 2.451L3.104 11.713a1.75 1.75 0 0 1-2.275-.702l-.447-.775a1.75 1.75 0 0 1 .53-2.32L11.682.573a1.748 1.748 0 0 1 2.502.57Zm-4.709 9.32h-.001l2.644 3.863a.75.75 0 1 1-1.238.848l-1.881-2.75v2.826a.75.75 0 0 1-1.5 0v-2.826l-1.881 2.75a.75.75 0 1 1-1.238-.848l2.049-2.992a.746.746 0 0 1 .293-.253l1.809-.87a.749.749 0 0 1 .944.252ZM9.436 3.92h-.001l-4.97 3.39.942 1.63 5.42-2.61Zm3.091-2.108h.001l-1.85 1.26 1.505 2.605 2.016-.97a.247.247 0 0 0 .13-.151.247.247 0 0 0-.022-.199l-1.422-2.464a.253.253 0 0 0-.161-.119.254.254 0 0 0-.197.038ZM1.756 9.157a.25.25 0 0 0-.075.33l.447.775a.25.25 0 0 0 .325.1l1.598-.769-.83-1.436-1.465 1Z"></path>
</svg>
        </span>
      
        <span data-view-component="true" class="ActionListItem-label">
          Explore
</span></a>
  
  
</li>

        
          
<li data-targets="nav-list.items nav-list.items" data-item-id="" data-view-component="true" class="ActionListItem">
    
    <a data-analytics-event="{&quot;category&quot;:&quot;Global navigation&quot;,&quot;action&quot;:&quot;MARKETPLACE&quot;,&quot;label&quot;:null}" id="item-c9d46bd4-41ec-42f6-bfd3-eb940fd9063a" href="/marketplace" data-view-component="true" class="ActionListContent ActionListContent--visual16">
        <span class="ActionListItem-visual ActionListItem-visual--leading">
          <svg aria-hidden="true" height="16" viewBox="0 0 16 16" version="1.1" width="16" data-view-component="true" class="octicon octicon-gift">
    <path d="M2 2.75A2.75 2.75 0 0 1 4.75 0c.983 0 1.873.42 2.57 1.232.268.318.497.668.68 1.042.183-.375.411-.725.68-1.044C9.376.42 10.266 0 11.25 0a2.75 2.75 0 0 1 2.45 4h.55c.966 0 1.75.784 1.75 1.75v2c0 .698-.409 1.301-1 1.582v4.918A1.75 1.75 0 0 1 13.25 16H2.75A1.75 1.75 0 0 1 1 14.25V9.332C.409 9.05 0 8.448 0 7.75v-2C0 4.784.784 4 1.75 4h.55c-.192-.375-.3-.8-.3-1.25ZM7.25 9.5H2.5v4.75c0 .138.112.25.25.25h4.5Zm1.5 0v5h4.5a.25.25 0 0 0 .25-.25V9.5Zm0-4V8h5.5a.25.25 0 0 0 .25-.25v-2a.25.25 0 0 0-.25-.25Zm-7 0a.25.25 0 0 0-.25.25v2c0 .138.112.25.25.25h5.5V5.5h-5.5Zm3-4a1.25 1.25 0 0 0 0 2.5h2.309c-.233-.818-.542-1.401-.878-1.793-.43-.502-.915-.707-1.431-.707ZM8.941 4h2.309a1.25 1.25 0 0 0 0-2.5c-.516 0-1 .205-1.43.707-.337.392-.646.975-.879 1.793Z"></path>
</svg>
        </span>
      
        <span data-view-component="true" class="ActionListItem-label">
          Marketplace
</span></a>
  
  
</li>

</ul>  </nav-list>
</nav>

        <div data-view-component="true" class="my-3 d-flex flex-justify-center height-full">
          <svg style="box-sizing: content-box; color: var(--color-icon-primary);" width="16" height="16" viewBox="0 0 16 16" fill="none" data-view-component="true" class="anim-rotate">
  <circle cx="8" cy="8" r="7" stroke="currentColor" stroke-opacity="0.25" stroke-width="2" vector-effect="non-scaling-stroke" fill="none" />
  <path d="M15 8a7.002 7.002 0 00-7-7" stroke="currentColor" stroke-width="2" stroke-linecap="round" vector-effect="non-scaling-stroke" />
</svg>
</div>
</div>
      <div data-view-component="true" class="flex-1"></div>


      <div data-view-component="true" class="px-2">      <p class="color-fg-subtle text-small text-light">&copy; 2024 GitHub, Inc.</p>

      <div data-view-component="true" class="d-flex flex-wrap text-small text-light">
          <a target="_blank" href="https://github.com/about" data-view-component="true" class="Link mr-2">About</a>
          <a target="_blank" href="https://github.blog" data-view-component="true" class="Link mr-2">Blog</a>
          <a target="_blank" href="https://docs.github.com/site-policy/github-terms/github-terms-of-service" data-view-component="true" class="Link mr-2">Terms</a>
          <a target="_blank" href="https://docs.github.com/site-policy/privacy-policies/github-privacy-statement" data-view-component="true" class="Link mr-2">Privacy</a>
          <a target="_blank" href="https://github.com/security" data-view-component="true" class="Link mr-2">Security</a>

        <a target="_blank" href="https://www.githubstatus.com/" data-view-component="true" class="Link mr-3">Status</a>

</div></div>
</div>
      </scrollable-region>
      
</modal-dialog></div>

  </include-fragment>
</deferred-side-panel>

        <a
          class="AppHeader-logo ml-2"
          href="https://github.com/"
          data-hotkey="g d"
          aria-label="Homepage "
          data-turbo="false"
          data-analytics-event="{&quot;category&quot;:&quot;Header&quot;,&quot;action&quot;:&quot;go to dashboard&quot;,&quot;label&quot;:&quot;icon:logo&quot;}"
        >
          <svg height="32" aria-hidden="true" viewBox="0 0 16 16" version="1.1" width="32" data-view-component="true" class="octicon octicon-mark-github v-align-middle color-fg-default">
    <path d="M8 0c4.42 0 8 3.58 8 8a8.013 8.013 0 0 1-5.45 7.59c-.4.08-.55-.17-.55-.38 0-.27.01-1.13.01-2.2 0-.75-.25-1.23-.54-1.48 1.78-.2 3.65-.88 3.65-3.95 0-.88-.31-1.59-.82-2.15.08-.2.36-1.02-.08-2.12 0 0-.67-.22-2.2.82-.64-.18-1.32-.27-2-.27-.68 0-1.36.09-2 .27-1.53-1.03-2.2-.82-2.2-.82-.44 1.1-.16 1.92-.08 2.12-.51.56-.82 1.28-.82 2.15 0 3.06 1.86 3.75 3.64 3.95-.23.2-.44.55-.51 1.07-.46.21-1.61.55-2.33-.66-.15-.24-.6-.83-1.23-.82-.67.01-.27.38.01.53.34.19.73.9.82 1.13.16.45.68 1.31 2.69.94 0 .67.01 1.3.01 1.49 0 .21-.15.45-.55.38A7.995 7.995 0 0 1 0 8c0-4.42 3.58-8 8-8Z"></path>
</svg>
        </a>

          <div class="AppHeader-context" >
  <div class="AppHeader-context-compact">
      <button aria-expanded="false" aria-haspopup="dialog" aria-label="Page context: pvateekul / 2110531_DSDE_2023s1" id="dialog-show-context-region-dialog" data-show-dialog-id="context-region-dialog" type="button" data-view-component="true" class="AppHeader-context-compact-trigger Truncate Button--secondary Button--medium Button box-shadow-none">  <span class="Button-content">
    <span class="Button-label"><span class="AppHeader-context-compact-lead">
                <span class="AppHeader-context-compact-parentItem">pvateekul</span>
                <span class="no-wrap">&nbsp;/</span>

            </span>

            <strong class="AppHeader-context-compact-mainItem d-flex flex-items-center Truncate" >
  <span class="Truncate-text ">2110531_DSDE_2023s1</span>

</strong></span>
  </span>
</button>

<div class="Overlay--hidden Overlay-backdrop--center" data-modal-dialog-overlay>
  <modal-dialog role="dialog" id="context-region-dialog" aria-modal="true" aria-disabled="true" aria-labelledby="context-region-dialog-title" aria-describedby="context-region-dialog-description" data-view-component="true" class="Overlay Overlay-whenNarrow Overlay--size-medium Overlay--motion-scaleFade">
    <div data-view-component="true" class="Overlay-header">
  <div class="Overlay-headerContentWrap">
    <div class="Overlay-titleWrap">
      <h1 class="Overlay-title " id="context-region-dialog-title">
        Navigate back to
      </h1>
    </div>
    <div class="Overlay-actionWrap">
      <button data-close-dialog-id="context-region-dialog" aria-label="Close" type="button" data-view-component="true" class="close-button Overlay-closeButton"><svg aria-hidden="true" height="16" viewBox="0 0 16 16" version="1.1" width="16" data-view-component="true" class="octicon octicon-x">
    <path d="M3.72 3.72a.75.75 0 0 1 1.06 0L8 6.94l3.22-3.22a.749.749 0 0 1 1.275.326.749.749 0 0 1-.215.734L9.06 8l3.22 3.22a.749.749 0 0 1-.326 1.275.749.749 0 0 1-.734-.215L8 9.06l-3.22 3.22a.751.751 0 0 1-1.042-.018.751.751 0 0 1-.018-1.042L6.94 8 3.72 4.78a.75.75 0 0 1 0-1.06Z"></path>
</svg></button>
    </div>
  </div>
</div>
      <scrollable-region data-labelled-by="context-region-dialog-title">
        <div data-view-component="true" class="Overlay-body">          <ul role="list" class="list-style-none" >
    <li>
      <a data-analytics-event="{&quot;category&quot;:&quot;SiteHeaderComponent&quot;,&quot;action&quot;:&quot;context_region_crumb&quot;,&quot;label&quot;:&quot;pvateekul&quot;,&quot;screen_size&quot;:&quot;compact&quot;}" href="/pvateekul" data-view-component="true" class="Link--primary Truncate d-flex flex-items-center py-1">
        <span class="AppHeader-context-item-label Truncate-text ">
            <svg aria-hidden="true" height="12" viewBox="0 0 16 16" version="1.1" width="12" data-view-component="true" class="octicon octicon-person mr-1">
    <path d="M10.561 8.073a6.005 6.005 0 0 1 3.432 5.142.75.75 0 1 1-1.498.07 4.5 4.5 0 0 0-8.99 0 .75.75 0 0 1-1.498-.07 6.004 6.004 0 0 1 3.431-5.142 3.999 3.999 0 1 1 5.123 0ZM10.5 5a2.5 2.5 0 1 0-5 0 2.5 2.5 0 0 0 5 0Z"></path>
</svg>

          pvateekul
        </span>

</a>
    </li>
    <li>
      <a data-analytics-event="{&quot;category&quot;:&quot;SiteHeaderComponent&quot;,&quot;action&quot;:&quot;context_region_crumb&quot;,&quot;label&quot;:&quot;2110531_DSDE_2023s1&quot;,&quot;screen_size&quot;:&quot;compact&quot;}" href="/pvateekul/2110531_DSDE_2023s1" data-view-component="true" class="Link--primary Truncate d-flex flex-items-center py-1">
        <span class="AppHeader-context-item-label Truncate-text ">
            <svg aria-hidden="true" height="12" viewBox="0 0 16 16" version="1.1" width="12" data-view-component="true" class="octicon octicon-repo mr-1">
    <path d="M2 2.5A2.5 2.5 0 0 1 4.5 0h8.75a.75.75 0 0 1 .75.75v12.5a.75.75 0 0 1-.75.75h-2.5a.75.75 0 0 1 0-1.5h1.75v-2h-8a1 1 0 0 0-.714 1.7.75.75 0 1 1-1.072 1.05A2.495 2.495 0 0 1 2 11.5Zm10.5-1h-8a1 1 0 0 0-1 1v6.708A2.486 2.486 0 0 1 4.5 9h8ZM5 12.25a.25.25 0 0 1 .25-.25h3.5a.25.25 0 0 1 .25.25v3.25a.25.25 0 0 1-.4.2l-1.45-1.087a.249.249 0 0 0-.3 0L5.4 15.7a.25.25 0 0 1-.4-.2Z"></path>
</svg>

          2110531_DSDE_2023s1
        </span>

</a>
    </li>
</ul>

</div>
      </scrollable-region>
      
</modal-dialog></div>
  </div>

  <div class="AppHeader-context-full">
    <nav role="navigation" aria-label="Page context">
      <ul role="list" class="list-style-none" >
    <li>
      <a data-analytics-event="{&quot;category&quot;:&quot;SiteHeaderComponent&quot;,&quot;action&quot;:&quot;context_region_crumb&quot;,&quot;label&quot;:&quot;pvateekul&quot;,&quot;screen_size&quot;:&quot;full&quot;}" data-hovercard-type="user" data-hovercard-url="/users/pvateekul/hovercard" data-octo-click="hovercard-link-click" data-octo-dimensions="link_type:self" href="/pvateekul" data-view-component="true" class="AppHeader-context-item">
        <span class="AppHeader-context-item-label  ">

          pvateekul
        </span>

</a>
        <span class="AppHeader-context-item-separator">/</span>
    </li>
    <li>
      <a data-analytics-event="{&quot;category&quot;:&quot;SiteHeaderComponent&quot;,&quot;action&quot;:&quot;context_region_crumb&quot;,&quot;label&quot;:&quot;2110531_DSDE_2023s1&quot;,&quot;screen_size&quot;:&quot;full&quot;}" href="/pvateekul/2110531_DSDE_2023s1" data-view-component="true" class="AppHeader-context-item">
        <span class="AppHeader-context-item-label  ">

          2110531_DSDE_2023s1
        </span>

</a>
    </li>
</ul>

    </nav>
  </div>
</div>

      </div>
      <div class="AppHeader-globalBar-end">
          <div class="AppHeader-search" >
              


<qbsearch-input class="search-input" data-scope="repo:pvateekul/2110531_DSDE_2023s1" data-custom-scopes-path="/search/custom_scopes" data-delete-custom-scopes-csrf="dPMUkS0R2ite2Is-_hStDu8-Xf0rOg9hL4zEFeyqVDAF5m_ZkPbG-q5InA5lNbfGh_1ofkVo91CEMbXHcIgSsw" data-max-custom-scopes="10" data-header-redesign-enabled="true" data-initial-value="" data-blackbird-suggestions-path="/search/suggestions" data-jump-to-suggestions-path="/_graphql/GetSuggestedNavigationDestinations" data-current-repository="pvateekul/2110531_DSDE_2023s1" data-current-org="" data-current-owner="pvateekul" data-logged-in="true" data-copilot-chat-enabled="false" data-blackbird-indexed-repo-csrf="<input type=&quot;hidden&quot; value=&quot;qLXv4Sf9XGHaoiTMJRqUl7o4B1dYfwKr7zTFuSUXaFx-GC-g8_MIu6BE26kG0CuPIfT8AQjr8hnO07mssmAfmg&quot; data-csrf=&quot;true&quot; />">
  <div
    class="search-input-container search-with-dialog position-relative d-flex flex-row flex-items-center height-auto color-bg-transparent border-0 color-fg-subtle mx-0"
    data-action="click:qbsearch-input#searchInputContainerClicked"
  >
      
            <button type="button" data-action="click:qbsearch-input#handleExpand" class="AppHeader-button AppHeader-search-whenNarrow" aria-label="Search or jump to…" aria-expanded="false" aria-haspopup="dialog">
            <svg aria-hidden="true" height="16" viewBox="0 0 16 16" version="1.1" width="16" data-view-component="true" class="octicon octicon-search">
    <path d="M10.68 11.74a6 6 0 0 1-7.922-8.982 6 6 0 0 1 8.982 7.922l3.04 3.04a.749.749 0 0 1-.326 1.275.749.749 0 0 1-.734-.215ZM11.5 7a4.499 4.499 0 1 0-8.997 0A4.499 4.499 0 0 0 11.5 7Z"></path>
</svg>
          </button>


<div class="AppHeader-search-whenRegular">
  <div class="AppHeader-search-wrap AppHeader-search-wrap--hasTrailing">
    <div class="AppHeader-search-control">
      <label
        for="AppHeader-searchInput"
        aria-label="Search or jump to…"
        class="AppHeader-search-visual--leading"
      >
        <svg aria-hidden="true" height="16" viewBox="0 0 16 16" version="1.1" width="16" data-view-component="true" class="octicon octicon-search">
    <path d="M10.68 11.74a6 6 0 0 1-7.922-8.982 6 6 0 0 1 8.982 7.922l3.04 3.04a.749.749 0 0 1-.326 1.275.749.749 0 0 1-.734-.215ZM11.5 7a4.499 4.499 0 1 0-8.997 0A4.499 4.499 0 0 0 11.5 7Z"></path>
</svg>
      </label>

                <button
            type="button"
            data-target="qbsearch-input.inputButton"
            data-action="click:qbsearch-input#handleExpand"
            class="AppHeader-searchButton form-control input-contrast text-left color-fg-subtle no-wrap"
            data-hotkey="s,/"
            data-analytics-event="{&quot;category&quot;:&quot;Global navigation&quot;,&quot;action&quot;:&quot;SEARCH&quot;,&quot;label&quot;:null}"
          >
            <div class="overflow-hidden">
              <span id="qb-input-query" data-target="qbsearch-input.inputButtonText">
                  Type <kbd class="AppHeader-search-kbd">/</kbd> to search
              </span>
            </div>
          </button>

    </div>


      <button type="button" id="AppHeader-commandPalette-button" class="AppHeader-search-action--trailing js-activate-command-palette" data-analytics-event="{&quot;category&quot;:&quot;SiteHeaderComponent&quot;,&quot;action&quot;:&quot;command_palette&quot;,&quot;label&quot;:&quot;open command palette&quot;}">
        <svg aria-hidden="true" height="16" viewBox="0 0 16 16" version="1.1" width="16" data-view-component="true" class="octicon octicon-command-palette">
    <path d="m6.354 8.04-4.773 4.773a.75.75 0 1 0 1.061 1.06L7.945 8.57a.75.75 0 0 0 0-1.06L2.642 2.206a.75.75 0 0 0-1.06 1.061L6.353 8.04ZM8.75 11.5a.75.75 0 0 0 0 1.5h5.5a.75.75 0 0 0 0-1.5h-5.5Z"></path>
</svg>
      </button>

      <tool-tip id="tooltip-9a6ede97-2933-4081-8ae2-4594e1e11a44" for="AppHeader-commandPalette-button" popover="manual" data-direction="s" data-type="label" data-view-component="true" class="sr-only position-absolute">Command palette</tool-tip>
  </div>
</div>

    <input type="hidden" name="type" class="js-site-search-type-field">

    
<div class="Overlay--hidden " data-modal-dialog-overlay>
  <modal-dialog data-action="close:qbsearch-input#handleClose cancel:qbsearch-input#handleClose" data-target="qbsearch-input.searchSuggestionsDialog" role="dialog" id="search-suggestions-dialog" aria-modal="true" aria-labelledby="search-suggestions-dialog-header" data-view-component="true" class="Overlay Overlay--width-medium Overlay--height-auto">
      <h1 id="search-suggestions-dialog-header" class="sr-only">Search code, repositories, users, issues, pull requests...</h1>
    <div class="Overlay-body Overlay-body--paddingNone">
      
          <div data-view-component="true">        <div class="search-suggestions position-absolute width-full color-shadow-large border color-fg-default color-bg-default overflow-hidden d-flex flex-column query-builder-container"
          style="border-radius: 12px;"
          data-target="qbsearch-input.queryBuilderContainer"
          hidden
        >
          <!-- '"` --><!-- </textarea></xmp> --></option></form><form id="query-builder-test-form" action="" accept-charset="UTF-8" method="get">
  <query-builder data-target="qbsearch-input.queryBuilder" id="query-builder-query-builder-test" data-filter-key=":" data-view-component="true" class="QueryBuilder search-query-builder">
    <div class="FormControl FormControl--fullWidth">
      <label id="query-builder-test-label" for="query-builder-test" class="FormControl-label sr-only">
        Search
      </label>
      <div
        class="QueryBuilder-StyledInput width-fit "
        data-target="query-builder.styledInput"
      >
          <span id="query-builder-test-leadingvisual-wrap" class="FormControl-input-leadingVisualWrap QueryBuilder-leadingVisualWrap">
            <svg aria-hidden="true" height="16" viewBox="0 0 16 16" version="1.1" width="16" data-view-component="true" class="octicon octicon-search FormControl-input-leadingVisual">
    <path d="M10.68 11.74a6 6 0 0 1-7.922-8.982 6 6 0 0 1 8.982 7.922l3.04 3.04a.749.749 0 0 1-.326 1.275.749.749 0 0 1-.734-.215ZM11.5 7a4.499 4.499 0 1 0-8.997 0A4.499 4.499 0 0 0 11.5 7Z"></path>
</svg>
          </span>
        <div data-target="query-builder.styledInputContainer" class="QueryBuilder-StyledInputContainer">
          <div
            aria-hidden="true"
            class="QueryBuilder-StyledInputContent"
            data-target="query-builder.styledInputContent"
          ></div>
          <div class="QueryBuilder-InputWrapper">
            <div aria-hidden="true" class="QueryBuilder-Sizer" data-target="query-builder.sizer"></div>
            <input id="query-builder-test" name="query-builder-test" value="" autocomplete="off" type="text" role="combobox" spellcheck="false" aria-expanded="false" aria-describedby="validation-fad5db3b-21ce-4d47-9f58-549adf31a3c7" data-target="query-builder.input" data-action="
          input:query-builder#inputChange
          blur:query-builder#inputBlur
          keydown:query-builder#inputKeydown
          focus:query-builder#inputFocus
        " data-view-component="true" class="FormControl-input QueryBuilder-Input FormControl-medium" />
          </div>
        </div>
          <span class="sr-only" id="query-builder-test-clear">Clear</span>
          <button role="button" id="query-builder-test-clear-button" aria-labelledby="query-builder-test-clear query-builder-test-label" data-target="query-builder.clearButton" data-action="
                click:query-builder#clear
                focus:query-builder#clearButtonFocus
                blur:query-builder#clearButtonBlur
              " variant="small" hidden="hidden" type="button" data-view-component="true" class="Button Button--iconOnly Button--invisible Button--medium mr-1 px-2 py-0 d-flex flex-items-center rounded-1 color-fg-muted">  <svg aria-hidden="true" height="16" viewBox="0 0 16 16" version="1.1" width="16" data-view-component="true" class="octicon octicon-x-circle-fill Button-visual">
    <path d="M2.343 13.657A8 8 0 1 1 13.658 2.343 8 8 0 0 1 2.343 13.657ZM6.03 4.97a.751.751 0 0 0-1.042.018.751.751 0 0 0-.018 1.042L6.94 8 4.97 9.97a.749.749 0 0 0 .326 1.275.749.749 0 0 0 .734-.215L8 9.06l1.97 1.97a.749.749 0 0 0 1.275-.326.749.749 0 0 0-.215-.734L9.06 8l1.97-1.97a.749.749 0 0 0-.326-1.275.749.749 0 0 0-.734.215L8 6.94Z"></path>
</svg>
</button>

      </div>
      <template id="search-icon">
  <svg aria-hidden="true" height="16" viewBox="0 0 16 16" version="1.1" width="16" data-view-component="true" class="octicon octicon-search">
    <path d="M10.68 11.74a6 6 0 0 1-7.922-8.982 6 6 0 0 1 8.982 7.922l3.04 3.04a.749.749 0 0 1-.326 1.275.749.749 0 0 1-.734-.215ZM11.5 7a4.499 4.499 0 1 0-8.997 0A4.499 4.499 0 0 0 11.5 7Z"></path>
</svg>
</template>

<template id="code-icon">
  <svg aria-hidden="true" height="16" viewBox="0 0 16 16" version="1.1" width="16" data-view-component="true" class="octicon octicon-code">
    <path d="m11.28 3.22 4.25 4.25a.75.75 0 0 1 0 1.06l-4.25 4.25a.749.749 0 0 1-1.275-.326.749.749 0 0 1 .215-.734L13.94 8l-3.72-3.72a.749.749 0 0 1 .326-1.275.749.749 0 0 1 .734.215Zm-6.56 0a.751.751 0 0 1 1.042.018.751.751 0 0 1 .018 1.042L2.06 8l3.72 3.72a.749.749 0 0 1-.326 1.275.749.749 0 0 1-.734-.215L.47 8.53a.75.75 0 0 1 0-1.06Z"></path>
</svg>
</template>

<template id="file-code-icon">
  <svg aria-hidden="true" height="16" viewBox="0 0 16 16" version="1.1" width="16" data-view-component="true" class="octicon octicon-file-code">
    <path d="M4 1.75C4 .784 4.784 0 5.75 0h5.586c.464 0 .909.184 1.237.513l2.914 2.914c.329.328.513.773.513 1.237v8.586A1.75 1.75 0 0 1 14.25 15h-9a.75.75 0 0 1 0-1.5h9a.25.25 0 0 0 .25-.25V6h-2.75A1.75 1.75 0 0 1 10 4.25V1.5H5.75a.25.25 0 0 0-.25.25v2.5a.75.75 0 0 1-1.5 0Zm1.72 4.97a.75.75 0 0 1 1.06 0l2 2a.75.75 0 0 1 0 1.06l-2 2a.749.749 0 0 1-1.275-.326.749.749 0 0 1 .215-.734l1.47-1.47-1.47-1.47a.75.75 0 0 1 0-1.06ZM3.28 7.78 1.81 9.25l1.47 1.47a.751.751 0 0 1-.018 1.042.751.751 0 0 1-1.042.018l-2-2a.75.75 0 0 1 0-1.06l2-2a.751.751 0 0 1 1.042.018.751.751 0 0 1 .018 1.042Zm8.22-6.218V4.25c0 .138.112.25.25.25h2.688l-.011-.013-2.914-2.914-.013-.011Z"></path>
</svg>
</template>

<template id="history-icon">
  <svg aria-hidden="true" height="16" viewBox="0 0 16 16" version="1.1" width="16" data-view-component="true" class="octicon octicon-history">
    <path d="m.427 1.927 1.215 1.215a8.002 8.002 0 1 1-1.6 5.685.75.75 0 1 1 1.493-.154 6.5 6.5 0 1 0 1.18-4.458l1.358 1.358A.25.25 0 0 1 3.896 6H.25A.25.25 0 0 1 0 5.75V2.104a.25.25 0 0 1 .427-.177ZM7.75 4a.75.75 0 0 1 .75.75v2.992l2.028.812a.75.75 0 0 1-.557 1.392l-2.5-1A.751.751 0 0 1 7 8.25v-3.5A.75.75 0 0 1 7.75 4Z"></path>
</svg>
</template>

<template id="repo-icon">
  <svg aria-hidden="true" height="16" viewBox="0 0 16 16" version="1.1" width="16" data-view-component="true" class="octicon octicon-repo">
    <path d="M2 2.5A2.5 2.5 0 0 1 4.5 0h8.75a.75.75 0 0 1 .75.75v12.5a.75.75 0 0 1-.75.75h-2.5a.75.75 0 0 1 0-1.5h1.75v-2h-8a1 1 0 0 0-.714 1.7.75.75 0 1 1-1.072 1.05A2.495 2.495 0 0 1 2 11.5Zm10.5-1h-8a1 1 0 0 0-1 1v6.708A2.486 2.486 0 0 1 4.5 9h8ZM5 12.25a.25.25 0 0 1 .25-.25h3.5a.25.25 0 0 1 .25.25v3.25a.25.25 0 0 1-.4.2l-1.45-1.087a.249.249 0 0 0-.3 0L5.4 15.7a.25.25 0 0 1-.4-.2Z"></path>
</svg>
</template>

<template id="bookmark-icon">
  <svg aria-hidden="true" height="16" viewBox="0 0 16 16" version="1.1" width="16" data-view-component="true" class="octicon octicon-bookmark">
    <path d="M3 2.75C3 1.784 3.784 1 4.75 1h6.5c.966 0 1.75.784 1.75 1.75v11.5a.75.75 0 0 1-1.227.579L8 11.722l-3.773 3.107A.751.751 0 0 1 3 14.25Zm1.75-.25a.25.25 0 0 0-.25.25v9.91l3.023-2.489a.75.75 0 0 1 .954 0l3.023 2.49V2.75a.25.25 0 0 0-.25-.25Z"></path>
</svg>
</template>

<template id="plus-circle-icon">
  <svg aria-hidden="true" height="16" viewBox="0 0 16 16" version="1.1" width="16" data-view-component="true" class="octicon octicon-plus-circle">
    <path d="M8 0a8 8 0 1 1 0 16A8 8 0 0 1 8 0ZM1.5 8a6.5 6.5 0 1 0 13 0 6.5 6.5 0 0 0-13 0Zm7.25-3.25v2.5h2.5a.75.75 0 0 1 0 1.5h-2.5v2.5a.75.75 0 0 1-1.5 0v-2.5h-2.5a.75.75 0 0 1 0-1.5h2.5v-2.5a.75.75 0 0 1 1.5 0Z"></path>
</svg>
</template>

<template id="circle-icon">
  <svg aria-hidden="true" height="16" viewBox="0 0 16 16" version="1.1" width="16" data-view-component="true" class="octicon octicon-dot-fill">
    <path d="M8 4a4 4 0 1 1 0 8 4 4 0 0 1 0-8Z"></path>
</svg>
</template>

<template id="trash-icon">
  <svg aria-hidden="true" height="16" viewBox="0 0 16 16" version="1.1" width="16" data-view-component="true" class="octicon octicon-trash">
    <path d="M11 1.75V3h2.25a.75.75 0 0 1 0 1.5H2.75a.75.75 0 0 1 0-1.5H5V1.75C5 .784 5.784 0 6.75 0h2.5C10.216 0 11 .784 11 1.75ZM4.496 6.675l.66 6.6a.25.25 0 0 0 .249.225h5.19a.25.25 0 0 0 .249-.225l.66-6.6a.75.75 0 0 1 1.492.149l-.66 6.6A1.748 1.748 0 0 1 10.595 15h-5.19a1.75 1.75 0 0 1-1.741-1.575l-.66-6.6a.75.75 0 1 1 1.492-.15ZM6.5 1.75V3h3V1.75a.25.25 0 0 0-.25-.25h-2.5a.25.25 0 0 0-.25.25Z"></path>
</svg>
</template>

<template id="team-icon">
  <svg aria-hidden="true" height="16" viewBox="0 0 16 16" version="1.1" width="16" data-view-component="true" class="octicon octicon-people">
    <path d="M2 5.5a3.5 3.5 0 1 1 5.898 2.549 5.508 5.508 0 0 1 3.034 4.084.75.75 0 1 1-1.482.235 4 4 0 0 0-7.9 0 .75.75 0 0 1-1.482-.236A5.507 5.507 0 0 1 3.102 8.05 3.493 3.493 0 0 1 2 5.5ZM11 4a3.001 3.001 0 0 1 2.22 5.018 5.01 5.01 0 0 1 2.56 3.012.749.749 0 0 1-.885.954.752.752 0 0 1-.549-.514 3.507 3.507 0 0 0-2.522-2.372.75.75 0 0 1-.574-.73v-.352a.75.75 0 0 1 .416-.672A1.5 1.5 0 0 0 11 5.5.75.75 0 0 1 11 4Zm-5.5-.5a2 2 0 1 0-.001 3.999A2 2 0 0 0 5.5 3.5Z"></path>
</svg>
</template>

<template id="project-icon">
  <svg aria-hidden="true" height="16" viewBox="0 0 16 16" version="1.1" width="16" data-view-component="true" class="octicon octicon-project">
    <path d="M1.75 0h12.5C15.216 0 16 .784 16 1.75v12.5A1.75 1.75 0 0 1 14.25 16H1.75A1.75 1.75 0 0 1 0 14.25V1.75C0 .784.784 0 1.75 0ZM1.5 1.75v12.5c0 .138.112.25.25.25h12.5a.25.25 0 0 0 .25-.25V1.75a.25.25 0 0 0-.25-.25H1.75a.25.25 0 0 0-.25.25ZM11.75 3a.75.75 0 0 1 .75.75v7.5a.75.75 0 0 1-1.5 0v-7.5a.75.75 0 0 1 .75-.75Zm-8.25.75a.75.75 0 0 1 1.5 0v5.5a.75.75 0 0 1-1.5 0ZM8 3a.75.75 0 0 1 .75.75v3.5a.75.75 0 0 1-1.5 0v-3.5A.75.75 0 0 1 8 3Z"></path>
</svg>
</template>

<template id="pencil-icon">
  <svg aria-hidden="true" height="16" viewBox="0 0 16 16" version="1.1" width="16" data-view-component="true" class="octicon octicon-pencil">
    <path d="M11.013 1.427a1.75 1.75 0 0 1 2.474 0l1.086 1.086a1.75 1.75 0 0 1 0 2.474l-8.61 8.61c-.21.21-.47.364-.756.445l-3.251.93a.75.75 0 0 1-.927-.928l.929-3.25c.081-.286.235-.547.445-.758l8.61-8.61Zm.176 4.823L9.75 4.81l-6.286 6.287a.253.253 0 0 0-.064.108l-.558 1.953 1.953-.558a.253.253 0 0 0 .108-.064Zm1.238-3.763a.25.25 0 0 0-.354 0L10.811 3.75l1.439 1.44 1.263-1.263a.25.25 0 0 0 0-.354Z"></path>
</svg>
</template>

<template id="copilot-icon">
  <svg aria-hidden="true" height="16" viewBox="0 0 16 16" version="1.1" width="16" data-view-component="true" class="octicon octicon-copilot">
    <path d="M7.998 15.035c-4.562 0-7.873-2.914-7.998-3.749V9.338c.085-.628.677-1.686 1.588-2.065.013-.07.024-.143.036-.218.029-.183.06-.384.126-.612-.201-.508-.254-1.084-.254-1.656 0-.87.128-1.769.693-2.484.579-.733 1.494-1.124 2.724-1.261 1.206-.134 2.262.034 2.944.765.05.053.096.108.139.165.044-.057.094-.112.143-.165.682-.731 1.738-.899 2.944-.765 1.23.137 2.145.528 2.724 1.261.566.715.693 1.614.693 2.484 0 .572-.053 1.148-.254 1.656.066.228.098.429.126.612.012.076.024.148.037.218.924.385 1.522 1.471 1.591 2.095v1.872c0 .766-3.351 3.795-8.002 3.795Zm0-1.485c2.28 0 4.584-1.11 5.002-1.433V7.862l-.023-.116c-.49.21-1.075.291-1.727.291-1.146 0-2.059-.327-2.71-.991A3.222 3.222 0 0 1 8 6.303a3.24 3.24 0 0 1-.544.743c-.65.664-1.563.991-2.71.991-.652 0-1.236-.081-1.727-.291l-.023.116v4.255c.419.323 2.722 1.433 5.002 1.433ZM6.762 2.83c-.193-.206-.637-.413-1.682-.297-1.019.113-1.479.404-1.713.7-.247.312-.369.789-.369 1.554 0 .793.129 1.171.308 1.371.162.181.519.379 1.442.379.853 0 1.339-.235 1.638-.54.315-.322.527-.827.617-1.553.117-.935-.037-1.395-.241-1.614Zm4.155-.297c-1.044-.116-1.488.091-1.681.297-.204.219-.359.679-.242 1.614.091.726.303 1.231.618 1.553.299.305.784.54 1.638.54.922 0 1.28-.198 1.442-.379.179-.2.308-.578.308-1.371 0-.765-.123-1.242-.37-1.554-.233-.296-.693-.587-1.713-.7Z"></path><path d="M6.25 9.037a.75.75 0 0 1 .75.75v1.501a.75.75 0 0 1-1.5 0V9.787a.75.75 0 0 1 .75-.75Zm4.25.75v1.501a.75.75 0 0 1-1.5 0V9.787a.75.75 0 0 1 1.5 0Z"></path>
</svg>
</template>

        <div class="position-relative">
                <ul
                  role="listbox"
                  class="ActionListWrap QueryBuilder-ListWrap"
                  aria-label="Suggestions"
                  data-action="
                    combobox-commit:query-builder#comboboxCommit
                    mousedown:query-builder#resultsMousedown
                  "
                  data-target="query-builder.resultsList"
                  data-persist-list=false
                  id="query-builder-test-results"
                ></ul>
        </div>
      <div class="FormControl-inlineValidation" id="validation-fad5db3b-21ce-4d47-9f58-549adf31a3c7" hidden="hidden">
        <span class="FormControl-inlineValidation--visual">
          <svg aria-hidden="true" height="12" viewBox="0 0 12 12" version="1.1" width="12" data-view-component="true" class="octicon octicon-alert-fill">
    <path d="M4.855.708c.5-.896 1.79-.896 2.29 0l4.675 8.351a1.312 1.312 0 0 1-1.146 1.954H1.33A1.313 1.313 0 0 1 .183 9.058ZM7 7V3H5v4Zm-1 3a1 1 0 1 0 0-2 1 1 0 0 0 0 2Z"></path>
</svg>
        </span>
        <span></span>
</div>    </div>
    <div data-target="query-builder.screenReaderFeedback" aria-live="polite" aria-atomic="true" class="sr-only"></div>
</query-builder></form>
          <div class="d-flex flex-row color-fg-muted px-3 text-small color-bg-default search-feedback-prompt">
            <a target="_blank" href="https://docs.github.com/en/search-github/github-code-search/understanding-github-code-search-syntax" data-view-component="true" class="Link color-fg-accent text-normal ml-2">
              Search syntax tips
</a>            <div class="d-flex flex-1"></div>
              <button data-action="click:qbsearch-input#showFeedbackDialog" type="button" data-view-component="true" class="Button--link Button--medium Button color-fg-accent text-normal ml-2">  <span class="Button-content">
    <span class="Button-label">Give feedback</span>
  </span>
</button>
          </div>
        </div>
</div>

    </div>
</modal-dialog></div>
  </div>
  <div data-action="click:qbsearch-input#retract" class="dark-backdrop position-fixed" hidden data-target="qbsearch-input.darkBackdrop"></div>
  <div class="color-fg-default">
    
<div class="Overlay--hidden Overlay-backdrop--center" data-modal-dialog-overlay>
  <modal-dialog data-target="qbsearch-input.feedbackDialog" data-action="close:qbsearch-input#handleDialogClose cancel:qbsearch-input#handleDialogClose" role="dialog" id="feedback-dialog" aria-modal="true" aria-disabled="true" aria-labelledby="feedback-dialog-title" aria-describedby="feedback-dialog-description" data-view-component="true" class="Overlay Overlay-whenNarrow Overlay--size-medium Overlay--motion-scaleFade">
    <div data-view-component="true" class="Overlay-header">
  <div class="Overlay-headerContentWrap">
    <div class="Overlay-titleWrap">
      <h1 class="Overlay-title " id="feedback-dialog-title">
        Provide feedback
      </h1>
    </div>
    <div class="Overlay-actionWrap">
      <button data-close-dialog-id="feedback-dialog" aria-label="Close" type="button" data-view-component="true" class="close-button Overlay-closeButton"><svg aria-hidden="true" height="16" viewBox="0 0 16 16" version="1.1" width="16" data-view-component="true" class="octicon octicon-x">
    <path d="M3.72 3.72a.75.75 0 0 1 1.06 0L8 6.94l3.22-3.22a.749.749 0 0 1 1.275.326.749.749 0 0 1-.215.734L9.06 8l3.22 3.22a.749.749 0 0 1-.326 1.275.749.749 0 0 1-.734-.215L8 9.06l-3.22 3.22a.751.751 0 0 1-1.042-.018.751.751 0 0 1-.018-1.042L6.94 8 3.72 4.78a.75.75 0 0 1 0-1.06Z"></path>
</svg></button>
    </div>
  </div>
</div>
      <scrollable-region data-labelled-by="feedback-dialog-title">
        <div data-view-component="true" class="Overlay-body">        <!-- '"` --><!-- </textarea></xmp> --></option></form><form id="code-search-feedback-form" data-turbo="false" action="/search/feedback" accept-charset="UTF-8" method="post"><input type="hidden" name="authenticity_token" value="aQ_jDFbWxSB3k2NNncEMtMmrf8Wu4SP6_cyPAxWWQTgFIAQIFIxxXcdVP9ApL0BumEqbw_kGzKljoBzQVM1lWw" />
          <p>We read every piece of feedback, and take your input very seriously.</p>
          <textarea name="feedback" class="form-control width-full mb-2" style="height: 120px" id="feedback"></textarea>
          <input name="include_email" id="include_email" aria-label="Include my email address so I can be contacted" class="form-control mr-2" type="checkbox">
          <label for="include_email" style="font-weight: normal">Include my email address so I can be contacted</label>
</form></div>
      </scrollable-region>
      <div data-view-component="true" class="Overlay-footer Overlay-footer--alignEnd">          <button data-close-dialog-id="feedback-dialog" type="button" data-view-component="true" class="btn">    Cancel
</button>
          <button form="code-search-feedback-form" data-action="click:qbsearch-input#submitFeedback" type="submit" data-view-component="true" class="btn-primary btn">    Submit feedback
</button>
</div>
</modal-dialog></div>

    <custom-scopes data-target="qbsearch-input.customScopesManager">
    
<div class="Overlay--hidden Overlay-backdrop--center" data-modal-dialog-overlay>
  <modal-dialog data-target="custom-scopes.customScopesModalDialog" data-action="close:qbsearch-input#handleDialogClose cancel:qbsearch-input#handleDialogClose" role="dialog" id="custom-scopes-dialog" aria-modal="true" aria-disabled="true" aria-labelledby="custom-scopes-dialog-title" aria-describedby="custom-scopes-dialog-description" data-view-component="true" class="Overlay Overlay-whenNarrow Overlay--size-medium Overlay--motion-scaleFade">
    <div data-view-component="true" class="Overlay-header Overlay-header--divided">
  <div class="Overlay-headerContentWrap">
    <div class="Overlay-titleWrap">
      <h1 class="Overlay-title " id="custom-scopes-dialog-title">
        Saved searches
      </h1>
        <h2 id="custom-scopes-dialog-description" class="Overlay-description">Use saved searches to filter your results more quickly</h2>
    </div>
    <div class="Overlay-actionWrap">
      <button data-close-dialog-id="custom-scopes-dialog" aria-label="Close" type="button" data-view-component="true" class="close-button Overlay-closeButton"><svg aria-hidden="true" height="16" viewBox="0 0 16 16" version="1.1" width="16" data-view-component="true" class="octicon octicon-x">
    <path d="M3.72 3.72a.75.75 0 0 1 1.06 0L8 6.94l3.22-3.22a.749.749 0 0 1 1.275.326.749.749 0 0 1-.215.734L9.06 8l3.22 3.22a.749.749 0 0 1-.326 1.275.749.749 0 0 1-.734-.215L8 9.06l-3.22 3.22a.751.751 0 0 1-1.042-.018.751.751 0 0 1-.018-1.042L6.94 8 3.72 4.78a.75.75 0 0 1 0-1.06Z"></path>
</svg></button>
    </div>
  </div>
</div>
      <scrollable-region data-labelled-by="custom-scopes-dialog-title">
        <div data-view-component="true" class="Overlay-body">        <div data-target="custom-scopes.customScopesModalDialogFlash"></div>

        <div hidden class="create-custom-scope-form" data-target="custom-scopes.createCustomScopeForm">
        <!-- '"` --><!-- </textarea></xmp> --></option></form><form id="custom-scopes-dialog-form" data-turbo="false" action="/search/custom_scopes" accept-charset="UTF-8" method="post"><input type="hidden" name="authenticity_token" value="XNzXyIjtN1lw_w89eJOUSVU1q0C0_MYBs-MgCOyHYFoOh3ezECbIe1TvWTsoOGUqTTyLvWsKMRYxtUx-ywHUqg" />
          <div data-target="custom-scopes.customScopesModalDialogFlash"></div>

          <input type="hidden" id="custom_scope_id" name="custom_scope_id" data-target="custom-scopes.customScopesIdField">

          <div class="form-group">
            <label for="custom_scope_name">Name</label>
            <auto-check src="/search/custom_scopes/check_name" required>
              <input
                type="text"
                name="custom_scope_name"
                id="custom_scope_name"
                data-target="custom-scopes.customScopesNameField"
                class="form-control"
                autocomplete="off"
                placeholder="github-ruby"
                required
                maxlength="50">
              <input type="hidden" value="ize8w8-uxd-AcP27iycNIPm2s_2g5luyatQi5SqWen8oh4_W5GYo3jeVi58slAPzGY4SOfDVJcn1OZzAXssiBw" data-csrf="true" />
            </auto-check>
          </div>

          <div class="form-group">
            <label for="custom_scope_query">Query</label>
            <input
              type="text"
              name="custom_scope_query"
              id="custom_scope_query"
              data-target="custom-scopes.customScopesQueryField"
              class="form-control"
              autocomplete="off"
              placeholder="(repo:mona/a OR repo:mona/b) AND lang:python"
              required
              maxlength="500">
          </div>

          <p class="text-small color-fg-muted">
            To see all available qualifiers, see our <a class="Link--inTextBlock" href="https://docs.github.com/en/search-github/github-code-search/understanding-github-code-search-syntax">documentation</a>.
          </p>
</form>        </div>

        <div data-target="custom-scopes.manageCustomScopesForm">
          <div data-target="custom-scopes.list"></div>
        </div>

</div>
      </scrollable-region>
      <div data-view-component="true" class="Overlay-footer Overlay-footer--alignEnd Overlay-footer--divided">          <button data-action="click:custom-scopes#customScopesCancel" type="button" data-view-component="true" class="btn">    Cancel
</button>
          <button form="custom-scopes-dialog-form" data-action="click:custom-scopes#customScopesSubmit" data-target="custom-scopes.customScopesSubmitButton" type="submit" data-view-component="true" class="btn-primary btn">    Create saved search
</button>
</div>
</modal-dialog></div>
    </custom-scopes>
  </div>
</qbsearch-input><input type="hidden" value="Rb5krruOgHPFEN3EklcoOlqo4WHmSch9HiHQ-wNnVY9rKjyZQEAV98QkJ3cpggUEneOjcYgYWstRo0pIhxlusQ" data-csrf="true" class="js-data-jump-to-suggestions-path-csrf" />

          </div>

        <div class="AppHeader-actions position-relative">
          <action-menu data-select-variant="none" data-view-component="true">
  <focus-group direction="vertical" mnemonics retain>
    <button id="global-create-menu-button" popovertarget="global-create-menu-overlay" aria-label="Create something new" aria-controls="global-create-menu-list" aria-haspopup="true" type="button" data-view-component="true" class="AppHeader-button Button--secondary Button--small Button width-auto color-fg-muted">  <span class="Button-content">
      <span class="Button-visual Button-leadingVisual">
        <svg aria-hidden="true" height="16" viewBox="0 0 16 16" version="1.1" width="16" data-view-component="true" class="octicon octicon-plus">
    <path d="M7.75 2a.75.75 0 0 1 .75.75V7h4.25a.75.75 0 0 1 0 1.5H8.5v4.25a.75.75 0 0 1-1.5 0V8.5H2.75a.75.75 0 0 1 0-1.5H7V2.75A.75.75 0 0 1 7.75 2Z"></path>
</svg>
      </span>
    <span class="Button-label"><svg aria-hidden="true" height="16" viewBox="0 0 16 16" version="1.1" width="16" data-view-component="true" class="octicon octicon-triangle-down">
    <path d="m4.427 7.427 3.396 3.396a.25.25 0 0 0 .354 0l3.396-3.396A.25.25 0 0 0 11.396 7H4.604a.25.25 0 0 0-.177.427Z"></path>
</svg></span>
  </span>
</button><tool-tip id="tooltip-267abf7c-3dcf-4065-9679-e6fc0de3c0fb" for="global-create-menu-button" popover="manual" data-direction="s" data-type="description" data-view-component="true" class="sr-only position-absolute">Create new...</tool-tip>


<anchored-position id="global-create-menu-overlay" anchor="global-create-menu-button" align="end" side="outside-bottom" anchor-offset="normal" popover="auto" data-view-component="true">
  <div data-view-component="true" class="Overlay Overlay--size-auto">
    
      <div data-view-component="true" class="Overlay-body Overlay-body--paddingNone">          <div data-view-component="true">
  <ul aria-labelledby="global-create-menu-button" id="global-create-menu-list" role="menu" data-view-component="true" class="ActionListWrap--inset ActionListWrap">
      <li data-analytics-event="{&quot;category&quot;:&quot;SiteHeaderComponent&quot;,&quot;action&quot;:&quot;add_dropdown&quot;,&quot;label&quot;:&quot;new repository&quot;}" data-targets="action-list.items action-list.items" role="none" data-view-component="true" class="ActionListItem">
    
    <a href="/new" tabindex="-1" id="item-d94aa1f2-a3e8-4c09-a17a-a3f19f4408ec" role="menuitem" data-view-component="true" class="ActionListContent ActionListContent--visual16">
        <span class="ActionListItem-visual ActionListItem-visual--leading">
          <svg aria-hidden="true" height="16" viewBox="0 0 16 16" version="1.1" width="16" data-view-component="true" class="octicon octicon-repo">
    <path d="M2 2.5A2.5 2.5 0 0 1 4.5 0h8.75a.75.75 0 0 1 .75.75v12.5a.75.75 0 0 1-.75.75h-2.5a.75.75 0 0 1 0-1.5h1.75v-2h-8a1 1 0 0 0-.714 1.7.75.75 0 1 1-1.072 1.05A2.495 2.495 0 0 1 2 11.5Zm10.5-1h-8a1 1 0 0 0-1 1v6.708A2.486 2.486 0 0 1 4.5 9h8ZM5 12.25a.25.25 0 0 1 .25-.25h3.5a.25.25 0 0 1 .25.25v3.25a.25.25 0 0 1-.4.2l-1.45-1.087a.249.249 0 0 0-.3 0L5.4 15.7a.25.25 0 0 1-.4-.2Z"></path>
</svg>
        </span>
      
        <span data-view-component="true" class="ActionListItem-label">
              New repository

</span></a>
  
  
</li>
      <li data-analytics-event="{&quot;category&quot;:&quot;SiteHeaderComponent&quot;,&quot;action&quot;:&quot;add_dropdown&quot;,&quot;label&quot;:&quot;import repository&quot;}" data-targets="action-list.items action-list.items" role="none" data-view-component="true" class="ActionListItem">
    
    <a href="/new/import" tabindex="-1" id="item-ca4343f8-d58d-4745-8625-e1fab94ebe73" role="menuitem" data-view-component="true" class="ActionListContent ActionListContent--visual16">
        <span class="ActionListItem-visual ActionListItem-visual--leading">
          <svg aria-hidden="true" height="16" viewBox="0 0 16 16" version="1.1" width="16" data-view-component="true" class="octicon octicon-repo-push">
    <path d="M1 2.5A2.5 2.5 0 0 1 3.5 0h8.75a.75.75 0 0 1 .75.75v3.5a.75.75 0 0 1-1.5 0V1.5h-8a1 1 0 0 0-1 1v6.708A2.493 2.493 0 0 1 3.5 9h3.25a.75.75 0 0 1 0 1.5H3.5a1 1 0 0 0 0 2h5.75a.75.75 0 0 1 0 1.5H3.5A2.5 2.5 0 0 1 1 11.5Zm13.23 7.79h-.001l-1.224-1.224v6.184a.75.75 0 0 1-1.5 0V9.066L10.28 10.29a.75.75 0 0 1-1.06-1.061l2.505-2.504a.75.75 0 0 1 1.06 0L15.29 9.23a.751.751 0 0 1-.018 1.042.751.751 0 0 1-1.042.018Z"></path>
</svg>
        </span>
      
        <span data-view-component="true" class="ActionListItem-label">
                Import repository

</span></a>
  
  
</li>
      <li role="presentation" aria-hidden="true" data-view-component="true" class="ActionList-sectionDivider"></li>
      <li data-analytics-event="{&quot;category&quot;:&quot;SiteHeaderComponent&quot;,&quot;action&quot;:&quot;add_dropdown&quot;,&quot;label&quot;:&quot;new codespace&quot;}" data-targets="action-list.items action-list.items" role="none" data-view-component="true" class="ActionListItem">
    
    <a href="/codespaces/new" tabindex="-1" id="item-f2c9ba86-d612-479e-865e-6ebef74f74ea" role="menuitem" data-view-component="true" class="ActionListContent ActionListContent--visual16">
        <span class="ActionListItem-visual ActionListItem-visual--leading">
          <svg aria-hidden="true" height="16" viewBox="0 0 16 16" version="1.1" width="16" data-view-component="true" class="octicon octicon-codespaces">
    <path d="M0 11.25c0-.966.784-1.75 1.75-1.75h12.5c.966 0 1.75.784 1.75 1.75v3A1.75 1.75 0 0 1 14.25 16H1.75A1.75 1.75 0 0 1 0 14.25Zm2-9.5C2 .784 2.784 0 3.75 0h8.5C13.216 0 14 .784 14 1.75v5a1.75 1.75 0 0 1-1.75 1.75h-8.5A1.75 1.75 0 0 1 2 6.75Zm1.75-.25a.25.25 0 0 0-.25.25v5c0 .138.112.25.25.25h8.5a.25.25 0 0 0 .25-.25v-5a.25.25 0 0 0-.25-.25Zm-2 9.5a.25.25 0 0 0-.25.25v3c0 .138.112.25.25.25h12.5a.25.25 0 0 0 .25-.25v-3a.25.25 0 0 0-.25-.25Z"></path><path d="M7 12.75a.75.75 0 0 1 .75-.75h4.5a.75.75 0 0 1 0 1.5h-4.5a.75.75 0 0 1-.75-.75Zm-4 0a.75.75 0 0 1 .75-.75h.5a.75.75 0 0 1 0 1.5h-.5a.75.75 0 0 1-.75-.75Z"></path>
</svg>
        </span>
      
        <span data-view-component="true" class="ActionListItem-label">
                New codespace

</span></a>
  
  
</li>
      <li data-analytics-event="{&quot;category&quot;:&quot;SiteHeaderComponent&quot;,&quot;action&quot;:&quot;add_dropdown&quot;,&quot;label&quot;:&quot;new gist&quot;}" data-targets="action-list.items action-list.items" role="none" data-view-component="true" class="ActionListItem">
    
    <a href="https://gist.github.com/" tabindex="-1" id="item-b23c7d49-9835-4263-9a49-900000ee5761" role="menuitem" data-view-component="true" class="ActionListContent ActionListContent--visual16">
        <span class="ActionListItem-visual ActionListItem-visual--leading">
          <svg aria-hidden="true" height="16" viewBox="0 0 16 16" version="1.1" width="16" data-view-component="true" class="octicon octicon-code">
    <path d="m11.28 3.22 4.25 4.25a.75.75 0 0 1 0 1.06l-4.25 4.25a.749.749 0 0 1-1.275-.326.749.749 0 0 1 .215-.734L13.94 8l-3.72-3.72a.749.749 0 0 1 .326-1.275.749.749 0 0 1 .734.215Zm-6.56 0a.751.751 0 0 1 1.042.018.751.751 0 0 1 .018 1.042L2.06 8l3.72 3.72a.749.749 0 0 1-.326 1.275.749.749 0 0 1-.734-.215L.47 8.53a.75.75 0 0 1 0-1.06Z"></path>
</svg>
        </span>
      
        <span data-view-component="true" class="ActionListItem-label">
                New gist

</span></a>
  
  
</li>
      <li role="presentation" aria-hidden="true" data-view-component="true" class="ActionList-sectionDivider"></li>
      <li data-targets="action-list.items action-list.items" role="none" data-view-component="true" class="ActionListItem">
    
    <a href="/account/organizations/new" tabindex="-1" data-dont-follow-via-test="true" data-analytics-event="{&quot;category&quot;:&quot;SiteHeaderComponent&quot;,&quot;action&quot;:&quot;add_dropdown&quot;,&quot;label&quot;:&quot;new organization&quot;}" id="item-fbed960e-75bc-4e2a-b3ed-320e958a0656" role="menuitem" data-view-component="true" class="ActionListContent ActionListContent--visual16">
        <span class="ActionListItem-visual ActionListItem-visual--leading">
          <svg aria-hidden="true" height="16" viewBox="0 0 16 16" version="1.1" width="16" data-view-component="true" class="octicon octicon-organization">
    <path d="M1.75 16A1.75 1.75 0 0 1 0 14.25V1.75C0 .784.784 0 1.75 0h8.5C11.216 0 12 .784 12 1.75v12.5c0 .085-.006.168-.018.25h2.268a.25.25 0 0 0 .25-.25V8.285a.25.25 0 0 0-.111-.208l-1.055-.703a.749.749 0 1 1 .832-1.248l1.055.703c.487.325.779.871.779 1.456v5.965A1.75 1.75 0 0 1 14.25 16h-3.5a.766.766 0 0 1-.197-.026c-.099.017-.2.026-.303.026h-3a.75.75 0 0 1-.75-.75V14h-1v1.25a.75.75 0 0 1-.75.75Zm-.25-1.75c0 .138.112.25.25.25H4v-1.25a.75.75 0 0 1 .75-.75h2.5a.75.75 0 0 1 .75.75v1.25h2.25a.25.25 0 0 0 .25-.25V1.75a.25.25 0 0 0-.25-.25h-8.5a.25.25 0 0 0-.25.25ZM3.75 6h.5a.75.75 0 0 1 0 1.5h-.5a.75.75 0 0 1 0-1.5ZM3 3.75A.75.75 0 0 1 3.75 3h.5a.75.75 0 0 1 0 1.5h-.5A.75.75 0 0 1 3 3.75Zm4 3A.75.75 0 0 1 7.75 6h.5a.75.75 0 0 1 0 1.5h-.5A.75.75 0 0 1 7 6.75ZM7.75 3h.5a.75.75 0 0 1 0 1.5h-.5a.75.75 0 0 1 0-1.5ZM3 9.75A.75.75 0 0 1 3.75 9h.5a.75.75 0 0 1 0 1.5h-.5A.75.75 0 0 1 3 9.75ZM7.75 9h.5a.75.75 0 0 1 0 1.5h-.5a.75.75 0 0 1 0-1.5Z"></path>
</svg>
        </span>
      
        <span data-view-component="true" class="ActionListItem-label">
                New organization

</span></a>
  
  
</li>
</ul>  
</div>

</div>
      
</div></anchored-position>  </focus-group>
</action-menu>


          <a href="/issues" data-analytics-event="{&quot;category&quot;:&quot;Global navigation&quot;,&quot;action&quot;:&quot;ISSUES_HEADER&quot;,&quot;label&quot;:null}" id="icon-button-1bc5dd3f-83fd-45fb-b2f1-572c1957a616" aria-labelledby="tooltip-0bf1210b-9c0a-450a-ae93-cd80ae383e43" data-view-component="true" class="Button Button--iconOnly Button--secondary Button--medium AppHeader-button color-fg-muted">  <svg aria-hidden="true" height="16" viewBox="0 0 16 16" version="1.1" width="16" data-view-component="true" class="octicon octicon-issue-opened Button-visual">
    <path d="M8 9.5a1.5 1.5 0 1 0 0-3 1.5 1.5 0 0 0 0 3Z"></path><path d="M8 0a8 8 0 1 1 0 16A8 8 0 0 1 8 0ZM1.5 8a6.5 6.5 0 1 0 13 0 6.5 6.5 0 0 0-13 0Z"></path>
</svg>
</a><tool-tip id="tooltip-0bf1210b-9c0a-450a-ae93-cd80ae383e43" for="icon-button-1bc5dd3f-83fd-45fb-b2f1-572c1957a616" popover="manual" data-direction="s" data-type="label" data-view-component="true" class="sr-only position-absolute">Issues</tool-tip>

          <a href="/pulls" data-analytics-event="{&quot;category&quot;:&quot;Global navigation&quot;,&quot;action&quot;:&quot;PULL_REQUESTS_HEADER&quot;,&quot;label&quot;:null}" id="icon-button-d44d351e-1082-4808-b7f0-5d6e555e56b2" aria-labelledby="tooltip-4cc25bb8-ab91-4aa7-96ca-85dd1c920978" data-view-component="true" class="Button Button--iconOnly Button--secondary Button--medium AppHeader-button color-fg-muted">  <svg aria-hidden="true" height="16" viewBox="0 0 16 16" version="1.1" width="16" data-view-component="true" class="octicon octicon-git-pull-request Button-visual">
    <path d="M1.5 3.25a2.25 2.25 0 1 1 3 2.122v5.256a2.251 2.251 0 1 1-1.5 0V5.372A2.25 2.25 0 0 1 1.5 3.25Zm5.677-.177L9.573.677A.25.25 0 0 1 10 .854V2.5h1A2.5 2.5 0 0 1 13.5 5v5.628a2.251 2.251 0 1 1-1.5 0V5a1 1 0 0 0-1-1h-1v1.646a.25.25 0 0 1-.427.177L7.177 3.427a.25.25 0 0 1 0-.354ZM3.75 2.5a.75.75 0 1 0 0 1.5.75.75 0 0 0 0-1.5Zm0 9.5a.75.75 0 1 0 0 1.5.75.75 0 0 0 0-1.5Zm8.25.75a.75.75 0 1 0 1.5 0 .75.75 0 0 0-1.5 0Z"></path>
</svg>
</a><tool-tip id="tooltip-4cc25bb8-ab91-4aa7-96ca-85dd1c920978" for="icon-button-d44d351e-1082-4808-b7f0-5d6e555e56b2" popover="manual" data-direction="s" data-type="label" data-view-component="true" class="sr-only position-absolute">Pull requests</tool-tip>

        </div>

        
<notification-indicator data-channel="eyJjIjoibm90aWZpY2F0aW9uLWNoYW5nZWQ6MTM2NzUyMDkiLCJ0IjoxNzA1MzUyMTc4fQ==--0aa77339666b02d06b54dbd391e2b22c83ae424a7202a25ba6de20fc493eb268" data-indicator-mode="none" data-tooltip-global="You have unread notifications" data-tooltip-unavailable="Notifications are unavailable at the moment." data-tooltip-none="You have no unread notifications" data-header-redesign-enabled="true" data-fetch-indicator-src="/notifications/indicator" data-fetch-indicator-enabled="true" data-view-component="true" class="js-socket-channel">
    <a id="AppHeader-notifications-button" href="/notifications" aria-label="Notifications" data-hotkey="g n" data-target="notification-indicator.link" data-analytics-event="{&quot;category&quot;:&quot;Global navigation&quot;,&quot;action&quot;:&quot;NOTIFICATIONS_HEADER&quot;,&quot;label&quot;:null}" data-view-component="true" class="Button Button--iconOnly Button--secondary Button--medium AppHeader-button  color-fg-muted">  <svg aria-hidden="true" height="16" viewBox="0 0 16 16" version="1.1" width="16" data-view-component="true" class="octicon octicon-inbox Button-visual">
    <path d="M2.8 2.06A1.75 1.75 0 0 1 4.41 1h7.18c.7 0 1.333.417 1.61 1.06l2.74 6.395c.04.093.06.194.06.295v4.5A1.75 1.75 0 0 1 14.25 15H1.75A1.75 1.75 0 0 1 0 13.25v-4.5c0-.101.02-.202.06-.295Zm1.61.44a.25.25 0 0 0-.23.152L1.887 8H4.75a.75.75 0 0 1 .6.3L6.625 10h2.75l1.275-1.7a.75.75 0 0 1 .6-.3h2.863L11.82 2.652a.25.25 0 0 0-.23-.152Zm10.09 7h-2.875l-1.275 1.7a.75.75 0 0 1-.6.3h-3.5a.75.75 0 0 1-.6-.3L4.375 9.5H1.5v3.75c0 .138.112.25.25.25h12.5a.25.25 0 0 0 .25-.25Z"></path>
</svg>
</a>

    <tool-tip data-target="notification-indicator.tooltip" id="tooltip-f5889be5-3493-47b3-b3c3-0399944ed715" for="AppHeader-notifications-button" popover="manual" data-direction="s" data-type="description" data-view-component="true" class="sr-only position-absolute">Notifications</tool-tip>
</notification-indicator>

        

        <div class="AppHeader-user">
          <deferred-side-panel data-url="/_side-panels/user?repository_id=674017728">
  <include-fragment data-target="deferred-side-panel.fragment">
      <user-drawer-side-panel>
    <button aria-label="Open user account menu" data-action="click:deferred-side-panel#loadPanel click:deferred-side-panel#panelOpened" data-show-dialog-id="dialog-79a288df-11e5-423a-ba7b-d7d26a9ebef8" id="dialog-show-dialog-79a288df-11e5-423a-ba7b-d7d26a9ebef8" type="button" data-view-component="true" class="AppHeader-logo Button--invisible Button--medium Button Button--invisible-noVisuals color-bg-transparent p-0">  <span class="Button-content">
    <span class="Button-label"><img src="https://avatars.githubusercontent.com/u/13675209?v=4" alt="" size="32" height="32" width="32" data-view-component="true" class="avatar circle" /></span>
  </span>
</button>

<div class="Overlay--hidden Overlay-backdrop--side Overlay-backdrop--placement-right" data-modal-dialog-overlay>
  <modal-dialog data-target="deferred-side-panel.panel" role="dialog" id="dialog-79a288df-11e5-423a-ba7b-d7d26a9ebef8" aria-modal="true" aria-disabled="true" aria-labelledby="dialog-79a288df-11e5-423a-ba7b-d7d26a9ebef8-title" aria-describedby="dialog-79a288df-11e5-423a-ba7b-d7d26a9ebef8-description" data-view-component="true" class="Overlay Overlay-whenNarrow Overlay--size-small-portrait Overlay--motion-scaleFade SidePanel">
    <div styles="flex-direction: row;" data-view-component="true" class="Overlay-header">
  <div class="Overlay-headerContentWrap">
    <div class="Overlay-titleWrap">
      <h1 class="Overlay-title sr-only" id="dialog-79a288df-11e5-423a-ba7b-d7d26a9ebef8-title">
        Account menu
      </h1>
            <div data-view-component="true" class="d-flex">
      <div data-view-component="true" class="AppHeader-logo position-relative">
        <img src="https://avatars.githubusercontent.com/u/13675209?v=4" alt="" size="32" height="32" width="32" data-view-component="true" class="avatar circle" />
</div>        <div data-view-component="true" class="overflow-hidden d-flex width-full">        <div data-view-component="true" class="lh-condensed overflow-hidden d-flex flex-column flex-justify-center ml-2 f5 mr-auto width-full">
          <span data-view-component="true" class="Truncate text-bold">
    <span data-view-component="true" class="Truncate-text">
            pvateekul
</span>
</span>          </div>
        <action-menu data-select-variant="none" data-view-component="true" class="d-sm-none d-md-none d-lg-none">
  <focus-group direction="vertical" mnemonics retain>
    <button id="user-create-menu-button" popovertarget="user-create-menu-overlay" aria-label="Create something new" aria-controls="user-create-menu-list" aria-haspopup="true" type="button" data-view-component="true" class="AppHeader-button Button--secondary Button--small Button width-auto color-fg-muted">  <span class="Button-content">
      <span class="Button-visual Button-leadingVisual">
        <svg aria-hidden="true" height="16" viewBox="0 0 16 16" version="1.1" width="16" data-view-component="true" class="octicon octicon-plus">
    <path d="M7.75 2a.75.75 0 0 1 .75.75V7h4.25a.75.75 0 0 1 0 1.5H8.5v4.25a.75.75 0 0 1-1.5 0V8.5H2.75a.75.75 0 0 1 0-1.5H7V2.75A.75.75 0 0 1 7.75 2Z"></path>
</svg>
      </span>
    <span class="Button-label"><svg aria-hidden="true" height="16" viewBox="0 0 16 16" version="1.1" width="16" data-view-component="true" class="octicon octicon-triangle-down">
    <path d="m4.427 7.427 3.396 3.396a.25.25 0 0 0 .354 0l3.396-3.396A.25.25 0 0 0 11.396 7H4.604a.25.25 0 0 0-.177.427Z"></path>
</svg></span>
  </span>
</button><tool-tip id="tooltip-d8270058-be42-4304-9d99-db4b2c317d23" for="user-create-menu-button" popover="manual" data-direction="s" data-type="description" data-view-component="true" class="sr-only position-absolute">Create new...</tool-tip>


<anchored-position id="user-create-menu-overlay" anchor="user-create-menu-button" align="end" side="outside-bottom" anchor-offset="normal" popover="auto" data-view-component="true">
  <div data-view-component="true" class="Overlay Overlay--size-auto">
    
      <div data-view-component="true" class="Overlay-body Overlay-body--paddingNone">          <div data-view-component="true">
  <ul aria-labelledby="user-create-menu-button" id="user-create-menu-list" role="menu" data-view-component="true" class="ActionListWrap--inset ActionListWrap">
      <li data-analytics-event="{&quot;category&quot;:&quot;SiteHeaderComponent&quot;,&quot;action&quot;:&quot;add_dropdown&quot;,&quot;label&quot;:&quot;new repository&quot;}" data-targets="action-list.items action-list.items" role="none" data-view-component="true" class="ActionListItem">
    
    <a href="/new" tabindex="-1" id="item-75884e7a-4733-4f25-a2cc-f07514eae263" role="menuitem" data-view-component="true" class="ActionListContent ActionListContent--visual16">
        <span class="ActionListItem-visual ActionListItem-visual--leading">
          <svg aria-hidden="true" height="16" viewBox="0 0 16 16" version="1.1" width="16" data-view-component="true" class="octicon octicon-repo">
    <path d="M2 2.5A2.5 2.5 0 0 1 4.5 0h8.75a.75.75 0 0 1 .75.75v12.5a.75.75 0 0 1-.75.75h-2.5a.75.75 0 0 1 0-1.5h1.75v-2h-8a1 1 0 0 0-.714 1.7.75.75 0 1 1-1.072 1.05A2.495 2.495 0 0 1 2 11.5Zm10.5-1h-8a1 1 0 0 0-1 1v6.708A2.486 2.486 0 0 1 4.5 9h8ZM5 12.25a.25.25 0 0 1 .25-.25h3.5a.25.25 0 0 1 .25.25v3.25a.25.25 0 0 1-.4.2l-1.45-1.087a.249.249 0 0 0-.3 0L5.4 15.7a.25.25 0 0 1-.4-.2Z"></path>
</svg>
        </span>
      
        <span data-view-component="true" class="ActionListItem-label">
              New repository

</span></a>
  
  
</li>
      <li data-analytics-event="{&quot;category&quot;:&quot;SiteHeaderComponent&quot;,&quot;action&quot;:&quot;add_dropdown&quot;,&quot;label&quot;:&quot;import repository&quot;}" data-targets="action-list.items action-list.items" role="none" data-view-component="true" class="ActionListItem">
    
    <a href="/new/import" tabindex="-1" id="item-cdc10693-7df6-4ece-851b-b7686d072dac" role="menuitem" data-view-component="true" class="ActionListContent ActionListContent--visual16">
        <span class="ActionListItem-visual ActionListItem-visual--leading">
          <svg aria-hidden="true" height="16" viewBox="0 0 16 16" version="1.1" width="16" data-view-component="true" class="octicon octicon-repo-push">
    <path d="M1 2.5A2.5 2.5 0 0 1 3.5 0h8.75a.75.75 0 0 1 .75.75v3.5a.75.75 0 0 1-1.5 0V1.5h-8a1 1 0 0 0-1 1v6.708A2.493 2.493 0 0 1 3.5 9h3.25a.75.75 0 0 1 0 1.5H3.5a1 1 0 0 0 0 2h5.75a.75.75 0 0 1 0 1.5H3.5A2.5 2.5 0 0 1 1 11.5Zm13.23 7.79h-.001l-1.224-1.224v6.184a.75.75 0 0 1-1.5 0V9.066L10.28 10.29a.75.75 0 0 1-1.06-1.061l2.505-2.504a.75.75 0 0 1 1.06 0L15.29 9.23a.751.751 0 0 1-.018 1.042.751.751 0 0 1-1.042.018Z"></path>
</svg>
        </span>
      
        <span data-view-component="true" class="ActionListItem-label">
                Import repository

</span></a>
  
  
</li>
      <li role="presentation" aria-hidden="true" data-view-component="true" class="ActionList-sectionDivider"></li>
      <li data-analytics-event="{&quot;category&quot;:&quot;SiteHeaderComponent&quot;,&quot;action&quot;:&quot;add_dropdown&quot;,&quot;label&quot;:&quot;new codespace&quot;}" data-targets="action-list.items action-list.items" role="none" data-view-component="true" class="ActionListItem">
    
    <a href="/codespaces/new" tabindex="-1" id="item-416ced61-212e-4a41-ba72-7f47d1741167" role="menuitem" data-view-component="true" class="ActionListContent ActionListContent--visual16">
        <span class="ActionListItem-visual ActionListItem-visual--leading">
          <svg aria-hidden="true" height="16" viewBox="0 0 16 16" version="1.1" width="16" data-view-component="true" class="octicon octicon-codespaces">
    <path d="M0 11.25c0-.966.784-1.75 1.75-1.75h12.5c.966 0 1.75.784 1.75 1.75v3A1.75 1.75 0 0 1 14.25 16H1.75A1.75 1.75 0 0 1 0 14.25Zm2-9.5C2 .784 2.784 0 3.75 0h8.5C13.216 0 14 .784 14 1.75v5a1.75 1.75 0 0 1-1.75 1.75h-8.5A1.75 1.75 0 0 1 2 6.75Zm1.75-.25a.25.25 0 0 0-.25.25v5c0 .138.112.25.25.25h8.5a.25.25 0 0 0 .25-.25v-5a.25.25 0 0 0-.25-.25Zm-2 9.5a.25.25 0 0 0-.25.25v3c0 .138.112.25.25.25h12.5a.25.25 0 0 0 .25-.25v-3a.25.25 0 0 0-.25-.25Z"></path><path d="M7 12.75a.75.75 0 0 1 .75-.75h4.5a.75.75 0 0 1 0 1.5h-4.5a.75.75 0 0 1-.75-.75Zm-4 0a.75.75 0 0 1 .75-.75h.5a.75.75 0 0 1 0 1.5h-.5a.75.75 0 0 1-.75-.75Z"></path>
</svg>
        </span>
      
        <span data-view-component="true" class="ActionListItem-label">
                New codespace

</span></a>
  
  
</li>
      <li data-analytics-event="{&quot;category&quot;:&quot;SiteHeaderComponent&quot;,&quot;action&quot;:&quot;add_dropdown&quot;,&quot;label&quot;:&quot;new gist&quot;}" data-targets="action-list.items action-list.items" role="none" data-view-component="true" class="ActionListItem">
    
    <a href="https://gist.github.com/" tabindex="-1" id="item-405ca571-79d6-4acf-b832-ba770d71e2f2" role="menuitem" data-view-component="true" class="ActionListContent ActionListContent--visual16">
        <span class="ActionListItem-visual ActionListItem-visual--leading">
          <svg aria-hidden="true" height="16" viewBox="0 0 16 16" version="1.1" width="16" data-view-component="true" class="octicon octicon-code">
    <path d="m11.28 3.22 4.25 4.25a.75.75 0 0 1 0 1.06l-4.25 4.25a.749.749 0 0 1-1.275-.326.749.749 0 0 1 .215-.734L13.94 8l-3.72-3.72a.749.749 0 0 1 .326-1.275.749.749 0 0 1 .734.215Zm-6.56 0a.751.751 0 0 1 1.042.018.751.751 0 0 1 .018 1.042L2.06 8l3.72 3.72a.749.749 0 0 1-.326 1.275.749.749 0 0 1-.734-.215L.47 8.53a.75.75 0 0 1 0-1.06Z"></path>
</svg>
        </span>
      
        <span data-view-component="true" class="ActionListItem-label">
                New gist

</span></a>
  
  
</li>
      <li role="presentation" aria-hidden="true" data-view-component="true" class="ActionList-sectionDivider"></li>
      <li data-targets="action-list.items action-list.items" role="none" data-view-component="true" class="ActionListItem">
    
    <a href="/account/organizations/new" tabindex="-1" data-dont-follow-via-test="true" data-analytics-event="{&quot;category&quot;:&quot;SiteHeaderComponent&quot;,&quot;action&quot;:&quot;add_dropdown&quot;,&quot;label&quot;:&quot;new organization&quot;}" id="item-306b2cfc-83c7-42e4-a3b0-cc14f2a0303e" role="menuitem" data-view-component="true" class="ActionListContent ActionListContent--visual16">
        <span class="ActionListItem-visual ActionListItem-visual--leading">
          <svg aria-hidden="true" height="16" viewBox="0 0 16 16" version="1.1" width="16" data-view-component="true" class="octicon octicon-organization">
    <path d="M1.75 16A1.75 1.75 0 0 1 0 14.25V1.75C0 .784.784 0 1.75 0h8.5C11.216 0 12 .784 12 1.75v12.5c0 .085-.006.168-.018.25h2.268a.25.25 0 0 0 .25-.25V8.285a.25.25 0 0 0-.111-.208l-1.055-.703a.749.749 0 1 1 .832-1.248l1.055.703c.487.325.779.871.779 1.456v5.965A1.75 1.75 0 0 1 14.25 16h-3.5a.766.766 0 0 1-.197-.026c-.099.017-.2.026-.303.026h-3a.75.75 0 0 1-.75-.75V14h-1v1.25a.75.75 0 0 1-.75.75Zm-.25-1.75c0 .138.112.25.25.25H4v-1.25a.75.75 0 0 1 .75-.75h2.5a.75.75 0 0 1 .75.75v1.25h2.25a.25.25 0 0 0 .25-.25V1.75a.25.25 0 0 0-.25-.25h-8.5a.25.25 0 0 0-.25.25ZM3.75 6h.5a.75.75 0 0 1 0 1.5h-.5a.75.75 0 0 1 0-1.5ZM3 3.75A.75.75 0 0 1 3.75 3h.5a.75.75 0 0 1 0 1.5h-.5A.75.75 0 0 1 3 3.75Zm4 3A.75.75 0 0 1 7.75 6h.5a.75.75 0 0 1 0 1.5h-.5A.75.75 0 0 1 7 6.75ZM7.75 3h.5a.75.75 0 0 1 0 1.5h-.5a.75.75 0 0 1 0-1.5ZM3 9.75A.75.75 0 0 1 3.75 9h.5a.75.75 0 0 1 0 1.5h-.5A.75.75 0 0 1 3 9.75ZM7.75 9h.5a.75.75 0 0 1 0 1.5h-.5a.75.75 0 0 1 0-1.5Z"></path>
</svg>
        </span>
      
        <span data-view-component="true" class="ActionListItem-label">
                New organization

</span></a>
  
  
</li>
</ul>  
</div>

</div>
      
</div></anchored-position>  </focus-group>
</action-menu>

</div>
</div>
    </div>
    <div class="Overlay-actionWrap">
      <button data-close-dialog-id="dialog-79a288df-11e5-423a-ba7b-d7d26a9ebef8" aria-label="Close" type="button" data-view-component="true" class="close-button Overlay-closeButton"><svg aria-hidden="true" height="16" viewBox="0 0 16 16" version="1.1" width="16" data-view-component="true" class="octicon octicon-x">
    <path d="M3.72 3.72a.75.75 0 0 1 1.06 0L8 6.94l3.22-3.22a.749.749 0 0 1 1.275.326.749.749 0 0 1-.215.734L9.06 8l3.22 3.22a.749.749 0 0 1-.326 1.275.749.749 0 0 1-.734-.215L8 9.06l-3.22 3.22a.751.751 0 0 1-1.042-.018.751.751 0 0 1-.018-1.042L6.94 8 3.72 4.78a.75.75 0 0 1 0-1.06Z"></path>
</svg></button>
    </div>
  </div>
</div>
      <scrollable-region data-labelled-by="dialog-79a288df-11e5-423a-ba7b-d7d26a9ebef8-title">
        <div data-view-component="true" class="Overlay-body d-flex flex-column px-2">    <div data-view-component="true" class="d-flex flex-column mb-3">
        <nav aria-label="User navigation" data-view-component="true" class="ActionList">
  
  <nav-list>
    <ul data-view-component="true" class="ActionListWrap">
        
          
<li data-targets="nav-list.items nav-list.items" data-item-id="" data-view-component="true" class="ActionListItem">
    
    <button id="item-cb0ae0af-77fe-459f-ac45-d310976e5578" type="button" data-view-component="true" class="ActionListContent ActionListContent--visual16">
        <span class="ActionListItem-visual ActionListItem-visual--leading">
          <span data-view-component="true" class="d-flex flex-items-center">    <svg style="box-sizing: content-box; color: var(--color-icon-primary);" width="16" height="16" viewBox="0 0 16 16" fill="none" data-view-component="true" class="anim-rotate">
  <circle cx="8" cy="8" r="7" stroke="currentColor" stroke-opacity="0.25" stroke-width="2" vector-effect="non-scaling-stroke" fill="none" />
  <path d="M15 8a7.002 7.002 0 00-7-7" stroke="currentColor" stroke-width="2" stroke-linecap="round" vector-effect="non-scaling-stroke" />
</svg>
</span>
        </span>
      
        <span data-view-component="true" class="ActionListItem-label">
          

  <span class="color-fg-muted">
    Loading...
  </span>

</span></button>
  
  
</li>

        
          <li role="presentation" aria-hidden="true" data-view-component="true" class="ActionList-sectionDivider"></li>
        
          
<li data-targets="nav-list.items nav-list.items" data-item-id="" data-view-component="true" class="ActionListItem">
    
    <a data-analytics-event="{&quot;category&quot;:&quot;Global navigation&quot;,&quot;action&quot;:&quot;PROFILE&quot;,&quot;label&quot;:null}" id="item-18544059-52a6-403c-a566-29d2bd527b28" href="https://github.com/pvateekul" data-view-component="true" class="ActionListContent ActionListContent--visual16">
        <span class="ActionListItem-visual ActionListItem-visual--leading">
          <svg aria-hidden="true" height="16" viewBox="0 0 16 16" version="1.1" width="16" data-view-component="true" class="octicon octicon-person">
    <path d="M10.561 8.073a6.005 6.005 0 0 1 3.432 5.142.75.75 0 1 1-1.498.07 4.5 4.5 0 0 0-8.99 0 .75.75 0 0 1-1.498-.07 6.004 6.004 0 0 1 3.431-5.142 3.999 3.999 0 1 1 5.123 0ZM10.5 5a2.5 2.5 0 1 0-5 0 2.5 2.5 0 0 0 5 0Z"></path>
</svg>
        </span>
      
        <span data-view-component="true" class="ActionListItem-label">
          Your profile
</span></a>
  
  
</li>

        
          
<li data-targets="nav-list.items nav-list.items" data-item-id="" data-view-component="true" class="ActionListItem">
    
    <button id="item-81a6250e-24aa-4a77-b3c9-44be68df837d" type="button" data-view-component="true" class="ActionListContent ActionListContent--visual16">
        <span class="ActionListItem-visual ActionListItem-visual--leading">
          <span data-view-component="true" class="d-flex flex-items-center">    <svg style="box-sizing: content-box; color: var(--color-icon-primary);" width="16" height="16" viewBox="0 0 16 16" fill="none" data-view-component="true" class="anim-rotate">
  <circle cx="8" cy="8" r="7" stroke="currentColor" stroke-opacity="0.25" stroke-width="2" vector-effect="non-scaling-stroke" fill="none" />
  <path d="M15 8a7.002 7.002 0 00-7-7" stroke="currentColor" stroke-width="2" stroke-linecap="round" vector-effect="non-scaling-stroke" />
</svg>
</span>
        </span>
      
        <span data-view-component="true" class="ActionListItem-label">
          

  <span class="color-fg-muted">
    Loading...
  </span>

</span></button>
  
  
</li>

        
          <li role="presentation" aria-hidden="true" data-view-component="true" class="ActionList-sectionDivider"></li>
        
          
<li data-targets="nav-list.items nav-list.items" data-item-id="" data-view-component="true" class="ActionListItem">
    
    <a data-analytics-event="{&quot;category&quot;:&quot;Global navigation&quot;,&quot;action&quot;:&quot;YOUR_REPOSITORIES&quot;,&quot;label&quot;:null}" id="item-67fde8d2-f4c0-4760-8acb-f0bee8b6a03d" href="/pvateekul?tab=repositories" data-view-component="true" class="ActionListContent ActionListContent--visual16">
        <span class="ActionListItem-visual ActionListItem-visual--leading">
          <svg aria-hidden="true" height="16" viewBox="0 0 16 16" version="1.1" width="16" data-view-component="true" class="octicon octicon-repo">
    <path d="M2 2.5A2.5 2.5 0 0 1 4.5 0h8.75a.75.75 0 0 1 .75.75v12.5a.75.75 0 0 1-.75.75h-2.5a.75.75 0 0 1 0-1.5h1.75v-2h-8a1 1 0 0 0-.714 1.7.75.75 0 1 1-1.072 1.05A2.495 2.495 0 0 1 2 11.5Zm10.5-1h-8a1 1 0 0 0-1 1v6.708A2.486 2.486 0 0 1 4.5 9h8ZM5 12.25a.25.25 0 0 1 .25-.25h3.5a.25.25 0 0 1 .25.25v3.25a.25.25 0 0 1-.4.2l-1.45-1.087a.249.249 0 0 0-.3 0L5.4 15.7a.25.25 0 0 1-.4-.2Z"></path>
</svg>
        </span>
      
        <span data-view-component="true" class="ActionListItem-label">
          Your repositories
</span></a>
  
  
</li>

        
          
<li data-targets="nav-list.items nav-list.items" data-item-id="" data-view-component="true" class="ActionListItem">
    
    <a data-analytics-event="{&quot;category&quot;:&quot;Global navigation&quot;,&quot;action&quot;:&quot;YOUR_PROJECTS&quot;,&quot;label&quot;:null}" id="item-3d9c1ae4-a40d-4c6c-9b9c-c068383c702c" href="/pvateekul?tab=projects" data-view-component="true" class="ActionListContent ActionListContent--visual16">
        <span class="ActionListItem-visual ActionListItem-visual--leading">
          <svg aria-hidden="true" height="16" viewBox="0 0 16 16" version="1.1" width="16" data-view-component="true" class="octicon octicon-project">
    <path d="M1.75 0h12.5C15.216 0 16 .784 16 1.75v12.5A1.75 1.75 0 0 1 14.25 16H1.75A1.75 1.75 0 0 1 0 14.25V1.75C0 .784.784 0 1.75 0ZM1.5 1.75v12.5c0 .138.112.25.25.25h12.5a.25.25 0 0 0 .25-.25V1.75a.25.25 0 0 0-.25-.25H1.75a.25.25 0 0 0-.25.25ZM11.75 3a.75.75 0 0 1 .75.75v7.5a.75.75 0 0 1-1.5 0v-7.5a.75.75 0 0 1 .75-.75Zm-8.25.75a.75.75 0 0 1 1.5 0v5.5a.75.75 0 0 1-1.5 0ZM8 3a.75.75 0 0 1 .75.75v3.5a.75.75 0 0 1-1.5 0v-3.5A.75.75 0 0 1 8 3Z"></path>
</svg>
        </span>
      
        <span data-view-component="true" class="ActionListItem-label">
          Your projects
</span></a>
  
  
</li>

        
          
<li data-targets="nav-list.items nav-list.items" data-item-id="" data-view-component="true" class="ActionListItem">
    
    <button id="item-904ad133-df27-4679-bcc9-144e1552e940" type="button" data-view-component="true" class="ActionListContent ActionListContent--visual16">
        <span class="ActionListItem-visual ActionListItem-visual--leading">
          <span data-view-component="true" class="d-flex flex-items-center">    <svg style="box-sizing: content-box; color: var(--color-icon-primary);" width="16" height="16" viewBox="0 0 16 16" fill="none" data-view-component="true" class="anim-rotate">
  <circle cx="8" cy="8" r="7" stroke="currentColor" stroke-opacity="0.25" stroke-width="2" vector-effect="non-scaling-stroke" fill="none" />
  <path d="M15 8a7.002 7.002 0 00-7-7" stroke="currentColor" stroke-width="2" stroke-linecap="round" vector-effect="non-scaling-stroke" />
</svg>
</span>
        </span>
      
        <span data-view-component="true" class="ActionListItem-label">
          

  <span class="color-fg-muted">
    Loading...
  </span>

</span></button>
  
  
</li>

        
          
<li data-targets="nav-list.items nav-list.items" data-item-id="" data-view-component="true" class="ActionListItem">
    
    <a data-analytics-event="{&quot;category&quot;:&quot;Global navigation&quot;,&quot;action&quot;:&quot;YOUR_STARS&quot;,&quot;label&quot;:null}" id="item-39e57ebf-6db8-47ff-8426-38ede6d8250d" href="/pvateekul?tab=stars" data-view-component="true" class="ActionListContent ActionListContent--visual16">
        <span class="ActionListItem-visual ActionListItem-visual--leading">
          <svg aria-hidden="true" height="16" viewBox="0 0 16 16" version="1.1" width="16" data-view-component="true" class="octicon octicon-star">
    <path d="M8 .25a.75.75 0 0 1 .673.418l1.882 3.815 4.21.612a.75.75 0 0 1 .416 1.279l-3.046 2.97.719 4.192a.751.751 0 0 1-1.088.791L8 12.347l-3.766 1.98a.75.75 0 0 1-1.088-.79l.72-4.194L.818 6.374a.75.75 0 0 1 .416-1.28l4.21-.611L7.327.668A.75.75 0 0 1 8 .25Zm0 2.445L6.615 5.5a.75.75 0 0 1-.564.41l-3.097.45 2.24 2.184a.75.75 0 0 1 .216.664l-.528 3.084 2.769-1.456a.75.75 0 0 1 .698 0l2.77 1.456-.53-3.084a.75.75 0 0 1 .216-.664l2.24-2.183-3.096-.45a.75.75 0 0 1-.564-.41L8 2.694Z"></path>
</svg>
        </span>
      
        <span data-view-component="true" class="ActionListItem-label">
          Your stars
</span></a>
  
  
</li>

        
          
<li data-targets="nav-list.items nav-list.items" data-item-id="" data-view-component="true" class="ActionListItem">
    
    <a data-analytics-event="{&quot;category&quot;:&quot;Global navigation&quot;,&quot;action&quot;:&quot;SPONSORS&quot;,&quot;label&quot;:null}" id="item-0eeea625-03ff-4782-a4a5-2db431b20d85" href="/sponsors/accounts" data-view-component="true" class="ActionListContent ActionListContent--visual16">
        <span class="ActionListItem-visual ActionListItem-visual--leading">
          <svg aria-hidden="true" height="16" viewBox="0 0 16 16" version="1.1" width="16" data-view-component="true" class="octicon octicon-heart">
    <path d="m8 14.25.345.666a.75.75 0 0 1-.69 0l-.008-.004-.018-.01a7.152 7.152 0 0 1-.31-.17 22.055 22.055 0 0 1-3.434-2.414C2.045 10.731 0 8.35 0 5.5 0 2.836 2.086 1 4.25 1 5.797 1 7.153 1.802 8 3.02 8.847 1.802 10.203 1 11.75 1 13.914 1 16 2.836 16 5.5c0 2.85-2.045 5.231-3.885 6.818a22.066 22.066 0 0 1-3.744 2.584l-.018.01-.006.003h-.002ZM4.25 2.5c-1.336 0-2.75 1.164-2.75 3 0 2.15 1.58 4.144 3.365 5.682A20.58 20.58 0 0 0 8 13.393a20.58 20.58 0 0 0 3.135-2.211C12.92 9.644 14.5 7.65 14.5 5.5c0-1.836-1.414-3-2.75-3-1.373 0-2.609.986-3.029 2.456a.749.749 0 0 1-1.442 0C6.859 3.486 5.623 2.5 4.25 2.5Z"></path>
</svg>
        </span>
      
        <span data-view-component="true" class="ActionListItem-label">
          Your sponsors
</span></a>
  
  
</li>

        
          
<li data-targets="nav-list.items nav-list.items" data-item-id="" data-view-component="true" class="ActionListItem">
    
    <a data-analytics-event="{&quot;category&quot;:&quot;Global navigation&quot;,&quot;action&quot;:&quot;YOUR_GISTS&quot;,&quot;label&quot;:null}" id="item-60f7e26c-85d4-457a-ab3d-e781193c5427" href="https://gist.github.com/mine" data-view-component="true" class="ActionListContent ActionListContent--visual16">
        <span class="ActionListItem-visual ActionListItem-visual--leading">
          <svg aria-hidden="true" height="16" viewBox="0 0 16 16" version="1.1" width="16" data-view-component="true" class="octicon octicon-code-square">
    <path d="M0 1.75C0 .784.784 0 1.75 0h12.5C15.216 0 16 .784 16 1.75v12.5A1.75 1.75 0 0 1 14.25 16H1.75A1.75 1.75 0 0 1 0 14.25Zm1.75-.25a.25.25 0 0 0-.25.25v12.5c0 .138.112.25.25.25h12.5a.25.25 0 0 0 .25-.25V1.75a.25.25 0 0 0-.25-.25Zm7.47 3.97a.75.75 0 0 1 1.06 0l2 2a.75.75 0 0 1 0 1.06l-2 2a.749.749 0 0 1-1.275-.326.749.749 0 0 1 .215-.734L10.69 8 9.22 6.53a.75.75 0 0 1 0-1.06ZM6.78 6.53 5.31 8l1.47 1.47a.749.749 0 0 1-.326 1.275.749.749 0 0 1-.734-.215l-2-2a.75.75 0 0 1 0-1.06l2-2a.751.751 0 0 1 1.042.018.751.751 0 0 1 .018 1.042Z"></path>
</svg>
        </span>
      
        <span data-view-component="true" class="ActionListItem-label">
          Your gists
</span></a>
  
  
</li>

        
          <li role="presentation" aria-hidden="true" data-view-component="true" class="ActionList-sectionDivider"></li>
        
          
<li data-targets="nav-list.items nav-list.items" data-item-id="" data-view-component="true" class="ActionListItem">
    
    <button id="item-c62a49b6-0e54-4156-9ac1-bc11024b5f8c" type="button" data-view-component="true" class="ActionListContent ActionListContent--visual16">
        <span class="ActionListItem-visual ActionListItem-visual--leading">
          <span data-view-component="true" class="d-flex flex-items-center">    <svg style="box-sizing: content-box; color: var(--color-icon-primary);" width="16" height="16" viewBox="0 0 16 16" fill="none" data-view-component="true" class="anim-rotate">
  <circle cx="8" cy="8" r="7" stroke="currentColor" stroke-opacity="0.25" stroke-width="2" vector-effect="non-scaling-stroke" fill="none" />
  <path d="M15 8a7.002 7.002 0 00-7-7" stroke="currentColor" stroke-width="2" stroke-linecap="round" vector-effect="non-scaling-stroke" />
</svg>
</span>
        </span>
      
        <span data-view-component="true" class="ActionListItem-label">
          

  <span class="color-fg-muted">
    Loading...
  </span>

</span></button>
  
  
</li>

        
          
<li data-targets="nav-list.items nav-list.items" data-item-id="" data-view-component="true" class="ActionListItem">
    
    <button id="item-adbcc59b-6d78-4388-a52f-eed61ea695ef" type="button" data-view-component="true" class="ActionListContent ActionListContent--visual16">
        <span class="ActionListItem-visual ActionListItem-visual--leading">
          <span data-view-component="true" class="d-flex flex-items-center">    <svg style="box-sizing: content-box; color: var(--color-icon-primary);" width="16" height="16" viewBox="0 0 16 16" fill="none" data-view-component="true" class="anim-rotate">
  <circle cx="8" cy="8" r="7" stroke="currentColor" stroke-opacity="0.25" stroke-width="2" vector-effect="non-scaling-stroke" fill="none" />
  <path d="M15 8a7.002 7.002 0 00-7-7" stroke="currentColor" stroke-width="2" stroke-linecap="round" vector-effect="non-scaling-stroke" />
</svg>
</span>
        </span>
      
        <span data-view-component="true" class="ActionListItem-label">
          

  <span class="color-fg-muted">
    Loading...
  </span>

</span></button>
  
  
</li>

        
          
<li data-targets="nav-list.items nav-list.items" data-item-id="" data-view-component="true" class="ActionListItem">
    
    <button id="item-f1d49d51-ee14-417c-a472-af065d96a589" type="button" data-view-component="true" class="ActionListContent ActionListContent--visual16">
        <span class="ActionListItem-visual ActionListItem-visual--leading">
          <span data-view-component="true" class="d-flex flex-items-center">    <svg style="box-sizing: content-box; color: var(--color-icon-primary);" width="16" height="16" viewBox="0 0 16 16" fill="none" data-view-component="true" class="anim-rotate">
  <circle cx="8" cy="8" r="7" stroke="currentColor" stroke-opacity="0.25" stroke-width="2" vector-effect="non-scaling-stroke" fill="none" />
  <path d="M15 8a7.002 7.002 0 00-7-7" stroke="currentColor" stroke-width="2" stroke-linecap="round" vector-effect="non-scaling-stroke" />
</svg>
</span>
        </span>
      
        <span data-view-component="true" class="ActionListItem-label">
          

  <span class="color-fg-muted">
    Loading...
  </span>

</span></button>
  
  
</li>

        
          
<li data-targets="nav-list.items nav-list.items" data-item-id="" data-view-component="true" class="ActionListItem">
    
    <a data-analytics-event="{&quot;category&quot;:&quot;Global navigation&quot;,&quot;action&quot;:&quot;SETTINGS&quot;,&quot;label&quot;:null}" id="item-885a8d06-4ec3-480c-a605-c88ff2d1904b" href="/settings/profile" data-view-component="true" class="ActionListContent ActionListContent--visual16">
        <span class="ActionListItem-visual ActionListItem-visual--leading">
          <svg aria-hidden="true" height="16" viewBox="0 0 16 16" version="1.1" width="16" data-view-component="true" class="octicon octicon-gear">
    <path d="M8 0a8.2 8.2 0 0 1 .701.031C9.444.095 9.99.645 10.16 1.29l.288 1.107c.018.066.079.158.212.224.231.114.454.243.668.386.123.082.233.09.299.071l1.103-.303c.644-.176 1.392.021 1.82.63.27.385.506.792.704 1.218.315.675.111 1.422-.364 1.891l-.814.806c-.049.048-.098.147-.088.294.016.257.016.515 0 .772-.01.147.038.246.088.294l.814.806c.475.469.679 1.216.364 1.891a7.977 7.977 0 0 1-.704 1.217c-.428.61-1.176.807-1.82.63l-1.102-.302c-.067-.019-.177-.011-.3.071a5.909 5.909 0 0 1-.668.386c-.133.066-.194.158-.211.224l-.29 1.106c-.168.646-.715 1.196-1.458 1.26a8.006 8.006 0 0 1-1.402 0c-.743-.064-1.289-.614-1.458-1.26l-.289-1.106c-.018-.066-.079-.158-.212-.224a5.738 5.738 0 0 1-.668-.386c-.123-.082-.233-.09-.299-.071l-1.103.303c-.644.176-1.392-.021-1.82-.63a8.12 8.12 0 0 1-.704-1.218c-.315-.675-.111-1.422.363-1.891l.815-.806c.05-.048.098-.147.088-.294a6.214 6.214 0 0 1 0-.772c.01-.147-.038-.246-.088-.294l-.815-.806C.635 6.045.431 5.298.746 4.623a7.92 7.92 0 0 1 .704-1.217c.428-.61 1.176-.807 1.82-.63l1.102.302c.067.019.177.011.3-.071.214-.143.437-.272.668-.386.133-.066.194-.158.211-.224l.29-1.106C6.009.645 6.556.095 7.299.03 7.53.01 7.764 0 8 0Zm-.571 1.525c-.036.003-.108.036-.137.146l-.289 1.105c-.147.561-.549.967-.998 1.189-.173.086-.34.183-.5.29-.417.278-.97.423-1.529.27l-1.103-.303c-.109-.03-.175.016-.195.045-.22.312-.412.644-.573.99-.014.031-.021.11.059.19l.815.806c.411.406.562.957.53 1.456a4.709 4.709 0 0 0 0 .582c.032.499-.119 1.05-.53 1.456l-.815.806c-.081.08-.073.159-.059.19.162.346.353.677.573.989.02.03.085.076.195.046l1.102-.303c.56-.153 1.113-.008 1.53.27.161.107.328.204.501.29.447.222.85.629.997 1.189l.289 1.105c.029.109.101.143.137.146a6.6 6.6 0 0 0 1.142 0c.036-.003.108-.036.137-.146l.289-1.105c.147-.561.549-.967.998-1.189.173-.086.34-.183.5-.29.417-.278.97-.423 1.529-.27l1.103.303c.109.029.175-.016.195-.045.22-.313.411-.644.573-.99.014-.031.021-.11-.059-.19l-.815-.806c-.411-.406-.562-.957-.53-1.456a4.709 4.709 0 0 0 0-.582c-.032-.499.119-1.05.53-1.456l.815-.806c.081-.08.073-.159.059-.19a6.464 6.464 0 0 0-.573-.989c-.02-.03-.085-.076-.195-.046l-1.102.303c-.56.153-1.113.008-1.53-.27a4.44 4.44 0 0 0-.501-.29c-.447-.222-.85-.629-.997-1.189l-.289-1.105c-.029-.11-.101-.143-.137-.146a6.6 6.6 0 0 0-1.142 0ZM11 8a3 3 0 1 1-6 0 3 3 0 0 1 6 0ZM9.5 8a1.5 1.5 0 1 0-3.001.001A1.5 1.5 0 0 0 9.5 8Z"></path>
</svg>
        </span>
      
        <span data-view-component="true" class="ActionListItem-label">
          Settings
</span></a>
  
  
</li>

        
          <li role="presentation" aria-hidden="true" data-view-component="true" class="ActionList-sectionDivider"></li>
        
          
<li data-targets="nav-list.items nav-list.items" data-item-id="" data-view-component="true" class="ActionListItem">
    
    <a data-analytics-event="{&quot;category&quot;:&quot;Global navigation&quot;,&quot;action&quot;:&quot;DOCS&quot;,&quot;label&quot;:null}" id="item-5c94f5cc-695b-44cd-9621-70f212ab29f8" href="https://docs.github.com" data-view-component="true" class="ActionListContent ActionListContent--visual16">
        <span class="ActionListItem-visual ActionListItem-visual--leading">
          <svg aria-hidden="true" height="16" viewBox="0 0 16 16" version="1.1" width="16" data-view-component="true" class="octicon octicon-book">
    <path d="M0 1.75A.75.75 0 0 1 .75 1h4.253c1.227 0 2.317.59 3 1.501A3.743 3.743 0 0 1 11.006 1h4.245a.75.75 0 0 1 .75.75v10.5a.75.75 0 0 1-.75.75h-4.507a2.25 2.25 0 0 0-1.591.659l-.622.621a.75.75 0 0 1-1.06 0l-.622-.621A2.25 2.25 0 0 0 5.258 13H.75a.75.75 0 0 1-.75-.75Zm7.251 10.324.004-5.073-.002-2.253A2.25 2.25 0 0 0 5.003 2.5H1.5v9h3.757a3.75 3.75 0 0 1 1.994.574ZM8.755 4.75l-.004 7.322a3.752 3.752 0 0 1 1.992-.572H14.5v-9h-3.495a2.25 2.25 0 0 0-2.25 2.25Z"></path>
</svg>
        </span>
      
        <span data-view-component="true" class="ActionListItem-label">
          GitHub Docs
</span></a>
  
  
</li>

        
          
<li data-targets="nav-list.items nav-list.items" data-item-id="" data-view-component="true" class="ActionListItem">
    
    <a data-analytics-event="{&quot;category&quot;:&quot;Global navigation&quot;,&quot;action&quot;:&quot;SUPPORT&quot;,&quot;label&quot;:null}" id="item-39657afe-f030-466d-8dfe-e5cc5f73a1ba" href="https://support.github.com" data-view-component="true" class="ActionListContent ActionListContent--visual16">
        <span class="ActionListItem-visual ActionListItem-visual--leading">
          <svg aria-hidden="true" height="16" viewBox="0 0 16 16" version="1.1" width="16" data-view-component="true" class="octicon octicon-people">
    <path d="M2 5.5a3.5 3.5 0 1 1 5.898 2.549 5.508 5.508 0 0 1 3.034 4.084.75.75 0 1 1-1.482.235 4 4 0 0 0-7.9 0 .75.75 0 0 1-1.482-.236A5.507 5.507 0 0 1 3.102 8.05 3.493 3.493 0 0 1 2 5.5ZM11 4a3.001 3.001 0 0 1 2.22 5.018 5.01 5.01 0 0 1 2.56 3.012.749.749 0 0 1-.885.954.752.752 0 0 1-.549-.514 3.507 3.507 0 0 0-2.522-2.372.75.75 0 0 1-.574-.73v-.352a.75.75 0 0 1 .416-.672A1.5 1.5 0 0 0 11 5.5.75.75 0 0 1 11 4Zm-5.5-.5a2 2 0 1 0-.001 3.999A2 2 0 0 0 5.5 3.5Z"></path>
</svg>
        </span>
      
        <span data-view-component="true" class="ActionListItem-label">
          GitHub Support
</span></a>
  
  
</li>

        
          <li role="presentation" aria-hidden="true" data-view-component="true" class="ActionList-sectionDivider"></li>
        
          
<li data-targets="nav-list.items nav-list.items" data-item-id="" data-view-component="true" class="ActionListItem">
    
    <a data-analytics-event="{&quot;category&quot;:&quot;Global navigation&quot;,&quot;action&quot;:&quot;LOGOUT&quot;,&quot;label&quot;:null}" id="item-a2c7dc89-c250-4fc6-8ff2-cb1f2a3f807f" href="/logout" data-view-component="true" class="ActionListContent">
      
        <span data-view-component="true" class="ActionListItem-label">
          Sign out
</span></a>
  
  
</li>

</ul>  </nav-list>
</nav>


</div>
</div>
      </scrollable-region>
      
</modal-dialog></div>
  </user-drawer-side-panel>

  </include-fragment>
</deferred-side-panel>
          
        </div>

        <div class="position-absolute mt-2">
            
<site-header-logged-in-user-menu>

</site-header-logged-in-user-menu>

        </div>
      </div>
    </div>


      <div class="AppHeader-localBar" >
        <nav data-pjax="#js-repo-pjax-container" aria-label="Repository" data-view-component="true" class="js-repo-nav js-sidenav-container-pjax js-responsive-underlinenav overflow-hidden UnderlineNav">

  <ul data-view-component="true" class="UnderlineNav-body list-style-none">
      <li data-view-component="true" class="d-inline-flex">
  <a id="code-tab" href="/pvateekul/2110531_DSDE_2023s1" data-tab-item="i0code-tab" data-selected-links="repo_source repo_downloads repo_commits repo_releases repo_tags repo_branches repo_packages repo_deployments repo_attestations /pvateekul/2110531_DSDE_2023s1" data-pjax="#repo-content-pjax-container" data-turbo-frame="repo-content-turbo-frame" data-hotkey="g c" data-analytics-event="{&quot;category&quot;:&quot;Underline navbar&quot;,&quot;action&quot;:&quot;Click tab&quot;,&quot;label&quot;:&quot;Code&quot;,&quot;target&quot;:&quot;UNDERLINE_NAV.TAB&quot;}" data-view-component="true" class="UnderlineNav-item no-wrap js-responsive-underlinenav-item js-selected-navigation-item">
    
              <svg aria-hidden="true" height="16" viewBox="0 0 16 16" version="1.1" width="16" data-view-component="true" class="octicon octicon-code UnderlineNav-octicon d-none d-sm-inline">
    <path d="m11.28 3.22 4.25 4.25a.75.75 0 0 1 0 1.06l-4.25 4.25a.749.749 0 0 1-1.275-.326.749.749 0 0 1 .215-.734L13.94 8l-3.72-3.72a.749.749 0 0 1 .326-1.275.749.749 0 0 1 .734.215Zm-6.56 0a.751.751 0 0 1 1.042.018.751.751 0 0 1 .018 1.042L2.06 8l3.72 3.72a.749.749 0 0 1-.326 1.275.749.749 0 0 1-.734-.215L.47 8.53a.75.75 0 0 1 0-1.06Z"></path>
</svg>
        <span data-content="Code">Code</span>
          <span id="code-repo-tab-count" data-pjax-replace="" data-turbo-replace="" title="Not available" data-view-component="true" class="Counter"></span>


    
</a></li>
      <li data-view-component="true" class="d-inline-flex">
  <a id="issues-tab" href="/pvateekul/2110531_DSDE_2023s1/issues" data-tab-item="i1issues-tab" data-selected-links="repo_issues repo_labels repo_milestones /pvateekul/2110531_DSDE_2023s1/issues" data-pjax="#repo-content-pjax-container" data-turbo-frame="repo-content-turbo-frame" data-hotkey="g i" data-analytics-event="{&quot;category&quot;:&quot;Underline navbar&quot;,&quot;action&quot;:&quot;Click tab&quot;,&quot;label&quot;:&quot;Issues&quot;,&quot;target&quot;:&quot;UNDERLINE_NAV.TAB&quot;}" data-view-component="true" class="UnderlineNav-item no-wrap js-responsive-underlinenav-item js-selected-navigation-item">
    
              <svg aria-hidden="true" height="16" viewBox="0 0 16 16" version="1.1" width="16" data-view-component="true" class="octicon octicon-issue-opened UnderlineNav-octicon d-none d-sm-inline">
    <path d="M8 9.5a1.5 1.5 0 1 0 0-3 1.5 1.5 0 0 0 0 3Z"></path><path d="M8 0a8 8 0 1 1 0 16A8 8 0 0 1 8 0ZM1.5 8a6.5 6.5 0 1 0 13 0 6.5 6.5 0 0 0-13 0Z"></path>
</svg>
        <span data-content="Issues">Issues</span>
          <span id="issues-repo-tab-count" data-pjax-replace="" data-turbo-replace="" title="0" hidden="hidden" data-view-component="true" class="Counter">0</span>


    
</a></li>
      <li data-view-component="true" class="d-inline-flex">
  <a id="pull-requests-tab" href="/pvateekul/2110531_DSDE_2023s1/pulls" data-tab-item="i2pull-requests-tab" data-selected-links="repo_pulls checks /pvateekul/2110531_DSDE_2023s1/pulls" data-pjax="#repo-content-pjax-container" data-turbo-frame="repo-content-turbo-frame" data-hotkey="g p" data-analytics-event="{&quot;category&quot;:&quot;Underline navbar&quot;,&quot;action&quot;:&quot;Click tab&quot;,&quot;label&quot;:&quot;Pull requests&quot;,&quot;target&quot;:&quot;UNDERLINE_NAV.TAB&quot;}" data-view-component="true" class="UnderlineNav-item no-wrap js-responsive-underlinenav-item js-selected-navigation-item">
    
              <svg aria-hidden="true" height="16" viewBox="0 0 16 16" version="1.1" width="16" data-view-component="true" class="octicon octicon-git-pull-request UnderlineNav-octicon d-none d-sm-inline">
    <path d="M1.5 3.25a2.25 2.25 0 1 1 3 2.122v5.256a2.251 2.251 0 1 1-1.5 0V5.372A2.25 2.25 0 0 1 1.5 3.25Zm5.677-.177L9.573.677A.25.25 0 0 1 10 .854V2.5h1A2.5 2.5 0 0 1 13.5 5v5.628a2.251 2.251 0 1 1-1.5 0V5a1 1 0 0 0-1-1h-1v1.646a.25.25 0 0 1-.427.177L7.177 3.427a.25.25 0 0 1 0-.354ZM3.75 2.5a.75.75 0 1 0 0 1.5.75.75 0 0 0 0-1.5Zm0 9.5a.75.75 0 1 0 0 1.5.75.75 0 0 0 0-1.5Zm8.25.75a.75.75 0 1 0 1.5 0 .75.75 0 0 0-1.5 0Z"></path>
</svg>
        <span data-content="Pull requests">Pull requests</span>
          <span id="pull-requests-repo-tab-count" data-pjax-replace="" data-turbo-replace="" title="0" hidden="hidden" data-view-component="true" class="Counter">0</span>


    
</a></li>
      <li data-view-component="true" class="d-inline-flex">
  <a id="actions-tab" href="/pvateekul/2110531_DSDE_2023s1/actions" data-tab-item="i3actions-tab" data-selected-links="repo_actions /pvateekul/2110531_DSDE_2023s1/actions" data-pjax="#repo-content-pjax-container" data-turbo-frame="repo-content-turbo-frame" data-hotkey="g a" data-analytics-event="{&quot;category&quot;:&quot;Underline navbar&quot;,&quot;action&quot;:&quot;Click tab&quot;,&quot;label&quot;:&quot;Actions&quot;,&quot;target&quot;:&quot;UNDERLINE_NAV.TAB&quot;}" data-view-component="true" class="UnderlineNav-item no-wrap js-responsive-underlinenav-item js-selected-navigation-item">
    
              <svg aria-hidden="true" height="16" viewBox="0 0 16 16" version="1.1" width="16" data-view-component="true" class="octicon octicon-play UnderlineNav-octicon d-none d-sm-inline">
    <path d="M8 0a8 8 0 1 1 0 16A8 8 0 0 1 8 0ZM1.5 8a6.5 6.5 0 1 0 13 0 6.5 6.5 0 0 0-13 0Zm4.879-2.773 4.264 2.559a.25.25 0 0 1 0 .428l-4.264 2.559A.25.25 0 0 1 6 10.559V5.442a.25.25 0 0 1 .379-.215Z"></path>
</svg>
        <span data-content="Actions">Actions</span>
          <span id="actions-repo-tab-count" data-pjax-replace="" data-turbo-replace="" title="Not available" data-view-component="true" class="Counter"></span>


    
</a></li>
      <li data-view-component="true" class="d-inline-flex">
  <a id="projects-tab" href="/pvateekul/2110531_DSDE_2023s1/projects" data-tab-item="i4projects-tab" data-selected-links="repo_projects new_repo_project repo_project /pvateekul/2110531_DSDE_2023s1/projects" data-pjax="#repo-content-pjax-container" data-turbo-frame="repo-content-turbo-frame" data-hotkey="g b" data-analytics-event="{&quot;category&quot;:&quot;Underline navbar&quot;,&quot;action&quot;:&quot;Click tab&quot;,&quot;label&quot;:&quot;Projects&quot;,&quot;target&quot;:&quot;UNDERLINE_NAV.TAB&quot;}" data-view-component="true" class="UnderlineNav-item no-wrap js-responsive-underlinenav-item js-selected-navigation-item">
    
              <svg aria-hidden="true" height="16" viewBox="0 0 16 16" version="1.1" width="16" data-view-component="true" class="octicon octicon-table UnderlineNav-octicon d-none d-sm-inline">
    <path d="M0 1.75C0 .784.784 0 1.75 0h12.5C15.216 0 16 .784 16 1.75v12.5A1.75 1.75 0 0 1 14.25 16H1.75A1.75 1.75 0 0 1 0 14.25ZM6.5 6.5v8h7.75a.25.25 0 0 0 .25-.25V6.5Zm8-1.5V1.75a.25.25 0 0 0-.25-.25H6.5V5Zm-13 1.5v7.75c0 .138.112.25.25.25H5v-8ZM5 5V1.5H1.75a.25.25 0 0 0-.25.25V5Z"></path>
</svg>
        <span data-content="Projects">Projects</span>
          <span id="projects-repo-tab-count" data-pjax-replace="" data-turbo-replace="" title="0" hidden="hidden" data-view-component="true" class="Counter">0</span>


    
</a></li>
      <li data-view-component="true" class="d-inline-flex">
  <a id="wiki-tab" href="/pvateekul/2110531_DSDE_2023s1/wiki" data-tab-item="i5wiki-tab" data-selected-links="repo_wiki /pvateekul/2110531_DSDE_2023s1/wiki" data-pjax="#repo-content-pjax-container" data-turbo-frame="repo-content-turbo-frame" data-hotkey="g w" data-analytics-event="{&quot;category&quot;:&quot;Underline navbar&quot;,&quot;action&quot;:&quot;Click tab&quot;,&quot;label&quot;:&quot;Wiki&quot;,&quot;target&quot;:&quot;UNDERLINE_NAV.TAB&quot;}" data-view-component="true" class="UnderlineNav-item no-wrap js-responsive-underlinenav-item js-selected-navigation-item">
    
              <svg aria-hidden="true" height="16" viewBox="0 0 16 16" version="1.1" width="16" data-view-component="true" class="octicon octicon-book UnderlineNav-octicon d-none d-sm-inline">
    <path d="M0 1.75A.75.75 0 0 1 .75 1h4.253c1.227 0 2.317.59 3 1.501A3.743 3.743 0 0 1 11.006 1h4.245a.75.75 0 0 1 .75.75v10.5a.75.75 0 0 1-.75.75h-4.507a2.25 2.25 0 0 0-1.591.659l-.622.621a.75.75 0 0 1-1.06 0l-.622-.621A2.25 2.25 0 0 0 5.258 13H.75a.75.75 0 0 1-.75-.75Zm7.251 10.324.004-5.073-.002-2.253A2.25 2.25 0 0 0 5.003 2.5H1.5v9h3.757a3.75 3.75 0 0 1 1.994.574ZM8.755 4.75l-.004 7.322a3.752 3.752 0 0 1 1.992-.572H14.5v-9h-3.495a2.25 2.25 0 0 0-2.25 2.25Z"></path>
</svg>
        <span data-content="Wiki">Wiki</span>
          <span id="wiki-repo-tab-count" data-pjax-replace="" data-turbo-replace="" title="Not available" data-view-component="true" class="Counter"></span>


    
</a></li>
      <li data-view-component="true" class="d-inline-flex">
  <a id="security-tab" href="/pvateekul/2110531_DSDE_2023s1/security" data-tab-item="i6security-tab" data-selected-links="security overview alerts policy token_scanning code_scanning /pvateekul/2110531_DSDE_2023s1/security" data-pjax="#repo-content-pjax-container" data-turbo-frame="repo-content-turbo-frame" data-hotkey="g s" data-analytics-event="{&quot;category&quot;:&quot;Underline navbar&quot;,&quot;action&quot;:&quot;Click tab&quot;,&quot;label&quot;:&quot;Security&quot;,&quot;target&quot;:&quot;UNDERLINE_NAV.TAB&quot;}" data-view-component="true" class="UnderlineNav-item no-wrap js-responsive-underlinenav-item js-selected-navigation-item">
    
              <svg aria-hidden="true" height="16" viewBox="0 0 16 16" version="1.1" width="16" data-view-component="true" class="octicon octicon-shield UnderlineNav-octicon d-none d-sm-inline">
    <path d="M7.467.133a1.748 1.748 0 0 1 1.066 0l5.25 1.68A1.75 1.75 0 0 1 15 3.48V7c0 1.566-.32 3.182-1.303 4.682-.983 1.498-2.585 2.813-5.032 3.855a1.697 1.697 0 0 1-1.33 0c-2.447-1.042-4.049-2.357-5.032-3.855C1.32 10.182 1 8.566 1 7V3.48a1.75 1.75 0 0 1 1.217-1.667Zm.61 1.429a.25.25 0 0 0-.153 0l-5.25 1.68a.25.25 0 0 0-.174.238V7c0 1.358.275 2.666 1.057 3.86.784 1.194 2.121 2.34 4.366 3.297a.196.196 0 0 0 .154 0c2.245-.956 3.582-2.104 4.366-3.298C13.225 9.666 13.5 8.36 13.5 7V3.48a.251.251 0 0 0-.174-.237l-5.25-1.68ZM8.75 4.75v3a.75.75 0 0 1-1.5 0v-3a.75.75 0 0 1 1.5 0ZM9 10.5a1 1 0 1 1-2 0 1 1 0 0 1 2 0Z"></path>
</svg>
        <span data-content="Security">Security</span>
          <include-fragment src="/pvateekul/2110531_DSDE_2023s1/security/overall-count" accept="text/fragment+html"></include-fragment>

    
</a></li>
      <li data-view-component="true" class="d-inline-flex">
  <a id="insights-tab" href="/pvateekul/2110531_DSDE_2023s1/pulse" data-tab-item="i7insights-tab" data-selected-links="repo_graphs repo_contributors dependency_graph dependabot_updates pulse people community /pvateekul/2110531_DSDE_2023s1/pulse" data-pjax="#repo-content-pjax-container" data-turbo-frame="repo-content-turbo-frame" data-analytics-event="{&quot;category&quot;:&quot;Underline navbar&quot;,&quot;action&quot;:&quot;Click tab&quot;,&quot;label&quot;:&quot;Insights&quot;,&quot;target&quot;:&quot;UNDERLINE_NAV.TAB&quot;}" data-view-component="true" class="UnderlineNav-item no-wrap js-responsive-underlinenav-item js-selected-navigation-item">
    
              <svg aria-hidden="true" height="16" viewBox="0 0 16 16" version="1.1" width="16" data-view-component="true" class="octicon octicon-graph UnderlineNav-octicon d-none d-sm-inline">
    <path d="M1.5 1.75V13.5h13.75a.75.75 0 0 1 0 1.5H.75a.75.75 0 0 1-.75-.75V1.75a.75.75 0 0 1 1.5 0Zm14.28 2.53-5.25 5.25a.75.75 0 0 1-1.06 0L7 7.06 4.28 9.78a.751.751 0 0 1-1.042-.018.751.751 0 0 1-.018-1.042l3.25-3.25a.75.75 0 0 1 1.06 0L10 7.94l4.72-4.72a.751.751 0 0 1 1.042.018.751.751 0 0 1 .018 1.042Z"></path>
</svg>
        <span data-content="Insights">Insights</span>
          <span id="insights-repo-tab-count" data-pjax-replace="" data-turbo-replace="" title="Not available" data-view-component="true" class="Counter"></span>


    
</a></li>
      <li data-view-component="true" class="d-inline-flex">
  <a id="settings-tab" href="/pvateekul/2110531_DSDE_2023s1/settings" data-tab-item="i8settings-tab" data-selected-links="code_review_limits codespaces_repository_settings collaborators custom_tabs hooks integration_installations interaction_limits issue_template_editor key_links_settings notifications repo_actions_settings repo_announcements repo_branch_settings repo_keys_settings repo_pages_settings repo_rule_insights repo_rulesets repo_protected_tags_settings repo_settings reported_content repo_custom_properties repository_actions_settings_add_new_runner repository_actions_settings_general repository_actions_settings_runners repository_environments role_details secrets secrets_settings_actions secrets_settings_codespaces secrets_settings_dependabot security_analysis security_products /pvateekul/2110531_DSDE_2023s1/settings" data-pjax="#repo-content-pjax-container" data-turbo-frame="repo-content-turbo-frame" data-analytics-event="{&quot;category&quot;:&quot;Underline navbar&quot;,&quot;action&quot;:&quot;Click tab&quot;,&quot;label&quot;:&quot;Settings&quot;,&quot;target&quot;:&quot;UNDERLINE_NAV.TAB&quot;}" data-view-component="true" class="UnderlineNav-item no-wrap js-responsive-underlinenav-item js-selected-navigation-item">
    
              <svg aria-hidden="true" height="16" viewBox="0 0 16 16" version="1.1" width="16" data-view-component="true" class="octicon octicon-gear UnderlineNav-octicon d-none d-sm-inline">
    <path d="M8 0a8.2 8.2 0 0 1 .701.031C9.444.095 9.99.645 10.16 1.29l.288 1.107c.018.066.079.158.212.224.231.114.454.243.668.386.123.082.233.09.299.071l1.103-.303c.644-.176 1.392.021 1.82.63.27.385.506.792.704 1.218.315.675.111 1.422-.364 1.891l-.814.806c-.049.048-.098.147-.088.294.016.257.016.515 0 .772-.01.147.038.246.088.294l.814.806c.475.469.679 1.216.364 1.891a7.977 7.977 0 0 1-.704 1.217c-.428.61-1.176.807-1.82.63l-1.102-.302c-.067-.019-.177-.011-.3.071a5.909 5.909 0 0 1-.668.386c-.133.066-.194.158-.211.224l-.29 1.106c-.168.646-.715 1.196-1.458 1.26a8.006 8.006 0 0 1-1.402 0c-.743-.064-1.289-.614-1.458-1.26l-.289-1.106c-.018-.066-.079-.158-.212-.224a5.738 5.738 0 0 1-.668-.386c-.123-.082-.233-.09-.299-.071l-1.103.303c-.644.176-1.392-.021-1.82-.63a8.12 8.12 0 0 1-.704-1.218c-.315-.675-.111-1.422.363-1.891l.815-.806c.05-.048.098-.147.088-.294a6.214 6.214 0 0 1 0-.772c.01-.147-.038-.246-.088-.294l-.815-.806C.635 6.045.431 5.298.746 4.623a7.92 7.92 0 0 1 .704-1.217c.428-.61 1.176-.807 1.82-.63l1.102.302c.067.019.177.011.3-.071.214-.143.437-.272.668-.386.133-.066.194-.158.211-.224l.29-1.106C6.009.645 6.556.095 7.299.03 7.53.01 7.764 0 8 0Zm-.571 1.525c-.036.003-.108.036-.137.146l-.289 1.105c-.147.561-.549.967-.998 1.189-.173.086-.34.183-.5.29-.417.278-.97.423-1.529.27l-1.103-.303c-.109-.03-.175.016-.195.045-.22.312-.412.644-.573.99-.014.031-.021.11.059.19l.815.806c.411.406.562.957.53 1.456a4.709 4.709 0 0 0 0 .582c.032.499-.119 1.05-.53 1.456l-.815.806c-.081.08-.073.159-.059.19.162.346.353.677.573.989.02.03.085.076.195.046l1.102-.303c.56-.153 1.113-.008 1.53.27.161.107.328.204.501.29.447.222.85.629.997 1.189l.289 1.105c.029.109.101.143.137.146a6.6 6.6 0 0 0 1.142 0c.036-.003.108-.036.137-.146l.289-1.105c.147-.561.549-.967.998-1.189.173-.086.34-.183.5-.29.417-.278.97-.423 1.529-.27l1.103.303c.109.029.175-.016.195-.045.22-.313.411-.644.573-.99.014-.031.021-.11-.059-.19l-.815-.806c-.411-.406-.562-.957-.53-1.456a4.709 4.709 0 0 0 0-.582c-.032-.499.119-1.05.53-1.456l.815-.806c.081-.08.073-.159.059-.19a6.464 6.464 0 0 0-.573-.989c-.02-.03-.085-.076-.195-.046l-1.102.303c-.56.153-1.113.008-1.53-.27a4.44 4.44 0 0 0-.501-.29c-.447-.222-.85-.629-.997-1.189l-.289-1.105c-.029-.11-.101-.143-.137-.146a6.6 6.6 0 0 0-1.142 0ZM11 8a3 3 0 1 1-6 0 3 3 0 0 1 6 0ZM9.5 8a1.5 1.5 0 1 0-3.001.001A1.5 1.5 0 0 0 9.5 8Z"></path>
</svg>
        <span data-content="Settings">Settings</span>
          <span id="settings-repo-tab-count" data-pjax-replace="" data-turbo-replace="" title="Not available" data-view-component="true" class="Counter"></span>


    
</a></li>
</ul>
    <div style="visibility:hidden;" data-view-component="true" class="UnderlineNav-actions js-responsive-underlinenav-overflow position-absolute pr-3 pr-md-4 pr-lg-5 right-0">      <action-menu data-select-variant="none" data-view-component="true">
  <focus-group direction="vertical" mnemonics retain>
    <button id="action-menu-50033d8e-a8aa-4c6f-867f-feed5a20af31-button" popovertarget="action-menu-50033d8e-a8aa-4c6f-867f-feed5a20af31-overlay" aria-controls="action-menu-50033d8e-a8aa-4c6f-867f-feed5a20af31-list" aria-haspopup="true" aria-labelledby="tooltip-65f33eb5-6b37-428b-ae08-00d30bf3caee" type="button" data-view-component="true" class="Button Button--iconOnly Button--secondary Button--medium UnderlineNav-item">  <svg aria-hidden="true" height="16" viewBox="0 0 16 16" version="1.1" width="16" data-view-component="true" class="octicon octicon-kebab-horizontal Button-visual">
    <path d="M8 9a1.5 1.5 0 1 0 0-3 1.5 1.5 0 0 0 0 3ZM1.5 9a1.5 1.5 0 1 0 0-3 1.5 1.5 0 0 0 0 3Zm13 0a1.5 1.5 0 1 0 0-3 1.5 1.5 0 0 0 0 3Z"></path>
</svg>
</button><tool-tip id="tooltip-65f33eb5-6b37-428b-ae08-00d30bf3caee" for="action-menu-50033d8e-a8aa-4c6f-867f-feed5a20af31-button" popover="manual" data-direction="s" data-type="label" data-view-component="true" class="sr-only position-absolute">Additional navigation options</tool-tip>


<anchored-position id="action-menu-50033d8e-a8aa-4c6f-867f-feed5a20af31-overlay" anchor="action-menu-50033d8e-a8aa-4c6f-867f-feed5a20af31-button" align="start" side="outside-bottom" anchor-offset="normal" popover="auto" data-view-component="true">
  <div data-view-component="true" class="Overlay Overlay--size-auto">
    
      <div data-view-component="true" class="Overlay-body Overlay-body--paddingNone">          <div data-view-component="true">
  <ul aria-labelledby="action-menu-50033d8e-a8aa-4c6f-867f-feed5a20af31-button" id="action-menu-50033d8e-a8aa-4c6f-867f-feed5a20af31-list" role="menu" data-view-component="true" class="ActionListWrap--inset ActionListWrap">
      <li hidden="hidden" data-menu-item="i0code-tab" data-targets="action-list.items action-list.items" role="none" data-view-component="true" class="ActionListItem">
    
    <a tabindex="-1" id="item-d778b843-59d4-470f-b57b-4bdede32af62" href="/pvateekul/2110531_DSDE_2023s1" role="menuitem" data-view-component="true" class="ActionListContent ActionListContent--visual16">
        <span class="ActionListItem-visual ActionListItem-visual--leading">
          <svg aria-hidden="true" height="16" viewBox="0 0 16 16" version="1.1" width="16" data-view-component="true" class="octicon octicon-code">
    <path d="m11.28 3.22 4.25 4.25a.75.75 0 0 1 0 1.06l-4.25 4.25a.749.749 0 0 1-1.275-.326.749.749 0 0 1 .215-.734L13.94 8l-3.72-3.72a.749.749 0 0 1 .326-1.275.749.749 0 0 1 .734.215Zm-6.56 0a.751.751 0 0 1 1.042.018.751.751 0 0 1 .018 1.042L2.06 8l3.72 3.72a.749.749 0 0 1-.326 1.275.749.749 0 0 1-.734-.215L.47 8.53a.75.75 0 0 1 0-1.06Z"></path>
</svg>
        </span>
      
        <span data-view-component="true" class="ActionListItem-label">
          Code
</span></a>
  
  
</li>
      <li hidden="hidden" data-menu-item="i1issues-tab" data-targets="action-list.items action-list.items" role="none" data-view-component="true" class="ActionListItem">
    
    <a tabindex="-1" id="item-5fd6c89a-eafc-4d82-8820-fe242cf47f03" href="/pvateekul/2110531_DSDE_2023s1/issues" role="menuitem" data-view-component="true" class="ActionListContent ActionListContent--visual16">
        <span class="ActionListItem-visual ActionListItem-visual--leading">
          <svg aria-hidden="true" height="16" viewBox="0 0 16 16" version="1.1" width="16" data-view-component="true" class="octicon octicon-issue-opened">
    <path d="M8 9.5a1.5 1.5 0 1 0 0-3 1.5 1.5 0 0 0 0 3Z"></path><path d="M8 0a8 8 0 1 1 0 16A8 8 0 0 1 8 0ZM1.5 8a6.5 6.5 0 1 0 13 0 6.5 6.5 0 0 0-13 0Z"></path>
</svg>
        </span>
      
        <span data-view-component="true" class="ActionListItem-label">
          Issues
</span></a>
  
  
</li>
      <li hidden="hidden" data-menu-item="i2pull-requests-tab" data-targets="action-list.items action-list.items" role="none" data-view-component="true" class="ActionListItem">
    
    <a tabindex="-1" id="item-75ce598a-5fb4-40b3-a7c4-4872fbd764a2" href="/pvateekul/2110531_DSDE_2023s1/pulls" role="menuitem" data-view-component="true" class="ActionListContent ActionListContent--visual16">
        <span class="ActionListItem-visual ActionListItem-visual--leading">
          <svg aria-hidden="true" height="16" viewBox="0 0 16 16" version="1.1" width="16" data-view-component="true" class="octicon octicon-git-pull-request">
    <path d="M1.5 3.25a2.25 2.25 0 1 1 3 2.122v5.256a2.251 2.251 0 1 1-1.5 0V5.372A2.25 2.25 0 0 1 1.5 3.25Zm5.677-.177L9.573.677A.25.25 0 0 1 10 .854V2.5h1A2.5 2.5 0 0 1 13.5 5v5.628a2.251 2.251 0 1 1-1.5 0V5a1 1 0 0 0-1-1h-1v1.646a.25.25 0 0 1-.427.177L7.177 3.427a.25.25 0 0 1 0-.354ZM3.75 2.5a.75.75 0 1 0 0 1.5.75.75 0 0 0 0-1.5Zm0 9.5a.75.75 0 1 0 0 1.5.75.75 0 0 0 0-1.5Zm8.25.75a.75.75 0 1 0 1.5 0 .75.75 0 0 0-1.5 0Z"></path>
</svg>
        </span>
      
        <span data-view-component="true" class="ActionListItem-label">
          Pull requests
</span></a>
  
  
</li>
      <li hidden="hidden" data-menu-item="i3actions-tab" data-targets="action-list.items action-list.items" role="none" data-view-component="true" class="ActionListItem">
    
    <a tabindex="-1" id="item-a04ba30e-c8db-4fdd-9113-c66bf53a36a4" href="/pvateekul/2110531_DSDE_2023s1/actions" role="menuitem" data-view-component="true" class="ActionListContent ActionListContent--visual16">
        <span class="ActionListItem-visual ActionListItem-visual--leading">
          <svg aria-hidden="true" height="16" viewBox="0 0 16 16" version="1.1" width="16" data-view-component="true" class="octicon octicon-play">
    <path d="M8 0a8 8 0 1 1 0 16A8 8 0 0 1 8 0ZM1.5 8a6.5 6.5 0 1 0 13 0 6.5 6.5 0 0 0-13 0Zm4.879-2.773 4.264 2.559a.25.25 0 0 1 0 .428l-4.264 2.559A.25.25 0 0 1 6 10.559V5.442a.25.25 0 0 1 .379-.215Z"></path>
</svg>
        </span>
      
        <span data-view-component="true" class="ActionListItem-label">
          Actions
</span></a>
  
  
</li>
      <li hidden="hidden" data-menu-item="i4projects-tab" data-targets="action-list.items action-list.items" role="none" data-view-component="true" class="ActionListItem">
    
    <a tabindex="-1" id="item-1ce1eea6-e613-47bd-9d8e-6af7c7fd3f6a" href="/pvateekul/2110531_DSDE_2023s1/projects" role="menuitem" data-view-component="true" class="ActionListContent ActionListContent--visual16">
        <span class="ActionListItem-visual ActionListItem-visual--leading">
          <svg aria-hidden="true" height="16" viewBox="0 0 16 16" version="1.1" width="16" data-view-component="true" class="octicon octicon-table">
    <path d="M0 1.75C0 .784.784 0 1.75 0h12.5C15.216 0 16 .784 16 1.75v12.5A1.75 1.75 0 0 1 14.25 16H1.75A1.75 1.75 0 0 1 0 14.25ZM6.5 6.5v8h7.75a.25.25 0 0 0 .25-.25V6.5Zm8-1.5V1.75a.25.25 0 0 0-.25-.25H6.5V5Zm-13 1.5v7.75c0 .138.112.25.25.25H5v-8ZM5 5V1.5H1.75a.25.25 0 0 0-.25.25V5Z"></path>
</svg>
        </span>
      
        <span data-view-component="true" class="ActionListItem-label">
          Projects
</span></a>
  
  
</li>
      <li hidden="hidden" data-menu-item="i5wiki-tab" data-targets="action-list.items action-list.items" role="none" data-view-component="true" class="ActionListItem">
    
    <a tabindex="-1" id="item-9e7042a8-a19b-49fc-a2fe-e84257825f17" href="/pvateekul/2110531_DSDE_2023s1/wiki" role="menuitem" data-view-component="true" class="ActionListContent ActionListContent--visual16">
        <span class="ActionListItem-visual ActionListItem-visual--leading">
          <svg aria-hidden="true" height="16" viewBox="0 0 16 16" version="1.1" width="16" data-view-component="true" class="octicon octicon-book">
    <path d="M0 1.75A.75.75 0 0 1 .75 1h4.253c1.227 0 2.317.59 3 1.501A3.743 3.743 0 0 1 11.006 1h4.245a.75.75 0 0 1 .75.75v10.5a.75.75 0 0 1-.75.75h-4.507a2.25 2.25 0 0 0-1.591.659l-.622.621a.75.75 0 0 1-1.06 0l-.622-.621A2.25 2.25 0 0 0 5.258 13H.75a.75.75 0 0 1-.75-.75Zm7.251 10.324.004-5.073-.002-2.253A2.25 2.25 0 0 0 5.003 2.5H1.5v9h3.757a3.75 3.75 0 0 1 1.994.574ZM8.755 4.75l-.004 7.322a3.752 3.752 0 0 1 1.992-.572H14.5v-9h-3.495a2.25 2.25 0 0 0-2.25 2.25Z"></path>
</svg>
        </span>
      
        <span data-view-component="true" class="ActionListItem-label">
          Wiki
</span></a>
  
  
</li>
      <li hidden="hidden" data-menu-item="i6security-tab" data-targets="action-list.items action-list.items" role="none" data-view-component="true" class="ActionListItem">
    
    <a tabindex="-1" id="item-2c785bfa-4681-4be9-b2c7-4bd8a5226f79" href="/pvateekul/2110531_DSDE_2023s1/security" role="menuitem" data-view-component="true" class="ActionListContent ActionListContent--visual16">
        <span class="ActionListItem-visual ActionListItem-visual--leading">
          <svg aria-hidden="true" height="16" viewBox="0 0 16 16" version="1.1" width="16" data-view-component="true" class="octicon octicon-shield">
    <path d="M7.467.133a1.748 1.748 0 0 1 1.066 0l5.25 1.68A1.75 1.75 0 0 1 15 3.48V7c0 1.566-.32 3.182-1.303 4.682-.983 1.498-2.585 2.813-5.032 3.855a1.697 1.697 0 0 1-1.33 0c-2.447-1.042-4.049-2.357-5.032-3.855C1.32 10.182 1 8.566 1 7V3.48a1.75 1.75 0 0 1 1.217-1.667Zm.61 1.429a.25.25 0 0 0-.153 0l-5.25 1.68a.25.25 0 0 0-.174.238V7c0 1.358.275 2.666 1.057 3.86.784 1.194 2.121 2.34 4.366 3.297a.196.196 0 0 0 .154 0c2.245-.956 3.582-2.104 4.366-3.298C13.225 9.666 13.5 8.36 13.5 7V3.48a.251.251 0 0 0-.174-.237l-5.25-1.68ZM8.75 4.75v3a.75.75 0 0 1-1.5 0v-3a.75.75 0 0 1 1.5 0ZM9 10.5a1 1 0 1 1-2 0 1 1 0 0 1 2 0Z"></path>
</svg>
        </span>
      
        <span data-view-component="true" class="ActionListItem-label">
          Security
</span></a>
  
  
</li>
      <li hidden="hidden" data-menu-item="i7insights-tab" data-targets="action-list.items action-list.items" role="none" data-view-component="true" class="ActionListItem">
    
    <a tabindex="-1" id="item-08b97787-9615-462a-b78e-3f233ed6fee7" href="/pvateekul/2110531_DSDE_2023s1/pulse" role="menuitem" data-view-component="true" class="ActionListContent ActionListContent--visual16">
        <span class="ActionListItem-visual ActionListItem-visual--leading">
          <svg aria-hidden="true" height="16" viewBox="0 0 16 16" version="1.1" width="16" data-view-component="true" class="octicon octicon-graph">
    <path d="M1.5 1.75V13.5h13.75a.75.75 0 0 1 0 1.5H.75a.75.75 0 0 1-.75-.75V1.75a.75.75 0 0 1 1.5 0Zm14.28 2.53-5.25 5.25a.75.75 0 0 1-1.06 0L7 7.06 4.28 9.78a.751.751 0 0 1-1.042-.018.751.751 0 0 1-.018-1.042l3.25-3.25a.75.75 0 0 1 1.06 0L10 7.94l4.72-4.72a.751.751 0 0 1 1.042.018.751.751 0 0 1 .018 1.042Z"></path>
</svg>
        </span>
      
        <span data-view-component="true" class="ActionListItem-label">
          Insights
</span></a>
  
  
</li>
      <li hidden="hidden" data-menu-item="i8settings-tab" data-targets="action-list.items action-list.items" role="none" data-view-component="true" class="ActionListItem">
    
    <a tabindex="-1" id="item-570280d9-539d-472e-a16a-62391a92a9f3" href="/pvateekul/2110531_DSDE_2023s1/settings" role="menuitem" data-view-component="true" class="ActionListContent ActionListContent--visual16">
        <span class="ActionListItem-visual ActionListItem-visual--leading">
          <svg aria-hidden="true" height="16" viewBox="0 0 16 16" version="1.1" width="16" data-view-component="true" class="octicon octicon-gear">
    <path d="M8 0a8.2 8.2 0 0 1 .701.031C9.444.095 9.99.645 10.16 1.29l.288 1.107c.018.066.079.158.212.224.231.114.454.243.668.386.123.082.233.09.299.071l1.103-.303c.644-.176 1.392.021 1.82.63.27.385.506.792.704 1.218.315.675.111 1.422-.364 1.891l-.814.806c-.049.048-.098.147-.088.294.016.257.016.515 0 .772-.01.147.038.246.088.294l.814.806c.475.469.679 1.216.364 1.891a7.977 7.977 0 0 1-.704 1.217c-.428.61-1.176.807-1.82.63l-1.102-.302c-.067-.019-.177-.011-.3.071a5.909 5.909 0 0 1-.668.386c-.133.066-.194.158-.211.224l-.29 1.106c-.168.646-.715 1.196-1.458 1.26a8.006 8.006 0 0 1-1.402 0c-.743-.064-1.289-.614-1.458-1.26l-.289-1.106c-.018-.066-.079-.158-.212-.224a5.738 5.738 0 0 1-.668-.386c-.123-.082-.233-.09-.299-.071l-1.103.303c-.644.176-1.392-.021-1.82-.63a8.12 8.12 0 0 1-.704-1.218c-.315-.675-.111-1.422.363-1.891l.815-.806c.05-.048.098-.147.088-.294a6.214 6.214 0 0 1 0-.772c.01-.147-.038-.246-.088-.294l-.815-.806C.635 6.045.431 5.298.746 4.623a7.92 7.92 0 0 1 .704-1.217c.428-.61 1.176-.807 1.82-.63l1.102.302c.067.019.177.011.3-.071.214-.143.437-.272.668-.386.133-.066.194-.158.211-.224l.29-1.106C6.009.645 6.556.095 7.299.03 7.53.01 7.764 0 8 0Zm-.571 1.525c-.036.003-.108.036-.137.146l-.289 1.105c-.147.561-.549.967-.998 1.189-.173.086-.34.183-.5.29-.417.278-.97.423-1.529.27l-1.103-.303c-.109-.03-.175.016-.195.045-.22.312-.412.644-.573.99-.014.031-.021.11.059.19l.815.806c.411.406.562.957.53 1.456a4.709 4.709 0 0 0 0 .582c.032.499-.119 1.05-.53 1.456l-.815.806c-.081.08-.073.159-.059.19.162.346.353.677.573.989.02.03.085.076.195.046l1.102-.303c.56-.153 1.113-.008 1.53.27.161.107.328.204.501.29.447.222.85.629.997 1.189l.289 1.105c.029.109.101.143.137.146a6.6 6.6 0 0 0 1.142 0c.036-.003.108-.036.137-.146l.289-1.105c.147-.561.549-.967.998-1.189.173-.086.34-.183.5-.29.417-.278.97-.423 1.529-.27l1.103.303c.109.029.175-.016.195-.045.22-.313.411-.644.573-.99.014-.031.021-.11-.059-.19l-.815-.806c-.411-.406-.562-.957-.53-1.456a4.709 4.709 0 0 0 0-.582c-.032-.499.119-1.05.53-1.456l.815-.806c.081-.08.073-.159.059-.19a6.464 6.464 0 0 0-.573-.989c-.02-.03-.085-.076-.195-.046l-1.102.303c-.56.153-1.113.008-1.53-.27a4.44 4.44 0 0 0-.501-.29c-.447-.222-.85-.629-.997-1.189l-.289-1.105c-.029-.11-.101-.143-.137-.146a6.6 6.6 0 0 0-1.142 0ZM11 8a3 3 0 1 1-6 0 3 3 0 0 1 6 0ZM9.5 8a1.5 1.5 0 1 0-3.001.001A1.5 1.5 0 0 0 9.5 8Z"></path>
</svg>
        </span>
      
        <span data-view-component="true" class="ActionListItem-label">
          Settings
</span></a>
  
  
</li>
</ul>  
</div>

</div>
      
</div></anchored-position>  </focus-group>
</action-menu></div>
</nav>
      </div>
</header>


      <div hidden="hidden" data-view-component="true" class="js-stale-session-flash stale-session-flash flash flash-warn flash-full mb-3">
  
        <svg aria-hidden="true" height="16" viewBox="0 0 16 16" version="1.1" width="16" data-view-component="true" class="octicon octicon-alert">
    <path d="M6.457 1.047c.659-1.234 2.427-1.234 3.086 0l6.082 11.378A1.75 1.75 0 0 1 14.082 15H1.918a1.75 1.75 0 0 1-1.543-2.575Zm1.763.707a.25.25 0 0 0-.44 0L1.698 13.132a.25.25 0 0 0 .22.368h12.164a.25.25 0 0 0 .22-.368Zm.53 3.996v2.5a.75.75 0 0 1-1.5 0v-2.5a.75.75 0 0 1 1.5 0ZM9 11a1 1 0 1 1-2 0 1 1 0 0 1 2 0Z"></path>
</svg>
        <span class="js-stale-session-flash-signed-in" hidden>You signed in with another tab or window. <a class="Link--inTextBlock" href="">Reload</a> to refresh your session.</span>
        <span class="js-stale-session-flash-signed-out" hidden>You signed out in another tab or window. <a class="Link--inTextBlock" href="">Reload</a> to refresh your session.</span>
        <span class="js-stale-session-flash-switched" hidden>You switched accounts on another tab or window. <a class="Link--inTextBlock" href="">Reload</a> to refresh your session.</span>

    <button id="icon-button-42c7403b-f1ab-4d89-be61-b54ef63abd35" aria-labelledby="tooltip-aad12a7f-6ba1-4278-a0b4-805069206f39" type="button" data-view-component="true" class="Button Button--iconOnly Button--invisible Button--medium flash-close js-flash-close">  <svg aria-hidden="true" height="16" viewBox="0 0 16 16" version="1.1" width="16" data-view-component="true" class="octicon octicon-x Button-visual">
    <path d="M3.72 3.72a.75.75 0 0 1 1.06 0L8 6.94l3.22-3.22a.749.749 0 0 1 1.275.326.749.749 0 0 1-.215.734L9.06 8l3.22 3.22a.749.749 0 0 1-.326 1.275.749.749 0 0 1-.734-.215L8 9.06l-3.22 3.22a.751.751 0 0 1-1.042-.018.751.751 0 0 1-.018-1.042L6.94 8 3.72 4.78a.75.75 0 0 1 0-1.06Z"></path>
</svg>
</button><tool-tip id="tooltip-aad12a7f-6ba1-4278-a0b4-805069206f39" for="icon-button-42c7403b-f1ab-4d89-be61-b54ef63abd35" popover="manual" data-direction="s" data-type="label" data-view-component="true" class="sr-only position-absolute">Dismiss alert</tool-tip>


  
</div>
          
    </div>

  <div id="start-of-content" class="show-on-focus"></div>








    <div id="js-flash-container" data-turbo-replace>


      <include-fragment src="/settings/two_factor_authentication/holiday_warning_banner"></include-fragment>



  <template class="js-flash-template">
    
<div class="flash flash-full   {{ className }}">
  <div class="px-2" >
    <button autofocus class="flash-close js-flash-close" type="button" aria-label="Dismiss this message">
      <svg aria-hidden="true" height="16" viewBox="0 0 16 16" version="1.1" width="16" data-view-component="true" class="octicon octicon-x">
    <path d="M3.72 3.72a.75.75 0 0 1 1.06 0L8 6.94l3.22-3.22a.749.749 0 0 1 1.275.326.749.749 0 0 1-.215.734L9.06 8l3.22 3.22a.749.749 0 0 1-.326 1.275.749.749 0 0 1-.734-.215L8 9.06l-3.22 3.22a.751.751 0 0 1-1.042-.018.751.751 0 0 1-.018-1.042L6.94 8 3.72 4.78a.75.75 0 0 1 0-1.06Z"></path>
</svg>
    </button>
    <div aria-atomic="true" role="alert" class="js-flash-alert">
      
      <div>{{ message }}</div>

    </div>
  </div>
</div>
  </template>
</div>


    
    <notification-shelf-watcher data-base-url="https://github.com/notifications/beta/shelf" data-channel="eyJjIjoibm90aWZpY2F0aW9uLWNoYW5nZWQ6MTM2NzUyMDkiLCJ0IjoxNzA1MzUyMTc4fQ==--0aa77339666b02d06b54dbd391e2b22c83ae424a7202a25ba6de20fc493eb268" data-view-component="true" class="js-socket-channel"></notification-shelf-watcher>
  <div hidden data-initial data-target="notification-shelf-watcher.placeholder"></div>






      <details
  class="details-reset details-overlay details-overlay-dark js-command-palette-dialog"
  id="command-palette-pjax-container"
  data-turbo-replace
>
  <summary aria-label="Command palette trigger" tabindex="-1"></summary>
  <details-dialog class="command-palette-details-dialog d-flex flex-column flex-justify-center height-fit" aria-label="Command palette">
    <command-palette
      class="command-palette color-bg-default rounded-3 border color-shadow-small"
      return-to=/pvateekul/2110531_DSDE_2023s1/blob/main/code/Week02_DataPrep/Lab4_Outliers_Titanic.ipynb
      user-id="13675209"
      activation-hotkey="Mod+k,Mod+Alt+k"
      command-mode-hotkey="Mod+Shift+K"
      data-action="
        command-palette-input-ready:command-palette#inputReady
        command-palette-page-stack-updated:command-palette#updateInputScope
        itemsUpdated:command-palette#itemsUpdated
        keydown:command-palette#onKeydown
        loadingStateChanged:command-palette#loadingStateChanged
        selectedItemChanged:command-palette#selectedItemChanged
        pageFetchError:command-palette#pageFetchError
      ">

        <command-palette-mode
          data-char="#"
            data-scope-types="[&quot;&quot;]"
            data-placeholder="Search issues and pull requests"
        ></command-palette-mode>
        <command-palette-mode
          data-char="#"
            data-scope-types="[&quot;owner&quot;,&quot;repository&quot;]"
            data-placeholder="Search issues, pull requests, discussions, and projects"
        ></command-palette-mode>
        <command-palette-mode
          data-char="!"
            data-scope-types="[&quot;owner&quot;,&quot;repository&quot;]"
            data-placeholder="Search projects"
        ></command-palette-mode>
        <command-palette-mode
          data-char="@"
            data-scope-types="[&quot;&quot;]"
            data-placeholder="Search or jump to a user, organization, or repository"
        ></command-palette-mode>
        <command-palette-mode
          data-char="@"
            data-scope-types="[&quot;owner&quot;]"
            data-placeholder="Search or jump to a repository"
        ></command-palette-mode>
        <command-palette-mode
          data-char="/"
            data-scope-types="[&quot;repository&quot;]"
            data-placeholder="Search files"
        ></command-palette-mode>
        <command-palette-mode
          data-char="?"
        ></command-palette-mode>
        <command-palette-mode
          data-char="&gt;"
            data-placeholder="Run a command"
        ></command-palette-mode>
        <command-palette-mode
          data-char=""
            data-scope-types="[&quot;&quot;]"
            data-placeholder="Search or jump to..."
        ></command-palette-mode>
        <command-palette-mode
          data-char=""
            data-scope-types="[&quot;owner&quot;]"
            data-placeholder="Search or jump to..."
        ></command-palette-mode>
      <command-palette-mode
        class="js-command-palette-default-mode"
        data-char=""
        data-placeholder="Search or jump to..."
      ></command-palette-mode>

      <command-palette-input placeholder="Search or jump to..."

        data-action="
          command-palette-input:command-palette#onInput
          command-palette-select:command-palette#onSelect
          command-palette-descope:command-palette#onDescope
          command-palette-cleared:command-palette#onInputClear
        "
      >
        <div class="js-search-icon d-flex flex-items-center mr-2" style="height: 26px">
          <svg aria-hidden="true" height="16" viewBox="0 0 16 16" version="1.1" width="16" data-view-component="true" class="octicon octicon-search color-fg-muted">
    <path d="M10.68 11.74a6 6 0 0 1-7.922-8.982 6 6 0 0 1 8.982 7.922l3.04 3.04a.749.749 0 0 1-.326 1.275.749.749 0 0 1-.734-.215ZM11.5 7a4.499 4.499 0 1 0-8.997 0A4.499 4.499 0 0 0 11.5 7Z"></path>
</svg>
        </div>
        <div class="js-spinner d-flex flex-items-center mr-2 color-fg-muted" hidden>
          <svg aria-label="Loading" class="anim-rotate" viewBox="0 0 16 16" fill="none" width="16" height="16">
            <circle
              cx="8"
              cy="8"
              r="7"
              stroke="currentColor"
              stroke-opacity="0.25"
              stroke-width="2"
              vector-effect="non-scaling-stroke"
            ></circle>
            <path
              d="M15 8a7.002 7.002 0 00-7-7"
              stroke="currentColor"
              stroke-width="2"
              stroke-linecap="round"
              vector-effect="non-scaling-stroke"
            ></path>
          </svg>
        </div>
        <command-palette-scope >
          <div data-target="command-palette-scope.placeholder" hidden class="color-fg-subtle">/&nbsp;&nbsp;<span class="text-semibold color-fg-default">...</span>&nbsp;&nbsp;/&nbsp;&nbsp;</div>
              <command-palette-token
                data-text="pvateekul"
                data-id="MDQ6VXNlcjEzNjc1MjA5"
                data-type="owner"
                data-value="pvateekul"
                data-targets="command-palette-scope.tokens"
                class="color-fg-default text-semibold"
                style="white-space:nowrap;line-height:20px;"
                >pvateekul<span class="color-fg-subtle text-normal">&nbsp;&nbsp;/&nbsp;&nbsp;</span></command-palette-token>
              <command-palette-token
                data-text="2110531_DSDE_2023s1"
                data-id="R_kgDOKCyxwA"
                data-type="repository"
                data-value="2110531_DSDE_2023s1"
                data-targets="command-palette-scope.tokens"
                class="color-fg-default text-semibold"
                style="white-space:nowrap;line-height:20px;"
                >2110531_DSDE_2023s1<span class="color-fg-subtle text-normal">&nbsp;&nbsp;/&nbsp;&nbsp;</span></command-palette-token>
        </command-palette-scope>
        <div class="command-palette-input-group flex-1 form-control border-0 box-shadow-none" style="z-index: 0">
          <div class="command-palette-typeahead position-absolute d-flex flex-items-center Truncate">
            <span class="typeahead-segment input-mirror" data-target="command-palette-input.mirror"></span>
            <span class="Truncate-text" data-target="command-palette-input.typeaheadText"></span>
            <span class="typeahead-segment" data-target="command-palette-input.typeaheadPlaceholder"></span>
          </div>
          <input
            class="js-overlay-input typeahead-input d-none"
            disabled
            tabindex="-1"
            aria-label="Hidden input for typeahead"
          >
          <input
            type="text"
            autocomplete="off"
            autocorrect="off"
            autocapitalize="off"
            spellcheck="false"
            class="js-input typeahead-input form-control border-0 box-shadow-none input-block width-full no-focus-indicator"
            aria-label="Command palette input"
            aria-haspopup="listbox"
            aria-expanded="false"
            aria-autocomplete="list"
            aria-controls="command-palette-page-stack"
            role="combobox"
            data-action="
              input:command-palette-input#onInput
              keydown:command-palette-input#onKeydown
            "
          >
        </div>
          <div data-view-component="true" class="position-relative d-inline-block">
    <button aria-keyshortcuts="Meta+Delete" data-action="click:command-palette-input#onClear keypress:command-palette-input#onClear" data-target="command-palette-input.clearButton" id="command-palette-clear-button" hidden="hidden" type="button" data-view-component="true" class="btn-octicon command-palette-input-clear-button">      <svg aria-hidden="true" height="16" viewBox="0 0 16 16" version="1.1" width="16" data-view-component="true" class="octicon octicon-x-circle-fill">
    <path d="M2.343 13.657A8 8 0 1 1 13.658 2.343 8 8 0 0 1 2.343 13.657ZM6.03 4.97a.751.751 0 0 0-1.042.018.751.751 0 0 0-.018 1.042L6.94 8 4.97 9.97a.749.749 0 0 0 .326 1.275.749.749 0 0 0 .734-.215L8 9.06l1.97 1.97a.749.749 0 0 0 1.275-.326.749.749 0 0 0-.215-.734L9.06 8l1.97-1.97a.749.749 0 0 0-.326-1.275.749.749 0 0 0-.734.215L8 6.94Z"></path>
</svg>
</button>    <tool-tip id="tooltip-5b36bdea-d077-4f4e-b6bc-50d4ee801837" for="command-palette-clear-button" popover="manual" data-direction="w" data-type="label" data-view-component="true" class="sr-only position-absolute">Clear Command Palette</tool-tip>
</div>
      </command-palette-input>

      <command-palette-page-stack
        data-default-scope-id="R_kgDOKCyxwA"
        data-default-scope-type="Repository"
        data-action="command-palette-page-octicons-cached:command-palette-page-stack#cacheOcticons"
      >
          <command-palette-tip
            class="color-fg-muted f6 px-3 py-1 my-2"
              data-scope-types="[&quot;&quot;,&quot;owner&quot;,&quot;repository&quot;]"
            data-mode=""
            data-value="">
            <div class="d-flex flex-items-start flex-justify-between">
              <div>
                <span class="text-bold">Tip:</span>
                  Type <kbd class="hx_kbd">#</kbd> to search pull requests
              </div>
              <div class="ml-2 flex-shrink-0">
                Type <kbd class="hx_kbd">?</kbd> for help and tips
              </div>
            </div>
          </command-palette-tip>
          <command-palette-tip
            class="color-fg-muted f6 px-3 py-1 my-2"
              data-scope-types="[&quot;&quot;,&quot;owner&quot;,&quot;repository&quot;]"
            data-mode=""
            data-value="">
            <div class="d-flex flex-items-start flex-justify-between">
              <div>
                <span class="text-bold">Tip:</span>
                  Type <kbd class="hx_kbd">#</kbd> to search issues
              </div>
              <div class="ml-2 flex-shrink-0">
                Type <kbd class="hx_kbd">?</kbd> for help and tips
              </div>
            </div>
          </command-palette-tip>
          <command-palette-tip
            class="color-fg-muted f6 px-3 py-1 my-2"
              data-scope-types="[&quot;owner&quot;,&quot;repository&quot;]"
            data-mode=""
            data-value="">
            <div class="d-flex flex-items-start flex-justify-between">
              <div>
                <span class="text-bold">Tip:</span>
                  Type <kbd class="hx_kbd">#</kbd> to search discussions
              </div>
              <div class="ml-2 flex-shrink-0">
                Type <kbd class="hx_kbd">?</kbd> for help and tips
              </div>
            </div>
          </command-palette-tip>
          <command-palette-tip
            class="color-fg-muted f6 px-3 py-1 my-2"
              data-scope-types="[&quot;owner&quot;,&quot;repository&quot;]"
            data-mode=""
            data-value="">
            <div class="d-flex flex-items-start flex-justify-between">
              <div>
                <span class="text-bold">Tip:</span>
                  Type <kbd class="hx_kbd">!</kbd> to search projects
              </div>
              <div class="ml-2 flex-shrink-0">
                Type <kbd class="hx_kbd">?</kbd> for help and tips
              </div>
            </div>
          </command-palette-tip>
          <command-palette-tip
            class="color-fg-muted f6 px-3 py-1 my-2"
              data-scope-types="[&quot;owner&quot;]"
            data-mode=""
            data-value="">
            <div class="d-flex flex-items-start flex-justify-between">
              <div>
                <span class="text-bold">Tip:</span>
                  Type <kbd class="hx_kbd">@</kbd> to search teams
              </div>
              <div class="ml-2 flex-shrink-0">
                Type <kbd class="hx_kbd">?</kbd> for help and tips
              </div>
            </div>
          </command-palette-tip>
          <command-palette-tip
            class="color-fg-muted f6 px-3 py-1 my-2"
              data-scope-types="[&quot;&quot;]"
            data-mode=""
            data-value="">
            <div class="d-flex flex-items-start flex-justify-between">
              <div>
                <span class="text-bold">Tip:</span>
                  Type <kbd class="hx_kbd">@</kbd> to search people and organizations
              </div>
              <div class="ml-2 flex-shrink-0">
                Type <kbd class="hx_kbd">?</kbd> for help and tips
              </div>
            </div>
          </command-palette-tip>
          <command-palette-tip
            class="color-fg-muted f6 px-3 py-1 my-2"
              data-scope-types="[&quot;&quot;,&quot;owner&quot;,&quot;repository&quot;]"
            data-mode=""
            data-value="">
            <div class="d-flex flex-items-start flex-justify-between">
              <div>
                <span class="text-bold">Tip:</span>
                  Type <kbd class="hx_kbd">&gt;</kbd> to activate command mode
              </div>
              <div class="ml-2 flex-shrink-0">
                Type <kbd class="hx_kbd">?</kbd> for help and tips
              </div>
            </div>
          </command-palette-tip>
          <command-palette-tip
            class="color-fg-muted f6 px-3 py-1 my-2"
              data-scope-types="[&quot;&quot;,&quot;owner&quot;,&quot;repository&quot;]"
            data-mode=""
            data-value="">
            <div class="d-flex flex-items-start flex-justify-between">
              <div>
                <span class="text-bold">Tip:</span>
                  Go to your accessibility settings to change your keyboard shortcuts
              </div>
              <div class="ml-2 flex-shrink-0">
                Type <kbd class="hx_kbd">?</kbd> for help and tips
              </div>
            </div>
          </command-palette-tip>
          <command-palette-tip
            class="color-fg-muted f6 px-3 py-1 my-2"
              data-scope-types="[&quot;&quot;,&quot;owner&quot;,&quot;repository&quot;]"
            data-mode="#"
            data-value="">
            <div class="d-flex flex-items-start flex-justify-between">
              <div>
                <span class="text-bold">Tip:</span>
                  Type author:@me to search your content
              </div>
              <div class="ml-2 flex-shrink-0">
                Type <kbd class="hx_kbd">?</kbd> for help and tips
              </div>
            </div>
          </command-palette-tip>
          <command-palette-tip
            class="color-fg-muted f6 px-3 py-1 my-2"
              data-scope-types="[&quot;&quot;,&quot;owner&quot;,&quot;repository&quot;]"
            data-mode="#"
            data-value="">
            <div class="d-flex flex-items-start flex-justify-between">
              <div>
                <span class="text-bold">Tip:</span>
                  Type is:pr to filter to pull requests
              </div>
              <div class="ml-2 flex-shrink-0">
                Type <kbd class="hx_kbd">?</kbd> for help and tips
              </div>
            </div>
          </command-palette-tip>
          <command-palette-tip
            class="color-fg-muted f6 px-3 py-1 my-2"
              data-scope-types="[&quot;&quot;,&quot;owner&quot;,&quot;repository&quot;]"
            data-mode="#"
            data-value="">
            <div class="d-flex flex-items-start flex-justify-between">
              <div>
                <span class="text-bold">Tip:</span>
                  Type is:issue to filter to issues
              </div>
              <div class="ml-2 flex-shrink-0">
                Type <kbd class="hx_kbd">?</kbd> for help and tips
              </div>
            </div>
          </command-palette-tip>
          <command-palette-tip
            class="color-fg-muted f6 px-3 py-1 my-2"
              data-scope-types="[&quot;owner&quot;,&quot;repository&quot;]"
            data-mode="#"
            data-value="">
            <div class="d-flex flex-items-start flex-justify-between">
              <div>
                <span class="text-bold">Tip:</span>
                  Type is:project to filter to projects
              </div>
              <div class="ml-2 flex-shrink-0">
                Type <kbd class="hx_kbd">?</kbd> for help and tips
              </div>
            </div>
          </command-palette-tip>
          <command-palette-tip
            class="color-fg-muted f6 px-3 py-1 my-2"
              data-scope-types="[&quot;&quot;,&quot;owner&quot;,&quot;repository&quot;]"
            data-mode="#"
            data-value="">
            <div class="d-flex flex-items-start flex-justify-between">
              <div>
                <span class="text-bold">Tip:</span>
                  Type is:open to filter to open content
              </div>
              <div class="ml-2 flex-shrink-0">
                Type <kbd class="hx_kbd">?</kbd> for help and tips
              </div>
            </div>
          </command-palette-tip>
        <command-palette-tip class="mx-3 my-2 flash flash-error d-flex flex-items-center" data-scope-types="*" data-on-error>
          <div>
            <svg aria-hidden="true" height="16" viewBox="0 0 16 16" version="1.1" width="16" data-view-component="true" class="octicon octicon-alert">
    <path d="M6.457 1.047c.659-1.234 2.427-1.234 3.086 0l6.082 11.378A1.75 1.75 0 0 1 14.082 15H1.918a1.75 1.75 0 0 1-1.543-2.575Zm1.763.707a.25.25 0 0 0-.44 0L1.698 13.132a.25.25 0 0 0 .22.368h12.164a.25.25 0 0 0 .22-.368Zm.53 3.996v2.5a.75.75 0 0 1-1.5 0v-2.5a.75.75 0 0 1 1.5 0ZM9 11a1 1 0 1 1-2 0 1 1 0 0 1 2 0Z"></path>
</svg>
          </div>
          <div class="px-2">
            We’ve encountered an error and some results aren't available at this time. Type a new search or try again later.
          </div>
        </command-palette-tip>
        <command-palette-tip class="h4 color-fg-default pl-3 pb-2 pt-3" data-on-empty data-scope-types="*" data-match-mode="[^?]|^$">
          No results matched your search
        </command-palette-tip>

        <div hidden>

            <div data-targets="command-palette-page-stack.localOcticons" data-octicon-id="arrow-right-color-fg-muted">
              <svg height="16" class="octicon octicon-arrow-right color-fg-muted" viewBox="0 0 16 16" version="1.1" width="16" aria-hidden="true"><path d="M8.22 2.97a.75.75 0 0 1 1.06 0l4.25 4.25a.75.75 0 0 1 0 1.06l-4.25 4.25a.751.751 0 0 1-1.042-.018.751.751 0 0 1-.018-1.042l2.97-2.97H3.75a.75.75 0 0 1 0-1.5h7.44L8.22 4.03a.75.75 0 0 1 0-1.06Z"></path></svg>
            </div>
            <div data-targets="command-palette-page-stack.localOcticons" data-octicon-id="arrow-right-color-fg-default">
              <svg height="16" class="octicon octicon-arrow-right color-fg-default" viewBox="0 0 16 16" version="1.1" width="16" aria-hidden="true"><path d="M8.22 2.97a.75.75 0 0 1 1.06 0l4.25 4.25a.75.75 0 0 1 0 1.06l-4.25 4.25a.751.751 0 0 1-1.042-.018.751.751 0 0 1-.018-1.042l2.97-2.97H3.75a.75.75 0 0 1 0-1.5h7.44L8.22 4.03a.75.75 0 0 1 0-1.06Z"></path></svg>
            </div>
            <div data-targets="command-palette-page-stack.localOcticons" data-octicon-id="codespaces-color-fg-muted">
              <svg height="16" class="octicon octicon-codespaces color-fg-muted" viewBox="0 0 16 16" version="1.1" width="16" aria-hidden="true"><path d="M0 11.25c0-.966.784-1.75 1.75-1.75h12.5c.966 0 1.75.784 1.75 1.75v3A1.75 1.75 0 0 1 14.25 16H1.75A1.75 1.75 0 0 1 0 14.25Zm2-9.5C2 .784 2.784 0 3.75 0h8.5C13.216 0 14 .784 14 1.75v5a1.75 1.75 0 0 1-1.75 1.75h-8.5A1.75 1.75 0 0 1 2 6.75Zm1.75-.25a.25.25 0 0 0-.25.25v5c0 .138.112.25.25.25h8.5a.25.25 0 0 0 .25-.25v-5a.25.25 0 0 0-.25-.25Zm-2 9.5a.25.25 0 0 0-.25.25v3c0 .138.112.25.25.25h12.5a.25.25 0 0 0 .25-.25v-3a.25.25 0 0 0-.25-.25Z"></path><path d="M7 12.75a.75.75 0 0 1 .75-.75h4.5a.75.75 0 0 1 0 1.5h-4.5a.75.75 0 0 1-.75-.75Zm-4 0a.75.75 0 0 1 .75-.75h.5a.75.75 0 0 1 0 1.5h-.5a.75.75 0 0 1-.75-.75Z"></path></svg>
            </div>
            <div data-targets="command-palette-page-stack.localOcticons" data-octicon-id="copy-color-fg-muted">
              <svg height="16" class="octicon octicon-copy color-fg-muted" viewBox="0 0 16 16" version="1.1" width="16" aria-hidden="true"><path d="M0 6.75C0 5.784.784 5 1.75 5h1.5a.75.75 0 0 1 0 1.5h-1.5a.25.25 0 0 0-.25.25v7.5c0 .138.112.25.25.25h7.5a.25.25 0 0 0 .25-.25v-1.5a.75.75 0 0 1 1.5 0v1.5A1.75 1.75 0 0 1 9.25 16h-7.5A1.75 1.75 0 0 1 0 14.25Z"></path><path d="M5 1.75C5 .784 5.784 0 6.75 0h7.5C15.216 0 16 .784 16 1.75v7.5A1.75 1.75 0 0 1 14.25 11h-7.5A1.75 1.75 0 0 1 5 9.25Zm1.75-.25a.25.25 0 0 0-.25.25v7.5c0 .138.112.25.25.25h7.5a.25.25 0 0 0 .25-.25v-7.5a.25.25 0 0 0-.25-.25Z"></path></svg>
            </div>
            <div data-targets="command-palette-page-stack.localOcticons" data-octicon-id="dash-color-fg-muted">
              <svg height="16" class="octicon octicon-dash color-fg-muted" viewBox="0 0 16 16" version="1.1" width="16" aria-hidden="true"><path d="M2 7.75A.75.75 0 0 1 2.75 7h10a.75.75 0 0 1 0 1.5h-10A.75.75 0 0 1 2 7.75Z"></path></svg>
            </div>
            <div data-targets="command-palette-page-stack.localOcticons" data-octicon-id="file-color-fg-muted">
              <svg height="16" class="octicon octicon-file color-fg-muted" viewBox="0 0 16 16" version="1.1" width="16" aria-hidden="true"><path d="M2 1.75C2 .784 2.784 0 3.75 0h6.586c.464 0 .909.184 1.237.513l2.914 2.914c.329.328.513.773.513 1.237v9.586A1.75 1.75 0 0 1 13.25 16h-9.5A1.75 1.75 0 0 1 2 14.25Zm1.75-.25a.25.25 0 0 0-.25.25v12.5c0 .138.112.25.25.25h9.5a.25.25 0 0 0 .25-.25V6h-2.75A1.75 1.75 0 0 1 9 4.25V1.5Zm6.75.062V4.25c0 .138.112.25.25.25h2.688l-.011-.013-2.914-2.914-.013-.011Z"></path></svg>
            </div>
            <div data-targets="command-palette-page-stack.localOcticons" data-octicon-id="gear-color-fg-muted">
              <svg height="16" class="octicon octicon-gear color-fg-muted" viewBox="0 0 16 16" version="1.1" width="16" aria-hidden="true"><path d="M8 0a8.2 8.2 0 0 1 .701.031C9.444.095 9.99.645 10.16 1.29l.288 1.107c.018.066.079.158.212.224.231.114.454.243.668.386.123.082.233.09.299.071l1.103-.303c.644-.176 1.392.021 1.82.63.27.385.506.792.704 1.218.315.675.111 1.422-.364 1.891l-.814.806c-.049.048-.098.147-.088.294.016.257.016.515 0 .772-.01.147.038.246.088.294l.814.806c.475.469.679 1.216.364 1.891a7.977 7.977 0 0 1-.704 1.217c-.428.61-1.176.807-1.82.63l-1.102-.302c-.067-.019-.177-.011-.3.071a5.909 5.909 0 0 1-.668.386c-.133.066-.194.158-.211.224l-.29 1.106c-.168.646-.715 1.196-1.458 1.26a8.006 8.006 0 0 1-1.402 0c-.743-.064-1.289-.614-1.458-1.26l-.289-1.106c-.018-.066-.079-.158-.212-.224a5.738 5.738 0 0 1-.668-.386c-.123-.082-.233-.09-.299-.071l-1.103.303c-.644.176-1.392-.021-1.82-.63a8.12 8.12 0 0 1-.704-1.218c-.315-.675-.111-1.422.363-1.891l.815-.806c.05-.048.098-.147.088-.294a6.214 6.214 0 0 1 0-.772c.01-.147-.038-.246-.088-.294l-.815-.806C.635 6.045.431 5.298.746 4.623a7.92 7.92 0 0 1 .704-1.217c.428-.61 1.176-.807 1.82-.63l1.102.302c.067.019.177.011.3-.071.214-.143.437-.272.668-.386.133-.066.194-.158.211-.224l.29-1.106C6.009.645 6.556.095 7.299.03 7.53.01 7.764 0 8 0Zm-.571 1.525c-.036.003-.108.036-.137.146l-.289 1.105c-.147.561-.549.967-.998 1.189-.173.086-.34.183-.5.29-.417.278-.97.423-1.529.27l-1.103-.303c-.109-.03-.175.016-.195.045-.22.312-.412.644-.573.99-.014.031-.021.11.059.19l.815.806c.411.406.562.957.53 1.456a4.709 4.709 0 0 0 0 .582c.032.499-.119 1.05-.53 1.456l-.815.806c-.081.08-.073.159-.059.19.162.346.353.677.573.989.02.03.085.076.195.046l1.102-.303c.56-.153 1.113-.008 1.53.27.161.107.328.204.501.29.447.222.85.629.997 1.189l.289 1.105c.029.109.101.143.137.146a6.6 6.6 0 0 0 1.142 0c.036-.003.108-.036.137-.146l.289-1.105c.147-.561.549-.967.998-1.189.173-.086.34-.183.5-.29.417-.278.97-.423 1.529-.27l1.103.303c.109.029.175-.016.195-.045.22-.313.411-.644.573-.99.014-.031.021-.11-.059-.19l-.815-.806c-.411-.406-.562-.957-.53-1.456a4.709 4.709 0 0 0 0-.582c-.032-.499.119-1.05.53-1.456l.815-.806c.081-.08.073-.159.059-.19a6.464 6.464 0 0 0-.573-.989c-.02-.03-.085-.076-.195-.046l-1.102.303c-.56.153-1.113.008-1.53-.27a4.44 4.44 0 0 0-.501-.29c-.447-.222-.85-.629-.997-1.189l-.289-1.105c-.029-.11-.101-.143-.137-.146a6.6 6.6 0 0 0-1.142 0ZM11 8a3 3 0 1 1-6 0 3 3 0 0 1 6 0ZM9.5 8a1.5 1.5 0 1 0-3.001.001A1.5 1.5 0 0 0 9.5 8Z"></path></svg>
            </div>
            <div data-targets="command-palette-page-stack.localOcticons" data-octicon-id="lock-color-fg-muted">
              <svg height="16" class="octicon octicon-lock color-fg-muted" viewBox="0 0 16 16" version="1.1" width="16" aria-hidden="true"><path d="M4 4a4 4 0 0 1 8 0v2h.25c.966 0 1.75.784 1.75 1.75v5.5A1.75 1.75 0 0 1 12.25 15h-8.5A1.75 1.75 0 0 1 2 13.25v-5.5C2 6.784 2.784 6 3.75 6H4Zm8.25 3.5h-8.5a.25.25 0 0 0-.25.25v5.5c0 .138.112.25.25.25h8.5a.25.25 0 0 0 .25-.25v-5.5a.25.25 0 0 0-.25-.25ZM10.5 6V4a2.5 2.5 0 1 0-5 0v2Z"></path></svg>
            </div>
            <div data-targets="command-palette-page-stack.localOcticons" data-octicon-id="moon-color-fg-muted">
              <svg height="16" class="octicon octicon-moon color-fg-muted" viewBox="0 0 16 16" version="1.1" width="16" aria-hidden="true"><path d="M9.598 1.591a.749.749 0 0 1 .785-.175 7.001 7.001 0 1 1-8.967 8.967.75.75 0 0 1 .961-.96 5.5 5.5 0 0 0 7.046-7.046.75.75 0 0 1 .175-.786Zm1.616 1.945a7 7 0 0 1-7.678 7.678 5.499 5.499 0 1 0 7.678-7.678Z"></path></svg>
            </div>
            <div data-targets="command-palette-page-stack.localOcticons" data-octicon-id="person-color-fg-muted">
              <svg height="16" class="octicon octicon-person color-fg-muted" viewBox="0 0 16 16" version="1.1" width="16" aria-hidden="true"><path d="M10.561 8.073a6.005 6.005 0 0 1 3.432 5.142.75.75 0 1 1-1.498.07 4.5 4.5 0 0 0-8.99 0 .75.75 0 0 1-1.498-.07 6.004 6.004 0 0 1 3.431-5.142 3.999 3.999 0 1 1 5.123 0ZM10.5 5a2.5 2.5 0 1 0-5 0 2.5 2.5 0 0 0 5 0Z"></path></svg>
            </div>
            <div data-targets="command-palette-page-stack.localOcticons" data-octicon-id="pencil-color-fg-muted">
              <svg height="16" class="octicon octicon-pencil color-fg-muted" viewBox="0 0 16 16" version="1.1" width="16" aria-hidden="true"><path d="M11.013 1.427a1.75 1.75 0 0 1 2.474 0l1.086 1.086a1.75 1.75 0 0 1 0 2.474l-8.61 8.61c-.21.21-.47.364-.756.445l-3.251.93a.75.75 0 0 1-.927-.928l.929-3.25c.081-.286.235-.547.445-.758l8.61-8.61Zm.176 4.823L9.75 4.81l-6.286 6.287a.253.253 0 0 0-.064.108l-.558 1.953 1.953-.558a.253.253 0 0 0 .108-.064Zm1.238-3.763a.25.25 0 0 0-.354 0L10.811 3.75l1.439 1.44 1.263-1.263a.25.25 0 0 0 0-.354Z"></path></svg>
            </div>
            <div data-targets="command-palette-page-stack.localOcticons" data-octicon-id="issue-opened-open">
              <svg height="16" class="octicon octicon-issue-opened open" viewBox="0 0 16 16" version="1.1" width="16" aria-hidden="true"><path d="M8 9.5a1.5 1.5 0 1 0 0-3 1.5 1.5 0 0 0 0 3Z"></path><path d="M8 0a8 8 0 1 1 0 16A8 8 0 0 1 8 0ZM1.5 8a6.5 6.5 0 1 0 13 0 6.5 6.5 0 0 0-13 0Z"></path></svg>
            </div>
            <div data-targets="command-palette-page-stack.localOcticons" data-octicon-id="git-pull-request-draft-color-fg-muted">
              <svg height="16" class="octicon octicon-git-pull-request-draft color-fg-muted" viewBox="0 0 16 16" version="1.1" width="16" aria-hidden="true"><path d="M3.25 1A2.25 2.25 0 0 1 4 5.372v5.256a2.251 2.251 0 1 1-1.5 0V5.372A2.251 2.251 0 0 1 3.25 1Zm9.5 14a2.25 2.25 0 1 1 0-4.5 2.25 2.25 0 0 1 0 4.5ZM2.5 3.25a.75.75 0 1 0 1.5 0 .75.75 0 0 0-1.5 0ZM3.25 12a.75.75 0 1 0 0 1.5.75.75 0 0 0 0-1.5Zm9.5 0a.75.75 0 1 0 0 1.5.75.75 0 0 0 0-1.5ZM14 7.5a1.25 1.25 0 1 1-2.5 0 1.25 1.25 0 0 1 2.5 0Zm0-4.25a1.25 1.25 0 1 1-2.5 0 1.25 1.25 0 0 1 2.5 0Z"></path></svg>
            </div>
            <div data-targets="command-palette-page-stack.localOcticons" data-octicon-id="search-color-fg-muted">
              <svg height="16" class="octicon octicon-search color-fg-muted" viewBox="0 0 16 16" version="1.1" width="16" aria-hidden="true"><path d="M10.68 11.74a6 6 0 0 1-7.922-8.982 6 6 0 0 1 8.982 7.922l3.04 3.04a.749.749 0 0 1-.326 1.275.749.749 0 0 1-.734-.215ZM11.5 7a4.499 4.499 0 1 0-8.997 0A4.499 4.499 0 0 0 11.5 7Z"></path></svg>
            </div>
            <div data-targets="command-palette-page-stack.localOcticons" data-octicon-id="sun-color-fg-muted">
              <svg height="16" class="octicon octicon-sun color-fg-muted" viewBox="0 0 16 16" version="1.1" width="16" aria-hidden="true"><path d="M8 12a4 4 0 1 1 0-8 4 4 0 0 1 0 8Zm0-1.5a2.5 2.5 0 1 0 0-5 2.5 2.5 0 0 0 0 5Zm5.657-8.157a.75.75 0 0 1 0 1.061l-1.061 1.06a.749.749 0 0 1-1.275-.326.749.749 0 0 1 .215-.734l1.06-1.06a.75.75 0 0 1 1.06 0Zm-9.193 9.193a.75.75 0 0 1 0 1.06l-1.06 1.061a.75.75 0 1 1-1.061-1.06l1.06-1.061a.75.75 0 0 1 1.061 0ZM8 0a.75.75 0 0 1 .75.75v1.5a.75.75 0 0 1-1.5 0V.75A.75.75 0 0 1 8 0ZM3 8a.75.75 0 0 1-.75.75H.75a.75.75 0 0 1 0-1.5h1.5A.75.75 0 0 1 3 8Zm13 0a.75.75 0 0 1-.75.75h-1.5a.75.75 0 0 1 0-1.5h1.5A.75.75 0 0 1 16 8Zm-8 5a.75.75 0 0 1 .75.75v1.5a.75.75 0 0 1-1.5 0v-1.5A.75.75 0 0 1 8 13Zm3.536-1.464a.75.75 0 0 1 1.06 0l1.061 1.06a.75.75 0 0 1-1.06 1.061l-1.061-1.06a.75.75 0 0 1 0-1.061ZM2.343 2.343a.75.75 0 0 1 1.061 0l1.06 1.061a.751.751 0 0 1-.018 1.042.751.751 0 0 1-1.042.018l-1.06-1.06a.75.75 0 0 1 0-1.06Z"></path></svg>
            </div>
            <div data-targets="command-palette-page-stack.localOcticons" data-octicon-id="sync-color-fg-muted">
              <svg height="16" class="octicon octicon-sync color-fg-muted" viewBox="0 0 16 16" version="1.1" width="16" aria-hidden="true"><path d="M1.705 8.005a.75.75 0 0 1 .834.656 5.5 5.5 0 0 0 9.592 2.97l-1.204-1.204a.25.25 0 0 1 .177-.427h3.646a.25.25 0 0 1 .25.25v3.646a.25.25 0 0 1-.427.177l-1.38-1.38A7.002 7.002 0 0 1 1.05 8.84a.75.75 0 0 1 .656-.834ZM8 2.5a5.487 5.487 0 0 0-4.131 1.869l1.204 1.204A.25.25 0 0 1 4.896 6H1.25A.25.25 0 0 1 1 5.75V2.104a.25.25 0 0 1 .427-.177l1.38 1.38A7.002 7.002 0 0 1 14.95 7.16a.75.75 0 0 1-1.49.178A5.5 5.5 0 0 0 8 2.5Z"></path></svg>
            </div>
            <div data-targets="command-palette-page-stack.localOcticons" data-octicon-id="trash-color-fg-muted">
              <svg height="16" class="octicon octicon-trash color-fg-muted" viewBox="0 0 16 16" version="1.1" width="16" aria-hidden="true"><path d="M11 1.75V3h2.25a.75.75 0 0 1 0 1.5H2.75a.75.75 0 0 1 0-1.5H5V1.75C5 .784 5.784 0 6.75 0h2.5C10.216 0 11 .784 11 1.75ZM4.496 6.675l.66 6.6a.25.25 0 0 0 .249.225h5.19a.25.25 0 0 0 .249-.225l.66-6.6a.75.75 0 0 1 1.492.149l-.66 6.6A1.748 1.748 0 0 1 10.595 15h-5.19a1.75 1.75 0 0 1-1.741-1.575l-.66-6.6a.75.75 0 1 1 1.492-.15ZM6.5 1.75V3h3V1.75a.25.25 0 0 0-.25-.25h-2.5a.25.25 0 0 0-.25.25Z"></path></svg>
            </div>
            <div data-targets="command-palette-page-stack.localOcticons" data-octicon-id="key-color-fg-muted">
              <svg height="16" class="octicon octicon-key color-fg-muted" viewBox="0 0 16 16" version="1.1" width="16" aria-hidden="true"><path d="M10.5 0a5.499 5.499 0 1 1-1.288 10.848l-.932.932a.749.749 0 0 1-.53.22H7v.75a.749.749 0 0 1-.22.53l-.5.5a.749.749 0 0 1-.53.22H5v.75a.749.749 0 0 1-.22.53l-.5.5a.749.749 0 0 1-.53.22h-2A1.75 1.75 0 0 1 0 14.25v-2c0-.199.079-.389.22-.53l4.932-4.932A5.5 5.5 0 0 1 10.5 0Zm-4 5.5c-.001.431.069.86.205 1.269a.75.75 0 0 1-.181.768L1.5 12.56v1.69c0 .138.112.25.25.25h1.69l.06-.06v-1.19a.75.75 0 0 1 .75-.75h1.19l.06-.06v-1.19a.75.75 0 0 1 .75-.75h1.19l1.023-1.025a.75.75 0 0 1 .768-.18A4 4 0 1 0 6.5 5.5ZM11 6a1 1 0 1 1 0-2 1 1 0 0 1 0 2Z"></path></svg>
            </div>
            <div data-targets="command-palette-page-stack.localOcticons" data-octicon-id="comment-discussion-color-fg-muted">
              <svg height="16" class="octicon octicon-comment-discussion color-fg-muted" viewBox="0 0 16 16" version="1.1" width="16" aria-hidden="true"><path d="M1.75 1h8.5c.966 0 1.75.784 1.75 1.75v5.5A1.75 1.75 0 0 1 10.25 10H7.061l-2.574 2.573A1.458 1.458 0 0 1 2 11.543V10h-.25A1.75 1.75 0 0 1 0 8.25v-5.5C0 1.784.784 1 1.75 1ZM1.5 2.75v5.5c0 .138.112.25.25.25h1a.75.75 0 0 1 .75.75v2.19l2.72-2.72a.749.749 0 0 1 .53-.22h3.5a.25.25 0 0 0 .25-.25v-5.5a.25.25 0 0 0-.25-.25h-8.5a.25.25 0 0 0-.25.25Zm13 2a.25.25 0 0 0-.25-.25h-.5a.75.75 0 0 1 0-1.5h.5c.966 0 1.75.784 1.75 1.75v5.5A1.75 1.75 0 0 1 14.25 12H14v1.543a1.458 1.458 0 0 1-2.487 1.03L9.22 12.28a.749.749 0 0 1 .326-1.275.749.749 0 0 1 .734.215l2.22 2.22v-2.19a.75.75 0 0 1 .75-.75h1a.25.25 0 0 0 .25-.25Z"></path></svg>
            </div>
            <div data-targets="command-palette-page-stack.localOcticons" data-octicon-id="bell-color-fg-muted">
              <svg height="16" class="octicon octicon-bell color-fg-muted" viewBox="0 0 16 16" version="1.1" width="16" aria-hidden="true"><path d="M8 16a2 2 0 0 0 1.985-1.75c.017-.137-.097-.25-.235-.25h-3.5c-.138 0-.252.113-.235.25A2 2 0 0 0 8 16ZM3 5a5 5 0 0 1 10 0v2.947c0 .05.015.098.042.139l1.703 2.555A1.519 1.519 0 0 1 13.482 13H2.518a1.516 1.516 0 0 1-1.263-2.36l1.703-2.554A.255.255 0 0 0 3 7.947Zm5-3.5A3.5 3.5 0 0 0 4.5 5v2.947c0 .346-.102.683-.294.97l-1.703 2.556a.017.017 0 0 0-.003.01l.001.006c0 .002.002.004.004.006l.006.004.007.001h10.964l.007-.001.006-.004.004-.006.001-.007a.017.017 0 0 0-.003-.01l-1.703-2.554a1.745 1.745 0 0 1-.294-.97V5A3.5 3.5 0 0 0 8 1.5Z"></path></svg>
            </div>
            <div data-targets="command-palette-page-stack.localOcticons" data-octicon-id="bell-slash-color-fg-muted">
              <svg height="16" class="octicon octicon-bell-slash color-fg-muted" viewBox="0 0 16 16" version="1.1" width="16" aria-hidden="true"><path d="m4.182 4.31.016.011 10.104 7.316.013.01 1.375.996a.75.75 0 1 1-.88 1.214L13.626 13H2.518a1.516 1.516 0 0 1-1.263-2.36l1.703-2.554A.255.255 0 0 0 3 7.947V5.305L.31 3.357a.75.75 0 1 1 .88-1.214Zm7.373 7.19L4.5 6.391v1.556c0 .346-.102.683-.294.97l-1.703 2.556a.017.017 0 0 0-.003.01c0 .005.002.009.005.012l.006.004.007.001ZM8 1.5c-.997 0-1.895.416-2.534 1.086A.75.75 0 1 1 4.38 1.55 5 5 0 0 1 13 5v2.373a.75.75 0 0 1-1.5 0V5A3.5 3.5 0 0 0 8 1.5ZM8 16a2 2 0 0 1-1.985-1.75c-.017-.137.097-.25.235-.25h3.5c.138 0 .252.113.235.25A2 2 0 0 1 8 16Z"></path></svg>
            </div>
            <div data-targets="command-palette-page-stack.localOcticons" data-octicon-id="paintbrush-color-fg-muted">
              <svg height="16" class="octicon octicon-paintbrush color-fg-muted" viewBox="0 0 16 16" version="1.1" width="16" aria-hidden="true"><path d="M11.134 1.535c.7-.509 1.416-.942 2.076-1.155.649-.21 1.463-.267 2.069.34.603.601.568 1.411.368 2.07-.202.668-.624 1.39-1.125 2.096-1.011 1.424-2.496 2.987-3.775 4.249-1.098 1.084-2.132 1.839-3.04 2.3a3.744 3.744 0 0 1-1.055 3.217c-.431.431-1.065.691-1.657.861-.614.177-1.294.287-1.914.357A21.151 21.151 0 0 1 .797 16H.743l.007-.75H.749L.742 16a.75.75 0 0 1-.743-.742l.743-.008-.742.007v-.054a21.25 21.25 0 0 1 .13-2.284c.067-.647.187-1.287.358-1.914.17-.591.43-1.226.86-1.657a3.746 3.746 0 0 1 3.227-1.054c.466-.893 1.225-1.907 2.314-2.982 1.271-1.255 2.833-2.75 4.245-3.777ZM1.62 13.089c-.051.464-.086.929-.104 1.395.466-.018.932-.053 1.396-.104a10.511 10.511 0 0 0 1.668-.309c.526-.151.856-.325 1.011-.48a2.25 2.25 0 1 0-3.182-3.182c-.155.155-.329.485-.48 1.01a10.515 10.515 0 0 0-.309 1.67Zm10.396-10.34c-1.224.89-2.605 2.189-3.822 3.384l1.718 1.718c1.21-1.205 2.51-2.597 3.387-3.833.47-.662.78-1.227.912-1.662.134-.444.032-.551.009-.575h-.001V1.78c-.014-.014-.113-.113-.548.027-.432.14-.995.462-1.655.942Zm-4.832 7.266-.001.001a9.859 9.859 0 0 0 1.63-1.142L7.155 7.216a9.7 9.7 0 0 0-1.161 1.607c.482.302.889.71 1.19 1.192Z"></path></svg>
            </div>

            <command-palette-item-group
              data-group-id="top"
              data-group-title="Top result"
              data-group-hint=""
              data-group-limits="{}"
              data-default-priority="0"
            >
            </command-palette-item-group>
            <command-palette-item-group
              data-group-id="commands"
              data-group-title="Commands"
              data-group-hint="Type &gt; to filter"
              data-group-limits="{&quot;static_items_page&quot;:50,&quot;issue&quot;:50,&quot;pull_request&quot;:50,&quot;discussion&quot;:50}"
              data-default-priority="1"
            >
            </command-palette-item-group>
            <command-palette-item-group
              data-group-id="global_commands"
              data-group-title="Global Commands"
              data-group-hint="Type &gt; to filter"
              data-group-limits="{&quot;issue&quot;:0,&quot;pull_request&quot;:0,&quot;discussion&quot;:0}"
              data-default-priority="2"
            >
            </command-palette-item-group>
            <command-palette-item-group
              data-group-id="this_page"
              data-group-title="This Page"
              data-group-hint=""
              data-group-limits="{}"
              data-default-priority="3"
            >
            </command-palette-item-group>
            <command-palette-item-group
              data-group-id="files"
              data-group-title="Files"
              data-group-hint=""
              data-group-limits="{}"
              data-default-priority="4"
            >
            </command-palette-item-group>
            <command-palette-item-group
              data-group-id="default"
              data-group-title="Default"
              data-group-hint=""
              data-group-limits="{&quot;static_items_page&quot;:50}"
              data-default-priority="5"
            >
            </command-palette-item-group>
            <command-palette-item-group
              data-group-id="pages"
              data-group-title="Pages"
              data-group-hint=""
              data-group-limits="{&quot;repository&quot;:10}"
              data-default-priority="6"
            >
            </command-palette-item-group>
            <command-palette-item-group
              data-group-id="access_policies"
              data-group-title="Access Policies"
              data-group-hint=""
              data-group-limits="{}"
              data-default-priority="7"
            >
            </command-palette-item-group>
            <command-palette-item-group
              data-group-id="organizations"
              data-group-title="Organizations"
              data-group-hint=""
              data-group-limits="{}"
              data-default-priority="8"
            >
            </command-palette-item-group>
            <command-palette-item-group
              data-group-id="repositories"
              data-group-title="Repositories"
              data-group-hint=""
              data-group-limits="{}"
              data-default-priority="9"
            >
            </command-palette-item-group>
            <command-palette-item-group
              data-group-id="references"
              data-group-title="Issues, pull requests, and discussions"
              data-group-hint="Type # to filter"
              data-group-limits="{}"
              data-default-priority="10"
            >
            </command-palette-item-group>
            <command-palette-item-group
              data-group-id="teams"
              data-group-title="Teams"
              data-group-hint=""
              data-group-limits="{}"
              data-default-priority="11"
            >
            </command-palette-item-group>
            <command-palette-item-group
              data-group-id="users"
              data-group-title="Users"
              data-group-hint=""
              data-group-limits="{}"
              data-default-priority="12"
            >
            </command-palette-item-group>
            <command-palette-item-group
              data-group-id="memex_projects"
              data-group-title="Projects"
              data-group-hint=""
              data-group-limits="{}"
              data-default-priority="13"
            >
            </command-palette-item-group>
            <command-palette-item-group
              data-group-id="projects"
              data-group-title="Projects (classic)"
              data-group-hint=""
              data-group-limits="{}"
              data-default-priority="14"
            >
            </command-palette-item-group>
            <command-palette-item-group
              data-group-id="footer"
              data-group-title="Footer"
              data-group-hint=""
              data-group-limits="{}"
              data-default-priority="15"
            >
            </command-palette-item-group>
            <command-palette-item-group
              data-group-id="modes_help"
              data-group-title="Modes"
              data-group-hint=""
              data-group-limits="{}"
              data-default-priority="16"
            >
            </command-palette-item-group>
            <command-palette-item-group
              data-group-id="filters_help"
              data-group-title="Use filters in issues, pull requests, discussions, and projects"
              data-group-hint=""
              data-group-limits="{}"
              data-default-priority="17"
            >
            </command-palette-item-group>

            <command-palette-page
              data-page-title="pvateekul"
              data-scope-id="MDQ6VXNlcjEzNjc1MjA5"
              data-scope-type="owner"
              data-targets="command-palette-page-stack.defaultPages"
              hidden
            >
            </command-palette-page>
            <command-palette-page
              data-page-title="2110531_DSDE_2023s1"
              data-scope-id="R_kgDOKCyxwA"
              data-scope-type="repository"
              data-targets="command-palette-page-stack.defaultPages"
              hidden
            >
            </command-palette-page>
        </div>

        <command-palette-page data-is-root>
        </command-palette-page>
          <command-palette-page
            data-page-title="pvateekul"
            data-scope-id="MDQ6VXNlcjEzNjc1MjA5"
            data-scope-type="owner"
          >
          </command-palette-page>
          <command-palette-page
            data-page-title="2110531_DSDE_2023s1"
            data-scope-id="R_kgDOKCyxwA"
            data-scope-type="repository"
          >
          </command-palette-page>
      </command-palette-page-stack>

      <server-defined-provider data-type="search-links" data-targets="command-palette.serverDefinedProviderElements"></server-defined-provider>
      <server-defined-provider data-type="help" data-targets="command-palette.serverDefinedProviderElements">
          <command-palette-help
            data-group="modes_help"
              data-prefix="#"
              data-scope-types="[&quot;&quot;]"
          >
            <span data-target="command-palette-help.titleElement">Search for <strong>issues</strong> and <strong>pull requests</strong></span>
              <span data-target="command-palette-help.hintElement">
                <kbd class="hx_kbd">#</kbd>
              </span>
          </command-palette-help>
          <command-palette-help
            data-group="modes_help"
              data-prefix="#"
              data-scope-types="[&quot;owner&quot;,&quot;repository&quot;]"
          >
            <span data-target="command-palette-help.titleElement">Search for <strong>issues, pull requests, discussions,</strong> and <strong>projects</strong></span>
              <span data-target="command-palette-help.hintElement">
                <kbd class="hx_kbd">#</kbd>
              </span>
          </command-palette-help>
          <command-palette-help
            data-group="modes_help"
              data-prefix="@"
              data-scope-types="[&quot;&quot;]"
          >
            <span data-target="command-palette-help.titleElement">Search for <strong>organizations, repositories,</strong> and <strong>users</strong></span>
              <span data-target="command-palette-help.hintElement">
                <kbd class="hx_kbd">@</kbd>
              </span>
          </command-palette-help>
          <command-palette-help
            data-group="modes_help"
              data-prefix="!"
              data-scope-types="[&quot;owner&quot;,&quot;repository&quot;]"
          >
            <span data-target="command-palette-help.titleElement">Search for <strong>projects</strong></span>
              <span data-target="command-palette-help.hintElement">
                <kbd class="hx_kbd">!</kbd>
              </span>
          </command-palette-help>
          <command-palette-help
            data-group="modes_help"
              data-prefix="/"
              data-scope-types="[&quot;repository&quot;]"
          >
            <span data-target="command-palette-help.titleElement">Search for <strong>files</strong></span>
              <span data-target="command-palette-help.hintElement">
                <kbd class="hx_kbd">/</kbd>
              </span>
          </command-palette-help>
          <command-palette-help
            data-group="modes_help"
              data-prefix="&gt;"
          >
            <span data-target="command-palette-help.titleElement">Activate <strong>command mode</strong></span>
              <span data-target="command-palette-help.hintElement">
                <kbd class="hx_kbd">&gt;</kbd>
              </span>
          </command-palette-help>
          <command-palette-help
            data-group="filters_help"
              data-prefix="# author:@me"
          >
            <span data-target="command-palette-help.titleElement">Search your issues, pull requests, and discussions</span>
              <span data-target="command-palette-help.hintElement">
                <kbd class="hx_kbd"># author:@me</kbd>
              </span>
          </command-palette-help>
          <command-palette-help
            data-group="filters_help"
              data-prefix="# author:@me"
          >
            <span data-target="command-palette-help.titleElement">Search your issues, pull requests, and discussions</span>
              <span data-target="command-palette-help.hintElement">
                <kbd class="hx_kbd"># author:@me</kbd>
              </span>
          </command-palette-help>
          <command-palette-help
            data-group="filters_help"
              data-prefix="# is:pr"
          >
            <span data-target="command-palette-help.titleElement">Filter to pull requests</span>
              <span data-target="command-palette-help.hintElement">
                <kbd class="hx_kbd"># is:pr</kbd>
              </span>
          </command-palette-help>
          <command-palette-help
            data-group="filters_help"
              data-prefix="# is:issue"
          >
            <span data-target="command-palette-help.titleElement">Filter to issues</span>
              <span data-target="command-palette-help.hintElement">
                <kbd class="hx_kbd"># is:issue</kbd>
              </span>
          </command-palette-help>
          <command-palette-help
            data-group="filters_help"
              data-prefix="# is:discussion"
              data-scope-types="[&quot;owner&quot;,&quot;repository&quot;]"
          >
            <span data-target="command-palette-help.titleElement">Filter to discussions</span>
              <span data-target="command-palette-help.hintElement">
                <kbd class="hx_kbd"># is:discussion</kbd>
              </span>
          </command-palette-help>
          <command-palette-help
            data-group="filters_help"
              data-prefix="# is:project"
              data-scope-types="[&quot;owner&quot;,&quot;repository&quot;]"
          >
            <span data-target="command-palette-help.titleElement">Filter to projects</span>
              <span data-target="command-palette-help.hintElement">
                <kbd class="hx_kbd"># is:project</kbd>
              </span>
          </command-palette-help>
          <command-palette-help
            data-group="filters_help"
              data-prefix="# is:open"
          >
            <span data-target="command-palette-help.titleElement">Filter to open issues, pull requests, and discussions</span>
              <span data-target="command-palette-help.hintElement">
                <kbd class="hx_kbd"># is:open</kbd>
              </span>
          </command-palette-help>
      </server-defined-provider>

        <server-defined-provider
          data-type="commands"
          data-fetch-debounce="0"
            data-src="/command_palette/commands"
          data-supported-modes="[]"
            data-supports-commands
          
          data-targets="command-palette.serverDefinedProviderElements"
          ></server-defined-provider>
        <server-defined-provider
          data-type="prefetched"
          data-fetch-debounce="0"
            data-src="/command_palette/jump_to_page_navigation"
          data-supported-modes="[&quot;&quot;]"
            data-supported-scope-types="[&quot;&quot;,&quot;owner&quot;,&quot;repository&quot;]"
          
          data-targets="command-palette.serverDefinedProviderElements"
          ></server-defined-provider>
        <server-defined-provider
          data-type="remote"
          data-fetch-debounce="200"
            data-src="/command_palette/issues"
          data-supported-modes="[&quot;#&quot;,&quot;#&quot;]"
            data-supported-scope-types="[&quot;owner&quot;,&quot;repository&quot;,&quot;&quot;]"
          
          data-targets="command-palette.serverDefinedProviderElements"
          ></server-defined-provider>
        <server-defined-provider
          data-type="remote"
          data-fetch-debounce="200"
            data-src="/command_palette/jump_to"
          data-supported-modes="[&quot;@&quot;,&quot;@&quot;]"
            data-supported-scope-types="[&quot;&quot;,&quot;owner&quot;]"
          
          data-targets="command-palette.serverDefinedProviderElements"
          ></server-defined-provider>
        <server-defined-provider
          data-type="remote"
          data-fetch-debounce="200"
            data-src="/command_palette/jump_to_members_only"
          data-supported-modes="[&quot;@&quot;,&quot;@&quot;,&quot;&quot;,&quot;&quot;]"
            data-supported-scope-types="[&quot;&quot;,&quot;owner&quot;]"
          
          data-targets="command-palette.serverDefinedProviderElements"
          ></server-defined-provider>
        <server-defined-provider
          data-type="prefetched"
          data-fetch-debounce="0"
            data-src="/command_palette/jump_to_members_only_prefetched"
          data-supported-modes="[&quot;@&quot;,&quot;@&quot;,&quot;&quot;,&quot;&quot;]"
            data-supported-scope-types="[&quot;&quot;,&quot;owner&quot;]"
          
          data-targets="command-palette.serverDefinedProviderElements"
          ></server-defined-provider>
        <server-defined-provider
          data-type="files"
          data-fetch-debounce="0"
            data-src="/command_palette/files"
          data-supported-modes="[&quot;/&quot;]"
            data-supported-scope-types="[&quot;repository&quot;]"
          
          data-targets="command-palette.serverDefinedProviderElements"
          ></server-defined-provider>
        <server-defined-provider
          data-type="remote"
          data-fetch-debounce="200"
            data-src="/command_palette/discussions"
          data-supported-modes="[&quot;#&quot;]"
            data-supported-scope-types="[&quot;owner&quot;,&quot;repository&quot;]"
          
          data-targets="command-palette.serverDefinedProviderElements"
          ></server-defined-provider>
        <server-defined-provider
          data-type="remote"
          data-fetch-debounce="200"
            data-src="/command_palette/projects"
          data-supported-modes="[&quot;#&quot;,&quot;!&quot;]"
            data-supported-scope-types="[&quot;owner&quot;,&quot;repository&quot;]"
          
          data-targets="command-palette.serverDefinedProviderElements"
          ></server-defined-provider>
        <server-defined-provider
          data-type="prefetched"
          data-fetch-debounce="0"
            data-src="/command_palette/recent_issues"
          data-supported-modes="[&quot;#&quot;,&quot;#&quot;]"
            data-supported-scope-types="[&quot;owner&quot;,&quot;repository&quot;,&quot;&quot;]"
          
          data-targets="command-palette.serverDefinedProviderElements"
          ></server-defined-provider>
        <server-defined-provider
          data-type="remote"
          data-fetch-debounce="200"
            data-src="/command_palette/teams"
          data-supported-modes="[&quot;@&quot;,&quot;&quot;]"
            data-supported-scope-types="[&quot;owner&quot;]"
          
          data-targets="command-palette.serverDefinedProviderElements"
          ></server-defined-provider>
        <server-defined-provider
          data-type="remote"
          data-fetch-debounce="200"
            data-src="/command_palette/name_with_owner_repository"
          data-supported-modes="[&quot;@&quot;,&quot;@&quot;,&quot;&quot;,&quot;&quot;]"
            data-supported-scope-types="[&quot;&quot;,&quot;owner&quot;]"
          
          data-targets="command-palette.serverDefinedProviderElements"
          ></server-defined-provider>
    </command-palette>
  </details-dialog>
</details>

<div class="position-fixed bottom-0 left-0 ml-5 mb-5 js-command-palette-toasts" style="z-index: 1000">
  <div hidden class="Toast Toast--loading">
    <span class="Toast-icon">
      <svg class="Toast--spinner" viewBox="0 0 32 32" width="18" height="18" aria-hidden="true">
        <path
          fill="#959da5"
          d="M16 0 A16 16 0 0 0 16 32 A16 16 0 0 0 16 0 M16 4 A12 12 0 0 1 16 28 A12 12 0 0 1 16 4"
        />
        <path fill="#ffffff" d="M16 0 A16 16 0 0 1 32 16 L28 16 A12 12 0 0 0 16 4z"></path>
      </svg>
    </span>
    <span class="Toast-content"></span>
  </div>

  <div hidden class="anim-fade-in fast Toast Toast--error">
    <span class="Toast-icon">
      <svg aria-hidden="true" height="16" viewBox="0 0 16 16" version="1.1" width="16" data-view-component="true" class="octicon octicon-stop">
    <path d="M4.47.22A.749.749 0 0 1 5 0h6c.199 0 .389.079.53.22l4.25 4.25c.141.14.22.331.22.53v6a.749.749 0 0 1-.22.53l-4.25 4.25A.749.749 0 0 1 11 16H5a.749.749 0 0 1-.53-.22L.22 11.53A.749.749 0 0 1 0 11V5c0-.199.079-.389.22-.53Zm.84 1.28L1.5 5.31v5.38l3.81 3.81h5.38l3.81-3.81V5.31L10.69 1.5ZM8 4a.75.75 0 0 1 .75.75v3.5a.75.75 0 0 1-1.5 0v-3.5A.75.75 0 0 1 8 4Zm0 8a1 1 0 1 1 0-2 1 1 0 0 1 0 2Z"></path>
</svg>
    </span>
    <span class="Toast-content"></span>
  </div>

  <div hidden class="anim-fade-in fast Toast Toast--warning">
    <span class="Toast-icon">
      <svg aria-hidden="true" height="16" viewBox="0 0 16 16" version="1.1" width="16" data-view-component="true" class="octicon octicon-alert">
    <path d="M6.457 1.047c.659-1.234 2.427-1.234 3.086 0l6.082 11.378A1.75 1.75 0 0 1 14.082 15H1.918a1.75 1.75 0 0 1-1.543-2.575Zm1.763.707a.25.25 0 0 0-.44 0L1.698 13.132a.25.25 0 0 0 .22.368h12.164a.25.25 0 0 0 .22-.368Zm.53 3.996v2.5a.75.75 0 0 1-1.5 0v-2.5a.75.75 0 0 1 1.5 0ZM9 11a1 1 0 1 1-2 0 1 1 0 0 1 2 0Z"></path>
</svg>
    </span>
    <span class="Toast-content"></span>
  </div>


  <div hidden class="anim-fade-in fast Toast Toast--success">
    <span class="Toast-icon">
      <svg aria-hidden="true" height="16" viewBox="0 0 16 16" version="1.1" width="16" data-view-component="true" class="octicon octicon-check">
    <path d="M13.78 4.22a.75.75 0 0 1 0 1.06l-7.25 7.25a.75.75 0 0 1-1.06 0L2.22 9.28a.751.751 0 0 1 .018-1.042.751.751 0 0 1 1.042-.018L6 10.94l6.72-6.72a.75.75 0 0 1 1.06 0Z"></path>
</svg>
    </span>
    <span class="Toast-content"></span>
  </div>

  <div hidden class="anim-fade-in fast Toast">
    <span class="Toast-icon">
      <svg aria-hidden="true" height="16" viewBox="0 0 16 16" version="1.1" width="16" data-view-component="true" class="octicon octicon-info">
    <path d="M0 8a8 8 0 1 1 16 0A8 8 0 0 1 0 8Zm8-6.5a6.5 6.5 0 1 0 0 13 6.5 6.5 0 0 0 0-13ZM6.5 7.75A.75.75 0 0 1 7.25 7h1a.75.75 0 0 1 .75.75v2.75h.25a.75.75 0 0 1 0 1.5h-2a.75.75 0 0 1 0-1.5h.25v-2h-.25a.75.75 0 0 1-.75-.75ZM8 6a1 1 0 1 1 0-2 1 1 0 0 1 0 2Z"></path>
</svg>
    </span>
    <span class="Toast-content"></span>
  </div>
</div>


  <div
    class="application-main "
    data-commit-hovercards-enabled
    data-discussion-hovercards-enabled
    data-issue-and-pr-hovercards-enabled
  >
        <div itemscope itemtype="http://schema.org/SoftwareSourceCode" class="">
    <main id="js-repo-pjax-container" >
      
      






    
  <div id="repository-container-header" data-turbo-replace hidden></div>




<turbo-frame id="repo-content-turbo-frame" target="_top" data-turbo-action="advance" class="">
    <div id="repo-content-pjax-container" class="repository-content " >
      <a href="https://github.dev/" class="d-none js-github-dev-shortcut" data-hotkey=".,Mod+Alt+.">Open in github.dev</a>
  <a href="https://github.dev/" class="d-none js-github-dev-new-tab-shortcut" data-hotkey="Shift+.,Shift+&gt;,&gt;" target="_blank" rel="noopener noreferrer">Open in a new github.dev tab</a>
    <a class="d-none" data-hotkey=",,Mod+Alt+," target="_blank" href="/codespaces/new/pvateekul/2110531_DSDE_2023s1/tree/main?resume=1">Open in codespace</a>



    
      
    





<react-app
  app-name="react-code-view"
  initial-path="/pvateekul/2110531_DSDE_2023s1/blob/main/code/Week02_DataPrep/Lab4_Outliers_Titanic.ipynb"
  style="min-height: calc(100vh - 64px)" 
  data-ssr="true"
  data-lazy="false"
  data-alternate="false"
>
  
  <script type="application/json" data-target="react-app.embeddedData">{"payload":{"allShortcutsEnabled":true,"fileTree":{"code/Week02_DataPrep":{"items":[{"name":"Assignment2_TitanicDataPrep_ToStudent.ipynb","path":"code/Week02_DataPrep/Assignment2_TitanicDataPrep_ToStudent.ipynb","contentType":"file"},{"name":"Lab1_LoansDataSet.ipynb","path":"code/Week02_DataPrep/Lab1_LoansDataSet.ipynb","contentType":"file"},{"name":"Lab2_ImputeMissingValue.ipynb","path":"code/Week02_DataPrep/Lab2_ImputeMissingValue.ipynb","contentType":"file"},{"name":"Lab3_SplitTrainTest.ipynb","path":"code/Week02_DataPrep/Lab3_SplitTrainTest.ipynb","contentType":"file"},{"name":"Lab4_Outliers_Titanic.ipynb","path":"code/Week02_DataPrep/Lab4_Outliers_Titanic.ipynb","contentType":"file"},{"name":"Lab5_Outliers_Boston_(optional).ipynb","path":"code/Week02_DataPrep/Lab5_Outliers_Boston_(optional).ipynb","contentType":"file"},{"name":"README.md","path":"code/Week02_DataPrep/README.md","contentType":"file"}],"totalCount":7},"code":{"items":[{"name":"Week01_Intro_Pandas","path":"code/Week01_Intro_Pandas","contentType":"directory"},{"name":"Week02_DataPrep","path":"code/Week02_DataPrep","contentType":"directory"},{"name":"Week03_ML","path":"code/Week03_ML","contentType":"directory"},{"name":"Week05_Intro_Deep_Learning","path":"code/Week05_Intro_Deep_Learning","contentType":"directory"},{"name":"Week06_AdvancedML","path":"code/Week06_AdvancedML","contentType":"directory"},{"name":"Week07_Architecture_and_Storage","path":"code/Week07_Architecture_and_Storage","contentType":"directory"},{"name":"Week08_DataExtraction","path":"code/Week08_DataExtraction","contentType":"directory"},{"name":"Week09_DataIngestion","path":"code/Week09_DataIngestion","contentType":"directory"},{"name":"Week10_Spark","path":"code/Week10_Spark","contentType":"directory"},{"name":"Week11_OpsStars","path":"code/Week11_OpsStars","contentType":"directory"},{"name":"README.md","path":"code/README.md","contentType":"file"}],"totalCount":11},"":{"items":[{"name":".ipynb_checkpoints","path":".ipynb_checkpoints","contentType":"directory"},{"name":"code","path":"code","contentType":"directory"},{"name":"img","path":"img","contentType":"directory"},{"name":"slide","path":"slide","contentType":"directory"},{"name":".gitignore","path":".gitignore","contentType":"file"},{"name":"DataScience_Syllabus_2023s1_v1.pdf","path":"DataScience_Syllabus_2023s1_v1.pdf","contentType":"file"},{"name":"README.md","path":"README.md","contentType":"file"}],"totalCount":7}},"fileTreeProcessingTime":6.987856,"foldersToFetch":[],"reducedMotionEnabled":"system","repo":{"id":674017728,"defaultBranch":"main","name":"2110531_DSDE_2023s1","ownerLogin":"pvateekul","currentUserCanPush":true,"isFork":false,"isEmpty":false,"createdAt":"2023-08-03T07:45:16.000+07:00","ownerAvatar":"https://avatars.githubusercontent.com/u/13675209?v=4","public":true,"private":false,"isOrgOwned":false},"symbolsExpanded":false,"treeExpanded":true,"refInfo":{"name":"main","listCacheKey":"v0:1695100684.0","canEdit":true,"refType":"branch","currentOid":"2f8ec2e6065f5fc4ee0ac15135b8de5584282505"},"path":"code/Week02_DataPrep/Lab4_Outliers_Titanic.ipynb","currentUser":{"id":13675209,"login":"pvateekul","userEmail":"peerapon.v@chula.ac.th"},"blob":{"rawLines":["{","  \"cells\": [","    {","      \"cell_type\": \"code\",","      \"execution_count\": 7,","      \"metadata\": {","        \"id\": \"bKhcA7niFG0b\"","      },","      \"outputs\": [],","      \"source\": [","        \"import pandas as pd\\n\",","        \"import numpy as np\\n\",","        \"\\n\",","        \"import matplotlib.pyplot as plt\\n\",","        \"\\n\",","        \"import numpy as np\\n\",","        \"from scipy.stats import kurtosis, skew\\n\",","        \"\\n\",","        \"%matplotlib inline\\n\",","        \"import seaborn as sns\\n\",","        \"\\n\",","        \"MAX_ROWS = 10\\n\",","        \"pd.set_option('display.max_rows', MAX_ROWS)\\n\",","        \"pd.set_option('display.max_columns', 200)\\n\",","        \"\\n\",","        \"sns.set_style(\\\"whitegrid\\\")\\n\",","        \"sns.set_context(\\\"paper\\\")\"","      ]","    },","    {","      \"cell_type\": \"code\",","      \"execution_count\": 8,","      \"metadata\": {","        \"id\": \"Jl5Pf32fFG0n\",","        \"colab\": {","          \"base_uri\": \"https://localhost:8080/\",","          \"height\": 143","        },","        \"outputId\": \"0ffbdeff-07e1-428c-c86c-9ce349efad07\"","      },","      \"outputs\": [","        {","          \"output_type\": \"execute_result\",","          \"data\": {","            \"text/plain\": [","              \"   PassengerId  Survived  Pclass  \\\\\\n\",","              \"0            1         0       3   \\n\",","              \"1            2         1       1   \\n\",","              \"2            3         1       3   \\n\",","              \"\\n\",","              \"                                                Name     Sex   Age  SibSp  \\\\\\n\",","              \"0                            Braund, Mr. Owen Harris    male  22.0      1   \\n\",","              \"1  Cumings, Mrs. John Bradley (Florence Briggs Th...  female  38.0      1   \\n\",","              \"2                             Heikkinen, Miss. Laina  female  26.0      0   \\n\",","              \"\\n\",","              \"   Parch            Ticket     Fare Cabin Embarked  \\n\",","              \"0      0         A/5 21171   7.2500   NaN        S  \\n\",","              \"1      0          PC 17599  71.2833   C85        C  \\n\",","              \"2      0  STON/O2. 3101282   7.9250   NaN        S  \"","            ],","            \"text/html\": [","              \"\\n\",","              \"  \u003cdiv id=\\\"df-5940ffac-462b-4ed8-868a-6de342076f2d\\\"\u003e\\n\",","              \"    \u003cdiv class=\\\"colab-df-container\\\"\u003e\\n\",","              \"      \u003cdiv\u003e\\n\",","              \"\u003cstyle scoped\u003e\\n\",","              \"    .dataframe tbody tr th:only-of-type {\\n\",","              \"        vertical-align: middle;\\n\",","              \"    }\\n\",","              \"\\n\",","              \"    .dataframe tbody tr th {\\n\",","              \"        vertical-align: top;\\n\",","              \"    }\\n\",","              \"\\n\",","              \"    .dataframe thead th {\\n\",","              \"        text-align: right;\\n\",","              \"    }\\n\",","              \"\u003c/style\u003e\\n\",","              \"\u003ctable border=\\\"1\\\" class=\\\"dataframe\\\"\u003e\\n\",","              \"  \u003cthead\u003e\\n\",","              \"    \u003ctr style=\\\"text-align: right;\\\"\u003e\\n\",","              \"      \u003cth\u003e\u003c/th\u003e\\n\",","              \"      \u003cth\u003ePassengerId\u003c/th\u003e\\n\",","              \"      \u003cth\u003eSurvived\u003c/th\u003e\\n\",","              \"      \u003cth\u003ePclass\u003c/th\u003e\\n\",","              \"      \u003cth\u003eName\u003c/th\u003e\\n\",","              \"      \u003cth\u003eSex\u003c/th\u003e\\n\",","              \"      \u003cth\u003eAge\u003c/th\u003e\\n\",","              \"      \u003cth\u003eSibSp\u003c/th\u003e\\n\",","              \"      \u003cth\u003eParch\u003c/th\u003e\\n\",","              \"      \u003cth\u003eTicket\u003c/th\u003e\\n\",","              \"      \u003cth\u003eFare\u003c/th\u003e\\n\",","              \"      \u003cth\u003eCabin\u003c/th\u003e\\n\",","              \"      \u003cth\u003eEmbarked\u003c/th\u003e\\n\",","              \"    \u003c/tr\u003e\\n\",","              \"  \u003c/thead\u003e\\n\",","              \"  \u003ctbody\u003e\\n\",","              \"    \u003ctr\u003e\\n\",","              \"      \u003cth\u003e0\u003c/th\u003e\\n\",","              \"      \u003ctd\u003e1\u003c/td\u003e\\n\",","              \"      \u003ctd\u003e0\u003c/td\u003e\\n\",","              \"      \u003ctd\u003e3\u003c/td\u003e\\n\",","              \"      \u003ctd\u003eBraund, Mr. Owen Harris\u003c/td\u003e\\n\",","              \"      \u003ctd\u003emale\u003c/td\u003e\\n\",","              \"      \u003ctd\u003e22.0\u003c/td\u003e\\n\",","              \"      \u003ctd\u003e1\u003c/td\u003e\\n\",","              \"      \u003ctd\u003e0\u003c/td\u003e\\n\",","              \"      \u003ctd\u003eA/5 21171\u003c/td\u003e\\n\",","              \"      \u003ctd\u003e7.2500\u003c/td\u003e\\n\",","              \"      \u003ctd\u003eNaN\u003c/td\u003e\\n\",","              \"      \u003ctd\u003eS\u003c/td\u003e\\n\",","              \"    \u003c/tr\u003e\\n\",","              \"    \u003ctr\u003e\\n\",","              \"      \u003cth\u003e1\u003c/th\u003e\\n\",","              \"      \u003ctd\u003e2\u003c/td\u003e\\n\",","              \"      \u003ctd\u003e1\u003c/td\u003e\\n\",","              \"      \u003ctd\u003e1\u003c/td\u003e\\n\",","              \"      \u003ctd\u003eCumings, Mrs. John Bradley (Florence Briggs Th...\u003c/td\u003e\\n\",","              \"      \u003ctd\u003efemale\u003c/td\u003e\\n\",","              \"      \u003ctd\u003e38.0\u003c/td\u003e\\n\",","              \"      \u003ctd\u003e1\u003c/td\u003e\\n\",","              \"      \u003ctd\u003e0\u003c/td\u003e\\n\",","              \"      \u003ctd\u003ePC 17599\u003c/td\u003e\\n\",","              \"      \u003ctd\u003e71.2833\u003c/td\u003e\\n\",","              \"      \u003ctd\u003eC85\u003c/td\u003e\\n\",","              \"      \u003ctd\u003eC\u003c/td\u003e\\n\",","              \"    \u003c/tr\u003e\\n\",","              \"    \u003ctr\u003e\\n\",","              \"      \u003cth\u003e2\u003c/th\u003e\\n\",","              \"      \u003ctd\u003e3\u003c/td\u003e\\n\",","              \"      \u003ctd\u003e1\u003c/td\u003e\\n\",","              \"      \u003ctd\u003e3\u003c/td\u003e\\n\",","              \"      \u003ctd\u003eHeikkinen, Miss. Laina\u003c/td\u003e\\n\",","              \"      \u003ctd\u003efemale\u003c/td\u003e\\n\",","              \"      \u003ctd\u003e26.0\u003c/td\u003e\\n\",","              \"      \u003ctd\u003e0\u003c/td\u003e\\n\",","              \"      \u003ctd\u003e0\u003c/td\u003e\\n\",","              \"      \u003ctd\u003eSTON/O2. 3101282\u003c/td\u003e\\n\",","              \"      \u003ctd\u003e7.9250\u003c/td\u003e\\n\",","              \"      \u003ctd\u003eNaN\u003c/td\u003e\\n\",","              \"      \u003ctd\u003eS\u003c/td\u003e\\n\",","              \"    \u003c/tr\u003e\\n\",","              \"  \u003c/tbody\u003e\\n\",","              \"\u003c/table\u003e\\n\",","              \"\u003c/div\u003e\\n\",","              \"      \u003cbutton class=\\\"colab-df-convert\\\" onclick=\\\"convertToInteractive('df-5940ffac-462b-4ed8-868a-6de342076f2d')\\\"\\n\",","              \"              title=\\\"Convert this dataframe to an interactive table.\\\"\\n\",","              \"              style=\\\"display:none;\\\"\u003e\\n\",","              \"        \\n\",","              \"  \u003csvg xmlns=\\\"http://www.w3.org/2000/svg\\\" height=\\\"24px\\\"viewBox=\\\"0 0 24 24\\\"\\n\",","              \"       width=\\\"24px\\\"\u003e\\n\",","              \"    \u003cpath d=\\\"M0 0h24v24H0V0z\\\" fill=\\\"none\\\"/\u003e\\n\",","              \"    \u003cpath d=\\\"M18.56 5.44l.94 2.06.94-2.06 2.06-.94-2.06-.94-.94-2.06-.94 2.06-2.06.94zm-11 1L8.5 8.5l.94-2.06 2.06-.94-2.06-.94L8.5 2.5l-.94 2.06-2.06.94zm10 10l.94 2.06.94-2.06 2.06-.94-2.06-.94-.94-2.06-.94 2.06-2.06.94z\\\"/\u003e\u003cpath d=\\\"M17.41 7.96l-1.37-1.37c-.4-.4-.92-.59-1.43-.59-.52 0-1.04.2-1.43.59L10.3 9.45l-7.72 7.72c-.78.78-.78 2.05 0 2.83L4 21.41c.39.39.9.59 1.41.59.51 0 1.02-.2 1.41-.59l7.78-7.78 2.81-2.81c.8-.78.8-2.07 0-2.86zM5.41 20L4 18.59l7.72-7.72 1.47 1.35L5.41 20z\\\"/\u003e\\n\",","              \"  \u003c/svg\u003e\\n\",","              \"      \u003c/button\u003e\\n\",","              \"      \\n\",","              \"  \u003cstyle\u003e\\n\",","              \"    .colab-df-container {\\n\",","              \"      display:flex;\\n\",","              \"      flex-wrap:wrap;\\n\",","              \"      gap: 12px;\\n\",","              \"    }\\n\",","              \"\\n\",","              \"    .colab-df-convert {\\n\",","              \"      background-color: #E8F0FE;\\n\",","              \"      border: none;\\n\",","              \"      border-radius: 50%;\\n\",","              \"      cursor: pointer;\\n\",","              \"      display: none;\\n\",","              \"      fill: #1967D2;\\n\",","              \"      height: 32px;\\n\",","              \"      padding: 0 0 0 0;\\n\",","              \"      width: 32px;\\n\",","              \"    }\\n\",","              \"\\n\",","              \"    .colab-df-convert:hover {\\n\",","              \"      background-color: #E2EBFA;\\n\",","              \"      box-shadow: 0px 1px 2px rgba(60, 64, 67, 0.3), 0px 1px 3px 1px rgba(60, 64, 67, 0.15);\\n\",","              \"      fill: #174EA6;\\n\",","              \"    }\\n\",","              \"\\n\",","              \"    [theme=dark] .colab-df-convert {\\n\",","              \"      background-color: #3B4455;\\n\",","              \"      fill: #D2E3FC;\\n\",","              \"    }\\n\",","              \"\\n\",","              \"    [theme=dark] .colab-df-convert:hover {\\n\",","              \"      background-color: #434B5C;\\n\",","              \"      box-shadow: 0px 1px 3px 1px rgba(0, 0, 0, 0.15);\\n\",","              \"      filter: drop-shadow(0px 1px 2px rgba(0, 0, 0, 0.3));\\n\",","              \"      fill: #FFFFFF;\\n\",","              \"    }\\n\",","              \"  \u003c/style\u003e\\n\",","              \"\\n\",","              \"      \u003cscript\u003e\\n\",","              \"        const buttonEl =\\n\",","              \"          document.querySelector('#df-5940ffac-462b-4ed8-868a-6de342076f2d button.colab-df-convert');\\n\",","              \"        buttonEl.style.display =\\n\",","              \"          google.colab.kernel.accessAllowed ? 'block' : 'none';\\n\",","              \"\\n\",","              \"        async function convertToInteractive(key) {\\n\",","              \"          const element = document.querySelector('#df-5940ffac-462b-4ed8-868a-6de342076f2d');\\n\",","              \"          const dataTable =\\n\",","              \"            await google.colab.kernel.invokeFunction('convertToInteractive',\\n\",","              \"                                                     [key], {});\\n\",","              \"          if (!dataTable) return;\\n\",","              \"\\n\",","              \"          const docLinkHtml = 'Like what you see? Visit the ' +\\n\",","              \"            '\u003ca target=\\\"_blank\\\" href=https://colab.research.google.com/notebooks/data_table.ipynb\u003edata table notebook\u003c/a\u003e'\\n\",","              \"            + ' to learn more about interactive tables.';\\n\",","              \"          element.innerHTML = '';\\n\",","              \"          dataTable['output_type'] = 'display_data';\\n\",","              \"          await google.colab.output.renderOutput(dataTable, element);\\n\",","              \"          const docLink = document.createElement('div');\\n\",","              \"          docLink.innerHTML = docLinkHtml;\\n\",","              \"          element.appendChild(docLink);\\n\",","              \"        }\\n\",","              \"      \u003c/script\u003e\\n\",","              \"    \u003c/div\u003e\\n\",","              \"  \u003c/div\u003e\\n\",","              \"  \"","            ]","          },","          \"metadata\": {},","          \"execution_count\": 8","        }","      ],","      \"source\": [","        \"df = pd.read_csv('https://github.com/kaopanboonyuen/2110446_DataScience_2021s2/raw/main/datasets/Titanic.csv')\\n\",","        \"df.head(3)\"","      ]","    },","    {","      \"cell_type\": \"code\",","      \"execution_count\": 9,","      \"metadata\": {","        \"id\": \"4n91GALUFG0t\",","        \"colab\": {","          \"base_uri\": \"https://localhost:8080/\",","          \"height\": 514","        },","        \"outputId\": \"ce2a9e25-92bb-4509-9060-bfe5c6c0e776\"","      },","      \"outputs\": [","        {","          \"output_type\": \"execute_result\",","          \"data\": {","            \"text/plain\": [","              \"\u003cmatplotlib.axes._subplots.AxesSubplot at 0x7f5b1f09d810\u003e\"","            ]","          },","          \"metadata\": {},","          \"execution_count\": 9","        },","        {","          \"output_type\": \"display_data\",","          \"data\": {","            \"text/plain\": [","              \"\u003cFigure size 720x576 with 2 Axes\u003e\"","            ],","            \"image/png\": \"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\\n\"","          },","          \"metadata\": {}","        }","      ],","      \"source\": [","        \"i = 'Fare'\\n\",","        \"\\n\",","        \"plt.figure(figsize=(10,8))\\n\",","        \"plt.subplot(211)\\n\",","        \"plt.xlim(df[i].min(), df[i].max()*1.1)\\n\",","        \"\\n\",","        \"ax = df[i].plot(kind='kde')\\n\",","        \"\\n\",","        \"plt.subplot(212)\\n\",","        \"plt.xlim(df[i].min(), df[i].max()*1.1)\\n\",","        \"sns.boxplot(x=df[i])\"","      ]","    },","    {","      \"cell_type\": \"code\",","      \"execution_count\": 10,","      \"metadata\": {","        \"id\": \"YupXdb2eFG0z\",","        \"colab\": {","          \"base_uri\": \"https://localhost:8080/\"","        },","        \"outputId\": \"25986830-898c-4170-8998-9acb84ab6c90\"","      },","      \"outputs\": [","        {","          \"output_type\": \"stream\",","          \"name\": \"stdout\",","          \"text\": [","            \"kurtosis_before_value =  33.20428925264474\\n\",","            \"skew_before_value =  4.7792532923723545\\n\"","          ]","        }","      ],","      \"source\": [","        \"kurtosis_before_value = kurtosis(df[i])\\n\",","        \"print(\\\"kurtosis_before_value = \\\", kurtosis_before_value)\\n\",","        \"skew_before_value = skew(df[i])\\n\",","        \"print(\\\"skew_before_value = \\\", skew_before_value)\"","      ]","    },","    {","      \"cell_type\": \"code\",","      \"execution_count\": 11,","      \"metadata\": {","        \"id\": \"rKLLvaQ4FG04\"","      },","      \"outputs\": [],","      \"source\": [","        \"# Remove any zeros (otherwise we get (-inf))\\n\",","        \"# Alternative: we can +1 before taking log!!!\\n\",","        \"df.loc[df.Fare == 0, 'Fare'] = np.nan\\n\",","        \"\\n\",","        \"# Drop NA\\n\",","        \"df.dropna(inplace=True)\\n\",","        \"\\n\",","        \"# Log Transform\\n\",","        \"df['Log_' + i] = np.log(df[i])\"","      ]","    },","    {","      \"cell_type\": \"code\",","      \"execution_count\": 12,","      \"metadata\": {","        \"id\": \"wfzYpnvCFG0_\",","        \"colab\": {","          \"base_uri\": \"https://localhost:8080/\",","          \"height\": 515","        },","        \"outputId\": \"4fcac4e7-63b0-4667-fec1-88f9e369514e\"","      },","      \"outputs\": [","        {","          \"output_type\": \"execute_result\",","          \"data\": {","            \"text/plain\": [","              \"\u003cmatplotlib.axes._subplots.AxesSubplot at 0x7f5b1ef9fcd0\u003e\"","            ]","          },","          \"metadata\": {},","          \"execution_count\": 12","        },","        {","          \"output_type\": \"display_data\",","          \"data\": {","            \"text/plain\": [","              \"\u003cFigure size 720x576 with 2 Axes\u003e\"","            ],","            \"image/png\": \"iVBORw0KGgoAAAANSUhEUgAAAmAAAAHhCAYAAADJbwIwAAAABHNCSVQICAgIfAhkiAAAAAlwSFlzAAALEgAACxIB0t1+/AAAADh0RVh0U29mdHdhcmUAbWF0cGxvdGxpYiB2ZXJzaW9uMy4yLjIsIGh0dHA6Ly9tYXRwbG90bGliLm9yZy+WH4yJAAAgAElEQVR4nOzde3zOdePH8fe183mzsTlsxpDNYZNliCgVSoUbMawSt1LprPrdubvvQu6KunVC5yLcxB2pHO4SkRwWxsyY48xpzM6bna7fH0onh6ld3+91XXs9Hw8Pu67vtuvNZ9fl7fP9Xp+PxWq1WgUAAADDuJgdAAAAoLahgAEAABiMAgYAAGAwChgAAIDBKGAAAAAGo4ABAAAYzM3sAJcjOTnZ7AgAAADVFh8ff977HaqASRf+g9iTtLQ0xcTEmB0Dl8A4OQbGyXEwVo6BcTLOxSaOOAUJAABgMAoYAACAwShgAAAABqOAAQAAGIwCBgAAYDAKGAAAgMEcbhkKAKhpucVl+n5fjlIO52r38UIdyy9RbnG5rFbJ081Fdf091TjYR7HhgerQJFjR9f1lsVjMjg3AgVHAANRKhWcqtGTrES3emqXNB08ryNtdcRFBiq7vr2tb1lMdHw+5ukgl5ZU6kX9G+08Wae7GTP1jSaoaBXnr1riGGprQWBHBPmb/UQA4IAoYgFolu+CMZq7eqzkbDynQ210D2odrfJ9WatMooFqzWtkFZ/RV2nEtSD6smav36qY2DfTIjS3UPNTfgPQAnAUFDECtkFtcpjdWZWjW9wd1RZi//j24na6PCZOry+WdSqzn76khCY01JKGxdmTladpXe9Tr399qSIcIPdE7WoHe7jb6EwBwJhQwAE7NarVq4Q9Zev6LNNUP8NIbQ9urR3RojVzD1aZRoN6+4yolHzyt8Z/u0A0vr9akfm3Us3X9GkgOwJlRwAA4rYOnivTEJylKPZKvx3teoaTOTS57xqs64iPr6LMHuujtb/fr/jk/aEiHxnq6T4y83F1r/LEAOAeWoQDgdKxWqxYmH9bN075VgLe7vnqsu+7q0tQm5esnbq4uGnNtMy0cc7XW7MnW4JnrdTy/1GaPB8CxUcAAOJXCMxV6aN5WPf3pdj3dp5XeSopXWICXYY8fGx6kJfd3VYC3u257fa12ZOUZ9tgAHAcFDIDT2JddqH5vrNPu4wVaOvYaDe3Y2JT1ugJ93PX+XR10Y6swJb71vZIP5hieAYB9o4ABcApf7zquvm+sU3R9fy2672o1D/UzNY+bq4sm9G2j4Z0jNfydjVqXcdLUPADsCwUMgMN7d+1+jf4oWQ9c11yvJV4pHw/7eH+RxWLRk72j9UCP5hrxwSZ9k37C7EgA7IR9vEoBwB9QVWXVxM/TNHfjIc1Mitf1MWFmRzqv+69rLjcXi+6dnayPR3VUfGSw2ZEAmIwZMAAOqbS8UvfP+UFLtmVp3uhOdlu+fnJP92Ya0aWpRry/SWlH882OA8BkFDAADie3uEzD3tmg9OMF+u99XRQXEWR2pGp5oldL3dy2ge54b6Myc4rNjgPARBQwAA4lu+CMhrz1vaqsVi2892qH2gzbYrFoUv+2ahcRpJEfblJBabnZkQCYhAIGwGFk5Zbo9pnrFeLnodkjO6qOr4fZkS6bq4tF/x7cTq4uLnp43lZVVlnNjgTABBQwAA5hX3ahBk3/Ts3q+endOzvI19Nx30Pk6+mmt++I17bDuXppebrZcQCYgAIGwO6lHc3X7TPXq0PTYE0f3t4p9lgMr+OjmUnxem/tfi3emmV2HAAGo4ABsGu7sks1eOZ63diqvl6+vZ3cXZ3nZSs+Mlj/uK2V/m/RdmWcKDQ7DgADOc8rGQCn893ek/q/FUc1JKGxnu/fxqabaZtlaEJj3dgqTPd9nKySskqz4wAwCAUMgF36Ku247np/k25vE6T/uynalD0djWCxWPR8/7aqrLLq74t3mB0HgEEoYADszuKtWbp3drKe7B2txLg6Tlu+fuLr6abpw+P1ecpRLUw+bHYcAAaggAGwKx9vOKjH5m/TpP5tNbJrU7PjGOaKMH/9/ZZW+seSVBZpBWoBChgAuzFj9V49u2SnXku8UrdfFWF2HMMlJkSoY9NgPTqf9cEAZ0cBA2A6q9WqF5ft0r//t1tv33mVbmrbwOxIprBYLHphYKz2nyzSzDV7zY4DwIZsWsDmz5+vIUOGKCkpSZmZmb87XlBQoI4dO2rZsmW2jAHAjlX9ePH5rO8PavbIjup+RT2zI5mqrp+nXhgQq1dW7taOrDyz4wCwEZsVsNzcXC1YsECzZ8/WuHHjNGXKlN99zrvvvqu4uDhbRQBg58oqqvTo/K36cvsxzRvdSVc1CTY7kl24PiZMg66K0EPztqi0nKUpAGdkswKWkpKihIQEubm5KTY2Vvv37//V8ZMnTyozM1Nt27a1VQQAdiy/tFwjPtiozQdPa/69ndW6YaDZkezK+D4xqqyy6uWVu82OAsAGbLaZWl5engIDf35BtVp/fUHpjBkz9Ne//lUrV668rO+blpZWI/lsqbS01CFy1naMk3myiyr0zFfH5O4ivXBjfZWdzFTayfN/bm0ep/uuCtRTK/Ypxq9U0fW8zI5zSbV5rBwJ42QfbFbAAgIClJ7+8yazLi4/T7ZlZmYqPz9f0dHRl13AYmJiaiyjraSlpTlEztqOcTJH2tF8PfHfTYppEKjXh7a/5KbatXmcYmKkHfk79ObmU1r6YKw83ex7D8zaPFaOhHEyTnJy8gWP2ewUZFxcnDZt2qTKykqlpqYqMjLy3LG0tDQdOnRII0eO1JIlSzRjxgzt2bPHVlEA2IllO45q4PTvdF10qN6+46pLli9IT/SOVnFZpV7/OsPsKABqkM1e/YKCgtSvXz8NGzZMbm5umjRpkhYtWqTw8HD17NlTPXv2lCS99tpratGihVq0aGGrKABMVlll1Ssrd2vmmr0a36eV7ugc6fSr29cUP083/WtAW414f5N6ta6vNo24Vg5wBjb972diYqISExPP3f7lLNhPxo4da8sIAEyWV1Kuh+dtUcrhPM0e2VEdo0LMjuRwrmlRTwPah+uJT1K0+IEucndlCUfA0fEsBmAzWzNzdetra3WqqEyfje1K+foT/tYnRicLz+jdtfsv/ckA7B4FDECNq6yy6o1VGRo04zv1iA7V/Hs6q2GQt9mxHFqgt7ueubWV/v2/3ewVCTgBChiAGrU3u1BD3lqv99bu18ykeP3zttbycrfvd+85ij5tG6hTVIieWbzjd0v7AHAsFDAANaKsokqvf71HN037VqH+Xvry4WvUIzrM7FhOxWKxaELfNlq/75S+3HHM7DgA/gTeAw7gT7FarVqVfkLPf7FLhaUVej3xSvVsXd/sWE4rIthHD17fQs9+lqprWtSVv5e72ZEA/AHMgAH4w3Zk5Snp3Y26d/YP6tkqTCsf7Ub5MsBfr4lSoLe7pq5gmyLAUTEDBuCybdyfozdWZejbPdm6Na6hvn6su8Lr+Jgdq9Zwd3XR8/3bavBb36v/lY0UFxFkdiQAl4kCBqBaissqtHTbUX288ZBSs/LU/8pGWvlodzWr52d2tFrpqibBuv2qcP3tv9u1+P4ucmNtMMChUMAAXFBZRZXW7T2pL7cf1Rfbj8nX01W3XxWhN4e1VyOWlTDdk72jdf3U1fpw/UGN7NrU7DgALgMFDMA5VqtVh3KKtS7jlNbtPalvd2erssqqHjFhevn2OPWIDmWmxY4E+Xho/C0xGv/fHbq5bX01CKQUA46CAgbUYvml5dqRlacdWXnanpWvHw6eVlZuiaLq+apLs7qaMihO3a6oxzpedqxfu0ZasPmwJizdqTeHxZsdB0A1UcCAWiKnqEypR/K0Iyv/x9/zdOBUsbzcXdSqQYDaNgrU472uUOeouqof6GV2XFSTxWLRc33b6KZpa/RN+gld2zLU7EgAqoECBjih4rIKJR88rc0HTiv1SJ5Sj+TraF6pfD1c1aphgFo3DNQDPVqobaNANavny2lFB9c81E/3dGumZxanasUjIcxYAg6AAgY4gaoqq7Zk5up/acf1/b5T2n44Tx5uLmrfuI7aNApU33aN1LphgJqE+MrFxWJ2XNjAAz2aa/G2LL25KkOP9mxpdhwAl0ABAxzYjqw8zd+cqWU7jimnqEydm4WoZ6v6euaWVmrTKFDuzGzVGl7urnrutja6Z1ay+l3ZSFEsDwLYNQoY4GDOVFRq8ZYjmr3hoHZk5enalqH6v5uj1SM6TIHebEtTm10XHaoe0aH6++Idmj2yoywWZjsBe0UBAxxEWUWVFiRn6o2vM1RWadXQjo01Y3i8GrIeF37hmVtb6YaXV2vJtiPq266R2XEAXAAFDHAAK3ce17Ofpaq0vEr3do/S8E6RXGiN82oY5K1HbrhCEz9P03XRoQpgs27ALnGBCGDHsnJL9NePNuv+OT9oUHyEvn3iOo26JoryhYu6q0sTBft46GU26wbsFgUMsFOfbslSz5dXq7S8Uise7qaHbmghbw+KFy7N3dVFk/q30azvz14nCMD+UMAAO1NcVqFxC7bpyYUperpPK310d4Ka1PU1OxYczFVNgjWgfSM9/d/tqqyymh0HwG9QwAA7kplTrL6vr9MPh05r8QNdNLRjY97Jhj/sqZtidDCnWHM2HjI7CoDfoIABdmJbZq76v7lOTev66rOxXRVdP8DsSHBwwb4e+r+bovXisl3KLjhjdhwAv0ABA+zAyp3HNfit9botrpGmD4+XjwdvUEbNGBQfoSvC/PX8F2lmRwHwCxQwwGSfbTui+z5O1pO9o/XMra3kylZBqEEuLhZN7NdGn207ovV7T5kdB8CPKGCAiZZsO6JH/rNVk/q11YguTc2OAycV0yBAI7o00d8X71BZRZXZcQCIAgaYZsm2I3ps/lY9/5e2ur1DhNlx4OQevuEKFZZW6O1v95kdBYAoYIApvkk/ocfmb9Wk/m11+1WUL9ier6eb/nFrK7329R5l5hSbHQeo9ShggMFSDufqvo9/0OM9W1K+YKjebeqrU1SI/rkkVVYra4MBZqKAAQY6eKpId3+wSYM7RGh0tyiz46CWsVgseu62NlqbcVIrdh43Ow5Qq9m0gM2fP19DhgxRUlKSMjMzf3Vs7NixGj58uAYMGKAvv/zSljEAu5BXUq4R729Sx6Yh+nufViywClM0DvHRA9c117NLUlV0psLsOECtZbMClpubqwULFmj27NkaN26cpkyZ8qvjU6dO1ezZs/Xhhx/q1VdftVUMwC5UVln10Lwt8vNy09Tb4+TCUhMw0ejuUfLycNWrX+0xOwpQa9msgKWkpCghIUFubm6KjY3V/v37f3Xcw8NDklRcXKwWLVrYKgZgF6auSNeOrDzNGB4vL3c21Ia5PN1cNbFvG727dr/SjxWYHQeolWy23HZeXp4CAwPP3T7fBZ8jRozQrl279Oijj1b7+6al2f9qzqWlpQ6Rs7Yzapy+PVCot749ock9Gyrv6AHlHbX5QzoVnk+2UUdS10hfPTZno17s3aBGTokzVo6BcbIPNitgAQEBSk9PP3fbxeX3k23vv/++8vPzNWjQIPXu3Vv+/v6X/L4xMTE1mtMW0tLSHCJnbWfEOO0/WaRpc7/VP25ro0GdIm36WM6K55PtvBjeVNdPXa3UYn8NqoF35DJWjoFxMk5ycvIFj9nsFGRcXJw2bdqkyspKpaamKjLy5398qqqqVF5eLkny8vKSp6enPD09bRUFMMWZiko9MOcHXRsdquEdG5sdB/idUH8vjevVUpO/3KXTRWVmxwFqFZvNgAUFBalfv34aNmyY3NzcNGnSJC1atEjh4eFq27atRo8eLUkqLy/XqFGjzl0TBjiLyV/sUn5puSb/pS3veITdGtYxUgs2H9YLy3bpXwNizY4D1Bo2K2CSlJiYqMTExHO3fzkLNmvWLFs+NGCqFanH9PGGg1pw79UK8HI3Ow5wQa4uFj3fv636v7lOt8U11NXN65odCagVWIgVqGFHcks07pMUPdErWu0igsyOA1xS2/BA/bVblJ5clMLaYIBBKGBADaqqsurh/2zVlY2DNLJrU7PjANX20PUt5OHqopeWp1/6kwH8aRQwoAa9t26/9hwv0IsDY1lsFQ7Fy91VLw6M06zvD2rj/hyz4wBOr1oFbNu2bbbOATi8jBMFenF5uib1b6tQfy+z4wCXLT6yjkZc3URPfLJNJWWVZscBnFq1Ctjbb7+tW2+9VdOnT1dWVpatMwEOp7yySo/O36berevr5rYNzI4D/GGP9WwpSXp5JaciAVuqVgF7/fXXNWvWLAUEBOixxx5TUlKSFixYoMLCQlvnAxzCm6v26lheqZ7r29rsKMCf4u3hqhcGxOq9dQf0w6HTZscBnFa1rwELCgrS9ddfrx49eujo0aNavXq1hgwZovfee8+W+QC7tyMrT699vUcvDIxVkA/r2cHxdYwK0fCOjfX4Ak5FArZSrQK2cOFC3XHHHXr00UcVFBSkTz/9VK+//roWLVqk2bNn2zojYLfKK6v0+IJtGhgfrutahpodB6gxT94ULatV+teX7BkI2EK1FmI9cOCA/vnPfyoqKupX93t4eOjNN9+0STDAEby1Zp9OF5fpb33YVw3OxcfDTa8MbqeB079Tj5gwdb+intmRAKdSrRmwrKys35WvRx99VJIUHR1d86kAB7A3u1DTvtqjCX3bsNo9nFK7iCA90KO5xi3Yxl6RQA27aAGrqqpSWVmZ9u3bp/LycpWVlamsrEw5OTlKS2NaGrVXVZVVTy1M0Y0xYerZur7ZcQCbeeC65moQ5K2nP90uq9VqdhzAaVz0FOSsWbP04Ycf6sSJE+rdu/e5J5+fn5+GDh1qSEDAHs3ZeEi7jxfqjWHtzY4C2JSbq4v+Pbidbp72rRb9kKUB8eFmRwKcwkUL2J133qk777xTH3/8sYYNG2ZUJsCuHc0r0b++3KVnbm3FgquoFZrW9dXfb2mlZxbv0JWNgxRVz8/sSIDDu2gB27p1q9q1a6fIyEitXbv2d8e7du1qs2CAPbJarfr7pzsUFxGoQcwEoBZJTIjQur0n9cCcLVp039Xycnc1OxLg0C5awNasWaN27drp888/P+9xChhqm8+3H9XajJNa8XB3WSzs9Yjaw2KxaPJf2uqWV9fq+S/S9FzfNmZHAhzaRQvYgw8+KEmaPHmyIWEAe3a6qEz/XJKqx25sqcYhPmbHAQwX4OWu14deqYHT1+vqZiHq3YZtt4A/qlrLUEyePFmFhYUqKytTUlKSunXrpoULF9o6G2BXJn2RpgaB3hrRpYnZUQDTxIYH6cmbojXukxRl5hSbHQdwWNUqYBs2bJCfn5/+97//qVmzZlq+fLk+/PBDW2cD7Ma3e7L16ZYsvTAgVm6u1d7BC3BKd3dpoo5NQ3Tfxz+otJytioA/olr/kpw5c0ZlZWVatmyZevXqJW9vb1vnAuxGcVmF/vbf7RrdLUqtGgaYHQcwncVi0dTb41RQWq7xn+5gfTDgD6hWARs8eLC6d++ukpISderUSUeOHJGvr6+tswF24eUVu+Xu4qIHr29hdhTAbgR6u2tm0lX6YvtRzf7+oNlxAIdTrb0g77rrLt11113nbjds2FCzZs2yVSbAbmzLzNX73x3QnFEdeds98Bst6/vrpYFxevg/WxTdIECsDgZUX7UK2PHjxzV37lxlZWWpqqrq3P1Tp061WTDAbGUVVXpyYYqGdIhQx6gQs+MAdqlPbANtz8rTmNk/6JXeYWbHARxGtQrYmDFjdOutt6pTp05yceECZNQOM1fvVW5xuZ66iQ3ngYsZ16ulUo/k6blVx7U4NkY+HtX6pwWo1ar9LBkxYoQtcwB2JeNEgV77OkNvDmsvfy93s+MAds3VxaLXh7bXrf9epYfmbdWM4fFydWGhYuBiqjWddfXVV2v69OlKT0/X/v37z/0CnFFVlVVPLdyunq3DdEMrTqkA1RHo7a7nbqivLYdOa/IXaWbHAexetWbAtm3bJkn67rvvzt1nsVj00Ucf2SYVYKLZGw4qI7tQM5LizY4COJQwP3e9c2cHDXlrvSJDfJTUuYnZkQC7Va0CxjseUVtk5ZbohS936bm+bVTXz9PsOIDDaRcRpH8PvlJj5/6ghkHeuj6GWWTgfKp1CvLgwYO69957NXDgQEnS7t279fbbb9s0GGA0q9Wq8f/drvaRdfSX9o3MjgM4rN5t6uv/borRfR//oA37TpkdB7BL1SpgTz/9tO6//35VVFRIklq0aKHFixfbNBhgtE+3ZmnD/hw937+tLBYuIAb+jLu7NtU93Ztp5Iebtf1wntlxALtTrQJWWlqqtm3bnrttsVjk6sqilHAex/JK9Y/FqXrqpmhFBPuYHQdwCo/c0EID48N1x3sblHGiwOw4gF2pVgELDQ1VWlrauVmB+fPnKyIi4pJfN3/+fA0ZMkRJSUnKzMw8d39+fr7uvPNODR06VImJiUpNTf2D8YE/z2q16smFKYoND9LwjpFmxwGchsVi0TO3tFKP6DANf2ejMnOKzY4E2I1qFbAJEybonXfeUXZ2tq655hqtX79ezz777EW/Jjc3VwsWLNDs2bM1btw4TZky5dwxDw8Pvfjii5ozZ44mTpz4q2OA0eZtytQPB0/rhYGxcmHtIqBGubhY9MKAtmoXEaTBM9frwMkisyMBdqFa74IMCQm57G2HUlJSlJCQIDc3N8XGxv5q3TAvLy95eXlJOlvGOJ0Js2TmFGvi0p36522t1SjI2+w4gFNyc3XRa0Ov1MP/2arBb63XnL92UrN67ByJ2u2SBWzt2rWaM2eODh48u9t906ZNNWTIEHXt2vWiX5eXl6fAwMBzt61W6+8+x2q1avLkyRo1alS1A6el2f8Cf6WlpQ6Rs7YrLinREx+uV5tQT7X2KWDM7BTPJ8dxqbEaE+elqYXuGvjGWk3u2UCRdTwMTIef8JyyDxctYMuWLdPUqVN1//33Kzr67H54u3bt0nPPPafHHntMvXr1uuDXBgQEKD09/dzt8+0hOWnSJCUkJKhTp07VDhwTE1PtzzVLWlqaQ+Ss7SZ+sl6ZBZVa8UgXhfp7mR0HF8DzyXFUZ6zeiTl7zeXfvjqhj+5OUJtGgRf9fNQ8nlPGSU5OvuCxi14D9v7772vGjBnq16+foqOjFR0drX79+mnGjBl67733LvqgcXFx2rRpkyorK5WamqrIyF9f3Dxjxgy5urrqrrvuqv6fBKgh2zJz9cEPOXpxQCzlCzCQq4tFLw6I1S2xDTR45nqt2Z1tdiTAFBedASsoKFCzZs1+d39UVJTy8/Mv+o2DgoLUr18/DRs2TG5ubpo0aZIWLVqk8PBwRUREaNq0aYqPj1dSUpJCQ0Mv+xoz4I8qKC3X2LlbdFOLAPVsXd/sOECt4+Ji0bO3tVb9QC+N/HCT/vWXWA2IDzc7FmCoixawny6Uv9xjP0lMTFRiYuK527+cBeP8M8xgtVo1/tMd8vFw1agOwWbHAWoti8Wi+65trvoBXnpyYYqO5ZfqvmubsQgyao2LFrD09PQLXmyfm5trk0CALX2SfFgrUo/rs7FdVX4q89JfAMCm/tI+XKH+Xrp3drL2ZRdpUv828nLnnfFwfhctYCyQCmeScaJA/1iSqmdva63moX5KY4s6wC50bVFXi+67WqM/2qzBM9drRlK8GgSyLAycW7UWYgUcXX5puUbPSlav1vU16CquNQHszRVh/lp8f1cF+Xjo1tfWafOBHLMjATZFAYPTq6qy6tH/bJO3uysbbQN2LNDHXe/d1UED48M19O0Nenft/vOuIQk4g2qthA84sle/3qPkgzla8kBXeXtwbQlgz1xdLHrqpmjFhQfqiYUpWr/3pF4aGKc6vizaCufCDBic2pfbj+r1rzP0xtD2igj2MTsOgGq6qW0DffHgNTpVVKabpn2rDfu4aBPOhQIGp5V8MEcP/2er/nFba13dvK7ZcQBcpohgH82/p7P6t2+kYe9s0L++3KXS8kqzYwE1ggIGp7T/ZJFGfbhZI7o0VVKnyEt/AQC75O7qoid7R2vWyI5amnJEt762VtsyWQYJjo8CBqeTXXBGI97fqK4t6umJXi3NjgOgBnRuFqLlD3dTx6hgDZj+nV5avktnKpgNg+OigMGpnCo8o2HvfK+GQd6aMihWLi684xFwFr6ebprYr60+GJGgT7cc0W2vrVPywdNmxwL+EAoYnEZucZmGv7tRQT4eeufOq+TpxjseAWfUtUVdLXv4GiU0DdbtM9frqYUpOl1UZnYs4LJQwOAUTheVafi7G+Tt7qL37uogHw9WWAGcmb+Xuyb0a6NFY65W6pF8Xf/yas3fnMm6YXAYFDA4vMOnizVgxnfydHPVB3cnyM+T8gXUFnERQfr0/i566PoWmvDZTt0+c73SjxWYHQu4JAoYHNquY/kaMP07RdX108ejOirAy93sSAAM5upi0Z1XN9FXj3dXwyBv9Xn1Wz37WaryisvNjgZcEAUMDuurtOMaNGO9ekSHasbw9vJy55ovoDYL9ffStCFXavaojvp+X46unbJKs74/qIrKKrOjAb9DAYPDqayyasrydN0zK1kPXNdcz/dvKzdXfpQBnNUpKkRLx3bVuF7RemXlbt3y2lp9l3HS7FjAr3CxDBzKsbxSjftkm9KO5mvWyI7q3CzE7EgA7JCri0VDOzZWn9gGevWrPbrjvY26ISZMf7s5Ro1D2JYM5mPaAA7BarXqP5sO6caXV6uyyqqlY6+hfAG4pEBvd/39llZa9nA3lVZU6oZXVuul5btUdKbC7Gio5ZgBg91LO5qviZ/vVEpmnv7WJ0ZDOkTIYmGBVQDV1zzUTx+MSNCqXSc0YelOLdh8WE/2jlb/KxuxYDNMQQGD3crKLdHLK3brv1sO6+a2DbTi0W5qEOhtdiwADuy66FB1aV5XH60/oH8uSdWs7w/qub6tFRseZHY01DIUMNidbZm5en/dfi1NOaoOTYL13/u6KC6CF0cANcPDzUWjrolSvysb6aVl6er/5ne6/aoIjevVUsG+HmbHQy1BAYNdOJFfqs+3H9WnW49o++Fc9WpdX3P+2kkdmtThdCMAm1+3DbAAACAASURBVKjr56kXBsYqsWNjPbN4h3pM/UaP92ypxITGcuW0JGyMAgZTlFVUaWtmrr7be1LrMk5q88HTiqrrq1tiG+qNoVcqvA7vUgJgjHYRQfrvfV00f3OmXly2S/M2HdKzt7VRfGQds6PBiVHAYBNWq1VFZZU6VXhGp4rKlFNYpn0nC7XraIF2Hs3X3uxCWSwWxTeuo24t6um5vm0UXd+f2S4ApnB1sSgxobFualNfU1ak6/aZ69X/ykZ6sne06vl7mh0PTogChmqxWq0qOFOhnMIynSo6o1OFZcopKjtbrorKfi5aRT/fX1ZxdvVpF4sU7OuhyBBfRdf31/BOkYpp4K/WDQNZvR6AXQny8dDEfm01pMPZ05LXT/1GT/eJ0e1X8e5r1CwKGCRJVVVWHc0v1b7sQu0/WaRDp4p1LL9UJ/LP6Fh+qY7nl+rMj4XKzcWiYF8PBft6KMTPQ8G+ngrx9VBUPT8F+3qo7o/3Bft6KMTXQ4He7rzNG4BDadMoUJ/ce7XmbjqkiUvT9N8tWXq+f1tF1fMzOxqcBAWsFqqqsioju1Aph/OUcjhXKYfztOtYvkrLq+Tr4aqoen5qHOKj+gFeig0PVFiAl+oHeKmev6dCfD0V4O3G/wQBOD0XF4uGdYzUDTFh+ueSVPWe9q0e7NFco7s1k4cb65jjz6GA1QJWq1X7TxZp3d5TWr/3pNbvPaXTxeVqWtdXbRsF6pbYBnqiV0s1C/VTqL8n5QoAfiEswEvTh8drReoxPbM4VZ9tO6p/DWirKxtzkT7+OAqYk6qqsmrb4VwtTz2uFanHtO9kkVqE+qlL87r614BYdWoaokAfd7NjAoDD6Nm6vjo3C9FLy9M1cMZ63dE5Uk/0ipa3B9ey4vJRwJzM7uMFWph8WIu3HlF24Rl1jgrRiC5NdGOr+qof6GV2PABwaP5e7nqubxv1bddQjy9I0Tfp2ZoyKFbxkcFmR4ODsWkBmz9/vhYtWiR3d3c9//zzioiIOHfsueee04oVK9SzZ08988wztozh9PJLy/Xplix9knxYKYfz1CkqWI/2vEI9W4UpyIdVnQGgpsVHBuuLB6/RS8vTNXjm9xrZtakeufEK3tmNarNZAcvNzdWCBQs0d+5c7dy5U1OmTNG0adPOHb/nnnvUs2dPrVixwlYRnF7GiUJ9tP6AFiYfVh1fDw2Kj9AbQ9srIphFTAHA1rw9XPXMra3Uq3WYHv9km77adUJTB8WxdRqqxWYFLCUlRQkJCXJzc1NsbKz279//q+NhYWE6cOCArR7eaVmtVn2zO1vvrzugb/dkq0uzuvr3kCvVIzqUrTMAwAQdo0K07KFumvxlmgZM/073dm+msdc3l6cbs2G4MJsVsLy8PAUGBp67bbVaa+T7pqWl1cj3saXS0tIaz1lZZdV3h4o0LyVXWfnlur6Zn6bfGq7IOh6ScrQ7PadGH682sMU4oeYxTo6jto/VsJZuauUfpn9/d0Cfbz2kcV3rqWmw/a2iX9vHyV7YrIAFBAQoPT393G0Xl5pZMyUmJqZGvo8tpaWl1VjOisoqLdl2RG+sytDx/DO68+pI3d2lqUL87O9J7WhqcpxgO4yT42CspJgY6ZYu5Xrus516+IsjeuTGKzS6W5RdnaFgnIyTnJx8wWM2K2BxcXF68803VVlZqV27dikyMtJWD+WUKiqr9EnyYb35zV7ll5br7i5NdWfnJiwdAQB2LsDLXVMGxenGVmH626Lt+irtuKbeHqfIEF+zo8GO2KyABQUFqV+/fho2bJjc3Nw0adIkLVq0SOHh4UpISND06dO1cuVKnTp1SgcPHtS7775rqygOxWq1annqMb24LF25JeW6p1uUhnWKlJ8nK4YAgCPp1bq+4iPr6G+Ltuumad/q6T4xGprQmMWuIcnGy1AkJiYqMTHx3O1fzoKNGTNGY8aMseXDO5yN+3M0+cs07TpaoL9e01R/7RYlfy9mvADAUdX189TMpHgt/CFLzy5J1YrU43pxYKzCAliXsbZjMys7sPt4gUZ9uEmJb3+vVg0CtPqJa/Voz5aULwBwAhaLRQPjw7XskW4qr6xSz1fW6LNtR8yOBZNxXstER/NK9MrK3Vr4Q5Z6tgrTyke6Kaqen9mxAAA20CjIW7NHdtSH6w/o8QXbtGLncU3o25oFs2spZsBMkFdSrn99uUvXvvSNDpwq1oJ7O2v68HjKFwA4ORcXi0Z0aarPH7xGB08Vqecra/RN+gmzY8EEzIAZqLS8UrPWH9TrqzIUFuCpN4e1V4/oUC7IBIBapnmonxaOuVpvrtqrUR9u1uAOEfrbzTHy5Q1XtQYjbYDKKqs+3ZKll1fuVpXVqqf7xGhA+3C7WhcGAGAsd1cXPXRDC10XXU+Pzt+mm1/9VlMHxemqJmzsXRtQwGzop22DXvhyl47klui+65rrrqubsFkrAOCc2PAgLR3b9ezG3m99r9HdovTwDS3YysjJUcBsJOVwriZ/sUvJh07rrqub6L5rm3GhJQDgvLzcXfX3W1rp+phQjVuQolW7TuiVwe0U0yDA7GiwES7Cr2H7sgs1efVx9XtjnRoGeWvV49fqbzfHUL4AAJd0dbO6WvbwNWrbKFC3vb5Wb36ToYrKKrNjwQaYAashx/JKNe2rPZq/OVPxDb31+YPX8D8XAMBl8/dy10uD4tSzdX3936IULd12VJP/0lZxEUFmR0MNooD9SbnFZZq+eq8+WHdAbRsFat7oTvIrOU75AgD8KTe2ClNCk2v1r2W79Jfp32lYx8Z6vFdLBbBIt1PgFOQfVFxWoTdWZeiaF1dpdXq2pg9vrwX3dlYH3r0CAKghgT7umvyXtpp/Tydt2JejG6au1tKUI7JarWZHw5/EDNhlKi2v1H82Zer1VRnycnfRhL5tdFtcQ7mwpAQAwEbiI4O19MGuenftfo1bkKLZ3x/U+D6t1KZRoNnR8AdRwKqptLxSczYc0ozVe2WxSGN7NNeQDo3l4cYkIgDA9txdXXRv92bq266hXlqWrr5vrNOA9o30eM+WCmVzb4dDAbuEkrJKfbzhoGau2Sc3F4vG9miuQVdFsJYXAMAUDQK99fLgdrrj6iaasHSnrp3yje67tplGdGnKSvoOhJG6gLyScs3ZcEjvrt0vTzcXPXR9Cw26KpyF8QAAdqFdRJA+ubezlqYc1YvLd+n9dQc05tpmGt4pkkkCB0AB+42s3BK9t3a/5m08pLAALz3W8woNaB/OqUYAgN2xWCy6Na6hereprwWbD+v1r/do5pp9uu/aZhrSobG8PShi9ooC9qMdWXl6+9t9WppyVFdGBOmVwe10Q0wYF9cDAOyeu6uLhnZsrAHxjfSfTZma/s1evfrVHt3RuYnu6BypED9PsyPiN2p1ATtTUallO47p4+8PafPBHPVsVV/z7+ms+Mg6ZkcDAOCyebq56o7OTTSkQ2MtTTmit9bs04zVezUwPlzDO0WyRqUdqZUFLDOnWHM3HtJ/NmWq0mrV7VdF6KVBsYoM8TU7GgAAf5qHm4v+0j5c/a9spNW7s/X+ugO6+dVvdWVEkK6NcFfT5pVcJ2ayWlPAzlRUatWuE5q/+bBWpZ/QlRFBerpPjG5u24AfQgCAU7JYLLq2ZaiubRmqzJxizdt0SO+vP6C3k/+nm9rUV992jdQpKkSuXG5jOKcuYFarVckHT2vRlix9nnJUVqtVt8Y11NKxXdW6IYvXAQBqj4hgH43rFa1ejap03CVEn27N0t0fbFKgt7tubttAN7YKU4cmwbzpzCBOV8CsVqt2Hy/U59uP6tMtWTqaV6LrWobqhQFtdV10KMtIAABqNXdXi26MCdONrcJUeKZCy3cc05c7jmrkh5vk7uKiblfU0/Uxoep+RT0u3rchpyhgVVVWbT2cq+U7jml56jEdOFWs+Mg6+us1TXVLbEPV8fUwOyIAAHbHz9NNA+LDNSA+XKXllfpu70n9L+2EXlyWrkfnb1PLMH91igpWx6gQdWwaTCGrQQ5bwArPVOj7vaf0ze4TWrnzuE4VlqlzsxCNuiZKPVuFsS0DAACXwcvdVT2iw9QjOkzWflZlnCjU9/tO6fv9OXpm8Q6dLCxTVF1fxYYHKjY8SLHhgWrdMJC1xv4ghytgb6zK0Ord2frh4Gn5eLiqS/O6erJ3tK6PDlOgj7vZ8QAAcHgWi0UtwvzVIsxfSZ2byGo9W8i2HMrVtsO5+nRrliZ/mabKKquuCPNXqwYBahHmryvC/HRFmL8aBXmzjuYlOFwB+3rXCV3Toq6euilasY0C5ebKxYIAANjSLwvZ7R0iJJ1dXSD9WIG2Hc7TrqP5WrXrhGau2avc4nL5eLiqeejZMhZVz1dNQnwVGeKjJiG+7Ff5I4f7W1g45mqzIwAAUOt5urn+eCoy6Nx9VqtV2YVntOd4oXYfL9Du44Vasztbs04d1NG8UklSPX9PNQnxUWSIr5qE+KhJ3bMFLaKOjwK83WSx1I6ZM4crYAAAwD5ZLBaF+nsp1N9LXZrX/dWx0vJKHcop1oGTRTp4qlgHThVp/b5TmrsxU0fySmS1Sv6ebmpUx1vhdXwUXsf7x19nP44I9lGgt/NcakQBAwAANufl7qorwvx1RZj/746dqajU0dxSHT5doszTxTp8uliHT5doe1aeDp8u1vH8M5Ikfy+385azRkHeahjkrTo+7g4zg0YBAwAApvJ0cz17KrLu+bcELC2v1JHcEh0+/dOvswVtW2auMk+XKLvgzI/fx0UNAr1UP9BLDQO9VT/QSw2CvNUg4Mf77Kik2bSAzZ8/X4sWLZK7u7uef/55RUREnDuWkpKi559/XlarVffee6+uu+46W0YBAAAOysvdVVH1/BRVz++8x0vLK3U8v1RH80p1LK9UR/JKdCyvVHtOFGrNnmwdyyvVycIyST+XtNAAL9Xz91Q9P0/V9fNQXT9P1fXzVD1/T9X1P3ufLRdvt1kBy83N1YIFCzR37lzt3LlTU6ZM0bRp084dnzx5sqZNmyY/Pz8NGzZM3bp1k6sra4kAAIDL4+XuqsgQX0WGnH8GTTp7mvN43hkdzSvRsfzSH0vZGZ0sLNPe7EJlF5zRycIzyikqU5X17Nf4e7kpxNdDgT4eCvR2V6C3u4J++t3HXQG/uM/Py02+Hm7y8XCVj6ebfC6xz7TNClhKSooSEhLk5uam2NhY7d+//+e/hDNnVFlZqbCwMElSkyZNdODAATVr1sxWcQAAQC3m6eaqxiE+ahzic9HPq6yyKqeo7MdydraQ5ZWUK6+4XHkl5cotKdex/NLf3Fem0vKq332vhYPqX/BxbFbA8vLyFBj484bXVqv13Me5ubny9//5IryAgADl5eVV6/umpaXVXEgbKS0tdYictR3j5BgYJ8fBWDkGxqn66kqq6ynJU1KQJFkkefz469cqq6wqrbCqpLxKpRVVKqmwSqq84Pe2WQELCAhQenr6udsuLj8vmBoYGKiCgoJztwsKCn5V1i4mJiam5kLaSFpamkPkrO0YJ8fAODkOxsoxME7GSU5OvuAxmy0jHxcXp02bNqmyslKpqamKjIw8d8zLy0uurq46ceKEiouLdfDgwV8dBwAAcGY2mwELCgpSv379NGzYMLm5uWnSpElatGiRwsPDlZCQoKeeekoPPvigrFar7r//frm5sSIGAACoHWzaehITE5WYmHju9i9nueLi4jRv3jxbPjwAAIBdYidrAAAAg1HAAAAADEYBAwAAMBgFDAAAwGAW6y9XSLVzF1tPAwAAwN7Ex8ef936HKmAAAADOgFOQAAAABqOAAQAAGIwCBgAAYDAKGAAAgMEoYAAAAAajgAEAABiMAgYAAGAwClgN2rJliwYPHqzhw4dr9OjRys/PNzsSzuPkyZMaMmSIhg8frsTERO3evdvsSLiIzZs3q2XLlsrJyTE7Ci6gXbt2SkpKUlJSktasWWN2HFxESkqK7r77biUlJemdd94xO06txkKsNej48eMKCAiQt7e35s6dq9zcXI0ZM8bsWPiNyspKWSwWubi4aMOGDVqwYIGmTJlidixcwNixY3XkyBG9/fbbCg4ONjsOzuOWW27R0qVLzY6BSygrK9MDDzygadOmydvb2+w4tR4zYDUoLCzs3A+1u7u7XF1dTU6E83F1dZWLy9kf/YKCAkVHR5ucCBeyatUqxcfHy8fHx+wouIijR49q2LBheuyxx3T69Gmz4+ACtm7dKi8vLz344IO6++67tWvXLrMj1WoUMBs4ffq05syZo4EDB5odBReQkZGhIUOGaMKECUpISDA7Ds6jqqpKc+bMUWJiotlRcAkrV67Uxx9/rM6dO+uVV14xOw4u4MSJE8rIyNC0adP09NNP69lnnzU7Uq1GAathJSUleuihhzR+/HhOl9ix5s2ba968eZo5c6YmTJhgdhycx2effaYePXrI09PT7Ci4hJ9e6/r06aO0tDST0+BCAgIC1L59e/n4+KhZs2YqLCw0O1KtRgGrQRUVFXrkkUeUlJSk9u3bmx0HF1BWVnbuY39/f3l5eZmYBheye/duLV++XCNHjlR6eroef/xxsyPhPIqLi1VZWSlJ2rhxoyIjI01OhAuJi4vT/v37VVVVpezsbHl4eJgdqVZzMzuAM1m6dKk2b96soqIiffTRR+revbtGjRpldiz8RmpqqqZOnSqLxSJJeuqpp0xOhPMZN27cuY+TkpJ4o4Sd2rdvn8aPHy8/Pz95eHho4sSJZkfCBQQGBqp///4aPny4KioqeO0zGe+CBAAAMBinIAEAAAxGAQMAADAYBQwAAMBgFDAAAACDUcAAAAAMRgEDAAAwGAUMAADAYBQwAAAAg1HAAAAADEYBAwAAMBgFDAAAwGAUMAAAAINRwAAAAAxGAQMAADAYBQwAAMBgFDAAAACDUcAAAAAMRgEDAAAwGAUMAADAYBQwAAAAg1HAAAAADEYBAwAAMBgFDAAAwGBuZge4HMnJyWZHAAAAqLb4+Pjz3u9QBUy68B/EnqSlpSkmJsbsGLgExskxME6Og7FyDIyTcS42ccQpSAAAAINRwAAAAAxGAQMAADAYBQwAAMBgFDAAAACDUcAAAAAMRgEDAAAwGAUMAADAYBQwAAAAg1HAAAAADEYBAwAAMBgFDAAAwGAUMAAAAINRwAAAAAxGAQMAADAYBQwAAMBgFDAAAACDuZkdAMClFRYWqrS01OwYpsjNzdXJkyd/dV9lZaVcXV1NSvTneXl5yc/Pz+wYAExEAQPsXGFhoW4fkqjiwgKzo6CG+Pj5a/68uZQwoBajgAF2rrS0VMWFBSpqdZus7j5mxzGdpbxEvjsXq6hVX1ndvc2Oc9ks5cXSziUqLS2lgAG1GAUMcBBWdx9ZPShgP7G6e/P3AcBhcRE+AACAwShgAAAABqOAAQAAGIwCBgAAYDAKGAAAgMEoYAAAAAajgAEAABiMAgYAAGAwChgAAIDBKGAAAAAGo4ABAAAYjAIGAABgMAoYAACAwShgAAAABqOAAQAAGIwCBgAAYDAKGAAAgMEoYAAAAAajgAEAABiMAgYAAGAwChgAAIDBKGAAAAAGo4ABAAAYjAIGAABgMAoYAACAwShgAAAABqOAAQAAGIwCBgAAYDAKGAAAgMEoYAAAAAajgAEAABiMAgYAAGAwChgAAIDBKGAAAAAGo4ABAAAYjAJmgIqKCrMjAABqGK/t+DMoYDZWUFCgvn37qqCgwOwoAIAawms7/iwKmI2dOXNGRUVFOnPmjNlRAAA1hNd2/FkUMAAAAINRwAAAAAxGAQMAADAYBQwAAMBgFDAAAACDUcAAAAAMRgEDAAAwGAUMAADAYBQwAAAAg1HAAAAADEYBAwAAMBgFDAAAwGAUMAAAAINRwAAAAAxGAQMAADAYBQwAAMBgFDAAAACDUcAAAAAMRgEDAAAwGAUMAADAYBQwAAAAg1HAAAAADEYBAwAAMBgFDAAAwGAUMAAAAINRwAAAAAxGAQMAADAYBQwAAMBgFDAAAACDUcAAAAAMRgEDAAAwGAUMAADAYBQwAAAAg1HAAAAADOZwBezUqVNmRwAAABeQkZGhPn36KCMjw+wods3hCthHH31kdgQAAHABEydOVFFRkSZOnGh2FLvmcAVs2bJlzIIBAGCHMjIydODAAUnSgQMHmAW7CDezA1yuyspKffTRR3rkkUfMjnJZcnJyzI6A38jNzdXJkyfNjnFJ/Ow4J2ccV0d5TtUEZxy/mvDbWa+JEyfqgw8+MCeMnXO4AlZRUaGVK1c6TAGrqKiQJI0ePdrkJHB41iqzE6Am/DiOvCY4h59e43HWT7NfF7qNnzlcAXNzc9ONN95odoxqc3M7+1f81ltvKTg42OQ0+KU9e/aoRYsWZse4pJycnLP/WFsc7ooBnM+P4+iMrwmO8pyqCT89L396jcdZTZo0+VXpatKkiWlZ7J3D/eS4urrqjjvuMDvGZQsODlbdunXNjoFfyM7OZkxgGmd8TeA5hfHjx2vUqFG/uo3zc7j/Uvfu3VshISFmxwAAAL/RvHnzc7NeTZo0UfPmzc0NZMccroA54uwXAAC1xfjx4+Xr68vs1yU43ClIZr8AALBfzZs31+eff252DLvncDNgAAAAjo4CBgAAYDAKGAAAgMEoYAAAAAajgAEAABiMAgYAAGAwChgAAIDBKGAAAAAGo4ABAAAYjAIGAABgMAoYAACAwShgAAAABqOAAQAAGIwCBgAAYDAKGAAAgMEoYAAAAAajgAEAABiMAgYAAGAwChgAAIDBKGAAAAAGo4ABAAAYjAIGAABgMAoYAACAwShgAAAABqOAAQAAGIwCBgAAYDAKGAAAgMEoYAAAAAajgAEAABiMAgYAAGAwChgAAIDBKGAAAAAGo4ABAAAYjAJmY56envL19ZWnp6fZUQAANYTXdvxZbmYHcHb+/v5avHix3Nz4qwYAZ8FrO/4sZsAMwBMUAJwPr+34MyhgAAAABqOAAQAAGIwCBgAAYDAKGAAAgMEoYAAAAAajgAEAABiMAgYAAGAwChgAAIDBKGAAAAAGo4ABAAAYjAIGAABgMAoYAACAwShgAAAABqOAAQAAGIwCBgAAYDAKGAAAgMEoYAAAAAajgAEAABiMAgYAAGAwChgAAIDBKGAAAAAGo4ABAAAYjAIGAABgMAoYAACAwShgAAAABqOAAQAAGIwCBgAAYDAKGAAAgMEoYAAAAAajgAEAABiMAgYAAGAwChgAAIDBKGAAAAAGo4ABAAAYjAIGAABgMAoYAACAwdzMDgCgeizlxWZHsAuW8pJf/e5oGEcAEgUMsHteXl7y8fOXdi4xO4pd8d252OwIf5iPn7+8vLzMjgHARBQwwM75+flp/ry5Ki0tNTuKKfbs2aMWLVr86r7Kykq5urqalOjP8/Lykp+fn9kxAJiIAgY4AD8/v1r7D3Z2drbq1q1rdgwAqFFchA8AAGAwChgAAIDBKGAAAAAGo4ABAAAYjAIGAABgMAoYAACAwShgAAAABqOAAQAAGIwCBgAAYDAKGAAAgMEoYAAAAAajgAEAABiMAgYAAGAwChgAAIDBKGAAAAAGo4ABAAAYjAIGAABgMIvVarWaHaK6kpOTzY4AAABQbfHx8ee936EKGAAAgDPgFCQAAIDBKGAAAAAGo4ABAAAYjAIGAABgMAoYAACAwShgAAAABqOA1aAtW7Zo8ODBGj58uEaPHq38/HyzI+E8Tp48qSFDhmj48OFKTEzU7t27zY6Ei9i8ebNatmypnJwcs6PgAtq1a6ekpCQlJSVpzZo1ZsfBRaSkpOjuu+9WUlKS3nnnHbPj1GqsA1aDjh8/roCAAHl7e2vu3LnKzc3VmDFjzI6F36isrJTFYpGLi4s2bNigBQsWaMqUKWbHwgWMHTtWR44c0dtvv63g4GCz4+A8brnlFi1dutTsGLiEsrIyPfDAA5o2bZq8vb3NjlPrMQNWg8LCws79ULu7u8vV1dXkRDgfV1dXubic/dEvKChQdHS0yYlwIatWrVJ8fLx8fHzMjoKLOHr0qIYNG6bHHntMp0+fNjsOLmDr1q3y8vLSgw8+qLvvvlu7du0yO1KtRgGzgdOnT2vOnDkaOHCg2VFwARkZGRoyZIgmTJighIQEs+PgPKqqqjRnzhwlJiaaHQWXsHLlSn388cfq3LmzXnnlFbPj4AJOnDihjIwMTZs2TU8//bSeffZZsyPVahSwGlZSUqKHHnpI48eP53SJHWvevLnmzZunmTNnasKECWbHwXl89tln6tGjhzw9Pc2Ogkv46bWuT58+SktLMzkNLiQgIEDt27eXj4+PmjVrpsLCQrMj1WoUsBpUUVGhRx55RElJSWrfvr3ZcXABZWVl5z729/eXl5eXiWlwIbt379by5cs1cuRIpaen6/HHHzc7Es6juLhYlZWVkqSNGzcqMjLS5ES4kLi4OO3fv19VVVXKzs6Wh4eH2ZFqNTezAziTpUuXavPmzSoqKtJHH32k7t27a9SoUWbHwm+kpqZq6tSpslgskqSnnnrK5EQ4n3Hjxp37OCkpiTdK2Kl9+/Zp/Pjx8vPzk4eHhyZOnGh2JFxAYGCg+vfvr+HDh6uiooLXPpPxLkgAAACDcQoSAADAYBQwAAAAg1HAAAAADEYBAwAAMBgFDAAAwGAUMAD/3979g6T2xnEcf2sgEk5iSJDDwaAhWqqlopAahJZCCiRqbKpoaIgGkYr+DBJBONR2BmsQa20sIqqlwe1AEUSLixWkKJjdTe4d7u92f928V/u8psM5h+95nuXw4Xl4nkdERKpM+4CJSM3p6+vj/Pz8j9cdHBzE5XJV9ojb29vD6/X+8e+IiCiAiYh8J5lM/tbxR6+vrzQ0NHxii0SkHimAiUhdOD09JRaL8fb2RjAYZG5uDoD9/X1M08TtdtPU1EQgECAUCr2r5v39PYuLixQKBRwOB+vr6/j9fg4PDzk5OSGbzeL1ellaWiISyookAgAAAhFJREFUiZDJZHA6naytrWEYxmd2V0RqnAKYiNS8QqHA8vIyiUQCj8fD1NQUPT09+Hw+TNMklUoBMDIyQiAQ+M9a4+Pj2Gw2DMNgY2MD0zRxOByk02m2traIx+MAWJZFKpXC5XKxsLDA7Ows7e3tpNNpNjc32d3d/exui0gNUwATkZp3d3eH3++nubkZgOHhYa6vr3l6eqK3txeXywXAwMDAL2t9PwX5/PzMysoKlmVht9spFouV9/r7+yt1Ly8vubm5qTzTlKSI/IoCmIjUrY8edWuaJoZhEIvFeHx8ZGxsrPLM6XRWrm02G0dHR9jtWlguIu+jv4WI1DzDMLi9vSWTyVAqlTg+Pqazs5OOjg4uLi7I5XLkcjnOzs5+q+7Lywsej6cSsH6mq6uLZDIJQLlcxrKsD/VHROqfRsBEpOZks9kfphNXV1eJRqNMT09TLpcJBoN0d3cDMDk5SSgUwu1209raWpk2fI9wOMz8/DwHBwcMDQ399L1IJEI0GiWRSFAqlRgdHaWtre3/d1BE6p7t7aNj9CIi/7B8Pk9jYyP5fJ6JiQl2dnbw+Xx/u1ki8sVpBExE6tr29jZXV1cUi0XC4bDCl4j8EzQCJiJfzszMDA8PDz/ci8fjtLS0/KUWichXowAmIiIiUmVaBSkiIiJSZQpgIiIiIlWmACYiIiJSZQpgIiIiIlWmACYiIiJSZd8AGiN0m2oIFncAAAAASUVORK5CYII=\\n\"","          },","          \"metadata\": {}","        }","      ],","      \"source\": [","        \"i = 'Log_Fare'\\n\",","        \"\\n\",","        \"plt.figure(figsize=(10,8))\\n\",","        \"plt.subplot(211)\\n\",","        \"plt.xlim(df[i].min(), df[i].max()*1.1)\\n\",","        \"\\n\",","        \"ax = df[i].plot(kind='kde')\\n\",","        \"\\n\",","        \"plt.subplot(212)\\n\",","        \"plt.xlim(df[i].min(), df[i].max()*1.1)\\n\",","        \"sns.boxplot(x=df[i])\"","      ]","    },","    {","      \"cell_type\": \"code\",","      \"execution_count\": 13,","      \"metadata\": {","        \"id\": \"KjvHTDMkFG1J\",","        \"colab\": {","          \"base_uri\": \"https://localhost:8080/\"","        },","        \"outputId\": \"162ccba5-d449-4ba7-d67e-0cf4d63dcd34\"","      },","      \"outputs\": [","        {","          \"output_type\": \"stream\",","          \"name\": \"stdout\",","          \"text\": [","            \"kurtosis_before_value =  33.20428925264474\\n\",","            \"skew_before_value =  4.7792532923723545\\n\",","            \"------\\n\",","            \"kurtosis_after_value =  -0.0873951312096577\\n\",","            \"skew_after_value =  -0.20488637135036583\\n\"","          ]","        }","      ],","      \"source\": [","        \"print(\\\"kurtosis_before_value = \\\", kurtosis_before_value)\\n\",","        \"print(\\\"skew_before_value = \\\", skew_before_value)\\n\",","        \"print(\\\"------\\\")\\n\",","        \"kurtosis_after_value = kurtosis(df[i])\\n\",","        \"print(\\\"kurtosis_after_value = \\\", kurtosis_after_value)\\n\",","        \"skew_after_value = skew(df[i])\\n\",","        \"print(\\\"skew_after_value = \\\", skew_after_value)\"","      ]","    },","    {","      \"cell_type\": \"code\",","      \"execution_count\": 14,","      \"metadata\": {","        \"id\": \"FtkACwbyFG1T\"","      },","      \"outputs\": [],","      \"source\": [","        \"q75, q25 = np.percentile(df.Log_Fare.dropna(), [75 ,25])\\n\",","        \"iqr = q75 - q25\\n\",","        \"\\n\",","        \"min = q25 - (iqr*1.5)\\n\",","        \"max = q75 + (iqr*1.5)\"","      ]","    },","    {","      \"cell_type\": \"code\",","      \"execution_count\": 15,","      \"metadata\": {","        \"id\": \"nubXiAgQFG1Z\",","        \"colab\": {","          \"base_uri\": \"https://localhost:8080/\",","          \"height\": 515","        },","        \"outputId\": \"723e2176-15f2-4b29-e4f3-4cef1585a9b4\"","      },","      \"outputs\": [","        {","          \"output_type\": \"execute_result\",","          \"data\": {","            \"text/plain\": [","              \"\u003cmatplotlib.lines.Line2D at 0x7f5b1eec2c50\u003e\"","            ]","          },","          \"metadata\": {},","          \"execution_count\": 15","        },","        {","          \"output_type\": \"display_data\",","          \"data\": {","            \"text/plain\": [","              \"\u003cFigure size 720x576 with 2 Axes\u003e\"","            ],","            \"image/png\": \"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\\n\"","          },","          \"metadata\": {}","        }","      ],","      \"source\": [","        \"i = 'Log_Fare'\\n\",","        \"\\n\",","        \"plt.figure(figsize=(10,8))\\n\",","        \"plt.subplot(211)\\n\",","        \"plt.xlim(df[i].min(), df[i].max()*1.1)\\n\",","        \"plt.axvline(x=min)\\n\",","        \"plt.axvline(x=max)\\n\",","        \"\\n\",","        \"ax = df[i].plot(kind='kde')\\n\",","        \"\\n\",","        \"plt.subplot(212)\\n\",","        \"plt.xlim(df[i].min(), df[i].max()*1.1)\\n\",","        \"sns.boxplot(x=df[i])\\n\",","        \"plt.axvline(x=min)\\n\",","        \"plt.axvline(x=max)\"","      ]","    },","    {","      \"cell_type\": \"code\",","      \"execution_count\": 16,","      \"metadata\": {","        \"id\": \"6F-TmzXnFG1f\"","      },","      \"outputs\": [],","      \"source\": [","        \"# create variable 'Outlier'\\n\",","        \"df['Outlier'] = 0\\n\",","        \"\\n\",","        \"df.loc[df[i] \u003c min, 'Outlier'] = 1\\n\",","        \"df.loc[df[i] \u003e max, 'Outlier'] = 1\"","      ]","    },","    {","      \"cell_type\": \"code\",","      \"execution_count\": 17,","      \"metadata\": {","        \"id\": \"9cUxcT7iFG1n\",","        \"colab\": {","          \"base_uri\": \"https://localhost:8080/\"","        },","        \"outputId\": \"63db840a-d919-4559-ffa7-9abaa5e126fb\"","      },","      \"outputs\": [","        {","          \"output_type\": \"stream\",","          \"name\": \"stdout\",","          \"text\": [","            \"\u003cclass 'pandas.core.frame.DataFrame'\u003e\\n\",","            \"Int64Index: 181 entries, 1 to 889\\n\",","            \"Data columns (total 14 columns):\\n\",","            \" #   Column       Non-Null Count  Dtype  \\n\",","            \"---  ------       --------------  -----  \\n\",","            \" 0   PassengerId  181 non-null    int64  \\n\",","            \" 1   Survived     181 non-null    int64  \\n\",","            \" 2   Pclass       181 non-null    int64  \\n\",","            \" 3   Name         181 non-null    object \\n\",","            \" 4   Sex          181 non-null    object \\n\",","            \" 5   Age          181 non-null    float64\\n\",","            \" 6   SibSp        181 non-null    int64  \\n\",","            \" 7   Parch        181 non-null    int64  \\n\",","            \" 8   Ticket       181 non-null    object \\n\",","            \" 9   Fare         181 non-null    float64\\n\",","            \" 10  Cabin        181 non-null    object \\n\",","            \" 11  Embarked     181 non-null    object \\n\",","            \" 12  Log_Fare     181 non-null    float64\\n\",","            \" 13  Outlier      181 non-null    int64  \\n\",","            \"dtypes: float64(3), int64(6), object(5)\\n\",","            \"memory usage: 21.2+ KB\\n\",","            \"None\\n\"","          ]","        }","      ],","      \"source\": [","        \"print(df.info())\"","      ]","    },","    {","      \"cell_type\": \"code\",","      \"execution_count\": 17,","      \"metadata\": {","        \"id\": \"i_mD2c0AFG1t\"","      },","      \"outputs\": [],","      \"source\": [","        \"\"","      ]","    }","  ],","  \"metadata\": {","    \"anaconda-cloud\": {},","    \"colab\": {","      \"collapsed_sections\": [],","      \"name\": \"Lab4_Outliers_Titanic.ipynb\",","      \"provenance\": []","    },","    \"kernelspec\": {","      \"display_name\": \"Python 3\",","      \"language\": \"python\",","      \"name\": \"python3\"","    },","    \"language_info\": {","      \"codemirror_mode\": {","        \"name\": \"ipython\",","        \"version\": 3","      },","      \"file_extension\": \".py\",","      \"mimetype\": \"text/x-python\",","      \"name\": \"python\",","      \"nbconvert_exporter\": \"python\",","      \"pygments_lexer\": \"ipython3\",","      \"version\": \"3.8.3\"","    },","    \"toc\": {","      \"base_numbering\": 1,","      \"nav_menu\": {},","      \"number_sections\": true,","      \"sideBar\": true,","      \"skip_h1_title\": false,","      \"title_cell\": \"Table of Contents\",","      \"title_sidebar\": \"Contents\",","      \"toc_cell\": false,","      \"toc_position\": {},","      \"toc_section_display\": true,","      \"toc_window_display\": false","    }","  },","  \"nbformat\": 4,","  \"nbformat_minor\": 0","}"],"stylingDirectives":null,"csv":null,"csvError":null,"dependabotInfo":{"showConfigurationBanner":null,"configFilePath":null,"networkDependabotPath":"/pvateekul/2110531_DSDE_2023s1/network/updates","dismissConfigurationNoticePath":"/settings/dismiss-notice/dependabot_configuration_notice","configurationNoticeDismissed":false,"repoAlertsPath":"/pvateekul/2110531_DSDE_2023s1/security/dependabot","repoSecurityAndAnalysisPath":"/pvateekul/2110531_DSDE_2023s1/settings/security_analysis","repoOwnerIsOrg":false,"currentUserCanAdminRepo":true},"displayName":"Lab4_Outliers_Titanic.ipynb","displayUrl":"https://notebooks.githubusercontent.com/view/ipynb?browser=chrome\u0026bypass_fastly=true\u0026color_mode=auto\u0026commit=2f8ec2e6065f5fc4ee0ac15135b8de5584282505\u0026device=unknown_device\u0026docs_host=https%3A%2F%2Fdocs.github.com\u0026enc_url=68747470733a2f2f7261772e67697468756275736572636f6e74656e742e636f6d2f7076617465656b756c2f323131303533315f445344455f3230323373312f326638656332653630363566356663346565306163313531333562386465353538343238323530352f636f64652f5765656b30325f44617461507265702f4c6162345f4f75746c696572735f546974616e69632e6970796e62\u0026logged_in=true\u0026nwo=pvateekul%2F2110531_DSDE_2023s1\u0026path=code%2FWeek02_DataPrep%2FLab4_Outliers_Titanic.ipynb\u0026platform=mac\u0026repository_id=674017728\u0026repository_type=Repository\u0026version=120","headerInfo":{"blobSize":"84.9 KB","deleteInfo":{"deleteTooltip":"Delete this file"},"editInfo":{"editTooltip":"Edit this file"},"ghDesktopPath":"x-github-client://openRepo/https://github.com/pvateekul/2110531_DSDE_2023s1?branch=main\u0026filepath=code%2FWeek02_DataPrep%2FLab4_Outliers_Titanic.ipynb","gitLfsPath":null,"onBranch":true,"shortPath":"e2c5a18","siteNavLoginPath":"/login?return_to=https%3A%2F%2Fgithub.com%2Fpvateekul%2F2110531_DSDE_2023s1%2Fblob%2Fmain%2Fcode%2FWeek02_DataPrep%2FLab4_Outliers_Titanic.ipynb","isCSV":false,"isRichtext":false,"toc":null,"lineInfo":{"truncatedLoc":"583","truncatedSloc":"583"},"mode":"file"},"image":false,"isCodeownersFile":null,"isPlain":false,"isValidLegacyIssueTemplate":false,"issueTemplateHelpUrl":"https://docs.github.com/articles/about-issue-and-pull-request-templates","issueTemplate":null,"discussionTemplate":null,"language":"Jupyter Notebook","languageID":185,"large":false,"loggedIn":true,"newDiscussionPath":"/pvateekul/2110531_DSDE_2023s1/discussions/new","newIssuePath":"/pvateekul/2110531_DSDE_2023s1/issues/new","planSupportInfo":{"repoIsFork":null,"repoOwnedByCurrentUser":null,"requestFullPath":"/pvateekul/2110531_DSDE_2023s1/blob/main/code/Week02_DataPrep/Lab4_Outliers_Titanic.ipynb","showFreeOrgGatedFeatureMessage":null,"showPlanSupportBanner":null,"upgradeDataAttributes":null,"upgradePath":null},"publishBannersInfo":{"dismissActionNoticePath":"/settings/dismiss-notice/publish_action_from_dockerfile","dismissStackNoticePath":"/settings/dismiss-notice/publish_stack_from_file","releasePath":"/pvateekul/2110531_DSDE_2023s1/releases/new?marketplace=true","showPublishActionBanner":false,"showPublishStackBanner":false},"rawBlobUrl":"https://github.com/pvateekul/2110531_DSDE_2023s1/raw/main/code/Week02_DataPrep/Lab4_Outliers_Titanic.ipynb","renderImageOrRaw":false,"richText":null,"renderedFileInfo":{"identityUUID":"7a8668fc-62de-4f32-bee5-53dac0dd6905","renderFileType":"ipynb","size":86907},"shortPath":null,"tabSize":8,"topBannersInfo":{"overridingGlobalFundingFile":false,"globalPreferredFundingPath":null,"repoOwner":"pvateekul","repoName":"2110531_DSDE_2023s1","showInvalidCitationWarning":false,"citationHelpUrl":"https://docs.github.com/en/github/creating-cloning-and-archiving-repositories/creating-a-repository-on-github/about-citation-files","showDependabotConfigurationBanner":null,"actionsOnboardingTip":null},"truncated":false,"viewable":true,"workflowRedirectUrl":null,"symbols":{"timed_out":false,"not_analyzed":true,"symbols":[]}},"copilotInfo":{"documentationUrl":"https://docs.github.com/copilot/overview-of-github-copilot/about-github-copilot-for-business","notices":{"codeViewPopover":{"dismissed":false,"dismissPath":"/settings/dismiss-notice/code_view_copilot_popover"}},"userAccess":{"accessAllowed":false,"hasSubscriptionEnded":false,"orgHasCFBAccess":false,"userHasCFIAccess":false,"userHasOrgs":true,"userIsOrgAdmin":false,"userIsOrgMember":false,"business":null,"featureRequestInfo":null}},"copilotAccessAllowed":false,"csrf_tokens":{"/pvateekul/2110531_DSDE_2023s1/branches":{"post":"nl9YPjGO_oqATrv0SWTu5hOkipEzTP8UWXnGBnDEc44e1NcuN2uJinhUD-1QyvHk-laeDHq0HSibp6wLP7G1xQ"},"/repos/preferences":{"post":"hWUUn-7WZfjGVhXjnblSknOe9uie7AoEdvwCaC-HFe43MS1zEvEHPbKwJo8_0OMQQjmuzUYlnMtNX6YHA2bB1w"}}},"title":"2110531_DSDE_2023s1/code/Week02_DataPrep/Lab4_Outliers_Titanic.ipynb at main · pvateekul/2110531_DSDE_2023s1","appPayload":{"helpUrl":"https://docs.github.com","findFileWorkerPath":"/assets-cdn/worker/find-file-worker-32bb159cc57c.js","findInFileWorkerPath":"/assets-cdn/worker/find-in-file-worker-c6704d501c10.js","githubDevUrl":"https://github.dev/","enabled_features":{"code_nav_ui_events":false,"copilot_conversational_ux":false,"copilot_conversational_ux_embedding_update":false,"copilot_popover_file_editor_header":true,"copilot_smell_icebreaker_ux":false,"react_blob_chunk_separated_characters":true}}}</script>
  <div data-target="react-app.reactRoot"><style data-styled="true" data-styled-version="5.3.6">.fNPcqd{font-weight:600;font-size:32px;margin:0;font-size:14px;}/*!sc*/
.imcwCi{font-weight:600;font-size:32px;margin:0;font-size:16px;margin-left:8px;}/*!sc*/
.cgQnMS{font-weight:600;font-size:32px;margin:0;}/*!sc*/
.diwsLq{font-weight:600;font-size:32px;margin:0;font-weight:600;display:inline-block;max-width:100%;font-size:16px;}/*!sc*/
.jAEDJk{font-weight:600;font-size:32px;margin:0;font-weight:600;display:inline-block;max-width:100%;font-size:14px;}/*!sc*/
data-styled.g1[id="Heading__StyledHeading-sc-1c1dgg0-0"]{content:"fNPcqd,imcwCi,cgQnMS,diwsLq,jAEDJk,"}/*!sc*/
.fSWWem{padding:0;}/*!sc*/
.kPPmzM{max-width:100%;margin-left:auto;margin-right:auto;display:-webkit-box;display:-webkit-flex;display:-ms-flexbox;display:flex;-webkit-flex-wrap:wrap;-ms-flex-wrap:wrap;flex-wrap:wrap;}/*!sc*/
.cIAPDV{display:-webkit-box;display:-webkit-flex;display:-ms-flexbox;display:flex;-webkit-flex:1 1 100%;-ms-flex:1 1 100%;flex:1 1 100%;-webkit-flex-wrap:wrap;-ms-flex-wrap:wrap;flex-wrap:wrap;max-width:100%;}/*!sc*/
.gvCnwW{width:100%;}/*!sc*/
@media screen and (min-width:544px){.gvCnwW{width:100%;}}/*!sc*/
@media screen and (min-width:768px){.gvCnwW{width:auto;}}/*!sc*/
.xEgty{display:-webkit-box;display:-webkit-flex;display:-ms-flexbox;display:flex;-webkit-order:1;-ms-flex-order:1;order:1;width:100%;margin-left:0;margin-right:0;-webkit-flex-direction:column;-ms-flex-direction:column;flex-direction:column;margin-bottom:0;min-width:0;}/*!sc*/
@media screen and (min-width:544px){.xEgty{-webkit-flex-direction:column;-ms-flex-direction:column;flex-direction:column;}}/*!sc*/
@media screen and (min-width:768px){.xEgty{width:auto;margin-top:0 !important;margin-bottom:0 !important;position:-webkit-sticky;position:sticky;top:0px;max-height:var(--sticky-pane-height);-webkit-flex-direction:row;-ms-flex-direction:row;flex-direction:row;margin-right:0;}}/*!sc*/
@media screen and (min-width:769px){.xEgty{height:100vh;max-height:100vh !important;}}/*!sc*/
@media print,screen and (max-width:1011px) and (min-width:768px){.xEgty{display:none;}}/*!sc*/
.eUyHuk{margin-left:0;margin-right:0;display:none;margin-top:0;}/*!sc*/
@media screen and (min-width:768px){.eUyHuk{margin-left:0 !important;margin-right:0 !important;}}/*!sc*/
.gNdDUH{--pane-min-width:256px;--pane-max-width-diff:511px;--pane-max-width:calc(100vw - var(--pane-max-width-diff));width:100%;padding:0;}/*!sc*/
@media screen and (min-width:544px){}/*!sc*/
@media screen and (min-width:768px){.gNdDUH{width:clamp(var(--pane-min-width),var(--pane-width),var(--pane-max-width));overflow:auto;}}/*!sc*/
@media screen and (min-width:1280px){.gNdDUH{--pane-max-width-diff:959px;}}/*!sc*/
.jywUSN{max-height:100%;height:100%;display:-webkit-box;display:-webkit-flex;display:-ms-flexbox;display:flex;-webkit-flex-direction:column;-ms-flex-direction:column;flex-direction:column;}/*!sc*/
@media screen and (max-width:768px){.jywUSN{display:none;}}/*!sc*/
@media screen and (min-width:768px){.jywUSN{max-height:100vh;height:100vh;}}/*!sc*/
.hBSSUC{display:-webkit-box;display:-webkit-flex;display:-ms-flexbox;display:flex;-webkit-flex-direction:column;-ms-flex-direction:column;flex-direction:column;-webkit-align-items:center;-webkit-box-align:center;-ms-flex-align:center;align-items:center;padding-left:16px;padding-right:16px;padding-bottom:8px;padding-top:16px;}/*!sc*/
.iPurHz{display:-webkit-box;display:-webkit-flex;display:-ms-flexbox;display:flex;width:100%;margin-bottom:16px;-webkit-align-items:center;-webkit-box-align:center;-ms-flex-align:center;align-items:center;}/*!sc*/
.kkrdEu{-webkit-box-pack:center;-webkit-justify-content:center;-ms-flex-pack:center;justify-content:center;}/*!sc*/
.trpoQ{display:-webkit-box;display:-webkit-flex;display:-ms-flexbox;display:flex;pointer-events:none;}/*!sc*/
.hVHHYa{margin-left:24px;margin-right:24px;display:-webkit-box;display:-webkit-flex;display:-ms-flexbox;display:flex;width:100%;}/*!sc*/
.idZfsJ{-webkit-box-flex:1;-webkit-flex-grow:1;-ms-flex-positive:1;flex-grow:1;}/*!sc*/
.bKgizp{display:-webkit-box;display:-webkit-flex;display:-ms-flexbox;display:flex;width:100%;}/*!sc*/
.kYlvBX{margin-right:4px;color:#656d76;}/*!sc*/
.caeYDk{font-size:14px;min-width:0;overflow:hidden;text-overflow:ellipsis;white-space:nowrap;}/*!sc*/
.jahcnb{margin-left:8px;white-space:nowrap;}/*!sc*/
.jahcnb:hover button:not(:hover){border-left-color:var(--button-default-borderColor-hover,var(--color-btn-hover-border));}/*!sc*/
.ccToMy{margin-left:16px;margin-right:16px;margin-bottom:12px;}/*!sc*/
@media screen and (max-width:768px){.ccToMy{display:none;}}/*!sc*/
.cNvKlH{margin-right:-6px;}/*!sc*/
.cLfAnm{-webkit-box-flex:1;-webkit-flex-grow:1;-ms-flex-positive:1;flex-grow:1;max-height:100% !important;overflow-y:auto;-webkit-scrollbar-gutter:stable;-moz-scrollbar-gutter:stable;-ms-scrollbar-gutter:stable;scrollbar-gutter:stable;}/*!sc*/
@media screen and (max-width:768px){.cLfAnm{display:none;}}/*!sc*/
.erWCJP{padding-left:16px;padding-right:16px;padding-bottom:8px;}/*!sc*/
.hAeDYA{height:100%;position:relative;display:none;margin-left:0;}/*!sc*/
.ekKrwo{position:absolute;inset:0 -2px;cursor:col-resize;background-color:transparent;-webkit-transition-delay:0.1s;transition-delay:0.1s;}/*!sc*/
.ekKrwo:hover{background-color:rgba(175,184,193,0.2);}/*!sc*/
.emFMJu{display:-webkit-box;display:-webkit-flex;display:-ms-flexbox;display:flex;-webkit-flex-direction:column;-ms-flex-direction:column;flex-direction:column;-webkit-order:2;-ms-flex-order:2;order:2;-webkit-flex-basis:0;-ms-flex-preferred-size:0;flex-basis:0;-webkit-box-flex:1;-webkit-flex-grow:1;-ms-flex-positive:1;flex-grow:1;-webkit-flex-shrink:1;-ms-flex-negative:1;flex-shrink:1;min-width:1px;margin-right:auto;}/*!sc*/
@media print{.emFMJu{display:-webkit-box !important;display:-webkit-flex !important;display:-ms-flexbox !important;display:flex !important;}}/*!sc*/
.hlUAHL{width:100%;max-width:100%;margin-left:auto;margin-right:auto;-webkit-box-flex:1;-webkit-flex-grow:1;-ms-flex-positive:1;flex-grow:1;padding:0;}/*!sc*/
.iStsmI{margin-left:auto;margin-right:auto;-webkit-flex-direction:column;-ms-flex-direction:column;flex-direction:column;padding-bottom:40px;max-width:100%;margin-top:0;}/*!sc*/
.eIgvIk{display:inherit;}/*!sc*/
.eVFfWF{width:100%;}/*!sc*/
.kgXdnT{padding:16px;padding-bottom:0;}/*!sc*/
.kzTa-dF{display:-webkit-box;display:-webkit-flex;display:-ms-flexbox;display:flex;-webkit-flex-direction:column;-ms-flex-direction:column;flex-direction:column;-webkit-box-pack:justify;-webkit-justify-content:space-between;-ms-flex-pack:justify;justify-content:space-between;gap:16px;width:100%;}/*!sc*/
.bbXCl{display:-webkit-box;display:-webkit-flex;display:-ms-flexbox;display:flex;-webkit-flex-direction:row;-ms-flex-direction:row;flex-direction:row;-webkit-align-items:start;-webkit-box-align:start;-ms-flex-align:start;align-items:start;-webkit-box-pack:justify;-webkit-justify-content:space-between;-ms-flex-pack:justify;justify-content:space-between;}/*!sc*/
.hGGMNu{display:-webkit-box;display:-webkit-flex;display:-ms-flexbox;display:flex;-webkit-flex-direction:row;-ms-flex-direction:row;flex-direction:row;-webkit-align-items:start;-webkit-box-align:start;-ms-flex-align:start;align-items:start;-webkit-box-pack:justify;-webkit-justify-content:space-between;-ms-flex-pack:justify;justify-content:space-between;justify-self:flex-end;}/*!sc*/
.eHRrYV{margin-left:8px;margin-right:8px;}/*!sc*/
.dKmYfk{font-size:14px;min-width:0;max-width:125px;overflow:hidden;text-overflow:ellipsis;white-space:nowrap;}/*!sc*/
.hSNzKh{justify-self:end;max-width:100%;}/*!sc*/
.eTvGbF{display:-webkit-box;display:-webkit-flex;display:-ms-flexbox;display:flex;-webkit-flex-direction:row;-ms-flex-direction:row;flex-direction:row;font-size:16px;min-width:0;-webkit-flex-shrink:1;-ms-flex-negative:1;flex-shrink:1;-webkit-flex-wrap:wrap;-ms-flex-wrap:wrap;flex-wrap:wrap;max-width:100%;-webkit-align-items:center;-webkit-box-align:center;-ms-flex-align:center;align-items:center;}/*!sc*/
.kzRgrI{max-width:100%;}/*!sc*/
.cmAPIB{max-width:100%;list-style:none;display:inline-block;}/*!sc*/
.jwXCBK{display:inline-block;max-width:100%;}/*!sc*/
.bDwCYs{padding:16px;padding-bottom:0;padding-left:16px;padding-right:16px;}/*!sc*/
.fywjmm{display:-webkit-box;display:-webkit-flex;display:-ms-flexbox;display:flex;gap:8px;-webkit-flex-direction:column;-ms-flex-direction:column;flex-direction:column;width:100%;}/*!sc*/
.dyczTK{display:-webkit-box;display:-webkit-flex;display:-ms-flexbox;display:flex;-webkit-align-items:start;-webkit-box-align:start;-ms-flex-align:start;align-items:start;-webkit-box-pack:justify;-webkit-justify-content:space-between;-ms-flex-pack:justify;justify-content:space-between;gap:8px;}/*!sc*/
.kszRgZ{-webkit-align-self:center;-ms-flex-item-align:center;align-self:center;display:-webkit-box;display:-webkit-flex;display:-ms-flexbox;display:flex;padding-right:8px;min-width:0;}/*!sc*/
.gtBUEp{min-height:32px;display:-webkit-box;display:-webkit-flex;display:-ms-flexbox;display:flex;-webkit-align-items:start;-webkit-box-align:start;-ms-flex-align:start;align-items:start;}/*!sc*/
.MERGN{margin-left:16px;margin-right:16px;}/*!sc*/
@media screen and (min-width:1440px){.MERGN{margin-left:16px;}}/*!sc*/
.cMYnca{display:-webkit-box;display:-webkit-flex;display:-ms-flexbox;display:flex;-webkit-flex-direction:column;-ms-flex-direction:column;flex-direction:column;}/*!sc*/
.kLxXov{display:-webkit-box;display:-webkit-flex;display:-ms-flexbox;display:flex;-webkit-flex-direction:column;-ms-flex-direction:column;flex-direction:column;border:1px solid;border-color:#d0d7de;border-radius:6px;margin-bottom:16px;}/*!sc*/
.eYedVD{display:-webkit-box;display:-webkit-flex;display:-ms-flexbox;display:flex;-webkit-flex-direction:row;-ms-flex-direction:row;flex-direction:row;-webkit-box-pack:justify;-webkit-justify-content:space-between;-ms-flex-pack:justify;justify-content:space-between;-webkit-align-items:center;-webkit-box-align:center;-ms-flex-align:center;align-items:center;gap:8px;min-width:273px;padding-right:8px;padding-left:16px;padding-top:8px;padding-bottom:8px;}/*!sc*/
.jGfYmh{display:-webkit-box;display:-webkit-flex;display:-ms-flexbox;display:flex;gap:8px;}/*!sc*/
.lhFvfi{display:-webkit-box;display:-webkit-flex;display:-ms-flexbox;display:flex;-webkit-align-items:center;-webkit-box-align:center;-ms-flex-align:center;align-items:center;}/*!sc*/
.bqgLjk{display:inherit;}/*!sc*/
@media screen and (min-width:544px){.bqgLjk{display:none;}}/*!sc*/
@media screen and (min-width:768px){.bqgLjk{display:none;}}/*!sc*/
.iJmJly{display:-webkit-box;display:-webkit-flex;display:-ms-flexbox;display:flex;-webkit-flex-direction:row;-ms-flex-direction:row;flex-direction:row;}/*!sc*/
.jACbi{width:100%;height:-webkit-fit-content;height:-moz-fit-content;height:fit-content;min-width:0;margin-right:0;}/*!sc*/
.bSdwWB{padding-left:4px;padding-bottom:16px;}/*!sc*/
.fleZSW{-webkit-align-items:center;-webkit-box-align:center;-ms-flex-align:center;align-items:center;}/*!sc*/
.bZpGqz{font-size:12px;-webkit-flex:auto;-ms-flex:auto;flex:auto;padding-right:16px;color:#656d76;min-width:0;}/*!sc*/
.gIACTV{top:0px;z-index:1;background:var(--bgColor-default,var(--color-canvas-default));position:-webkit-sticky;position:sticky;}/*!sc*/
.ePiodO{display:-webkit-box;display:-webkit-flex;display:-ms-flexbox;display:flex;-webkit-flex-direction:column;-ms-flex-direction:column;flex-direction:column;width:100%;position:absolute;}/*!sc*/
.kQJlnf{display:none;min-width:0;padding-top:8px;padding-bottom:8px;}/*!sc*/
.gJICKO{margin-right:8px;margin-left:16px;text-overflow:ellipsis;overflow:hidden;display:-webkit-box;display:-webkit-flex;display:-ms-flexbox;display:flex;-webkit-flex-direction:row;-ms-flex-direction:row;flex-direction:row;-webkit-align-items:center;-webkit-box-align:center;-ms-flex-align:center;align-items:center;-webkit-box-pack:justify;-webkit-justify-content:space-between;-ms-flex-pack:justify;justify-content:space-between;width:100%;}/*!sc*/
.iZJewz{display:-webkit-box;display:-webkit-flex;display:-ms-flexbox;display:flex;-webkit-flex-direction:row;-ms-flex-direction:row;flex-direction:row;font-size:14px;min-width:0;-webkit-flex-shrink:1;-ms-flex-negative:1;flex-shrink:1;-webkit-flex-wrap:wrap;-ms-flex-wrap:wrap;flex-wrap:wrap;max-width:100%;-webkit-align-items:center;-webkit-box-align:center;-ms-flex-align:center;align-items:center;}/*!sc*/
.bvEDG{padding-left:8px;padding-top:8px;padding-bottom:8px;display:-webkit-box;display:-webkit-flex;display:-ms-flexbox;display:flex;-webkit-flex:1;-ms-flex:1;flex:1;-webkit-align-items:center;-webkit-box-align:center;-ms-flex-align:center;align-items:center;-webkit-box-pack:justify;-webkit-justify-content:space-between;-ms-flex-pack:justify;justify-content:space-between;background-color:#f6f8fa;border:1px solid var(--borderColor-default,var(--color-border-default));border-radius:6px 6px 0px 0px;}/*!sc*/
.bfkNRF{display:-webkit-box;display:-webkit-flex;display:-ms-flexbox;display:flex;-webkit-align-items:center;-webkit-box-align:center;-ms-flex-align:center;align-items:center;gap:8px;min-width:0;}/*!sc*/
.fXBLEV{display:block;position:relative;-webkit-box-flex:1;-webkit-flex-grow:1;-ms-flex-positive:1;flex-grow:1;margin-top:-1px;margin-bottom:-1px;--separator-color:transparent;}/*!sc*/
.fXBLEV:not(:last-child){margin-right:1px;}/*!sc*/
.fXBLEV:not(:last-child):after{background-color:var(--separator-color);content:"";position:absolute;right:-2px;top:8px;bottom:8px;width:1px;}/*!sc*/
.fXBLEV:focus-within:has(:focus-visible){--separator-color:transparent;}/*!sc*/
.fXBLEV:first-child{margin-left:-1px;}/*!sc*/
.fXBLEV:last-child{margin-right:-1px;}/*!sc*/
.jkTWSe{display:block;position:relative;-webkit-box-flex:1;-webkit-flex-grow:1;-ms-flex-positive:1;flex-grow:1;margin-top:-1px;margin-bottom:-1px;--separator-color:#d0d7de;}/*!sc*/
.jkTWSe:not(:last-child){margin-right:1px;}/*!sc*/
.jkTWSe:not(:last-child):after{background-color:var(--separator-color);content:"";position:absolute;right:-2px;top:8px;bottom:8px;width:1px;}/*!sc*/
.jkTWSe:focus-within:has(:focus-visible){--separator-color:transparent;}/*!sc*/
.jkTWSe:first-child{margin-left:-1px;}/*!sc*/
.jkTWSe:last-child{margin-right:-1px;}/*!sc*/
.iBylDf{display:-webkit-box;display:-webkit-flex;display:-ms-flexbox;display:flex;-webkit-align-items:center;-webkit-box-align:center;-ms-flex-align:center;align-items:center;gap:8px;margin-right:8px;}/*!sc*/
.kSGBPx{gap:8px;}/*!sc*/
.flDsrw{border:1px solid;border-top:none;border-color:#d0d7de;border-radius:0px 0px 6px 6px;min-width:273px;}/*!sc*/
.eJsjkT{background-color:var(--bgColor-default,var(--color-canvas-default));border:0px;border-width:0;border-radius:0px 0px 6px 6px;padding:0;min-width:0;margin-top:46px;overflow:auto;}/*!sc*/
.aZrVR{position:fixed;top:0;right:0;height:100%;width:15px;-webkit-transition:-webkit-transform 0.3s;-webkit-transition:transform 0.3s;transition:transform 0.3s;z-index:1;}/*!sc*/
.aZrVR:hover{-webkit-transform:scaleX(1.5);-ms-transform:scaleX(1.5);transform:scaleX(1.5);}/*!sc*/
.bAzdCq{display:-webkit-box;display:-webkit-flex;display:-ms-flexbox;display:flex;-webkit-flex-direction:column;-ms-flex-direction:column;flex-direction:column;-webkit-align-items:center;-webkit-box-align:center;-ms-flex-align:center;align-items:center;padding-top:16px;padding-bottom:16px;}/*!sc*/
data-styled.g2[id="Box-sc-g0xbh4-0"]{content:"fSWWem,kPPmzM,cIAPDV,gvCnwW,xEgty,eUyHuk,gNdDUH,jywUSN,hBSSUC,iPurHz,kkrdEu,trpoQ,hVHHYa,idZfsJ,bKgizp,kYlvBX,caeYDk,jahcnb,ccToMy,cNvKlH,cLfAnm,erWCJP,hAeDYA,ekKrwo,emFMJu,hlUAHL,iStsmI,eIgvIk,eVFfWF,kgXdnT,kzTa-dF,bbXCl,hGGMNu,eHRrYV,dKmYfk,hSNzKh,eTvGbF,kzRgrI,cmAPIB,jwXCBK,bDwCYs,fywjmm,dyczTK,kszRgZ,gtBUEp,MERGN,cMYnca,kLxXov,eYedVD,jGfYmh,lhFvfi,bqgLjk,iJmJly,jACbi,bSdwWB,fleZSW,bZpGqz,gIACTV,ePiodO,kQJlnf,gJICKO,iZJewz,bvEDG,bfkNRF,fXBLEV,jkTWSe,iBylDf,kSGBPx,flDsrw,eJsjkT,aZrVR,bAzdCq,"}/*!sc*/
body[data-page-layout-dragging="true"]{cursor:col-resize;}/*!sc*/
body[data-page-layout-dragging="true"] *{-webkit-user-select:none;-moz-user-select:none;-ms-user-select:none;user-select:none;}/*!sc*/
data-styled.g3[id="sc-global-gbKrvU1"]{content:"sc-global-gbKrvU1,"}/*!sc*/
.bOMzPg{min-width:0;}/*!sc*/
.ivLLle{padding-left:4px;padding-right:4px;font-weight:400;color:#656d76;font-size:16px;}/*!sc*/
.ghRVGj{color:#1F2328;}/*!sc*/
.dZAxGI{padding-left:4px;padding-right:4px;font-weight:400;color:#656d76;font-size:14px;}/*!sc*/
data-styled.g6[id="Text-sc-17v1xeu-0"]{content:"bOMzPg,ivLLle,ghRVGj,gPDEWA,dZAxGI,"}/*!sc*/
.bNUcdA{color:#0969da;-webkit-text-decoration:none;text-decoration:none;font-weight:600;}/*!sc*/
[data-a11y-link-underlines='true'] .Link__StyledLink-sc-14289xe-0[data-inline='true']{-webkit-text-decoration:underline;text-decoration:underline;}/*!sc*/
.bNUcdA:hover{-webkit-text-decoration:underline;text-decoration:underline;}/*!sc*/
.bNUcdA:is(button){display:inline-block;padding:0;font-size:inherit;white-space:nowrap;cursor:pointer;-webkit-user-select:none;-moz-user-select:none;-ms-user-select:none;user-select:none;background-color:transparent;border:0;-webkit-appearance:none;-moz-appearance:none;appearance:none;}/*!sc*/
.bmInES{color:#0969da;-webkit-text-decoration:none;text-decoration:none;font-weight:400;}/*!sc*/
[data-a11y-link-underlines='true'] .Link__StyledLink-sc-14289xe-0[data-inline='true']{-webkit-text-decoration:underline;text-decoration:underline;}/*!sc*/
.bmInES:hover{-webkit-text-decoration:underline;text-decoration:underline;}/*!sc*/
.bmInES:is(button){display:inline-block;padding:0;font-size:inherit;white-space:nowrap;cursor:pointer;-webkit-user-select:none;-moz-user-select:none;-ms-user-select:none;user-select:none;background-color:transparent;border:0;-webkit-appearance:none;-moz-appearance:none;appearance:none;}/*!sc*/
.bKUZnR{color:#0969da;-webkit-text-decoration:none;text-decoration:none;}/*!sc*/
[data-a11y-link-underlines='true'] .Link__StyledLink-sc-14289xe-0[data-inline='true']{-webkit-text-decoration:underline;text-decoration:underline;}/*!sc*/
.bKUZnR:hover{-webkit-text-decoration:underline;text-decoration:underline;}/*!sc*/
.bKUZnR:is(button){display:inline-block;padding:0;font-size:inherit;white-space:nowrap;cursor:pointer;-webkit-user-select:none;-moz-user-select:none;-ms-user-select:none;user-select:none;background-color:transparent;border:0;-webkit-appearance:none;-moz-appearance:none;appearance:none;}/*!sc*/
data-styled.g8[id="Link__StyledLink-sc-14289xe-0"]{content:"bNUcdA,bmInES,bKUZnR,"}/*!sc*/
.dpmVDB{border-radius:6px;border:1px solid;border-color:transparent;font-family:inherit;font-weight:500;font-size:14px;cursor:pointer;-webkit-appearance:none;-moz-appearance:none;appearance:none;-webkit-user-select:none;-moz-user-select:none;-ms-user-select:none;user-select:none;-webkit-text-decoration:none;text-decoration:none;text-align:center;display:-webkit-box;display:-webkit-flex;display:-ms-flexbox;display:flex;-webkit-align-items:center;-webkit-box-align:center;-ms-flex-align:center;align-items:center;-webkit-box-pack:justify;-webkit-justify-content:space-between;-ms-flex-pack:justify;justify-content:space-between;height:32px;padding:0 12px;gap:8px;min-width:-webkit-max-content;min-width:-moz-max-content;min-width:max-content;-webkit-transition:80ms cubic-bezier(0.65,0,0.35,1);transition:80ms cubic-bezier(0.65,0,0.35,1);-webkit-transition-property:color,fill,background-color,border-color;transition-property:color,fill,background-color,border-color;color:#24292f;background-color:transparent;box-shadow:none;}/*!sc*/
.dpmVDB:focus:not(:disabled){box-shadow:none;outline:2px solid #0969da;outline-offset:-2px;}/*!sc*/
.dpmVDB:focus:not(:disabled):not(:focus-visible){outline:solid 1px transparent;}/*!sc*/
.dpmVDB:focus-visible:not(:disabled){box-shadow:none;outline:2px solid #0969da;outline-offset:-2px;}/*!sc*/
.dpmVDB[href]{display:-webkit-inline-box;display:-webkit-inline-flex;display:-ms-inline-flexbox;display:inline-flex;}/*!sc*/
.dpmVDB[href]:hover{-webkit-text-decoration:none;text-decoration:none;}/*!sc*/
.dpmVDB:hover{-webkit-transition-duration:80ms;transition-duration:80ms;}/*!sc*/
.dpmVDB:active{-webkit-transition:none;transition:none;}/*!sc*/
.dpmVDB[data-inactive]{cursor:auto;}/*!sc*/
.dpmVDB:disabled{cursor:not-allowed;box-shadow:none;color:#8c959f;}/*!sc*/
.dpmVDB:disabled [data-component=ButtonCounter],.dpmVDB:disabled [data-component="leadingVisual"],.dpmVDB:disabled [data-component="trailingAction"]{color:inherit;}/*!sc*/
@media (forced-colors:active){.dpmVDB:focus{outline:solid 1px transparent;}}/*!sc*/
.dpmVDB [data-component=ButtonCounter]{font-size:12px;}/*!sc*/
.dpmVDB[data-component=IconButton]{display:inline-grid;padding:unset;place-content:center;width:32px;min-width:unset;}/*!sc*/
.dpmVDB[data-size="small"]{padding:0 8px;height:28px;gap:4px;font-size:12px;}/*!sc*/
.dpmVDB[data-size="small"] [data-component="text"]{line-height:calc(20 / 12);}/*!sc*/
.dpmVDB[data-size="small"] [data-component=ButtonCounter]{font-size:12px;}/*!sc*/
.dpmVDB[data-size="small"] [data-component="buttonContent"] > :not(:last-child){margin-right:4px;}/*!sc*/
.dpmVDB[data-size="small"][data-component=IconButton]{width:28px;padding:unset;}/*!sc*/
.dpmVDB[data-size="large"]{padding:0 16px;height:40px;gap:8px;}/*!sc*/
.dpmVDB[data-size="large"] [data-component="buttonContent"] > :not(:last-child){margin-right:8px;}/*!sc*/
.dpmVDB[data-size="large"][data-component=IconButton]{width:40px;padding:unset;}/*!sc*/
.dpmVDB[data-block="block"]{width:100%;}/*!sc*/
.dpmVDB[data-inactive]:not([disabled]){background-color:var(--button-inactive-bgColor,#eaeef2);border-color:var(--button-inactive-bgColor,#eaeef2);color:var(--button-inactive-fgColor,#57606a);}/*!sc*/
.dpmVDB[data-inactive]:not([disabled]):focus-visible{box-shadow:none;}/*!sc*/
.dpmVDB [data-component="leadingVisual"]{grid-area:leadingVisual;color:#656d76;}/*!sc*/
.dpmVDB [data-component="text"]{grid-area:text;line-height:calc(20/14);white-space:nowrap;}/*!sc*/
.dpmVDB [data-component="trailingVisual"]{grid-area:trailingVisual;}/*!sc*/
.dpmVDB [data-component="trailingAction"]{margin-right:-4px;color:#656d76;}/*!sc*/
.dpmVDB [data-component="buttonContent"]{-webkit-flex:1 0 auto;-ms-flex:1 0 auto;flex:1 0 auto;display:grid;grid-template-areas:"leadingVisual text trailingVisual";grid-template-columns:min-content minmax(0,auto) min-content;-webkit-align-items:center;-webkit-box-align:center;-ms-flex-align:center;align-items:center;-webkit-align-content:center;-ms-flex-line-pack:center;align-content:center;}/*!sc*/
.dpmVDB [data-component="buttonContent"] > :not(:last-child){margin-right:8px;}/*!sc*/
.dpmVDB:hover:not([disabled]){background-color:rgba(208,215,222,0.32);}/*!sc*/
.dpmVDB:active:not([disabled]){background-color:rgba(208,215,222,0.48);}/*!sc*/
.dpmVDB[aria-expanded=true]{background-color:rgba(208,215,222,0.24);}/*!sc*/
.dpmVDB[data-component="IconButton"][data-no-visuals]{color:#656d76;}/*!sc*/
.dpmVDB[data-no-visuals]{color:#0969da;}/*!sc*/
.dpmVDB:has([data-component="ButtonCounter"]){color:#24292f;}/*!sc*/
.dpmVDB:disabled[data-no-visuals]{color:#8c959f;}/*!sc*/
.dpmVDB:disabled[data-no-visuals] [data-component=ButtonCounter]{color:inherit;}/*!sc*/
.dpmVDB{color:#656d76;padding-left:8px;padding-right:8px;display:none;}/*!sc*/
@media screen and (max-width:768px){.dpmVDB{display:block;}}/*!sc*/
.kuQWBL{border-radius:6px;border:1px solid;border-color:transparent;font-family:inherit;font-weight:500;font-size:14px;cursor:pointer;-webkit-appearance:none;-moz-appearance:none;appearance:none;-webkit-user-select:none;-moz-user-select:none;-ms-user-select:none;user-select:none;-webkit-text-decoration:none;text-decoration:none;text-align:center;display:-webkit-box;display:-webkit-flex;display:-ms-flexbox;display:flex;-webkit-align-items:center;-webkit-box-align:center;-ms-flex-align:center;align-items:center;-webkit-box-pack:justify;-webkit-justify-content:space-between;-ms-flex-pack:justify;justify-content:space-between;height:32px;padding:0 12px;gap:8px;min-width:-webkit-max-content;min-width:-moz-max-content;min-width:max-content;-webkit-transition:80ms cubic-bezier(0.65,0,0.35,1);transition:80ms cubic-bezier(0.65,0,0.35,1);-webkit-transition-property:color,fill,background-color,border-color;transition-property:color,fill,background-color,border-color;color:#24292f;background-color:transparent;box-shadow:none;}/*!sc*/
.kuQWBL:focus:not(:disabled){box-shadow:none;outline:2px solid #0969da;outline-offset:-2px;}/*!sc*/
.kuQWBL:focus:not(:disabled):not(:focus-visible){outline:solid 1px transparent;}/*!sc*/
.kuQWBL:focus-visible:not(:disabled){box-shadow:none;outline:2px solid #0969da;outline-offset:-2px;}/*!sc*/
.kuQWBL[href]{display:-webkit-inline-box;display:-webkit-inline-flex;display:-ms-inline-flexbox;display:inline-flex;}/*!sc*/
.kuQWBL[href]:hover{-webkit-text-decoration:none;text-decoration:none;}/*!sc*/
.kuQWBL:hover{-webkit-transition-duration:80ms;transition-duration:80ms;}/*!sc*/
.kuQWBL:active{-webkit-transition:none;transition:none;}/*!sc*/
.kuQWBL[data-inactive]{cursor:auto;}/*!sc*/
.kuQWBL:disabled{cursor:not-allowed;box-shadow:none;color:#8c959f;}/*!sc*/
.kuQWBL:disabled [data-component=ButtonCounter],.kuQWBL:disabled [data-component="leadingVisual"],.kuQWBL:disabled [data-component="trailingAction"]{color:inherit;}/*!sc*/
@media (forced-colors:active){.kuQWBL:focus{outline:solid 1px transparent;}}/*!sc*/
.kuQWBL [data-component=ButtonCounter]{font-size:12px;}/*!sc*/
.kuQWBL[data-component=IconButton]{display:inline-grid;padding:unset;place-content:center;width:32px;min-width:unset;}/*!sc*/
.kuQWBL[data-size="small"]{padding:0 8px;height:28px;gap:4px;font-size:12px;}/*!sc*/
.kuQWBL[data-size="small"] [data-component="text"]{line-height:calc(20 / 12);}/*!sc*/
.kuQWBL[data-size="small"] [data-component=ButtonCounter]{font-size:12px;}/*!sc*/
.kuQWBL[data-size="small"] [data-component="buttonContent"] > :not(:last-child){margin-right:4px;}/*!sc*/
.kuQWBL[data-size="small"][data-component=IconButton]{width:28px;padding:unset;}/*!sc*/
.kuQWBL[data-size="large"]{padding:0 16px;height:40px;gap:8px;}/*!sc*/
.kuQWBL[data-size="large"] [data-component="buttonContent"] > :not(:last-child){margin-right:8px;}/*!sc*/
.kuQWBL[data-size="large"][data-component=IconButton]{width:40px;padding:unset;}/*!sc*/
.kuQWBL[data-block="block"]{width:100%;}/*!sc*/
.kuQWBL[data-inactive]:not([disabled]){background-color:var(--button-inactive-bgColor,#eaeef2);border-color:var(--button-inactive-bgColor,#eaeef2);color:var(--button-inactive-fgColor,#57606a);}/*!sc*/
.kuQWBL[data-inactive]:not([disabled]):focus-visible{box-shadow:none;}/*!sc*/
.kuQWBL [data-component="leadingVisual"]{grid-area:leadingVisual;color:#656d76;}/*!sc*/
.kuQWBL [data-component="text"]{grid-area:text;line-height:calc(20/14);white-space:nowrap;}/*!sc*/
.kuQWBL [data-component="trailingVisual"]{grid-area:trailingVisual;}/*!sc*/
.kuQWBL [data-component="trailingAction"]{margin-right:-4px;color:#656d76;}/*!sc*/
.kuQWBL [data-component="buttonContent"]{-webkit-flex:1 0 auto;-ms-flex:1 0 auto;flex:1 0 auto;display:grid;grid-template-areas:"leadingVisual text trailingVisual";grid-template-columns:min-content minmax(0,auto) min-content;-webkit-align-items:center;-webkit-box-align:center;-ms-flex-align:center;align-items:center;-webkit-align-content:center;-ms-flex-line-pack:center;align-content:center;}/*!sc*/
.kuQWBL [data-component="buttonContent"] > :not(:last-child){margin-right:8px;}/*!sc*/
.kuQWBL:hover:not([disabled]){background-color:rgba(208,215,222,0.32);}/*!sc*/
.kuQWBL:active:not([disabled]){background-color:rgba(208,215,222,0.48);}/*!sc*/
.kuQWBL[aria-expanded=true]{background-color:rgba(208,215,222,0.24);}/*!sc*/
.kuQWBL[data-component="IconButton"][data-no-visuals]{color:#656d76;}/*!sc*/
.kuQWBL[data-no-visuals]{color:#656d76;height:32px;position:relative;}/*!sc*/
@media screen and (max-width:768px){.kuQWBL[data-no-visuals]{display:none;}}/*!sc*/
.kuQWBL:has([data-component="ButtonCounter"]){color:#24292f;}/*!sc*/
.kuQWBL:disabled[data-no-visuals]{color:#8c959f;}/*!sc*/
.kuQWBL:disabled[data-no-visuals] [data-component=ButtonCounter]{color:inherit;}/*!sc*/
.cTlePa{border-radius:6px;border:1px solid;border-color:var(--button-default-borderColor-rest,rgba(31,35,40,0.15));font-family:inherit;font-weight:500;font-size:14px;cursor:pointer;-webkit-appearance:none;-moz-appearance:none;appearance:none;-webkit-user-select:none;-moz-user-select:none;-ms-user-select:none;user-select:none;-webkit-text-decoration:none;text-decoration:none;text-align:center;display:-webkit-box;display:-webkit-flex;display:-ms-flexbox;display:flex;-webkit-align-items:center;-webkit-box-align:center;-ms-flex-align:center;align-items:center;-webkit-box-pack:justify;-webkit-justify-content:space-between;-ms-flex-pack:justify;justify-content:space-between;height:32px;padding:0 12px;gap:8px;min-width:-webkit-max-content;min-width:-moz-max-content;min-width:max-content;-webkit-transition:80ms cubic-bezier(0.65,0,0.35,1);transition:80ms cubic-bezier(0.65,0,0.35,1);-webkit-transition-property:color,fill,background-color,border-color;transition-property:color,fill,background-color,border-color;color:#24292f;background-color:#f6f8fa;box-shadow:0 1px 0 rgba(31,35,40,0.04),inset 0 1px 0 rgba(255,255,255,0.25);}/*!sc*/
.cTlePa:focus:not(:disabled){box-shadow:none;outline:2px solid #0969da;outline-offset:-2px;}/*!sc*/
.cTlePa:focus:not(:disabled):not(:focus-visible){outline:solid 1px transparent;}/*!sc*/
.cTlePa:focus-visible:not(:disabled){box-shadow:none;outline:2px solid #0969da;outline-offset:-2px;}/*!sc*/
.cTlePa[href]{display:-webkit-inline-box;display:-webkit-inline-flex;display:-ms-inline-flexbox;display:inline-flex;}/*!sc*/
.cTlePa[href]:hover{-webkit-text-decoration:none;text-decoration:none;}/*!sc*/
.cTlePa:hover{-webkit-transition-duration:80ms;transition-duration:80ms;}/*!sc*/
.cTlePa:active{-webkit-transition:none;transition:none;}/*!sc*/
.cTlePa[data-inactive]{cursor:auto;}/*!sc*/
.cTlePa:disabled{cursor:not-allowed;box-shadow:none;color:#8c959f;}/*!sc*/
.cTlePa:disabled [data-component=ButtonCounter]{color:inherit;}/*!sc*/
@media (forced-colors:active){.cTlePa:focus{outline:solid 1px transparent;}}/*!sc*/
.cTlePa [data-component=ButtonCounter]{font-size:12px;}/*!sc*/
.cTlePa[data-component=IconButton]{display:inline-grid;padding:unset;place-content:center;width:32px;min-width:unset;}/*!sc*/
.cTlePa[data-size="small"]{padding:0 8px;height:28px;gap:4px;font-size:12px;}/*!sc*/
.cTlePa[data-size="small"] [data-component="text"]{line-height:calc(20 / 12);}/*!sc*/
.cTlePa[data-size="small"] [data-component=ButtonCounter]{font-size:12px;}/*!sc*/
.cTlePa[data-size="small"] [data-component="buttonContent"] > :not(:last-child){margin-right:4px;}/*!sc*/
.cTlePa[data-size="small"][data-component=IconButton]{width:28px;padding:unset;}/*!sc*/
.cTlePa[data-size="large"]{padding:0 16px;height:40px;gap:8px;}/*!sc*/
.cTlePa[data-size="large"] [data-component="buttonContent"] > :not(:last-child){margin-right:8px;}/*!sc*/
.cTlePa[data-size="large"][data-component=IconButton]{width:40px;padding:unset;}/*!sc*/
.cTlePa[data-block="block"]{width:100%;}/*!sc*/
.cTlePa[data-inactive]:not([disabled]){background-color:var(--button-inactive-bgColor,#eaeef2);border-color:var(--button-inactive-bgColor,#eaeef2);color:var(--button-inactive-fgColor,#57606a);}/*!sc*/
.cTlePa[data-inactive]:not([disabled]):focus-visible{box-shadow:none;}/*!sc*/
.cTlePa [data-component="leadingVisual"]{grid-area:leadingVisual;}/*!sc*/
.cTlePa [data-component="text"]{grid-area:text;line-height:calc(20/14);white-space:nowrap;}/*!sc*/
.cTlePa [data-component="trailingVisual"]{grid-area:trailingVisual;}/*!sc*/
.cTlePa [data-component="trailingAction"]{margin-right:-4px;}/*!sc*/
.cTlePa [data-component="buttonContent"]{-webkit-flex:1 0 auto;-ms-flex:1 0 auto;flex:1 0 auto;display:grid;grid-template-areas:"leadingVisual text trailingVisual";grid-template-columns:min-content minmax(0,auto) min-content;-webkit-align-items:center;-webkit-box-align:center;-ms-flex-align:center;align-items:center;-webkit-align-content:center;-ms-flex-line-pack:center;align-content:center;}/*!sc*/
.cTlePa [data-component="buttonContent"] > :not(:last-child){margin-right:8px;}/*!sc*/
.cTlePa:hover:not([disabled]):not([data-inactive]){background-color:#f3f4f6;border-color:var(--button-default-borderColor-hover,rgba(31,35,40,0.15));}/*!sc*/
.cTlePa:active:not([disabled]):not([data-inactive]){background-color:hsla(220,14%,93%,1);border-color:var(--button-default-borderColor-active,rgba(31,35,40,0.15));}/*!sc*/
.cTlePa[aria-expanded=true]{background-color:hsla(220,14%,93%,1);border-color:var(--button-default-borderColor-active,rgba(31,35,40,0.15));}/*!sc*/
.cTlePa [data-component="leadingVisual"],.cTlePa [data-component="trailingVisual"],.cTlePa [data-component="trailingAction"]{color:var(--button-color,#656d76);}/*!sc*/
.cTlePa{display:-webkit-box;display:-webkit-flex;display:-ms-flexbox;display:flex;min-width:0;}/*!sc*/
.cTlePa svg{color:#656d76;}/*!sc*/
.cTlePa > span{width:inherit;}/*!sc*/
.hAUDdO{border-radius:6px;border:1px solid;border-color:var(--button-default-borderColor-rest,rgba(31,35,40,0.15));font-family:inherit;font-weight:500;font-size:14px;cursor:pointer;-webkit-appearance:none;-moz-appearance:none;appearance:none;-webkit-user-select:none;-moz-user-select:none;-ms-user-select:none;user-select:none;-webkit-text-decoration:none;text-decoration:none;text-align:center;display:-webkit-box;display:-webkit-flex;display:-ms-flexbox;display:flex;-webkit-align-items:center;-webkit-box-align:center;-ms-flex-align:center;align-items:center;-webkit-box-pack:justify;-webkit-justify-content:space-between;-ms-flex-pack:justify;justify-content:space-between;height:32px;padding:0 12px;gap:8px;min-width:-webkit-max-content;min-width:-moz-max-content;min-width:max-content;-webkit-transition:80ms cubic-bezier(0.65,0,0.35,1);transition:80ms cubic-bezier(0.65,0,0.35,1);-webkit-transition-property:color,fill,background-color,border-color;transition-property:color,fill,background-color,border-color;color:#24292f;background-color:#f6f8fa;box-shadow:0 1px 0 rgba(31,35,40,0.04),inset 0 1px 0 rgba(255,255,255,0.25);}/*!sc*/
.hAUDdO:focus:not(:disabled){box-shadow:none;outline:2px solid #0969da;outline-offset:-2px;}/*!sc*/
.hAUDdO:focus:not(:disabled):not(:focus-visible){outline:solid 1px transparent;}/*!sc*/
.hAUDdO:focus-visible:not(:disabled){box-shadow:none;outline:2px solid #0969da;outline-offset:-2px;}/*!sc*/
.hAUDdO[href]{display:-webkit-inline-box;display:-webkit-inline-flex;display:-ms-inline-flexbox;display:inline-flex;}/*!sc*/
.hAUDdO[href]:hover{-webkit-text-decoration:none;text-decoration:none;}/*!sc*/
.hAUDdO:hover{-webkit-transition-duration:80ms;transition-duration:80ms;}/*!sc*/
.hAUDdO:active{-webkit-transition:none;transition:none;}/*!sc*/
.hAUDdO[data-inactive]{cursor:auto;}/*!sc*/
.hAUDdO:disabled{cursor:not-allowed;box-shadow:none;color:#8c959f;}/*!sc*/
.hAUDdO:disabled [data-component=ButtonCounter]{color:inherit;}/*!sc*/
@media (forced-colors:active){.hAUDdO:focus{outline:solid 1px transparent;}}/*!sc*/
.hAUDdO [data-component=ButtonCounter]{font-size:12px;}/*!sc*/
.hAUDdO[data-component=IconButton]{display:inline-grid;padding:unset;place-content:center;width:32px;min-width:unset;}/*!sc*/
.hAUDdO[data-size="small"]{padding:0 8px;height:28px;gap:4px;font-size:12px;}/*!sc*/
.hAUDdO[data-size="small"] [data-component="text"]{line-height:calc(20 / 12);}/*!sc*/
.hAUDdO[data-size="small"] [data-component=ButtonCounter]{font-size:12px;}/*!sc*/
.hAUDdO[data-size="small"] [data-component="buttonContent"] > :not(:last-child){margin-right:4px;}/*!sc*/
.hAUDdO[data-size="small"][data-component=IconButton]{width:28px;padding:unset;}/*!sc*/
.hAUDdO[data-size="large"]{padding:0 16px;height:40px;gap:8px;}/*!sc*/
.hAUDdO[data-size="large"] [data-component="buttonContent"] > :not(:last-child){margin-right:8px;}/*!sc*/
.hAUDdO[data-size="large"][data-component=IconButton]{width:40px;padding:unset;}/*!sc*/
.hAUDdO[data-block="block"]{width:100%;}/*!sc*/
.hAUDdO[data-inactive]:not([disabled]){background-color:var(--button-inactive-bgColor,#eaeef2);border-color:var(--button-inactive-bgColor,#eaeef2);color:var(--button-inactive-fgColor,#57606a);}/*!sc*/
.hAUDdO[data-inactive]:not([disabled]):focus-visible{box-shadow:none;}/*!sc*/
.hAUDdO [data-component="leadingVisual"]{grid-area:leadingVisual;}/*!sc*/
.hAUDdO [data-component="text"]{grid-area:text;line-height:calc(20/14);white-space:nowrap;}/*!sc*/
.hAUDdO [data-component="trailingVisual"]{grid-area:trailingVisual;}/*!sc*/
.hAUDdO [data-component="trailingAction"]{margin-right:-4px;}/*!sc*/
.hAUDdO [data-component="buttonContent"]{-webkit-flex:1 0 auto;-ms-flex:1 0 auto;flex:1 0 auto;display:grid;grid-template-areas:"leadingVisual text trailingVisual";grid-template-columns:min-content minmax(0,auto) min-content;-webkit-align-items:center;-webkit-box-align:center;-ms-flex-align:center;align-items:center;-webkit-align-content:center;-ms-flex-line-pack:center;align-content:center;}/*!sc*/
.hAUDdO [data-component="buttonContent"] > :not(:last-child){margin-right:8px;}/*!sc*/
.hAUDdO:hover:not([disabled]):not([data-inactive]){background-color:#f3f4f6;border-color:var(--button-default-borderColor-hover,rgba(31,35,40,0.15));}/*!sc*/
.hAUDdO:active:not([disabled]):not([data-inactive]){background-color:hsla(220,14%,93%,1);border-color:var(--button-default-borderColor-active,rgba(31,35,40,0.15));}/*!sc*/
.hAUDdO[aria-expanded=true]{background-color:hsla(220,14%,93%,1);border-color:var(--button-default-borderColor-active,rgba(31,35,40,0.15));}/*!sc*/
.hAUDdO [data-component="leadingVisual"],.hAUDdO [data-component="trailingVisual"],.hAUDdO [data-component="trailingAction"]{color:var(--button-color,#656d76);}/*!sc*/
.hAUDdO[data-no-visuals]{color:#6e7781;border-top-right-radius:0;border-bottom-right-radius:0;border-right:0;}/*!sc*/
.bRhdlk{border-radius:6px;border:1px solid;border-color:var(--button-default-borderColor-rest,rgba(31,35,40,0.15));font-family:inherit;font-weight:500;font-size:14px;cursor:pointer;-webkit-appearance:none;-moz-appearance:none;appearance:none;-webkit-user-select:none;-moz-user-select:none;-ms-user-select:none;user-select:none;-webkit-text-decoration:none;text-decoration:none;text-align:center;display:-webkit-box;display:-webkit-flex;display:-ms-flexbox;display:flex;-webkit-align-items:center;-webkit-box-align:center;-ms-flex-align:center;align-items:center;-webkit-box-pack:justify;-webkit-justify-content:space-between;-ms-flex-pack:justify;justify-content:space-between;height:32px;padding:0 12px;gap:8px;min-width:-webkit-max-content;min-width:-moz-max-content;min-width:max-content;-webkit-transition:80ms cubic-bezier(0.65,0,0.35,1);transition:80ms cubic-bezier(0.65,0,0.35,1);-webkit-transition-property:color,fill,background-color,border-color;transition-property:color,fill,background-color,border-color;color:#24292f;background-color:#f6f8fa;box-shadow:0 1px 0 rgba(31,35,40,0.04),inset 0 1px 0 rgba(255,255,255,0.25);}/*!sc*/
.bRhdlk:focus:not(:disabled){box-shadow:none;outline:2px solid #0969da;outline-offset:-2px;}/*!sc*/
.bRhdlk:focus:not(:disabled):not(:focus-visible){outline:solid 1px transparent;}/*!sc*/
.bRhdlk:focus-visible:not(:disabled){box-shadow:none;outline:2px solid #0969da;outline-offset:-2px;}/*!sc*/
.bRhdlk[href]{display:-webkit-inline-box;display:-webkit-inline-flex;display:-ms-inline-flexbox;display:inline-flex;}/*!sc*/
.bRhdlk[href]:hover{-webkit-text-decoration:none;text-decoration:none;}/*!sc*/
.bRhdlk:hover{-webkit-transition-duration:80ms;transition-duration:80ms;}/*!sc*/
.bRhdlk:active{-webkit-transition:none;transition:none;}/*!sc*/
.bRhdlk[data-inactive]{cursor:auto;}/*!sc*/
.bRhdlk:disabled{cursor:not-allowed;box-shadow:none;color:#8c959f;}/*!sc*/
.bRhdlk:disabled [data-component=ButtonCounter]{color:inherit;}/*!sc*/
@media (forced-colors:active){.bRhdlk:focus{outline:solid 1px transparent;}}/*!sc*/
.bRhdlk [data-component=ButtonCounter]{font-size:12px;}/*!sc*/
.bRhdlk[data-component=IconButton]{display:inline-grid;padding:unset;place-content:center;width:32px;min-width:unset;}/*!sc*/
.bRhdlk[data-size="small"]{padding:0 8px;height:28px;gap:4px;font-size:12px;}/*!sc*/
.bRhdlk[data-size="small"] [data-component="text"]{line-height:calc(20 / 12);}/*!sc*/
.bRhdlk[data-size="small"] [data-component=ButtonCounter]{font-size:12px;}/*!sc*/
.bRhdlk[data-size="small"] [data-component="buttonContent"] > :not(:last-child){margin-right:4px;}/*!sc*/
.bRhdlk[data-size="small"][data-component=IconButton]{width:28px;padding:unset;}/*!sc*/
.bRhdlk[data-size="large"]{padding:0 16px;height:40px;gap:8px;}/*!sc*/
.bRhdlk[data-size="large"] [data-component="buttonContent"] > :not(:last-child){margin-right:8px;}/*!sc*/
.bRhdlk[data-size="large"][data-component=IconButton]{width:40px;padding:unset;}/*!sc*/
.bRhdlk[data-block="block"]{width:100%;}/*!sc*/
.bRhdlk[data-inactive]:not([disabled]){background-color:var(--button-inactive-bgColor,#eaeef2);border-color:var(--button-inactive-bgColor,#eaeef2);color:var(--button-inactive-fgColor,#57606a);}/*!sc*/
.bRhdlk[data-inactive]:not([disabled]):focus-visible{box-shadow:none;}/*!sc*/
.bRhdlk [data-component="leadingVisual"]{grid-area:leadingVisual;}/*!sc*/
.bRhdlk [data-component="text"]{grid-area:text;line-height:calc(20/14);white-space:nowrap;}/*!sc*/
.bRhdlk [data-component="trailingVisual"]{grid-area:trailingVisual;}/*!sc*/
.bRhdlk [data-component="trailingAction"]{margin-right:-4px;}/*!sc*/
.bRhdlk [data-component="buttonContent"]{-webkit-flex:1 0 auto;-ms-flex:1 0 auto;flex:1 0 auto;display:grid;grid-template-areas:"leadingVisual text trailingVisual";grid-template-columns:min-content minmax(0,auto) min-content;-webkit-align-items:center;-webkit-box-align:center;-ms-flex-align:center;align-items:center;-webkit-align-content:center;-ms-flex-line-pack:center;align-content:center;}/*!sc*/
.bRhdlk [data-component="buttonContent"] > :not(:last-child){margin-right:8px;}/*!sc*/
.bRhdlk:hover:not([disabled]):not([data-inactive]){background-color:#f3f4f6;border-color:var(--button-default-borderColor-hover,rgba(31,35,40,0.15));}/*!sc*/
.bRhdlk:active:not([disabled]):not([data-inactive]){background-color:hsla(220,14%,93%,1);border-color:var(--button-default-borderColor-active,rgba(31,35,40,0.15));}/*!sc*/
.bRhdlk[aria-expanded=true]{background-color:hsla(220,14%,93%,1);border-color:var(--button-default-borderColor-active,rgba(31,35,40,0.15));}/*!sc*/
.bRhdlk [data-component="leadingVisual"],.bRhdlk [data-component="trailingVisual"],.bRhdlk [data-component="trailingAction"]{color:var(--button-color,#656d76);}/*!sc*/
.bRhdlk[data-no-visuals]{color:#6e7781;font-size:14px;font-weight:400;-webkit-flex-shrink:0;-ms-flex-negative:0;flex-shrink:0;border-top-left-radius:0;border-bottom-left-radius:0;}/*!sc*/
.gDcRcS{border-radius:6px;border:1px solid;border-color:var(--button-default-borderColor-rest,rgba(31,35,40,0.15));font-family:inherit;font-weight:500;font-size:14px;cursor:pointer;-webkit-appearance:none;-moz-appearance:none;appearance:none;-webkit-user-select:none;-moz-user-select:none;-ms-user-select:none;user-select:none;-webkit-text-decoration:none;text-decoration:none;text-align:center;display:-webkit-box;display:-webkit-flex;display:-ms-flexbox;display:flex;-webkit-align-items:center;-webkit-box-align:center;-ms-flex-align:center;align-items:center;-webkit-box-pack:justify;-webkit-justify-content:space-between;-ms-flex-pack:justify;justify-content:space-between;height:32px;padding:0 12px;gap:8px;min-width:-webkit-max-content;min-width:-moz-max-content;min-width:max-content;-webkit-transition:80ms cubic-bezier(0.65,0,0.35,1);transition:80ms cubic-bezier(0.65,0,0.35,1);-webkit-transition-property:color,fill,background-color,border-color;transition-property:color,fill,background-color,border-color;color:#24292f;background-color:#f6f8fa;box-shadow:0 1px 0 rgba(31,35,40,0.04),inset 0 1px 0 rgba(255,255,255,0.25);}/*!sc*/
.gDcRcS:focus:not(:disabled){box-shadow:none;outline:2px solid #0969da;outline-offset:-2px;}/*!sc*/
.gDcRcS:focus:not(:disabled):not(:focus-visible){outline:solid 1px transparent;}/*!sc*/
.gDcRcS:focus-visible:not(:disabled){box-shadow:none;outline:2px solid #0969da;outline-offset:-2px;}/*!sc*/
.gDcRcS[href]{display:-webkit-inline-box;display:-webkit-inline-flex;display:-ms-inline-flexbox;display:inline-flex;}/*!sc*/
.gDcRcS[href]:hover{-webkit-text-decoration:none;text-decoration:none;}/*!sc*/
.gDcRcS:hover{-webkit-transition-duration:80ms;transition-duration:80ms;}/*!sc*/
.gDcRcS:active{-webkit-transition:none;transition:none;}/*!sc*/
.gDcRcS[data-inactive]{cursor:auto;}/*!sc*/
.gDcRcS:disabled{cursor:not-allowed;box-shadow:none;color:#8c959f;}/*!sc*/
.gDcRcS:disabled [data-component=ButtonCounter]{color:inherit;}/*!sc*/
@media (forced-colors:active){.gDcRcS:focus{outline:solid 1px transparent;}}/*!sc*/
.gDcRcS [data-component=ButtonCounter]{font-size:12px;}/*!sc*/
.gDcRcS[data-component=IconButton]{display:inline-grid;padding:unset;place-content:center;width:32px;min-width:unset;}/*!sc*/
.gDcRcS[data-size="small"]{padding:0 8px;height:28px;gap:4px;font-size:12px;}/*!sc*/
.gDcRcS[data-size="small"] [data-component="text"]{line-height:calc(20 / 12);}/*!sc*/
.gDcRcS[data-size="small"] [data-component=ButtonCounter]{font-size:12px;}/*!sc*/
.gDcRcS[data-size="small"] [data-component="buttonContent"] > :not(:last-child){margin-right:4px;}/*!sc*/
.gDcRcS[data-size="small"][data-component=IconButton]{width:28px;padding:unset;}/*!sc*/
.gDcRcS[data-size="large"]{padding:0 16px;height:40px;gap:8px;}/*!sc*/
.gDcRcS[data-size="large"] [data-component="buttonContent"] > :not(:last-child){margin-right:8px;}/*!sc*/
.gDcRcS[data-size="large"][data-component=IconButton]{width:40px;padding:unset;}/*!sc*/
.gDcRcS[data-block="block"]{width:100%;}/*!sc*/
.gDcRcS[data-inactive]:not([disabled]){background-color:var(--button-inactive-bgColor,#eaeef2);border-color:var(--button-inactive-bgColor,#eaeef2);color:var(--button-inactive-fgColor,#57606a);}/*!sc*/
.gDcRcS[data-inactive]:not([disabled]):focus-visible{box-shadow:none;}/*!sc*/
.gDcRcS [data-component="leadingVisual"]{grid-area:leadingVisual;}/*!sc*/
.gDcRcS [data-component="text"]{grid-area:text;line-height:calc(20/14);white-space:nowrap;}/*!sc*/
.gDcRcS [data-component="trailingVisual"]{grid-area:trailingVisual;}/*!sc*/
.gDcRcS [data-component="trailingAction"]{margin-right:-4px;}/*!sc*/
.gDcRcS [data-component="buttonContent"]{-webkit-flex:1 0 auto;-ms-flex:1 0 auto;flex:1 0 auto;display:grid;grid-template-areas:"leadingVisual text trailingVisual";grid-template-columns:min-content minmax(0,auto) min-content;-webkit-align-items:center;-webkit-box-align:center;-ms-flex-align:center;align-items:center;-webkit-align-content:center;-ms-flex-line-pack:center;align-content:center;}/*!sc*/
.gDcRcS [data-component="buttonContent"] > :not(:last-child){margin-right:8px;}/*!sc*/
.gDcRcS:hover:not([disabled]):not([data-inactive]){background-color:#f3f4f6;border-color:var(--button-default-borderColor-hover,rgba(31,35,40,0.15));}/*!sc*/
.gDcRcS:active:not([disabled]):not([data-inactive]){background-color:hsla(220,14%,93%,1);border-color:var(--button-default-borderColor-active,rgba(31,35,40,0.15));}/*!sc*/
.gDcRcS[aria-expanded=true]{background-color:hsla(220,14%,93%,1);border-color:var(--button-default-borderColor-active,rgba(31,35,40,0.15));}/*!sc*/
.gDcRcS [data-component="leadingVisual"],.gDcRcS [data-component="trailingVisual"],.gDcRcS [data-component="trailingAction"]{color:var(--button-color,#656d76);}/*!sc*/
.gDcRcS{display:-webkit-box;display:-webkit-flex;display:-ms-flexbox;display:flex;}/*!sc*/
.gDcRcS svg{color:#656d76;}/*!sc*/
.gDcRcS > span{width:inherit;}/*!sc*/
.dfaHcy{border-radius:6px;border:1px solid;border-color:var(--button-default-borderColor-rest,rgba(31,35,40,0.15));font-family:inherit;font-weight:500;font-size:14px;cursor:pointer;-webkit-appearance:none;-moz-appearance:none;appearance:none;-webkit-user-select:none;-moz-user-select:none;-ms-user-select:none;user-select:none;-webkit-text-decoration:none;text-decoration:none;text-align:center;display:-webkit-box;display:-webkit-flex;display:-ms-flexbox;display:flex;-webkit-align-items:center;-webkit-box-align:center;-ms-flex-align:center;align-items:center;-webkit-box-pack:justify;-webkit-justify-content:space-between;-ms-flex-pack:justify;justify-content:space-between;height:32px;padding:0 12px;gap:8px;min-width:-webkit-max-content;min-width:-moz-max-content;min-width:max-content;-webkit-transition:80ms cubic-bezier(0.65,0,0.35,1);transition:80ms cubic-bezier(0.65,0,0.35,1);-webkit-transition-property:color,fill,background-color,border-color;transition-property:color,fill,background-color,border-color;color:#24292f;background-color:#f6f8fa;box-shadow:0 1px 0 rgba(31,35,40,0.04),inset 0 1px 0 rgba(255,255,255,0.25);}/*!sc*/
.dfaHcy:focus:not(:disabled){box-shadow:none;outline:2px solid #0969da;outline-offset:-2px;}/*!sc*/
.dfaHcy:focus:not(:disabled):not(:focus-visible){outline:solid 1px transparent;}/*!sc*/
.dfaHcy:focus-visible:not(:disabled){box-shadow:none;outline:2px solid #0969da;outline-offset:-2px;}/*!sc*/
.dfaHcy[href]{display:-webkit-inline-box;display:-webkit-inline-flex;display:-ms-inline-flexbox;display:inline-flex;}/*!sc*/
.dfaHcy[href]:hover{-webkit-text-decoration:none;text-decoration:none;}/*!sc*/
.dfaHcy:hover{-webkit-transition-duration:80ms;transition-duration:80ms;}/*!sc*/
.dfaHcy:active{-webkit-transition:none;transition:none;}/*!sc*/
.dfaHcy[data-inactive]{cursor:auto;}/*!sc*/
.dfaHcy:disabled{cursor:not-allowed;box-shadow:none;color:#8c959f;}/*!sc*/
.dfaHcy:disabled [data-component=ButtonCounter]{color:inherit;}/*!sc*/
@media (forced-colors:active){.dfaHcy:focus{outline:solid 1px transparent;}}/*!sc*/
.dfaHcy [data-component=ButtonCounter]{font-size:12px;}/*!sc*/
.dfaHcy[data-component=IconButton]{display:inline-grid;padding:unset;place-content:center;width:32px;min-width:unset;}/*!sc*/
.dfaHcy[data-size="small"]{padding:0 8px;height:28px;gap:4px;font-size:12px;}/*!sc*/
.dfaHcy[data-size="small"] [data-component="text"]{line-height:calc(20 / 12);}/*!sc*/
.dfaHcy[data-size="small"] [data-component=ButtonCounter]{font-size:12px;}/*!sc*/
.dfaHcy[data-size="small"] [data-component="buttonContent"] > :not(:last-child){margin-right:4px;}/*!sc*/
.dfaHcy[data-size="small"][data-component=IconButton]{width:28px;padding:unset;}/*!sc*/
.dfaHcy[data-size="large"]{padding:0 16px;height:40px;gap:8px;}/*!sc*/
.dfaHcy[data-size="large"] [data-component="buttonContent"] > :not(:last-child){margin-right:8px;}/*!sc*/
.dfaHcy[data-size="large"][data-component=IconButton]{width:40px;padding:unset;}/*!sc*/
.dfaHcy[data-block="block"]{width:100%;}/*!sc*/
.dfaHcy[data-inactive]:not([disabled]){background-color:var(--button-inactive-bgColor,#eaeef2);border-color:var(--button-inactive-bgColor,#eaeef2);color:var(--button-inactive-fgColor,#57606a);}/*!sc*/
.dfaHcy[data-inactive]:not([disabled]):focus-visible{box-shadow:none;}/*!sc*/
.dfaHcy [data-component="leadingVisual"]{grid-area:leadingVisual;}/*!sc*/
.dfaHcy [data-component="text"]{grid-area:text;line-height:calc(20/14);white-space:nowrap;}/*!sc*/
.dfaHcy [data-component="trailingVisual"]{grid-area:trailingVisual;}/*!sc*/
.dfaHcy [data-component="trailingAction"]{margin-right:-4px;}/*!sc*/
.dfaHcy [data-component="buttonContent"]{-webkit-flex:1 0 auto;-ms-flex:1 0 auto;flex:1 0 auto;display:grid;grid-template-areas:"leadingVisual text trailingVisual";grid-template-columns:min-content minmax(0,auto) min-content;-webkit-align-items:center;-webkit-box-align:center;-ms-flex-align:center;align-items:center;-webkit-align-content:center;-ms-flex-line-pack:center;align-content:center;}/*!sc*/
.dfaHcy [data-component="buttonContent"] > :not(:last-child){margin-right:8px;}/*!sc*/
.dfaHcy:hover:not([disabled]):not([data-inactive]){background-color:#f3f4f6;border-color:var(--button-default-borderColor-hover,rgba(31,35,40,0.15));}/*!sc*/
.dfaHcy:active:not([disabled]):not([data-inactive]){background-color:hsla(220,14%,93%,1);border-color:var(--button-default-borderColor-active,rgba(31,35,40,0.15));}/*!sc*/
.dfaHcy[aria-expanded=true]{background-color:hsla(220,14%,93%,1);border-color:var(--button-default-borderColor-active,rgba(31,35,40,0.15));}/*!sc*/
.dfaHcy [data-component="leadingVisual"],.dfaHcy [data-component="trailingVisual"],.dfaHcy [data-component="trailingAction"]{color:var(--button-color,#656d76);}/*!sc*/
.dfaHcy[data-no-visuals]{border-top-left-radius:0;border-bottom-left-radius:0;display:none;}/*!sc*/
.iNXtMc{border-radius:6px;border:1px solid;border-color:var(--button-default-borderColor-rest,rgba(31,35,40,0.15));font-family:inherit;font-weight:500;font-size:14px;cursor:pointer;-webkit-appearance:none;-moz-appearance:none;appearance:none;-webkit-user-select:none;-moz-user-select:none;-ms-user-select:none;user-select:none;-webkit-text-decoration:none;text-decoration:none;text-align:center;display:-webkit-box;display:-webkit-flex;display:-ms-flexbox;display:flex;-webkit-align-items:center;-webkit-box-align:center;-ms-flex-align:center;align-items:center;-webkit-box-pack:justify;-webkit-justify-content:space-between;-ms-flex-pack:justify;justify-content:space-between;height:32px;padding:0 12px;gap:8px;min-width:-webkit-max-content;min-width:-moz-max-content;min-width:max-content;-webkit-transition:80ms cubic-bezier(0.65,0,0.35,1);transition:80ms cubic-bezier(0.65,0,0.35,1);-webkit-transition-property:color,fill,background-color,border-color;transition-property:color,fill,background-color,border-color;color:#24292f;background-color:#f6f8fa;box-shadow:0 1px 0 rgba(31,35,40,0.04),inset 0 1px 0 rgba(255,255,255,0.25);}/*!sc*/
.iNXtMc:focus:not(:disabled){box-shadow:none;outline:2px solid #0969da;outline-offset:-2px;}/*!sc*/
.iNXtMc:focus:not(:disabled):not(:focus-visible){outline:solid 1px transparent;}/*!sc*/
.iNXtMc:focus-visible:not(:disabled){box-shadow:none;outline:2px solid #0969da;outline-offset:-2px;}/*!sc*/
.iNXtMc[href]{display:-webkit-inline-box;display:-webkit-inline-flex;display:-ms-inline-flexbox;display:inline-flex;}/*!sc*/
.iNXtMc[href]:hover{-webkit-text-decoration:none;text-decoration:none;}/*!sc*/
.iNXtMc:hover{-webkit-transition-duration:80ms;transition-duration:80ms;}/*!sc*/
.iNXtMc:active{-webkit-transition:none;transition:none;}/*!sc*/
.iNXtMc[data-inactive]{cursor:auto;}/*!sc*/
.iNXtMc:disabled{cursor:not-allowed;box-shadow:none;color:#8c959f;}/*!sc*/
.iNXtMc:disabled [data-component=ButtonCounter]{color:inherit;}/*!sc*/
@media (forced-colors:active){.iNXtMc:focus{outline:solid 1px transparent;}}/*!sc*/
.iNXtMc [data-component=ButtonCounter]{font-size:12px;}/*!sc*/
.iNXtMc[data-component=IconButton]{display:inline-grid;padding:unset;place-content:center;width:32px;min-width:unset;}/*!sc*/
.iNXtMc[data-size="small"]{padding:0 8px;height:28px;gap:4px;font-size:12px;}/*!sc*/
.iNXtMc[data-size="small"] [data-component="text"]{line-height:calc(20 / 12);}/*!sc*/
.iNXtMc[data-size="small"] [data-component=ButtonCounter]{font-size:12px;}/*!sc*/
.iNXtMc[data-size="small"] [data-component="buttonContent"] > :not(:last-child){margin-right:4px;}/*!sc*/
.iNXtMc[data-size="small"][data-component=IconButton]{width:28px;padding:unset;}/*!sc*/
.iNXtMc[data-size="large"]{padding:0 16px;height:40px;gap:8px;}/*!sc*/
.iNXtMc[data-size="large"] [data-component="buttonContent"] > :not(:last-child){margin-right:8px;}/*!sc*/
.iNXtMc[data-size="large"][data-component=IconButton]{width:40px;padding:unset;}/*!sc*/
.iNXtMc[data-block="block"]{width:100%;}/*!sc*/
.iNXtMc[data-inactive]:not([disabled]){background-color:var(--button-inactive-bgColor,#eaeef2);border-color:var(--button-inactive-bgColor,#eaeef2);color:var(--button-inactive-fgColor,#57606a);}/*!sc*/
.iNXtMc[data-inactive]:not([disabled]):focus-visible{box-shadow:none;}/*!sc*/
.iNXtMc [data-component="leadingVisual"]{grid-area:leadingVisual;}/*!sc*/
.iNXtMc [data-component="text"]{grid-area:text;line-height:calc(20/14);white-space:nowrap;}/*!sc*/
.iNXtMc [data-component="trailingVisual"]{grid-area:trailingVisual;}/*!sc*/
.iNXtMc [data-component="trailingAction"]{margin-right:-4px;}/*!sc*/
.iNXtMc [data-component="buttonContent"]{-webkit-flex:1 0 auto;-ms-flex:1 0 auto;flex:1 0 auto;display:grid;grid-template-areas:"leadingVisual text trailingVisual";grid-template-columns:min-content minmax(0,auto) min-content;-webkit-align-items:center;-webkit-box-align:center;-ms-flex-align:center;align-items:center;-webkit-align-content:center;-ms-flex-line-pack:center;align-content:center;}/*!sc*/
.iNXtMc [data-component="buttonContent"] > :not(:last-child){margin-right:8px;}/*!sc*/
.iNXtMc:hover:not([disabled]):not([data-inactive]){background-color:#f3f4f6;border-color:var(--button-default-borderColor-hover,rgba(31,35,40,0.15));}/*!sc*/
.iNXtMc:active:not([disabled]):not([data-inactive]){background-color:hsla(220,14%,93%,1);border-color:var(--button-default-borderColor-active,rgba(31,35,40,0.15));}/*!sc*/
.iNXtMc[aria-expanded=true]{background-color:hsla(220,14%,93%,1);border-color:var(--button-default-borderColor-active,rgba(31,35,40,0.15));}/*!sc*/
.iNXtMc [data-component="leadingVisual"],.iNXtMc [data-component="trailingVisual"],.iNXtMc [data-component="trailingAction"]{color:var(--button-color,#656d76);}/*!sc*/
.iNXtMc[data-no-visuals]{color:#656d76;}/*!sc*/
.fFejDP{border-radius:6px;border:1px solid;border-color:transparent;font-family:inherit;font-weight:500;font-size:14px;cursor:pointer;-webkit-appearance:none;-moz-appearance:none;appearance:none;-webkit-user-select:none;-moz-user-select:none;-ms-user-select:none;user-select:none;-webkit-text-decoration:none;text-decoration:none;text-align:center;display:-webkit-box;display:-webkit-flex;display:-ms-flexbox;display:flex;-webkit-align-items:center;-webkit-box-align:center;-ms-flex-align:center;align-items:center;-webkit-box-pack:justify;-webkit-justify-content:space-between;-ms-flex-pack:justify;justify-content:space-between;height:32px;padding:0 12px;gap:8px;min-width:-webkit-max-content;min-width:-moz-max-content;min-width:max-content;-webkit-transition:80ms cubic-bezier(0.65,0,0.35,1);transition:80ms cubic-bezier(0.65,0,0.35,1);-webkit-transition-property:color,fill,background-color,border-color;transition-property:color,fill,background-color,border-color;color:#24292f;background-color:transparent;box-shadow:none;}/*!sc*/
.fFejDP:focus:not(:disabled){box-shadow:none;outline:2px solid #0969da;outline-offset:-2px;}/*!sc*/
.fFejDP:focus:not(:disabled):not(:focus-visible){outline:solid 1px transparent;}/*!sc*/
.fFejDP:focus-visible:not(:disabled){box-shadow:none;outline:2px solid #0969da;outline-offset:-2px;}/*!sc*/
.fFejDP[href]{display:-webkit-inline-box;display:-webkit-inline-flex;display:-ms-inline-flexbox;display:inline-flex;}/*!sc*/
.fFejDP[href]:hover{-webkit-text-decoration:none;text-decoration:none;}/*!sc*/
.fFejDP:hover{-webkit-transition-duration:80ms;transition-duration:80ms;}/*!sc*/
.fFejDP:active{-webkit-transition:none;transition:none;}/*!sc*/
.fFejDP[data-inactive]{cursor:auto;}/*!sc*/
.fFejDP:disabled{cursor:not-allowed;box-shadow:none;color:#8c959f;}/*!sc*/
.fFejDP:disabled [data-component=ButtonCounter],.fFejDP:disabled [data-component="leadingVisual"],.fFejDP:disabled [data-component="trailingAction"]{color:inherit;}/*!sc*/
@media (forced-colors:active){.fFejDP:focus{outline:solid 1px transparent;}}/*!sc*/
.fFejDP [data-component=ButtonCounter]{font-size:12px;}/*!sc*/
.fFejDP[data-component=IconButton]{display:inline-grid;padding:unset;place-content:center;width:32px;min-width:unset;}/*!sc*/
.fFejDP[data-size="small"]{padding:0 8px;height:28px;gap:4px;font-size:12px;}/*!sc*/
.fFejDP[data-size="small"] [data-component="text"]{line-height:calc(20 / 12);}/*!sc*/
.fFejDP[data-size="small"] [data-component=ButtonCounter]{font-size:12px;}/*!sc*/
.fFejDP[data-size="small"] [data-component="buttonContent"] > :not(:last-child){margin-right:4px;}/*!sc*/
.fFejDP[data-size="small"][data-component=IconButton]{width:28px;padding:unset;}/*!sc*/
.fFejDP[data-size="large"]{padding:0 16px;height:40px;gap:8px;}/*!sc*/
.fFejDP[data-size="large"] [data-component="buttonContent"] > :not(:last-child){margin-right:8px;}/*!sc*/
.fFejDP[data-size="large"][data-component=IconButton]{width:40px;padding:unset;}/*!sc*/
.fFejDP[data-block="block"]{width:100%;}/*!sc*/
.fFejDP[data-inactive]:not([disabled]){background-color:var(--button-inactive-bgColor,#eaeef2);border-color:var(--button-inactive-bgColor,#eaeef2);color:var(--button-inactive-fgColor,#57606a);}/*!sc*/
.fFejDP[data-inactive]:not([disabled]):focus-visible{box-shadow:none;}/*!sc*/
.fFejDP [data-component="leadingVisual"]{grid-area:leadingVisual;color:#656d76;}/*!sc*/
.fFejDP [data-component="text"]{grid-area:text;line-height:calc(20/14);white-space:nowrap;}/*!sc*/
.fFejDP [data-component="trailingVisual"]{grid-area:trailingVisual;}/*!sc*/
.fFejDP [data-component="trailingAction"]{margin-right:-4px;color:#656d76;}/*!sc*/
.fFejDP [data-component="buttonContent"]{-webkit-flex:1 0 auto;-ms-flex:1 0 auto;flex:1 0 auto;display:grid;grid-template-areas:"leadingVisual text trailingVisual";grid-template-columns:min-content minmax(0,auto) min-content;-webkit-align-items:center;-webkit-box-align:center;-ms-flex-align:center;align-items:center;-webkit-align-content:center;-ms-flex-line-pack:center;align-content:center;}/*!sc*/
.fFejDP [data-component="buttonContent"] > :not(:last-child){margin-right:8px;}/*!sc*/
.fFejDP:hover:not([disabled]){background-color:rgba(208,215,222,0.32);}/*!sc*/
.fFejDP:active:not([disabled]){background-color:rgba(208,215,222,0.48);}/*!sc*/
.fFejDP[aria-expanded=true]{background-color:rgba(208,215,222,0.24);}/*!sc*/
.fFejDP[data-component="IconButton"][data-no-visuals]{color:#656d76;}/*!sc*/
.fFejDP[data-no-visuals]{color:#0969da;}/*!sc*/
.fFejDP:has([data-component="ButtonCounter"]){color:#24292f;}/*!sc*/
.fFejDP:disabled[data-no-visuals]{color:#8c959f;}/*!sc*/
.fFejDP:disabled[data-no-visuals] [data-component=ButtonCounter]{color:inherit;}/*!sc*/
.fFejDP[data-size="small"][data-no-visuals]{margin-left:8px;}/*!sc*/
.hsBZZU{border-radius:6px;border:1px solid;border-color:transparent;font-family:inherit;font-weight:500;font-size:14px;cursor:pointer;-webkit-appearance:none;-moz-appearance:none;appearance:none;-webkit-user-select:none;-moz-user-select:none;-ms-user-select:none;user-select:none;-webkit-text-decoration:none;text-decoration:none;text-align:center;display:-webkit-box;display:-webkit-flex;display:-ms-flexbox;display:flex;-webkit-align-items:center;-webkit-box-align:center;-ms-flex-align:center;align-items:center;-webkit-box-pack:justify;-webkit-justify-content:space-between;-ms-flex-pack:justify;justify-content:space-between;height:32px;padding:0 12px;gap:8px;min-width:-webkit-max-content;min-width:-moz-max-content;min-width:max-content;-webkit-transition:80ms cubic-bezier(0.65,0,0.35,1);transition:80ms cubic-bezier(0.65,0,0.35,1);-webkit-transition-property:color,fill,background-color,border-color;transition-property:color,fill,background-color,border-color;color:#1F2328;background-color:transparent;box-shadow:none;}/*!sc*/
.hsBZZU:focus:not(:disabled){box-shadow:none;outline:2px solid #0969da;outline-offset:-2px;}/*!sc*/
.hsBZZU:focus:not(:disabled):not(:focus-visible){outline:solid 1px transparent;}/*!sc*/
.hsBZZU:focus-visible:not(:disabled){box-shadow:none;outline:2px solid #0969da;outline-offset:-2px;}/*!sc*/
.hsBZZU[href]{display:-webkit-inline-box;display:-webkit-inline-flex;display:-ms-inline-flexbox;display:inline-flex;}/*!sc*/
.hsBZZU[href]:hover{-webkit-text-decoration:none;text-decoration:none;}/*!sc*/
.hsBZZU:hover{-webkit-transition-duration:80ms;transition-duration:80ms;}/*!sc*/
.hsBZZU:active{-webkit-transition:none;transition:none;}/*!sc*/
.hsBZZU[data-inactive]{cursor:auto;}/*!sc*/
.hsBZZU:disabled{cursor:not-allowed;box-shadow:none;color:#8c959f;}/*!sc*/
.hsBZZU:disabled [data-component=ButtonCounter],.hsBZZU:disabled [data-component="leadingVisual"],.hsBZZU:disabled [data-component="trailingAction"]{color:inherit;}/*!sc*/
@media (forced-colors:active){.hsBZZU:focus{outline:solid 1px transparent;}}/*!sc*/
.hsBZZU [data-component=ButtonCounter]{font-size:12px;}/*!sc*/
.hsBZZU[data-component=IconButton]{display:inline-grid;padding:unset;place-content:center;width:32px;min-width:unset;}/*!sc*/
.hsBZZU[data-size="small"]{padding:0 8px;height:28px;gap:4px;font-size:12px;}/*!sc*/
.hsBZZU[data-size="small"] [data-component="text"]{line-height:calc(20 / 12);}/*!sc*/
.hsBZZU[data-size="small"] [data-component=ButtonCounter]{font-size:12px;}/*!sc*/
.hsBZZU[data-size="small"] [data-component="buttonContent"] > :not(:last-child){margin-right:4px;}/*!sc*/
.hsBZZU[data-size="small"][data-component=IconButton]{width:28px;padding:unset;}/*!sc*/
.hsBZZU[data-size="large"]{padding:0 16px;height:40px;gap:8px;}/*!sc*/
.hsBZZU[data-size="large"] [data-component="buttonContent"] > :not(:last-child){margin-right:8px;}/*!sc*/
.hsBZZU[data-size="large"][data-component=IconButton]{width:40px;padding:unset;}/*!sc*/
.hsBZZU[data-block="block"]{width:100%;}/*!sc*/
.hsBZZU[data-inactive]:not([disabled]){background-color:var(--button-inactive-bgColor,#eaeef2);border-color:var(--button-inactive-bgColor,#eaeef2);color:var(--button-inactive-fgColor,#57606a);}/*!sc*/
.hsBZZU[data-inactive]:not([disabled]):focus-visible{box-shadow:none;}/*!sc*/
.hsBZZU [data-component="leadingVisual"]{grid-area:leadingVisual;color:#656d76;}/*!sc*/
.hsBZZU [data-component="text"]{grid-area:text;line-height:calc(20/14);white-space:nowrap;}/*!sc*/
.hsBZZU [data-component="trailingVisual"]{grid-area:trailingVisual;}/*!sc*/
.hsBZZU [data-component="trailingAction"]{margin-right:-4px;color:#656d76;}/*!sc*/
.hsBZZU [data-component="buttonContent"]{-webkit-flex:1 0 auto;-ms-flex:1 0 auto;flex:1 0 auto;display:grid;grid-template-areas:"leadingVisual text trailingVisual";grid-template-columns:min-content minmax(0,auto) min-content;-webkit-align-items:center;-webkit-box-align:center;-ms-flex-align:center;align-items:center;-webkit-align-content:center;-ms-flex-line-pack:center;align-content:center;}/*!sc*/
.hsBZZU [data-component="buttonContent"] > :not(:last-child){margin-right:8px;}/*!sc*/
.hsBZZU:hover:not([disabled]){background-color:rgba(208,215,222,0.32);-webkit-text-decoration:none;text-decoration:none;}/*!sc*/
.hsBZZU:active:not([disabled]){background-color:rgba(208,215,222,0.48);-webkit-text-decoration:none;text-decoration:none;}/*!sc*/
.hsBZZU[aria-expanded=true]{background-color:rgba(208,215,222,0.24);}/*!sc*/
.hsBZZU[data-component="IconButton"][data-no-visuals]{color:#656d76;}/*!sc*/
.hsBZZU[data-no-visuals]{color:#0969da;}/*!sc*/
.hsBZZU:has([data-component="ButtonCounter"]){color:#24292f;}/*!sc*/
.hsBZZU:disabled[data-no-visuals]{color:#8c959f;}/*!sc*/
.hsBZZU:disabled[data-no-visuals] [data-component=ButtonCounter]{color:inherit;}/*!sc*/
.hsBZZU:focus:not([disabled]){-webkit-text-decoration:none;text-decoration:none;}/*!sc*/
.ctemji{border-radius:6px;border:1px solid;border-color:transparent;font-family:inherit;font-weight:500;font-size:14px;cursor:pointer;-webkit-appearance:none;-moz-appearance:none;appearance:none;-webkit-user-select:none;-moz-user-select:none;-ms-user-select:none;user-select:none;-webkit-text-decoration:none;text-decoration:none;text-align:center;display:-webkit-box;display:-webkit-flex;display:-ms-flexbox;display:flex;-webkit-align-items:center;-webkit-box-align:center;-ms-flex-align:center;align-items:center;-webkit-box-pack:justify;-webkit-justify-content:space-between;-ms-flex-pack:justify;justify-content:space-between;height:32px;padding:0 12px;gap:8px;min-width:-webkit-max-content;min-width:-moz-max-content;min-width:max-content;-webkit-transition:80ms cubic-bezier(0.65,0,0.35,1);transition:80ms cubic-bezier(0.65,0,0.35,1);-webkit-transition-property:color,fill,background-color,border-color;transition-property:color,fill,background-color,border-color;color:#24292f;background-color:transparent;box-shadow:none;}/*!sc*/
.ctemji:focus:not(:disabled){box-shadow:none;outline:2px solid #0969da;outline-offset:-2px;}/*!sc*/
.ctemji:focus:not(:disabled):not(:focus-visible){outline:solid 1px transparent;}/*!sc*/
.ctemji:focus-visible:not(:disabled){box-shadow:none;outline:2px solid #0969da;outline-offset:-2px;}/*!sc*/
.ctemji[href]{display:-webkit-inline-box;display:-webkit-inline-flex;display:-ms-inline-flexbox;display:inline-flex;}/*!sc*/
.ctemji[href]:hover{-webkit-text-decoration:none;text-decoration:none;}/*!sc*/
.ctemji:hover{-webkit-transition-duration:80ms;transition-duration:80ms;}/*!sc*/
.ctemji:active{-webkit-transition:none;transition:none;}/*!sc*/
.ctemji[data-inactive]{cursor:auto;}/*!sc*/
.ctemji:disabled{cursor:not-allowed;box-shadow:none;color:#8c959f;}/*!sc*/
.ctemji:disabled [data-component=ButtonCounter],.ctemji:disabled [data-component="leadingVisual"],.ctemji:disabled [data-component="trailingAction"]{color:inherit;}/*!sc*/
@media (forced-colors:active){.ctemji:focus{outline:solid 1px transparent;}}/*!sc*/
.ctemji [data-component=ButtonCounter]{font-size:12px;}/*!sc*/
.ctemji[data-component=IconButton]{display:inline-grid;padding:unset;place-content:center;width:32px;min-width:unset;}/*!sc*/
.ctemji[data-size="small"]{padding:0 8px;height:28px;gap:4px;font-size:12px;color:#1F2328;display:none;}/*!sc*/
.ctemji[data-size="small"] [data-component="text"]{line-height:calc(20 / 12);}/*!sc*/
.ctemji[data-size="small"] [data-component=ButtonCounter]{font-size:12px;}/*!sc*/
.ctemji[data-size="small"] [data-component="buttonContent"] > :not(:last-child){margin-right:4px;}/*!sc*/
.ctemji[data-size="small"][data-component=IconButton]{width:28px;padding:unset;}/*!sc*/
@media screen and (min-width:544px){.ctemji[data-size="small"]{display:none;}}/*!sc*/
@media screen and (min-width:768px){.ctemji[data-size="small"]{display:none;}}/*!sc*/
@media screen and (min-width:1012px){.ctemji[data-size="small"]{display:none;}}/*!sc*/
@media screen and (min-width:1280px){.ctemji[data-size="small"]{display:block;}}/*!sc*/
.ctemji[data-size="large"]{padding:0 16px;height:40px;gap:8px;}/*!sc*/
.ctemji[data-size="large"] [data-component="buttonContent"] > :not(:last-child){margin-right:8px;}/*!sc*/
.ctemji[data-size="large"][data-component=IconButton]{width:40px;padding:unset;}/*!sc*/
.ctemji[data-block="block"]{width:100%;}/*!sc*/
.ctemji[data-inactive]:not([disabled]){background-color:var(--button-inactive-bgColor,#eaeef2);border-color:var(--button-inactive-bgColor,#eaeef2);color:var(--button-inactive-fgColor,#57606a);}/*!sc*/
.ctemji[data-inactive]:not([disabled]):focus-visible{box-shadow:none;}/*!sc*/
.ctemji [data-component="leadingVisual"]{grid-area:leadingVisual;color:#656d76;}/*!sc*/
.ctemji [data-component="text"]{grid-area:text;line-height:calc(20/14);white-space:nowrap;}/*!sc*/
.ctemji [data-component="trailingVisual"]{grid-area:trailingVisual;}/*!sc*/
.ctemji [data-component="trailingAction"]{margin-right:-4px;color:#656d76;}/*!sc*/
.ctemji [data-component="buttonContent"]{-webkit-flex:1 0 auto;-ms-flex:1 0 auto;flex:1 0 auto;display:grid;grid-template-areas:"leadingVisual text trailingVisual";grid-template-columns:min-content minmax(0,auto) min-content;-webkit-align-items:center;-webkit-box-align:center;-ms-flex-align:center;align-items:center;-webkit-align-content:center;-ms-flex-line-pack:center;align-content:center;}/*!sc*/
.ctemji [data-component="buttonContent"] > :not(:last-child){margin-right:8px;}/*!sc*/
.ctemji:hover:not([disabled]){background-color:rgba(208,215,222,0.32);}/*!sc*/
.ctemji:active:not([disabled]){background-color:rgba(208,215,222,0.48);}/*!sc*/
.ctemji[aria-expanded=true]{background-color:rgba(208,215,222,0.24);}/*!sc*/
.ctemji[data-component="IconButton"][data-no-visuals]{color:#656d76;}/*!sc*/
.ctemji[data-no-visuals]{color:#0969da;}/*!sc*/
.ctemji:has([data-component="ButtonCounter"]){color:#24292f;}/*!sc*/
.ctemji:disabled[data-no-visuals]{color:#8c959f;}/*!sc*/
.ctemji:disabled[data-no-visuals] [data-component=ButtonCounter]{color:inherit;}/*!sc*/
.iukPok{border-radius:6px;border:1px solid;border-color:transparent;font-family:inherit;font-weight:500;font-size:14px;cursor:pointer;-webkit-appearance:none;-moz-appearance:none;appearance:none;-webkit-user-select:none;-moz-user-select:none;-ms-user-select:none;user-select:none;-webkit-text-decoration:none;text-decoration:none;text-align:center;display:-webkit-box;display:-webkit-flex;display:-ms-flexbox;display:flex;-webkit-align-items:center;-webkit-box-align:center;-ms-flex-align:center;align-items:center;-webkit-box-pack:justify;-webkit-justify-content:space-between;-ms-flex-pack:justify;justify-content:space-between;height:32px;padding:0 12px;gap:8px;min-width:-webkit-max-content;min-width:-moz-max-content;min-width:max-content;-webkit-transition:80ms cubic-bezier(0.65,0,0.35,1);transition:80ms cubic-bezier(0.65,0,0.35,1);-webkit-transition-property:color,fill,background-color,border-color;transition-property:color,fill,background-color,border-color;color:#24292f;background-color:transparent;box-shadow:none;}/*!sc*/
.iukPok:focus:not(:disabled){box-shadow:none;outline:2px solid #0969da;outline-offset:-2px;}/*!sc*/
.iukPok:focus:not(:disabled):not(:focus-visible){outline:solid 1px transparent;}/*!sc*/
.iukPok:focus-visible:not(:disabled){box-shadow:none;outline:2px solid #0969da;outline-offset:-2px;}/*!sc*/
.iukPok[href]{display:-webkit-inline-box;display:-webkit-inline-flex;display:-ms-inline-flexbox;display:inline-flex;}/*!sc*/
.iukPok[href]:hover{-webkit-text-decoration:none;text-decoration:none;}/*!sc*/
.iukPok:hover{-webkit-transition-duration:80ms;transition-duration:80ms;}/*!sc*/
.iukPok:active{-webkit-transition:none;transition:none;}/*!sc*/
.iukPok[data-inactive]{cursor:auto;}/*!sc*/
.iukPok:disabled{cursor:not-allowed;box-shadow:none;color:#8c959f;}/*!sc*/
.iukPok:disabled [data-component=ButtonCounter],.iukPok:disabled [data-component="leadingVisual"],.iukPok:disabled [data-component="trailingAction"]{color:inherit;}/*!sc*/
@media (forced-colors:active){.iukPok:focus{outline:solid 1px transparent;}}/*!sc*/
.iukPok [data-component=ButtonCounter]{font-size:12px;}/*!sc*/
.iukPok[data-component=IconButton]{display:inline-grid;padding:unset;place-content:center;width:32px;min-width:unset;}/*!sc*/
.iukPok[data-size="small"]{padding:0 8px;height:28px;gap:4px;font-size:12px;color:#1F2328;margin-left:8px;}/*!sc*/
.iukPok[data-size="small"] [data-component="text"]{line-height:calc(20 / 12);}/*!sc*/
.iukPok[data-size="small"] [data-component=ButtonCounter]{font-size:12px;}/*!sc*/
.iukPok[data-size="small"] [data-component="buttonContent"] > :not(:last-child){margin-right:4px;}/*!sc*/
.iukPok[data-size="small"][data-component=IconButton]{width:28px;padding:unset;}/*!sc*/
.iukPok[data-size="large"]{padding:0 16px;height:40px;gap:8px;}/*!sc*/
.iukPok[data-size="large"] [data-component="buttonContent"] > :not(:last-child){margin-right:8px;}/*!sc*/
.iukPok[data-size="large"][data-component=IconButton]{width:40px;padding:unset;}/*!sc*/
.iukPok[data-block="block"]{width:100%;}/*!sc*/
.iukPok[data-inactive]:not([disabled]){background-color:var(--button-inactive-bgColor,#eaeef2);border-color:var(--button-inactive-bgColor,#eaeef2);color:var(--button-inactive-fgColor,#57606a);}/*!sc*/
.iukPok[data-inactive]:not([disabled]):focus-visible{box-shadow:none;}/*!sc*/
.iukPok [data-component="leadingVisual"]{grid-area:leadingVisual;color:#656d76;}/*!sc*/
.iukPok [data-component="text"]{grid-area:text;line-height:calc(20/14);white-space:nowrap;}/*!sc*/
.iukPok [data-component="trailingVisual"]{grid-area:trailingVisual;}/*!sc*/
.iukPok [data-component="trailingAction"]{margin-right:-4px;color:#656d76;}/*!sc*/
.iukPok [data-component="buttonContent"]{-webkit-flex:1 0 auto;-ms-flex:1 0 auto;flex:1 0 auto;display:grid;grid-template-areas:"leadingVisual text trailingVisual";grid-template-columns:min-content minmax(0,auto) min-content;-webkit-align-items:center;-webkit-box-align:center;-ms-flex-align:center;align-items:center;-webkit-align-content:center;-ms-flex-line-pack:center;align-content:center;}/*!sc*/
.iukPok [data-component="buttonContent"] > :not(:last-child){margin-right:8px;}/*!sc*/
.iukPok:hover:not([disabled]){background-color:rgba(208,215,222,0.32);}/*!sc*/
.iukPok:active:not([disabled]){background-color:rgba(208,215,222,0.48);}/*!sc*/
.iukPok[aria-expanded=true]{background-color:rgba(208,215,222,0.24);}/*!sc*/
.iukPok[data-component="IconButton"][data-no-visuals]{color:#656d76;}/*!sc*/
.iukPok[data-no-visuals]{color:#0969da;}/*!sc*/
.iukPok:has([data-component="ButtonCounter"]){color:#24292f;}/*!sc*/
.iukPok:disabled[data-no-visuals]{color:#8c959f;}/*!sc*/
.iukPok:disabled[data-no-visuals] [data-component=ButtonCounter]{color:inherit;}/*!sc*/
.cCLqJS{border-radius:6px;border:1px solid;border-color:var(--button-default-borderColor-rest,rgba(31,35,40,0.15));font-family:inherit;font-weight:500;font-size:14px;cursor:pointer;-webkit-appearance:none;-moz-appearance:none;appearance:none;-webkit-user-select:none;-moz-user-select:none;-ms-user-select:none;user-select:none;-webkit-text-decoration:none;text-decoration:none;text-align:center;display:-webkit-box;display:-webkit-flex;display:-ms-flexbox;display:flex;-webkit-align-items:center;-webkit-box-align:center;-ms-flex-align:center;align-items:center;-webkit-box-pack:justify;-webkit-justify-content:space-between;-ms-flex-pack:justify;justify-content:space-between;height:32px;padding:0 12px;gap:8px;min-width:-webkit-max-content;min-width:-moz-max-content;min-width:max-content;-webkit-transition:80ms cubic-bezier(0.65,0,0.35,1);transition:80ms cubic-bezier(0.65,0,0.35,1);-webkit-transition-property:color,fill,background-color,border-color;transition-property:color,fill,background-color,border-color;color:#24292f;background-color:#f6f8fa;box-shadow:0 1px 0 rgba(31,35,40,0.04),inset 0 1px 0 rgba(255,255,255,0.25);padding-left:8px;padding-right:8px;}/*!sc*/
.cCLqJS:focus:not(:disabled){box-shadow:none;outline:2px solid #0969da;outline-offset:-2px;}/*!sc*/
.cCLqJS:focus:not(:disabled):not(:focus-visible){outline:solid 1px transparent;}/*!sc*/
.cCLqJS:focus-visible:not(:disabled){box-shadow:none;outline:2px solid #0969da;outline-offset:-2px;}/*!sc*/
.cCLqJS[href]{display:-webkit-inline-box;display:-webkit-inline-flex;display:-ms-inline-flexbox;display:inline-flex;}/*!sc*/
.cCLqJS[href]:hover{-webkit-text-decoration:none;text-decoration:none;}/*!sc*/
.cCLqJS:hover{-webkit-transition-duration:80ms;transition-duration:80ms;}/*!sc*/
.cCLqJS:active{-webkit-transition:none;transition:none;}/*!sc*/
.cCLqJS[data-inactive]{cursor:auto;}/*!sc*/
.cCLqJS:disabled{cursor:not-allowed;box-shadow:none;color:#8c959f;}/*!sc*/
.cCLqJS:disabled [data-component=ButtonCounter]{color:inherit;}/*!sc*/
@media (forced-colors:active){.cCLqJS:focus{outline:solid 1px transparent;}}/*!sc*/
.cCLqJS [data-component=ButtonCounter]{font-size:12px;}/*!sc*/
.cCLqJS[data-component=IconButton]{display:inline-grid;padding:unset;place-content:center;width:32px;min-width:unset;}/*!sc*/
.cCLqJS[data-size="small"]{padding:0 8px;height:28px;gap:4px;font-size:12px;}/*!sc*/
.cCLqJS[data-size="small"] [data-component="text"]{line-height:calc(20 / 12);}/*!sc*/
.cCLqJS[data-size="small"] [data-component=ButtonCounter]{font-size:12px;}/*!sc*/
.cCLqJS[data-size="small"] [data-component="buttonContent"] > :not(:last-child){margin-right:4px;}/*!sc*/
.cCLqJS[data-size="small"][data-component=IconButton]{width:28px;padding:unset;}/*!sc*/
.cCLqJS[data-size="large"]{padding:0 16px;height:40px;gap:8px;}/*!sc*/
.cCLqJS[data-size="large"] [data-component="buttonContent"] > :not(:last-child){margin-right:8px;}/*!sc*/
.cCLqJS[data-size="large"][data-component=IconButton]{width:40px;padding:unset;}/*!sc*/
.cCLqJS[data-block="block"]{width:100%;}/*!sc*/
.cCLqJS[data-inactive]:not([disabled]){background-color:var(--button-inactive-bgColor,#eaeef2);border-color:var(--button-inactive-bgColor,#eaeef2);color:var(--button-inactive-fgColor,#57606a);}/*!sc*/
.cCLqJS[data-inactive]:not([disabled]):focus-visible{box-shadow:none;}/*!sc*/
.cCLqJS [data-component="leadingVisual"]{grid-area:leadingVisual;}/*!sc*/
.cCLqJS [data-component="text"]{grid-area:text;line-height:calc(20/14);white-space:nowrap;}/*!sc*/
.cCLqJS [data-component="trailingVisual"]{grid-area:trailingVisual;}/*!sc*/
.cCLqJS [data-component="trailingAction"]{margin-right:-4px;}/*!sc*/
.cCLqJS [data-component="buttonContent"]{-webkit-flex:1 0 auto;-ms-flex:1 0 auto;flex:1 0 auto;display:grid;grid-template-areas:"leadingVisual text trailingVisual";grid-template-columns:min-content minmax(0,auto) min-content;-webkit-align-items:center;-webkit-box-align:center;-ms-flex-align:center;align-items:center;-webkit-align-content:center;-ms-flex-line-pack:center;align-content:center;}/*!sc*/
.cCLqJS [data-component="buttonContent"] > :not(:last-child){margin-right:8px;}/*!sc*/
.cCLqJS:hover:not([disabled]):not([data-inactive]){background-color:#f3f4f6;border-color:var(--button-default-borderColor-hover,rgba(31,35,40,0.15));}/*!sc*/
.cCLqJS:active:not([disabled]):not([data-inactive]){background-color:hsla(220,14%,93%,1);border-color:var(--button-default-borderColor-active,rgba(31,35,40,0.15));}/*!sc*/
.cCLqJS[aria-expanded=true]{background-color:hsla(220,14%,93%,1);border-color:var(--button-default-borderColor-active,rgba(31,35,40,0.15));}/*!sc*/
.cCLqJS [data-component="leadingVisual"],.cCLqJS [data-component="trailingVisual"],.cCLqJS [data-component="trailingAction"]{color:var(--button-color,#656d76);}/*!sc*/
.cCLqJS linkButtonSx:hover:not([disabled]){-webkit-text-decoration:none;text-decoration:none;}/*!sc*/
.cCLqJS linkButtonSx:focus:not([disabled]){-webkit-text-decoration:none;text-decoration:none;}/*!sc*/
.cCLqJS linkButtonSx:active:not([disabled]){-webkit-text-decoration:none;text-decoration:none;}/*!sc*/
.crfMWv{border-radius:6px;border:1px solid;border-color:var(--button-default-borderColor-rest,rgba(31,35,40,0.15));font-family:inherit;font-weight:500;font-size:14px;cursor:pointer;-webkit-appearance:none;-moz-appearance:none;appearance:none;-webkit-user-select:none;-moz-user-select:none;-ms-user-select:none;user-select:none;-webkit-text-decoration:none;text-decoration:none;text-align:center;display:-webkit-box;display:-webkit-flex;display:-ms-flexbox;display:flex;-webkit-align-items:center;-webkit-box-align:center;-ms-flex-align:center;align-items:center;-webkit-box-pack:justify;-webkit-justify-content:space-between;-ms-flex-pack:justify;justify-content:space-between;height:32px;padding:0 12px;gap:8px;min-width:-webkit-max-content;min-width:-moz-max-content;min-width:max-content;-webkit-transition:80ms cubic-bezier(0.65,0,0.35,1);transition:80ms cubic-bezier(0.65,0,0.35,1);-webkit-transition-property:color,fill,background-color,border-color;transition-property:color,fill,background-color,border-color;color:#24292f;background-color:#f6f8fa;box-shadow:0 1px 0 rgba(31,35,40,0.04),inset 0 1px 0 rgba(255,255,255,0.25);}/*!sc*/
.crfMWv:focus:not(:disabled){box-shadow:none;outline:2px solid #0969da;outline-offset:-2px;}/*!sc*/
.crfMWv:focus:not(:disabled):not(:focus-visible){outline:solid 1px transparent;}/*!sc*/
.crfMWv:focus-visible:not(:disabled){box-shadow:none;outline:2px solid #0969da;outline-offset:-2px;}/*!sc*/
.crfMWv[href]{display:-webkit-inline-box;display:-webkit-inline-flex;display:-ms-inline-flexbox;display:inline-flex;}/*!sc*/
.crfMWv[href]:hover{-webkit-text-decoration:none;text-decoration:none;}/*!sc*/
.crfMWv:hover{-webkit-transition-duration:80ms;transition-duration:80ms;}/*!sc*/
.crfMWv:active{-webkit-transition:none;transition:none;}/*!sc*/
.crfMWv[data-inactive]{cursor:auto;}/*!sc*/
.crfMWv:disabled{cursor:not-allowed;box-shadow:none;color:#8c959f;}/*!sc*/
.crfMWv:disabled [data-component=ButtonCounter]{color:inherit;}/*!sc*/
@media (forced-colors:active){.crfMWv:focus{outline:solid 1px transparent;}}/*!sc*/
.crfMWv [data-component=ButtonCounter]{font-size:12px;}/*!sc*/
.crfMWv[data-component=IconButton]{display:inline-grid;padding:unset;place-content:center;width:32px;min-width:unset;}/*!sc*/
.crfMWv[data-size="small"]{padding:0 8px;height:28px;gap:4px;font-size:12px;}/*!sc*/
.crfMWv[data-size="small"] [data-component="text"]{line-height:calc(20 / 12);}/*!sc*/
.crfMWv[data-size="small"] [data-component=ButtonCounter]{font-size:12px;}/*!sc*/
.crfMWv[data-size="small"] [data-component="buttonContent"] > :not(:last-child){margin-right:4px;}/*!sc*/
.crfMWv[data-size="small"][data-component=IconButton]{width:28px;padding:unset;}/*!sc*/
.crfMWv[data-size="large"]{padding:0 16px;height:40px;gap:8px;}/*!sc*/
.crfMWv[data-size="large"] [data-component="buttonContent"] > :not(:last-child){margin-right:8px;}/*!sc*/
.crfMWv[data-size="large"][data-component=IconButton]{width:40px;padding:unset;}/*!sc*/
.crfMWv[data-block="block"]{width:100%;}/*!sc*/
.crfMWv[data-inactive]:not([disabled]){background-color:var(--button-inactive-bgColor,#eaeef2);border-color:var(--button-inactive-bgColor,#eaeef2);color:var(--button-inactive-fgColor,#57606a);}/*!sc*/
.crfMWv[data-inactive]:not([disabled]):focus-visible{box-shadow:none;}/*!sc*/
.crfMWv [data-component="leadingVisual"]{grid-area:leadingVisual;}/*!sc*/
.crfMWv [data-component="text"]{grid-area:text;line-height:calc(20/14);white-space:nowrap;}/*!sc*/
.crfMWv [data-component="trailingVisual"]{grid-area:trailingVisual;}/*!sc*/
.crfMWv [data-component="trailingAction"]{margin-right:-4px;}/*!sc*/
.crfMWv [data-component="buttonContent"]{-webkit-flex:1 0 auto;-ms-flex:1 0 auto;flex:1 0 auto;display:grid;grid-template-areas:"leadingVisual text trailingVisual";grid-template-columns:min-content minmax(0,auto) min-content;-webkit-align-items:center;-webkit-box-align:center;-ms-flex-align:center;align-items:center;-webkit-align-content:center;-ms-flex-line-pack:center;align-content:center;}/*!sc*/
.crfMWv [data-component="buttonContent"] > :not(:last-child){margin-right:8px;}/*!sc*/
.crfMWv:hover:not([disabled]):not([data-inactive]){background-color:#f3f4f6;border-color:var(--button-default-borderColor-hover,rgba(31,35,40,0.15));}/*!sc*/
.crfMWv:active:not([disabled]):not([data-inactive]){background-color:hsla(220,14%,93%,1);border-color:var(--button-default-borderColor-active,rgba(31,35,40,0.15));}/*!sc*/
.crfMWv[aria-expanded=true]{background-color:hsla(220,14%,93%,1);border-color:var(--button-default-borderColor-active,rgba(31,35,40,0.15));}/*!sc*/
.crfMWv [data-component="leadingVisual"],.crfMWv [data-component="trailingVisual"],.crfMWv [data-component="trailingAction"]{color:var(--button-color,#656d76);}/*!sc*/
.dKBeSn{border-radius:6px;border:1px solid;border-color:var(--button-default-borderColor-rest,rgba(31,35,40,0.15));font-family:inherit;font-weight:500;font-size:14px;cursor:pointer;-webkit-appearance:none;-moz-appearance:none;appearance:none;-webkit-user-select:none;-moz-user-select:none;-ms-user-select:none;user-select:none;-webkit-text-decoration:none;text-decoration:none;text-align:center;display:-webkit-box;display:-webkit-flex;display:-ms-flexbox;display:flex;-webkit-align-items:center;-webkit-box-align:center;-ms-flex-align:center;align-items:center;-webkit-box-pack:justify;-webkit-justify-content:space-between;-ms-flex-pack:justify;justify-content:space-between;height:32px;padding:0 12px;gap:8px;min-width:-webkit-max-content;min-width:-moz-max-content;min-width:max-content;-webkit-transition:80ms cubic-bezier(0.65,0,0.35,1);transition:80ms cubic-bezier(0.65,0,0.35,1);-webkit-transition-property:color,fill,background-color,border-color;transition-property:color,fill,background-color,border-color;color:#24292f;background-color:#f6f8fa;box-shadow:0 1px 0 rgba(31,35,40,0.04),inset 0 1px 0 rgba(255,255,255,0.25);}/*!sc*/
.dKBeSn:focus:not(:disabled){box-shadow:none;outline:2px solid #0969da;outline-offset:-2px;}/*!sc*/
.dKBeSn:focus:not(:disabled):not(:focus-visible){outline:solid 1px transparent;}/*!sc*/
.dKBeSn:focus-visible:not(:disabled){box-shadow:none;outline:2px solid #0969da;outline-offset:-2px;}/*!sc*/
.dKBeSn[href]{display:-webkit-inline-box;display:-webkit-inline-flex;display:-ms-inline-flexbox;display:inline-flex;}/*!sc*/
.dKBeSn[href]:hover{-webkit-text-decoration:none;text-decoration:none;}/*!sc*/
.dKBeSn:hover{-webkit-transition-duration:80ms;transition-duration:80ms;}/*!sc*/
.dKBeSn:active{-webkit-transition:none;transition:none;}/*!sc*/
.dKBeSn[data-inactive]{cursor:auto;}/*!sc*/
.dKBeSn:disabled{cursor:not-allowed;box-shadow:none;color:#8c959f;}/*!sc*/
.dKBeSn:disabled [data-component=ButtonCounter]{color:inherit;}/*!sc*/
@media (forced-colors:active){.dKBeSn:focus{outline:solid 1px transparent;}}/*!sc*/
.dKBeSn [data-component=ButtonCounter]{font-size:12px;}/*!sc*/
.dKBeSn[data-component=IconButton]{display:inline-grid;padding:unset;place-content:center;width:32px;min-width:unset;}/*!sc*/
.dKBeSn[data-size="small"]{padding:0 8px;height:28px;gap:4px;font-size:12px;}/*!sc*/
.dKBeSn[data-size="small"] [data-component="text"]{line-height:calc(20 / 12);}/*!sc*/
.dKBeSn[data-size="small"] [data-component=ButtonCounter]{font-size:12px;}/*!sc*/
.dKBeSn[data-size="small"] [data-component="buttonContent"] > :not(:last-child){margin-right:4px;}/*!sc*/
.dKBeSn[data-size="small"][data-component=IconButton]{width:28px;padding:unset;}/*!sc*/
.dKBeSn[data-size="large"]{padding:0 16px;height:40px;gap:8px;}/*!sc*/
.dKBeSn[data-size="large"] [data-component="buttonContent"] > :not(:last-child){margin-right:8px;}/*!sc*/
.dKBeSn[data-size="large"][data-component=IconButton]{width:40px;padding:unset;}/*!sc*/
.dKBeSn[data-block="block"]{width:100%;}/*!sc*/
.dKBeSn[data-inactive]:not([disabled]){background-color:var(--button-inactive-bgColor,#eaeef2);border-color:var(--button-inactive-bgColor,#eaeef2);color:var(--button-inactive-fgColor,#57606a);}/*!sc*/
.dKBeSn[data-inactive]:not([disabled]):focus-visible{box-shadow:none;}/*!sc*/
.dKBeSn [data-component="leadingVisual"]{grid-area:leadingVisual;}/*!sc*/
.dKBeSn [data-component="text"]{grid-area:text;line-height:calc(20/14);white-space:nowrap;}/*!sc*/
.dKBeSn [data-component="trailingVisual"]{grid-area:trailingVisual;}/*!sc*/
.dKBeSn [data-component="trailingAction"]{margin-right:-4px;}/*!sc*/
.dKBeSn [data-component="buttonContent"]{-webkit-flex:1 0 auto;-ms-flex:1 0 auto;flex:1 0 auto;display:grid;grid-template-areas:"leadingVisual text trailingVisual";grid-template-columns:min-content minmax(0,auto) min-content;-webkit-align-items:center;-webkit-box-align:center;-ms-flex-align:center;align-items:center;-webkit-align-content:center;-ms-flex-line-pack:center;align-content:center;}/*!sc*/
.dKBeSn [data-component="buttonContent"] > :not(:last-child){margin-right:8px;}/*!sc*/
.dKBeSn:hover:not([disabled]):not([data-inactive]){background-color:#f3f4f6;border-color:var(--button-default-borderColor-hover,rgba(31,35,40,0.15));}/*!sc*/
.dKBeSn:active:not([disabled]):not([data-inactive]){background-color:hsla(220,14%,93%,1);border-color:var(--button-default-borderColor-active,rgba(31,35,40,0.15));}/*!sc*/
.dKBeSn[aria-expanded=true]{background-color:hsla(220,14%,93%,1);border-color:var(--button-default-borderColor-active,rgba(31,35,40,0.15));}/*!sc*/
.dKBeSn [data-component="leadingVisual"],.dKBeSn [data-component="trailingVisual"],.dKBeSn [data-component="trailingAction"]{color:var(--button-color,#656d76);}/*!sc*/
.dKBeSn[data-size="small"][data-no-visuals]{border-top-left-radius:0;border-bottom-left-radius:0;}/*!sc*/
.cPmGel{border-radius:6px;border:1px solid;border-color:var(--button-default-borderColor-rest,rgba(31,35,40,0.15));font-family:inherit;font-weight:500;font-size:14px;cursor:pointer;-webkit-appearance:none;-moz-appearance:none;appearance:none;-webkit-user-select:none;-moz-user-select:none;-ms-user-select:none;user-select:none;-webkit-text-decoration:none;text-decoration:none;text-align:center;display:-webkit-box;display:-webkit-flex;display:-ms-flexbox;display:flex;-webkit-align-items:center;-webkit-box-align:center;-ms-flex-align:center;align-items:center;-webkit-box-pack:justify;-webkit-justify-content:space-between;-ms-flex-pack:justify;justify-content:space-between;height:32px;padding:0 12px;gap:8px;min-width:-webkit-max-content;min-width:-moz-max-content;min-width:max-content;-webkit-transition:80ms cubic-bezier(0.65,0,0.35,1);transition:80ms cubic-bezier(0.65,0,0.35,1);-webkit-transition-property:color,fill,background-color,border-color;transition-property:color,fill,background-color,border-color;color:#24292f;background-color:#f6f8fa;box-shadow:0 1px 0 rgba(31,35,40,0.04),inset 0 1px 0 rgba(255,255,255,0.25);}/*!sc*/
.cPmGel:focus:not(:disabled){box-shadow:none;outline:2px solid #0969da;outline-offset:-2px;}/*!sc*/
.cPmGel:focus:not(:disabled):not(:focus-visible){outline:solid 1px transparent;}/*!sc*/
.cPmGel:focus-visible:not(:disabled){box-shadow:none;outline:2px solid #0969da;outline-offset:-2px;}/*!sc*/
.cPmGel[href]{display:-webkit-inline-box;display:-webkit-inline-flex;display:-ms-inline-flexbox;display:inline-flex;}/*!sc*/
.cPmGel[href]:hover{-webkit-text-decoration:none;text-decoration:none;}/*!sc*/
.cPmGel:hover{-webkit-transition-duration:80ms;transition-duration:80ms;}/*!sc*/
.cPmGel:active{-webkit-transition:none;transition:none;}/*!sc*/
.cPmGel[data-inactive]{cursor:auto;}/*!sc*/
.cPmGel:disabled{cursor:not-allowed;box-shadow:none;color:#8c959f;}/*!sc*/
.cPmGel:disabled [data-component=ButtonCounter]{color:inherit;}/*!sc*/
@media (forced-colors:active){.cPmGel:focus{outline:solid 1px transparent;}}/*!sc*/
.cPmGel [data-component=ButtonCounter]{font-size:12px;}/*!sc*/
.cPmGel[data-component=IconButton]{display:inline-grid;padding:unset;place-content:center;width:32px;min-width:unset;}/*!sc*/
.cPmGel[data-size="small"]{padding:0 8px;height:28px;gap:4px;font-size:12px;}/*!sc*/
.cPmGel[data-size="small"] [data-component="text"]{line-height:calc(20 / 12);}/*!sc*/
.cPmGel[data-size="small"] [data-component=ButtonCounter]{font-size:12px;}/*!sc*/
.cPmGel[data-size="small"] [data-component="buttonContent"] > :not(:last-child){margin-right:4px;}/*!sc*/
.cPmGel[data-size="small"][data-component=IconButton]{width:28px;padding:unset;}/*!sc*/
.cPmGel[data-size="large"]{padding:0 16px;height:40px;gap:8px;}/*!sc*/
.cPmGel[data-size="large"] [data-component="buttonContent"] > :not(:last-child){margin-right:8px;}/*!sc*/
.cPmGel[data-size="large"][data-component=IconButton]{width:40px;padding:unset;}/*!sc*/
.cPmGel[data-block="block"]{width:100%;}/*!sc*/
.cPmGel[data-inactive]:not([disabled]){background-color:var(--button-inactive-bgColor,#eaeef2);border-color:var(--button-inactive-bgColor,#eaeef2);color:var(--button-inactive-fgColor,#57606a);}/*!sc*/
.cPmGel[data-inactive]:not([disabled]):focus-visible{box-shadow:none;}/*!sc*/
.cPmGel [data-component="leadingVisual"]{grid-area:leadingVisual;}/*!sc*/
.cPmGel [data-component="text"]{grid-area:text;line-height:calc(20/14);white-space:nowrap;}/*!sc*/
.cPmGel [data-component="trailingVisual"]{grid-area:trailingVisual;}/*!sc*/
.cPmGel [data-component="trailingAction"]{margin-right:-4px;}/*!sc*/
.cPmGel [data-component="buttonContent"]{-webkit-flex:1 0 auto;-ms-flex:1 0 auto;flex:1 0 auto;display:grid;grid-template-areas:"leadingVisual text trailingVisual";grid-template-columns:min-content minmax(0,auto) min-content;-webkit-align-items:center;-webkit-box-align:center;-ms-flex-align:center;align-items:center;-webkit-align-content:center;-ms-flex-line-pack:center;align-content:center;}/*!sc*/
.cPmGel [data-component="buttonContent"] > :not(:last-child){margin-right:8px;}/*!sc*/
.cPmGel:hover:not([disabled]):not([data-inactive]){background-color:#f3f4f6;border-color:var(--button-default-borderColor-hover,rgba(31,35,40,0.15));}/*!sc*/
.cPmGel:active:not([disabled]):not([data-inactive]){background-color:hsla(220,14%,93%,1);border-color:var(--button-default-borderColor-active,rgba(31,35,40,0.15));}/*!sc*/
.cPmGel[aria-expanded=true]{background-color:hsla(220,14%,93%,1);border-color:var(--button-default-borderColor-active,rgba(31,35,40,0.15));}/*!sc*/
.cPmGel [data-component="leadingVisual"],.cPmGel [data-component="trailingVisual"],.cPmGel [data-component="trailingAction"]{color:var(--button-color,#656d76);}/*!sc*/
.cPmGel[data-size="small"][data-no-visuals]{border-top-right-radius:0;border-bottom-right-radius:0;border-right-width:0;}/*!sc*/
.cPmGel[data-size="small"][data-no-visuals]:hover:not([disabled]){-webkit-text-decoration:none;text-decoration:none;}/*!sc*/
.cPmGel[data-size="small"][data-no-visuals]:focus:not([disabled]){-webkit-text-decoration:none;text-decoration:none;}/*!sc*/
.cPmGel[data-size="small"][data-no-visuals]:active:not([disabled]){-webkit-text-decoration:none;text-decoration:none;}/*!sc*/
.lhbNLx{border-radius:6px;border:1px solid;border-color:transparent;font-family:inherit;font-weight:500;font-size:14px;cursor:pointer;-webkit-appearance:none;-moz-appearance:none;appearance:none;-webkit-user-select:none;-moz-user-select:none;-ms-user-select:none;user-select:none;-webkit-text-decoration:none;text-decoration:none;text-align:center;display:-webkit-box;display:-webkit-flex;display:-ms-flexbox;display:flex;-webkit-align-items:center;-webkit-box-align:center;-ms-flex-align:center;align-items:center;-webkit-box-pack:justify;-webkit-justify-content:space-between;-ms-flex-pack:justify;justify-content:space-between;height:32px;padding:0 12px;gap:8px;min-width:-webkit-max-content;min-width:-moz-max-content;min-width:max-content;-webkit-transition:80ms cubic-bezier(0.65,0,0.35,1);transition:80ms cubic-bezier(0.65,0,0.35,1);-webkit-transition-property:color,fill,background-color,border-color;transition-property:color,fill,background-color,border-color;color:#24292f;background-color:transparent;box-shadow:none;}/*!sc*/
.lhbNLx:focus:not(:disabled){box-shadow:none;outline:2px solid #0969da;outline-offset:-2px;}/*!sc*/
.lhbNLx:focus:not(:disabled):not(:focus-visible){outline:solid 1px transparent;}/*!sc*/
.lhbNLx:focus-visible:not(:disabled){box-shadow:none;outline:2px solid #0969da;outline-offset:-2px;}/*!sc*/
.lhbNLx[href]{display:-webkit-inline-box;display:-webkit-inline-flex;display:-ms-inline-flexbox;display:inline-flex;}/*!sc*/
.lhbNLx[href]:hover{-webkit-text-decoration:none;text-decoration:none;}/*!sc*/
.lhbNLx:hover{-webkit-transition-duration:80ms;transition-duration:80ms;}/*!sc*/
.lhbNLx:active{-webkit-transition:none;transition:none;}/*!sc*/
.lhbNLx[data-inactive]{cursor:auto;}/*!sc*/
.lhbNLx:disabled{cursor:not-allowed;box-shadow:none;color:#8c959f;}/*!sc*/
.lhbNLx:disabled [data-component=ButtonCounter],.lhbNLx:disabled [data-component="leadingVisual"],.lhbNLx:disabled [data-component="trailingAction"]{color:inherit;}/*!sc*/
@media (forced-colors:active){.lhbNLx:focus{outline:solid 1px transparent;}}/*!sc*/
.lhbNLx [data-component=ButtonCounter]{font-size:12px;}/*!sc*/
.lhbNLx[data-component=IconButton]{display:inline-grid;padding:unset;place-content:center;width:32px;min-width:unset;}/*!sc*/
.lhbNLx[data-size="small"]{padding:0 8px;height:28px;gap:4px;font-size:12px;}/*!sc*/
.lhbNLx[data-size="small"] [data-component="text"]{line-height:calc(20 / 12);}/*!sc*/
.lhbNLx[data-size="small"] [data-component=ButtonCounter]{font-size:12px;}/*!sc*/
.lhbNLx[data-size="small"] [data-component="buttonContent"] > :not(:last-child){margin-right:4px;}/*!sc*/
.lhbNLx[data-size="small"][data-component=IconButton]{width:28px;padding:unset;}/*!sc*/
.lhbNLx[data-size="large"]{padding:0 16px;height:40px;gap:8px;}/*!sc*/
.lhbNLx[data-size="large"] [data-component="buttonContent"] > :not(:last-child){margin-right:8px;}/*!sc*/
.lhbNLx[data-size="large"][data-component=IconButton]{width:40px;padding:unset;}/*!sc*/
.lhbNLx[data-block="block"]{width:100%;}/*!sc*/
.lhbNLx[data-inactive]:not([disabled]){background-color:var(--button-inactive-bgColor,#eaeef2);border-color:var(--button-inactive-bgColor,#eaeef2);color:var(--button-inactive-fgColor,#57606a);}/*!sc*/
.lhbNLx[data-inactive]:not([disabled]):focus-visible{box-shadow:none;}/*!sc*/
.lhbNLx [data-component="leadingVisual"]{grid-area:leadingVisual;color:#656d76;}/*!sc*/
.lhbNLx [data-component="text"]{grid-area:text;line-height:calc(20/14);white-space:nowrap;}/*!sc*/
.lhbNLx [data-component="trailingVisual"]{grid-area:trailingVisual;}/*!sc*/
.lhbNLx [data-component="trailingAction"]{margin-right:-4px;color:#656d76;}/*!sc*/
.lhbNLx [data-component="buttonContent"]{-webkit-flex:1 0 auto;-ms-flex:1 0 auto;flex:1 0 auto;display:grid;grid-template-areas:"leadingVisual text trailingVisual";grid-template-columns:min-content minmax(0,auto) min-content;-webkit-align-items:center;-webkit-box-align:center;-ms-flex-align:center;align-items:center;-webkit-align-content:center;-ms-flex-line-pack:center;align-content:center;}/*!sc*/
.lhbNLx [data-component="buttonContent"] > :not(:last-child){margin-right:8px;}/*!sc*/
.lhbNLx:hover:not([disabled]){background-color:rgba(208,215,222,0.32);}/*!sc*/
.lhbNLx:active:not([disabled]){background-color:rgba(208,215,222,0.48);}/*!sc*/
.lhbNLx[aria-expanded=true]{background-color:rgba(208,215,222,0.24);}/*!sc*/
.lhbNLx[data-component="IconButton"][data-no-visuals]{color:#656d76;}/*!sc*/
.lhbNLx[data-no-visuals]{color:#0969da;}/*!sc*/
.lhbNLx:has([data-component="ButtonCounter"]){color:#24292f;}/*!sc*/
.lhbNLx:disabled[data-no-visuals]{color:#8c959f;}/*!sc*/
.lhbNLx:disabled[data-no-visuals] [data-component=ButtonCounter]{color:inherit;}/*!sc*/
.lhbNLx[data-size="small"][data-no-visuals]{color:#656d76;}/*!sc*/
data-styled.g9[id="types__StyledButton-sc-ws60qy-0"]{content:"dpmVDB,kuQWBL,cTlePa,hAUDdO,bRhdlk,gDcRcS,dfaHcy,iNXtMc,fFejDP,hsBZZU,ctemji,iukPok,cCLqJS,crfMWv,dKBeSn,cPmGel,lhbNLx,"}/*!sc*/
.rTZSs{position:absolute;width:1px;height:1px;padding:0;margin:-1px;overflow:hidden;-webkit-clip:rect(0,0,0,0);clip:rect(0,0,0,0);white-space:nowrap;border-width:0;}/*!sc*/
data-styled.g10[id="_VisuallyHidden__VisuallyHidden-sc-11jhm7a-0"]{content:"rTZSs,"}/*!sc*/
.fUpWeN{display:inline-block;overflow:hidden;text-overflow:ellipsis;vertical-align:top;white-space:nowrap;max-width:125px;max-width:100%;}/*!sc*/
data-styled.g15[id="Truncate__StyledTruncate-sc-23o1d2-0"]{content:"fUpWeN,"}/*!sc*/
.cXRxE{position:relative;display:inline-block;}/*!sc*/
.cXRxE::before{position:absolute;z-index:1000001;display:none;width:0px;height:0px;color:#24292f;pointer-events:none;content:'';border:6px solid transparent;opacity:0;}/*!sc*/
.cXRxE::after{position:absolute;z-index:1000000;display:none;padding:0.5em 0.75em;font:normal normal 11px/1.5 -apple-system,BlinkMacSystemFont,"Segoe UI","Noto Sans",Helvetica,Arial,sans-serif,"Apple Color Emoji","Segoe UI Emoji";-webkit-font-smoothing:subpixel-antialiased;color:#ffffff;text-align:center;-webkit-text-decoration:none;text-decoration:none;text-shadow:none;text-transform:none;-webkit-letter-spacing:normal;-moz-letter-spacing:normal;-ms-letter-spacing:normal;letter-spacing:normal;word-wrap:break-word;white-space:pre;pointer-events:none;content:attr(aria-label);background:#24292f;border-radius:3px;opacity:0;}/*!sc*/
@-webkit-keyframes tooltip-appear{from{opacity:0;}to{opacity:1;}}/*!sc*/
@keyframes tooltip-appear{from{opacity:0;}to{opacity:1;}}/*!sc*/
.cXRxE:hover::before,.cXRxE:active::before,.cXRxE:focus::before,.cXRxE:focus-within::before,.cXRxE:hover::after,.cXRxE:active::after,.cXRxE:focus::after,.cXRxE:focus-within::after{display:inline-block;-webkit-text-decoration:none;text-decoration:none;-webkit-animation-name:tooltip-appear;animation-name:tooltip-appear;-webkit-animation-duration:0.1s;animation-duration:0.1s;-webkit-animation-fill-mode:forwards;animation-fill-mode:forwards;-webkit-animation-timing-function:ease-in;animation-timing-function:ease-in;-webkit-animation-delay:0.4s;animation-delay:0.4s;}/*!sc*/
.cXRxE.tooltipped-no-delay:hover::before,.cXRxE.tooltipped-no-delay:active::before,.cXRxE.tooltipped-no-delay:focus::before,.cXRxE.tooltipped-no-delay:focus-within::before,.cXRxE.tooltipped-no-delay:hover::after,.cXRxE.tooltipped-no-delay:active::after,.cXRxE.tooltipped-no-delay:focus::after,.cXRxE.tooltipped-no-delay:focus-within::after{-webkit-animation-delay:0s;animation-delay:0s;}/*!sc*/
.cXRxE.tooltipped-multiline:hover::after,.cXRxE.tooltipped-multiline:active::after,.cXRxE.tooltipped-multiline:focus::after,.cXRxE.tooltipped-multiline:focus-within::after{display:table-cell;}/*!sc*/
.cXRxE.tooltipped-s::after,.cXRxE.tooltipped-se::after,.cXRxE.tooltipped-sw::after{top:100%;right:50%;margin-top:6px;}/*!sc*/
.cXRxE.tooltipped-s::before,.cXRxE.tooltipped-se::before,.cXRxE.tooltipped-sw::before{top:auto;right:50%;bottom:-7px;margin-right:-6px;border-bottom-color:#24292f;}/*!sc*/
.cXRxE.tooltipped-se::after{right:auto;left:50%;margin-left:-16px;}/*!sc*/
.cXRxE.tooltipped-sw::after{margin-right:-16px;}/*!sc*/
.cXRxE.tooltipped-n::after,.cXRxE.tooltipped-ne::after,.cXRxE.tooltipped-nw::after{right:50%;bottom:100%;margin-bottom:6px;}/*!sc*/
.cXRxE.tooltipped-n::before,.cXRxE.tooltipped-ne::before,.cXRxE.tooltipped-nw::before{top:-7px;right:50%;bottom:auto;margin-right:-6px;border-top-color:#24292f;}/*!sc*/
.cXRxE.tooltipped-ne::after{right:auto;left:50%;margin-left:-16px;}/*!sc*/
.cXRxE.tooltipped-nw::after{margin-right:-16px;}/*!sc*/
.cXRxE.tooltipped-s::after,.cXRxE.tooltipped-n::after{-webkit-transform:translateX(50%);-ms-transform:translateX(50%);transform:translateX(50%);}/*!sc*/
.cXRxE.tooltipped-w::after{right:100%;bottom:50%;margin-right:6px;-webkit-transform:translateY(50%);-ms-transform:translateY(50%);transform:translateY(50%);}/*!sc*/
.cXRxE.tooltipped-w::before{top:50%;bottom:50%;left:-7px;margin-top:-6px;border-left-color:#24292f;}/*!sc*/
.cXRxE.tooltipped-e::after{bottom:50%;left:100%;margin-left:6px;-webkit-transform:translateY(50%);-ms-transform:translateY(50%);transform:translateY(50%);}/*!sc*/
.cXRxE.tooltipped-e::before{top:50%;right:-7px;bottom:50%;margin-top:-6px;border-right-color:#24292f;}/*!sc*/
.cXRxE.tooltipped-multiline::after{width:-webkit-max-content;width:-moz-max-content;width:max-content;max-width:250px;word-wrap:break-word;white-space:pre-line;border-collapse:separate;}/*!sc*/
.cXRxE.tooltipped-multiline.tooltipped-s::after,.cXRxE.tooltipped-multiline.tooltipped-n::after{right:auto;left:50%;-webkit-transform:translateX(-50%);-ms-transform:translateX(-50%);transform:translateX(-50%);}/*!sc*/
.cXRxE.tooltipped-multiline.tooltipped-w::after,.cXRxE.tooltipped-multiline.tooltipped-e::after{right:100%;}/*!sc*/
.cXRxE.tooltipped-align-right-2::after{right:0;margin-right:0;}/*!sc*/
.cXRxE.tooltipped-align-right-2::before{right:15px;}/*!sc*/
.cXRxE.tooltipped-align-left-2::after{left:0;margin-left:0;}/*!sc*/
.cXRxE.tooltipped-align-left-2::before{left:10px;}/*!sc*/
data-styled.g18[id="Tooltip__TooltipBase-sc-17tf59c-0"]{content:"cXRxE,"}/*!sc*/
.hPEVNM{-webkit-animation:rotate-keyframes 1s linear infinite;animation:rotate-keyframes 1s linear infinite;}/*!sc*/
@-webkit-keyframes rotate-keyframes{100%{-webkit-transform:rotate(360deg);-ms-transform:rotate(360deg);transform:rotate(360deg);}}/*!sc*/
@keyframes rotate-keyframes{100%{-webkit-transform:rotate(360deg);-ms-transform:rotate(360deg);transform:rotate(360deg);}}/*!sc*/
data-styled.g28[id="Spinner__StyledSpinner-sc-1knt686-0"]{content:"hPEVNM,"}/*!sc*/
.bdRwrl{font-size:14px;line-height:20px;color:#1F2328;vertical-align:middle;background-color:#ffffff;border:1px solid var(--control-borderColor-rest,#d0d7de);border-radius:6px;outline:none;box-shadow:inset 0 1px 0 rgba(208,215,222,0.2);display:-webkit-inline-box;display:-webkit-inline-flex;display:-ms-inline-flexbox;display:inline-flex;-webkit-align-items:stretch;-webkit-box-align:stretch;-ms-flex-align:stretch;align-items:stretch;min-height:32px;overflow:hidden;display:-webkit-box;display:-webkit-flex;display:-ms-flexbox;display:flex;min-width:160px;}/*!sc*/
.bdRwrl input,.bdRwrl textarea{cursor:text;}/*!sc*/
.bdRwrl select{cursor:pointer;}/*!sc*/
.bdRwrl::-webkit-input-placeholder{color:#6e7781;}/*!sc*/
.bdRwrl::-moz-placeholder{color:#6e7781;}/*!sc*/
.bdRwrl:-ms-input-placeholder{color:#6e7781;}/*!sc*/
.bdRwrl::placeholder{color:#6e7781;}/*!sc*/
.bdRwrl:focus-within{border-color:#0969da;outline:2px solid #0969da;outline-offset:-1px;}/*!sc*/
.bdRwrl > textarea{padding:12px;}/*!sc*/
@media (min-width:768px){.bdRwrl{font-size:14px;}}/*!sc*/
data-styled.g37[id="TextInputWrapper__TextInputBaseWrapper-sc-1mqhpbi-0"]{content:"bdRwrl,"}/*!sc*/
.eDtNTN{background-repeat:no-repeat;background-position:right 8px center;padding-left:12px;padding-right:12px;display:-webkit-box;display:-webkit-flex;display:-ms-flexbox;display:flex;min-width:160px;}/*!sc*/
.eDtNTN > :not(:last-child){margin-right:8px;}/*!sc*/
.eDtNTN .TextInput-icon,.eDtNTN .TextInput-action{-webkit-align-self:center;-ms-flex-item-align:center;align-self:center;color:#656d76;-webkit-flex-shrink:0;-ms-flex-negative:0;flex-shrink:0;}/*!sc*/
.eDtNTN > input,.eDtNTN > select{padding-left:0;padding-right:0;}/*!sc*/
data-styled.g38[id="TextInputWrapper-sc-1mqhpbi-1"]{content:"eDtNTN,"}/*!sc*/
.cDLBls{border:0;font-size:inherit;font-family:inherit;background-color:transparent;-webkit-appearance:none;color:inherit;width:100%;}/*!sc*/
.cDLBls:focus{outline:0;}/*!sc*/
data-styled.g39[id="UnstyledTextInput-sc-14ypya-0"]{content:"cDLBls,"}/*!sc*/
.bDmUQT{--segmented-control-button-inner-padding:12px;--segmented-control-button-bg-inset:4px;--segmented-control-outer-radius:6px;background-color:transparent;border-color:transparent;border-radius:var(--segmented-control-outer-radius);border-width:0;color:currentColor;cursor:pointer;font-family:inherit;font-size:inherit;font-weight:600;padding:0;height:100%;width:100%;}/*!sc*/
.bDmUQT .segmentedControl-content{-webkit-align-items:center;-webkit-box-align:center;-ms-flex-align:center;align-items:center;background-color:#ffffff;border-color:#8c959f;border-style:solid;border-width:1px;border-radius:var(--segmented-control-outer-radius);display:-webkit-box;display:-webkit-flex;display:-ms-flexbox;display:flex;height:100%;-webkit-box-pack:center;-webkit-justify-content:center;-ms-flex-pack:center;justify-content:center;padding-left:var(--segmented-control-button-inner-padding);padding-right:var(--segmented-control-button-inner-padding);}/*!sc*/
.bDmUQT svg{fill:#656d76;}/*!sc*/
.bDmUQT:focus:focus-visible:not(:last-child):after{width:0;}/*!sc*/
.bDmUQT .segmentedControl-text:after{content:"Preview";display:block;font-weight:600;height:0;overflow:hidden;pointer-events:none;-webkit-user-select:none;-moz-user-select:none;-ms-user-select:none;user-select:none;visibility:hidden;}/*!sc*/
@media (pointer:coarse){.bDmUQT:before{content:"";position:absolute;left:0;right:0;-webkit-transform:translateY(-50%);-ms-transform:translateY(-50%);transform:translateY(-50%);top:50%;min-height:44px;}}/*!sc*/
.fzMylw{--segmented-control-button-inner-padding:12px;--segmented-control-button-bg-inset:4px;--segmented-control-outer-radius:6px;background-color:transparent;border-color:transparent;border-radius:var(--segmented-control-outer-radius);border-width:0;color:currentColor;cursor:pointer;font-family:inherit;font-size:inherit;font-weight:400;padding:var(--segmented-control-button-bg-inset);height:100%;width:100%;}/*!sc*/
.fzMylw .segmentedControl-content{-webkit-align-items:center;-webkit-box-align:center;-ms-flex-align:center;align-items:center;background-color:transparent;border-color:transparent;border-style:solid;border-width:1px;border-radius:calc(var(--segmented-control-outer-radius) - var(--segmented-control-button-bg-inset) / 2);display:-webkit-box;display:-webkit-flex;display:-ms-flexbox;display:flex;height:100%;-webkit-box-pack:center;-webkit-justify-content:center;-ms-flex-pack:center;justify-content:center;padding-left:calc(var(--segmented-control-button-inner-padding) - var(--segmented-control-button-bg-inset));padding-right:calc(var(--segmented-control-button-inner-padding) - var(--segmented-control-button-bg-inset));}/*!sc*/
.fzMylw svg{fill:#656d76;}/*!sc*/
.fzMylw:hover .segmentedControl-content{background-color:rgba(175,184,193,0.2);}/*!sc*/
.fzMylw:active .segmentedControl-content{background-color:rgba(175,184,193,0.4);}/*!sc*/
.fzMylw:focus:focus-visible:not(:last-child):after{width:0;}/*!sc*/
.fzMylw .segmentedControl-text:after{content:"Code";display:block;font-weight:600;height:0;overflow:hidden;pointer-events:none;-webkit-user-select:none;-moz-user-select:none;-ms-user-select:none;user-select:none;visibility:hidden;}/*!sc*/
@media (pointer:coarse){.fzMylw:before{content:"";position:absolute;left:0;right:0;-webkit-transform:translateY(-50%);-ms-transform:translateY(-50%);transform:translateY(-50%);top:50%;min-height:44px;}}/*!sc*/
.hBvGcq{--segmented-control-button-inner-padding:12px;--segmented-control-button-bg-inset:4px;--segmented-control-outer-radius:6px;background-color:transparent;border-color:transparent;border-radius:var(--segmented-control-outer-radius);border-width:0;color:currentColor;cursor:pointer;font-family:inherit;font-size:inherit;font-weight:400;padding:var(--segmented-control-button-bg-inset);height:100%;width:100%;}/*!sc*/
.hBvGcq .segmentedControl-content{-webkit-align-items:center;-webkit-box-align:center;-ms-flex-align:center;align-items:center;background-color:transparent;border-color:transparent;border-style:solid;border-width:1px;border-radius:calc(var(--segmented-control-outer-radius) - var(--segmented-control-button-bg-inset) / 2);display:-webkit-box;display:-webkit-flex;display:-ms-flexbox;display:flex;height:100%;-webkit-box-pack:center;-webkit-justify-content:center;-ms-flex-pack:center;justify-content:center;padding-left:calc(var(--segmented-control-button-inner-padding) - var(--segmented-control-button-bg-inset));padding-right:calc(var(--segmented-control-button-inner-padding) - var(--segmented-control-button-bg-inset));}/*!sc*/
.hBvGcq svg{fill:#656d76;}/*!sc*/
.hBvGcq:hover .segmentedControl-content{background-color:rgba(175,184,193,0.2);}/*!sc*/
.hBvGcq:active .segmentedControl-content{background-color:rgba(175,184,193,0.4);}/*!sc*/
.hBvGcq:focus:focus-visible:not(:last-child):after{width:0;}/*!sc*/
.hBvGcq .segmentedControl-text:after{content:"Blame";display:block;font-weight:600;height:0;overflow:hidden;pointer-events:none;-webkit-user-select:none;-moz-user-select:none;-ms-user-select:none;user-select:none;visibility:hidden;}/*!sc*/
@media (pointer:coarse){.hBvGcq:before{content:"";position:absolute;left:0;right:0;-webkit-transform:translateY(-50%);-ms-transform:translateY(-50%);transform:translateY(-50%);top:50%;min-height:44px;}}/*!sc*/
data-styled.g69[id="SegmentedControlButton__SegmentedControlButtonStyled-sc-8lkgxl-0"]{content:"bDmUQT,fzMylw,hBvGcq,"}/*!sc*/
.iYVwMz{background-color:#eaeef2;border-radius:6px;display:-webkit-inline-box;display:-webkit-inline-flex;display:-ms-inline-flexbox;display:inline-flex;font-size:14px;height:28px;margin:0;padding:0;}/*!sc*/
data-styled.g71[id="SegmentedControl__SegmentedControlList-sc-1rzig82-0"]{content:"iYVwMz,"}/*!sc*/
.gtekST{list-style:none;padding:0;margin:0;}/*!sc*/
.gtekST .PRIVATE_TreeView-item{outline:none;}/*!sc*/
.gtekST .PRIVATE_TreeView-item:focus-visible > div,.gtekST .PRIVATE_TreeView-item.focus-visible > div{box-shadow:inset 0 0 0 2px #0969da;}/*!sc*/
@media (forced-colors:active){.gtekST .PRIVATE_TreeView-item:focus-visible > div,.gtekST .PRIVATE_TreeView-item.focus-visible > div{outline:2px solid HighlightText;outline-offset:-2;}}/*!sc*/
.gtekST .PRIVATE_TreeView-item-container{--level:1;--toggle-width:1rem;position:relative;display:grid;grid-template-columns:calc(calc(var(--level) - 1) * (var(--toggle-width) / 2)) var(--toggle-width) 1fr;grid-template-areas:'spacer toggle content';width:100%;min-height:2rem;font-size:14px;color:#1F2328;border-radius:6px;cursor:pointer;}/*!sc*/
.gtekST .PRIVATE_TreeView-item-container:hover{background-color:rgba(208,215,222,0.32);}/*!sc*/
@media (forced-colors:active){.gtekST .PRIVATE_TreeView-item-container:hover{outline:2px solid transparent;outline-offset:-2px;}}/*!sc*/
@media (pointer:coarse){.gtekST .PRIVATE_TreeView-item-container{--toggle-width:1.5rem;min-height:2.75rem;}}/*!sc*/
.gtekST .PRIVATE_TreeView-item-container:has(.PRIVATE_TreeView-item-skeleton):hover{background-color:transparent;cursor:default;}/*!sc*/
@media (forced-colors:active){.gtekST .PRIVATE_TreeView-item-container:has(.PRIVATE_TreeView-item-skeleton):hover{outline:none;}}/*!sc*/
.gtekST[data-omit-spacer='true'] .PRIVATE_TreeView-item-container{grid-template-columns:0 0 1fr;}/*!sc*/
.gtekST .PRIVATE_TreeView-item[aria-current='true'] > .PRIVATE_TreeView-item-container{background-color:rgba(208,215,222,0.24);}/*!sc*/
.gtekST .PRIVATE_TreeView-item[aria-current='true'] > .PRIVATE_TreeView-item-container::after{content:'';position:absolute;top:calc(50% - 0.75rem);left:-8px;width:0.25rem;height:1.5rem;background-color:#0969da;border-radius:6px;}/*!sc*/
@media (forced-colors:active){.gtekST .PRIVATE_TreeView-item[aria-current='true'] > .PRIVATE_TreeView-item-container::after{background-color:HighlightText;}}/*!sc*/
.gtekST .PRIVATE_TreeView-item-toggle{grid-area:toggle;display:-webkit-box;display:-webkit-flex;display:-ms-flexbox;display:flex;-webkit-align-items:center;-webkit-box-align:center;-ms-flex-align:center;align-items:center;-webkit-box-pack:center;-webkit-justify-content:center;-ms-flex-pack:center;justify-content:center;height:100%;color:#656d76;}/*!sc*/
.gtekST .PRIVATE_TreeView-item-toggle--hover:hover{background-color:rgba(208,215,222,0.32);}/*!sc*/
.gtekST .PRIVATE_TreeView-item-toggle--end{border-top-left-radius:6px;border-bottom-left-radius:6px;}/*!sc*/
.gtekST .PRIVATE_TreeView-item-content{grid-area:content;display:-webkit-box;display:-webkit-flex;display:-ms-flexbox;display:flex;-webkit-align-items:center;-webkit-box-align:center;-ms-flex-align:center;align-items:center;height:100%;padding:0 8px;gap:8px;}/*!sc*/
.gtekST .PRIVATE_TreeView-item-content-text{-webkit-flex:1 1 auto;-ms-flex:1 1 auto;flex:1 1 auto;width:0;overflow:hidden;white-space:nowrap;text-overflow:ellipsis;}/*!sc*/
.gtekST .PRIVATE_TreeView-item-visual{display:-webkit-box;display:-webkit-flex;display:-ms-flexbox;display:flex;color:#656d76;}/*!sc*/
.gtekST .PRIVATE_TreeView-item-level-line{width:100%;height:100%;border-right:1px solid;border-color:rgba(31,35,40,0.15);}/*!sc*/
@media (hover:hover){.gtekST .PRIVATE_TreeView-item-level-line{border-color:transparent;}.gtekST:hover .PRIVATE_TreeView-item-level-line,.gtekST:focus-within .PRIVATE_TreeView-item-level-line{border-color:rgba(31,35,40,0.15);}}/*!sc*/
.gtekST .PRIVATE_TreeView-directory-icon{display:grid;color:#54aeff;}/*!sc*/
.gtekST .PRIVATE_VisuallyHidden{position:absolute;width:1px;height:1px;padding:0;margin:-1px;overflow:hidden;-webkit-clip:rect(0,0,0,0);clip:rect(0,0,0,0);white-space:nowrap;border-width:0;}/*!sc*/
data-styled.g85[id="TreeView__UlBox-sc-4ex6b6-0"]{content:"gtekST,"}/*!sc*/
.cjbBGq{display:-webkit-inline-box;display:-webkit-inline-flex;display:-ms-inline-flexbox;display:inline-flex;vertical-align:middle;isolation:isolate;}/*!sc*/
.cjbBGq.cjbBGq > *{margin-inline-end:-1px;position:relative;border-radius:0;}/*!sc*/
.cjbBGq.cjbBGq > *:first-child{border-top-left-radius:6px;border-bottom-left-radius:6px;}/*!sc*/
.cjbBGq.cjbBGq > *:last-child{border-top-right-radius:6px;border-bottom-right-radius:6px;}/*!sc*/
.cjbBGq.cjbBGq > *:focus,.cjbBGq.cjbBGq > *:active,.cjbBGq.cjbBGq > *:hover{z-index:1;}/*!sc*/
data-styled.g87[id="ButtonGroup-sc-1gxhls1-0"]{content:"cjbBGq,"}/*!sc*/
</style><meta data-hydrostats="publish"/> <!-- --> <!-- --> <!-- --> <button hidden="" data-testid="header-permalink-button" data-hotkey-scope="read-only-cursor-text-area"></button><button hidden=""></button><div class="Box-sc-g0xbh4-0"><div style="--sticky-pane-height:100vh" class="Box-sc-g0xbh4-0 fSWWem"><div class="Box-sc-g0xbh4-0 kPPmzM"><div class="Box-sc-g0xbh4-0 cIAPDV"><div tabindex="0" class="Box-sc-g0xbh4-0 gvCnwW"><div class="Box-sc-g0xbh4-0 xEgty"><div class="Box-sc-g0xbh4-0 eUyHuk"></div><div style="--pane-width:320px" class="Box-sc-g0xbh4-0 gNdDUH"><div class="Box-sc-g0xbh4-0 react-tree-pane-contents"><div id="repos-file-tree" class="Box-sc-g0xbh4-0 jywUSN"><div class="Box-sc-g0xbh4-0 hBSSUC"><div class="Box-sc-g0xbh4-0 iPurHz"><h2 class="Heading__StyledHeading-sc-1c1dgg0-0 fNPcqd"><button style="--button-color:fg.muted" type="button" aria-label="Expand file tree" data-testid="expand-file-tree-button-mobile" class="types__StyledButton-sc-ws60qy-0 dpmVDB"><span data-component="buttonContent" class="Box-sc-g0xbh4-0 kkrdEu"><span data-component="leadingVisual" class="Box-sc-g0xbh4-0 trpoQ"><svg aria-hidden="true" focusable="false" role="img" class="octicon octicon-arrow-left" viewBox="0 0 16 16" width="16" height="16" fill="currentColor" style="display:inline-block;user-select:none;vertical-align:text-bottom;overflow:visible"><path d="M7.78 12.53a.75.75 0 0 1-1.06 0L2.47 8.28a.75.75 0 0 1 0-1.06l4.25-4.25a.751.751 0 0 1 1.042.018.751.751 0 0 1 .018 1.042L4.81 7h7.44a.75.75 0 0 1 0 1.5H4.81l2.97 2.97a.75.75 0 0 1 0 1.06Z"></path></svg></span><span data-component="text">Files</span></span></button><span role="tooltip" aria-label="Collapse file tree" id="expand-button-file-tree-button" class="Tooltip__TooltipBase-sc-17tf59c-0 cXRxE tooltipped-se"><button data-component="IconButton" type="button" data-testid="collapse-file-tree-button" aria-labelledby="expand-button-file-tree-button" aria-expanded="true" aria-controls="repos-file-tree" class="types__StyledButton-sc-ws60qy-0 kuQWBL" data-no-visuals="true"><svg aria-hidden="true" focusable="false" role="img" class="octicon octicon-sidebar-expand" viewBox="0 0 16 16" width="16" height="16" fill="currentColor" style="display:inline-block;user-select:none;vertical-align:text-bottom;overflow:visible"><path d="m4.177 7.823 2.396-2.396A.25.25 0 0 1 7 5.604v4.792a.25.25 0 0 1-.427.177L4.177 8.177a.25.25 0 0 1 0-.354Z"></path><path d="M0 1.75C0 .784.784 0 1.75 0h12.5C15.216 0 16 .784 16 1.75v12.5A1.75 1.75 0 0 1 14.25 16H1.75A1.75 1.75 0 0 1 0 14.25Zm1.75-.25a.25.25 0 0 0-.25.25v12.5c0 .138.112.25.25.25H9.5v-13Zm12.5 13a.25.25 0 0 0 .25-.25V1.75a.25.25 0 0 0-.25-.25H11v13Z"></path></svg></button></span><button hidden="" data-testid="" data-hotkey-scope="read-only-cursor-text-area"></button></h2><h2 class="Heading__StyledHeading-sc-1c1dgg0-0 imcwCi">Files</h2></div><div class="Box-sc-g0xbh4-0 hVHHYa"><div class="Box-sc-g0xbh4-0 idZfsJ"><button type="button" id="branch-picker-repos-header-ref-selector" aria-haspopup="true" tabindex="0" aria-label="main branch" data-testid="anchor-button" class="types__StyledButton-sc-ws60qy-0 cTlePa react-repos-tree-pane-ref-selector width-full ref-selector-class"><span data-component="buttonContent" class="Box-sc-g0xbh4-0 kkrdEu"><span data-component="text"><div class="Box-sc-g0xbh4-0 bKgizp"><div class="Box-sc-g0xbh4-0 kYlvBX"><svg aria-hidden="true" focusable="false" role="img" class="octicon octicon-git-branch" viewBox="0 0 16 16" width="16" height="16" fill="currentColor" style="display:inline-block;user-select:none;vertical-align:text-bottom;overflow:visible"><path d="M9.5 3.25a2.25 2.25 0 1 1 3 2.122V6A2.5 2.5 0 0 1 10 8.5H6a1 1 0 0 0-1 1v1.128a2.251 2.251 0 1 1-1.5 0V5.372a2.25 2.25 0 1 1 1.5 0v1.836A2.493 2.493 0 0 1 6 7h4a1 1 0 0 0 1-1v-.628A2.25 2.25 0 0 1 9.5 3.25Zm-6 0a.75.75 0 1 0 1.5 0 .75.75 0 0 0-1.5 0Zm8.25-.75a.75.75 0 1 0 0 1.5.75.75 0 0 0 0-1.5ZM4.25 12a.75.75 0 1 0 0 1.5.75.75 0 0 0 0-1.5Z"></path></svg></div><div class="Box-sc-g0xbh4-0 caeYDk ref-selector-button-text-container"><span class="Text-sc-17v1xeu-0 bOMzPg"> <!-- -->main</span></div></div></span><span data-component="trailingVisual" class="Box-sc-g0xbh4-0 trpoQ"><svg aria-hidden="true" focusable="false" role="img" class="octicon octicon-triangle-down" viewBox="0 0 16 16" width="16" height="16" fill="currentColor" style="display:inline-block;user-select:none;vertical-align:text-bottom;overflow:visible"><path d="m4.427 7.427 3.396 3.396a.25.25 0 0 0 .354 0l3.396-3.396A.25.25 0 0 0 11.396 7H4.604a.25.25 0 0 0-.177.427Z"></path></svg></span></span></button><button hidden="" data-hotkey-scope="read-only-cursor-text-area"></button></div><div class="Box-sc-g0xbh4-0 jahcnb"><span role="tooltip" aria-label="Add file" class="Tooltip__TooltipBase-sc-17tf59c-0 cXRxE tooltipped-s"><a sx="[object Object]" data-component="IconButton" type="button" aria-label="Add file" data-no-visuals="true" class="types__StyledButton-sc-ws60qy-0 hAUDdO" href="/pvateekul/2110531_DSDE_2023s1/new/main/code/Week02_DataPrep"><svg aria-hidden="true" focusable="false" role="img" class="octicon octicon-plus" viewBox="0 0 16 16" width="16" height="16" fill="currentColor" style="display:inline-block;user-select:none;vertical-align:text-bottom;overflow:visible"><path d="M7.75 2a.75.75 0 0 1 .75.75V7h4.25a.75.75 0 0 1 0 1.5H8.5v4.25a.75.75 0 0 1-1.5 0V8.5H2.75a.75.75 0 0 1 0-1.5H7V2.75A.75.75 0 0 1 7.75 2Z"></path></svg></a></span><button data-component="IconButton" type="button" aria-label="Search this repository" data-no-visuals="true" class="types__StyledButton-sc-ws60qy-0 bRhdlk"><svg aria-hidden="true" focusable="false" role="img" class="octicon octicon-search" viewBox="0 0 16 16" width="16" height="16" fill="currentColor" style="display:inline-block;user-select:none;vertical-align:text-bottom;overflow:visible"><path d="M10.68 11.74a6 6 0 0 1-7.922-8.982 6 6 0 0 1 8.982 7.922l3.04 3.04a.749.749 0 0 1-.326 1.275.749.749 0 0 1-.734-.215ZM11.5 7a4.499 4.499 0 1 0-8.997 0A4.499 4.499 0 0 0 11.5 7Z"></path></svg></button><button hidden="" data-testid="" data-hotkey-scope="read-only-cursor-text-area"></button></div></div></div><div class="Box-sc-g0xbh4-0 ccToMy"><button hidden="" data-testid="" data-hotkey-scope="read-only-cursor-text-area"></button><button hidden=""></button><span class="TextInputWrapper__TextInputBaseWrapper-sc-1mqhpbi-0 TextInputWrapper-sc-1mqhpbi-1 bdRwrl eDtNTN TextInput-wrapper" aria-busy="false"><span class="TextInput-icon"><svg aria-hidden="true" focusable="false" role="img" class="octicon octicon-search" viewBox="0 0 16 16" width="16" height="16" fill="currentColor" style="display:inline-block;user-select:none;vertical-align:text-bottom;overflow:visible"><path d="M10.68 11.74a6 6 0 0 1-7.922-8.982 6 6 0 0 1 8.982 7.922l3.04 3.04a.749.749 0 0 1-.326 1.275.749.749 0 0 1-.734-.215ZM11.5 7a4.499 4.499 0 1 0-8.997 0A4.499 4.499 0 0 0 11.5 7Z"></path></svg></span><input type="text" aria-label="Go to file" role="combobox" aria-controls="file-results-list" aria-expanded="false" aria-haspopup="dialog" autoCorrect="off" spellcheck="false" placeholder="Go to file" data-component="input" class="UnstyledTextInput-sc-14ypya-0 cDLBls" value=""/><span class="TextInput-icon"><div class="Box-sc-g0xbh4-0 cNvKlH"><kbd>t</kbd></div></span></span></div><div class="Box-sc-g0xbh4-0 cLfAnm"><div class="react-tree-show-tree-items"><div data-testid="repos-file-tree-container" class="Box-sc-g0xbh4-0 erWCJP"><nav aria-label="File Tree Navigation"><span role="status" aria-live="polite" aria-atomic="true" class="_VisuallyHidden__VisuallyHidden-sc-11jhm7a-0 rTZSs"></span><ul role="tree" aria-label="Files" class="TreeView__UlBox-sc-4ex6b6-0 gtekST"><li class="PRIVATE_TreeView-item" tabindex="0" id=".ipynb_checkpoints-item" role="treeitem" aria-labelledby=":R6j5djal5:" aria-describedby=":R6j5djal5H1: :R6j5djal5H2:" aria-level="1" aria-expanded="false" aria-selected="false"><div class="PRIVATE_TreeView-item-container" style="--level:1;content-visibility:auto;contain-intrinsic-size:auto 2rem"><div style="grid-area:spacer;display:flex"><div style="width:100%;display:flex"></div></div><div class="PRIVATE_TreeView-item-toggle PRIVATE_TreeView-item-toggle--hover PRIVATE_TreeView-item-toggle--end"><svg aria-hidden="true" focusable="false" role="img" class="octicon octicon-chevron-right" viewBox="0 0 12 12" width="12" height="12" fill="currentColor" style="display:inline-block;user-select:none;vertical-align:text-bottom;overflow:visible"><path d="M4.7 10c-.2 0-.4-.1-.5-.2-.3-.3-.3-.8 0-1.1L6.9 6 4.2 3.3c-.3-.3-.3-.8 0-1.1.3-.3.8-.3 1.1 0l3.3 3.2c.3.3.3.8 0 1.1L5.3 9.7c-.2.2-.4.3-.6.3Z"></path></svg></div><div id=":R6j5djal5:" class="PRIVATE_TreeView-item-content"><div class="PRIVATE_VisuallyHidden" aria-hidden="true" id=":R6j5djal5H1:"></div><div class="PRIVATE_TreeView-item-visual" aria-hidden="true"><div class="PRIVATE_TreeView-directory-icon"><svg aria-hidden="true" focusable="false" role="img" class="octicon octicon-file-directory-fill" viewBox="0 0 16 16" width="16" height="16" fill="currentColor" style="display:inline-block;user-select:none;vertical-align:text-bottom;overflow:visible"><path d="M1.75 1A1.75 1.75 0 0 0 0 2.75v10.5C0 14.216.784 15 1.75 15h12.5A1.75 1.75 0 0 0 16 13.25v-8.5A1.75 1.75 0 0 0 14.25 3H7.5a.25.25 0 0 1-.2-.1l-.9-1.2C6.07 1.26 5.55 1 5 1H1.75Z"></path></svg></div></div><span class="PRIVATE_TreeView-item-content-text"><span>.ipynb_checkpoints</span></span></div></div></li><li class="PRIVATE_TreeView-item" tabindex="0" id="code-item" role="treeitem" aria-labelledby=":Raj5djal5:" aria-describedby=":Raj5djal5H1: :Raj5djal5H2:" aria-level="1" aria-expanded="true" aria-selected="false"><div class="PRIVATE_TreeView-item-container" style="--level:1;content-visibility:auto;contain-intrinsic-size:auto 2rem"><div style="grid-area:spacer;display:flex"><div style="width:100%;display:flex"></div></div><div class="PRIVATE_TreeView-item-toggle PRIVATE_TreeView-item-toggle--hover PRIVATE_TreeView-item-toggle--end"><svg aria-hidden="true" focusable="false" role="img" class="octicon octicon-chevron-down" viewBox="0 0 12 12" width="12" height="12" fill="currentColor" style="display:inline-block;user-select:none;vertical-align:text-bottom;overflow:visible"><path d="M6 8.825c-.2 0-.4-.1-.5-.2l-3.3-3.3c-.3-.3-.3-.8 0-1.1.3-.3.8-.3 1.1 0l2.7 2.7 2.7-2.7c.3-.3.8-.3 1.1 0 .3.3.3.8 0 1.1l-3.2 3.2c-.2.2-.4.3-.6.3Z"></path></svg></div><div id=":Raj5djal5:" class="PRIVATE_TreeView-item-content"><div class="PRIVATE_VisuallyHidden" aria-hidden="true" id=":Raj5djal5H1:"></div><div class="PRIVATE_TreeView-item-visual" aria-hidden="true"><div class="PRIVATE_TreeView-directory-icon"><svg aria-hidden="true" focusable="false" role="img" class="octicon octicon-file-directory-open-fill" viewBox="0 0 16 16" width="16" height="16" fill="currentColor" style="display:inline-block;user-select:none;vertical-align:text-bottom;overflow:visible"><path d="M.513 1.513A1.75 1.75 0 0 1 1.75 1h3.5c.55 0 1.07.26 1.4.7l.9 1.2a.25.25 0 0 0 .2.1H13a1 1 0 0 1 1 1v.5H2.75a.75.75 0 0 0 0 1.5h11.978a1 1 0 0 1 .994 1.117L15 13.25A1.75 1.75 0 0 1 13.25 15H1.75A1.75 1.75 0 0 1 0 13.25V2.75c0-.464.184-.91.513-1.237Z"></path></svg></div></div><span class="PRIVATE_TreeView-item-content-text"><span>code</span></span></div></div><ul role="group" style="list-style:none;padding:0;margin:0"><li class="PRIVATE_TreeView-item" tabindex="0" id="code/Week01_Intro_Pandas-item" role="treeitem" aria-labelledby=":R1daj5djal5:" aria-describedby=":R1daj5djal5H1: :R1daj5djal5H2:" aria-level="2" aria-expanded="false" aria-selected="false"><div class="PRIVATE_TreeView-item-container" style="--level:2;content-visibility:auto;contain-intrinsic-size:auto 2rem"><div style="grid-area:spacer;display:flex"><div style="width:100%;display:flex"><div class="PRIVATE_TreeView-item-level-line"></div></div></div><div class="PRIVATE_TreeView-item-toggle PRIVATE_TreeView-item-toggle--hover"><svg aria-hidden="true" focusable="false" role="img" class="octicon octicon-chevron-right" viewBox="0 0 12 12" width="12" height="12" fill="currentColor" style="display:inline-block;user-select:none;vertical-align:text-bottom;overflow:visible"><path d="M4.7 10c-.2 0-.4-.1-.5-.2-.3-.3-.3-.8 0-1.1L6.9 6 4.2 3.3c-.3-.3-.3-.8 0-1.1.3-.3.8-.3 1.1 0l3.3 3.2c.3.3.3.8 0 1.1L5.3 9.7c-.2.2-.4.3-.6.3Z"></path></svg></div><div id=":R1daj5djal5:" class="PRIVATE_TreeView-item-content"><div class="PRIVATE_VisuallyHidden" aria-hidden="true" id=":R1daj5djal5H1:"></div><div class="PRIVATE_TreeView-item-visual" aria-hidden="true"><div class="PRIVATE_TreeView-directory-icon"><svg aria-hidden="true" focusable="false" role="img" class="octicon octicon-file-directory-fill" viewBox="0 0 16 16" width="16" height="16" fill="currentColor" style="display:inline-block;user-select:none;vertical-align:text-bottom;overflow:visible"><path d="M1.75 1A1.75 1.75 0 0 0 0 2.75v10.5C0 14.216.784 15 1.75 15h12.5A1.75 1.75 0 0 0 16 13.25v-8.5A1.75 1.75 0 0 0 14.25 3H7.5a.25.25 0 0 1-.2-.1l-.9-1.2C6.07 1.26 5.55 1 5 1H1.75Z"></path></svg></div></div><span class="PRIVATE_TreeView-item-content-text"><span>Week01_Intro_Pandas</span></span></div></div></li><li class="PRIVATE_TreeView-item" tabindex="0" id="code/Week02_DataPrep-item" role="treeitem" aria-labelledby=":R2daj5djal5:" aria-describedby=":R2daj5djal5H1: :R2daj5djal5H2:" aria-level="2" aria-expanded="true" aria-selected="false"><div class="PRIVATE_TreeView-item-container" style="--level:2;content-visibility:auto;contain-intrinsic-size:auto 2rem"><div style="grid-area:spacer;display:flex"><div style="width:100%;display:flex"><div class="PRIVATE_TreeView-item-level-line"></div></div></div><div class="PRIVATE_TreeView-item-toggle PRIVATE_TreeView-item-toggle--hover"><svg aria-hidden="true" focusable="false" role="img" class="octicon octicon-chevron-down" viewBox="0 0 12 12" width="12" height="12" fill="currentColor" style="display:inline-block;user-select:none;vertical-align:text-bottom;overflow:visible"><path d="M6 8.825c-.2 0-.4-.1-.5-.2l-3.3-3.3c-.3-.3-.3-.8 0-1.1.3-.3.8-.3 1.1 0l2.7 2.7 2.7-2.7c.3-.3.8-.3 1.1 0 .3.3.3.8 0 1.1l-3.2 3.2c-.2.2-.4.3-.6.3Z"></path></svg></div><div id=":R2daj5djal5:" class="PRIVATE_TreeView-item-content"><div class="PRIVATE_VisuallyHidden" aria-hidden="true" id=":R2daj5djal5H1:"></div><div class="PRIVATE_TreeView-item-visual" aria-hidden="true"><div class="PRIVATE_TreeView-directory-icon"><svg aria-hidden="true" focusable="false" role="img" class="octicon octicon-file-directory-open-fill" viewBox="0 0 16 16" width="16" height="16" fill="currentColor" style="display:inline-block;user-select:none;vertical-align:text-bottom;overflow:visible"><path d="M.513 1.513A1.75 1.75 0 0 1 1.75 1h3.5c.55 0 1.07.26 1.4.7l.9 1.2a.25.25 0 0 0 .2.1H13a1 1 0 0 1 1 1v.5H2.75a.75.75 0 0 0 0 1.5h11.978a1 1 0 0 1 .994 1.117L15 13.25A1.75 1.75 0 0 1 13.25 15H1.75A1.75 1.75 0 0 1 0 13.25V2.75c0-.464.184-.91.513-1.237Z"></path></svg></div></div><span class="PRIVATE_TreeView-item-content-text"><span>Week02_DataPrep</span></span></div></div><ul role="group" style="list-style:none;padding:0;margin:0"><li class="PRIVATE_TreeView-item" tabindex="0" id="code/Week02_DataPrep/Assignment2_TitanicDataPrep_ToStudent.ipynb-item" role="treeitem" aria-labelledby=":Rmidaj5djal5:" aria-describedby=":Rmidaj5djal5H1: :Rmidaj5djal5H2:" aria-level="3" aria-selected="false"><div class="PRIVATE_TreeView-item-container" style="--level:3;content-visibility:auto;contain-intrinsic-size:auto 2rem"><div style="grid-area:spacer;display:flex"><div style="width:100%;display:flex"><div class="PRIVATE_TreeView-item-level-line"></div><div class="PRIVATE_TreeView-item-level-line"></div></div></div><div id=":Rmidaj5djal5:" class="PRIVATE_TreeView-item-content"><div class="PRIVATE_VisuallyHidden" aria-hidden="true" id=":Rmidaj5djal5H1:"></div><div class="PRIVATE_TreeView-item-visual" aria-hidden="true"><svg aria-hidden="true" focusable="false" role="img" class="octicon octicon-file" viewBox="0 0 16 16" width="16" height="16" fill="currentColor" style="display:inline-block;user-select:none;vertical-align:text-bottom;overflow:visible"><path d="M2 1.75C2 .784 2.784 0 3.75 0h6.586c.464 0 .909.184 1.237.513l2.914 2.914c.329.328.513.773.513 1.237v9.586A1.75 1.75 0 0 1 13.25 16h-9.5A1.75 1.75 0 0 1 2 14.25Zm1.75-.25a.25.25 0 0 0-.25.25v12.5c0 .138.112.25.25.25h9.5a.25.25 0 0 0 .25-.25V6h-2.75A1.75 1.75 0 0 1 9 4.25V1.5Zm6.75.062V4.25c0 .138.112.25.25.25h2.688l-.011-.013-2.914-2.914-.013-.011Z"></path></svg></div><span class="PRIVATE_TreeView-item-content-text"><span>Assignment2_TitanicDataPrep_ToStudent.ipynb</span></span></div></div></li><li class="PRIVATE_TreeView-item" tabindex="0" id="code/Week02_DataPrep/Lab1_LoansDataSet.ipynb-item" role="treeitem" aria-labelledby=":R16idaj5djal5:" aria-describedby=":R16idaj5djal5H1: :R16idaj5djal5H2:" aria-level="3" aria-selected="false"><div class="PRIVATE_TreeView-item-container" style="--level:3;content-visibility:auto;contain-intrinsic-size:auto 2rem"><div style="grid-area:spacer;display:flex"><div style="width:100%;display:flex"><div class="PRIVATE_TreeView-item-level-line"></div><div class="PRIVATE_TreeView-item-level-line"></div></div></div><div id=":R16idaj5djal5:" class="PRIVATE_TreeView-item-content"><div class="PRIVATE_VisuallyHidden" aria-hidden="true" id=":R16idaj5djal5H1:"></div><div class="PRIVATE_TreeView-item-visual" aria-hidden="true"><svg aria-hidden="true" focusable="false" role="img" class="octicon octicon-file" viewBox="0 0 16 16" width="16" height="16" fill="currentColor" style="display:inline-block;user-select:none;vertical-align:text-bottom;overflow:visible"><path d="M2 1.75C2 .784 2.784 0 3.75 0h6.586c.464 0 .909.184 1.237.513l2.914 2.914c.329.328.513.773.513 1.237v9.586A1.75 1.75 0 0 1 13.25 16h-9.5A1.75 1.75 0 0 1 2 14.25Zm1.75-.25a.25.25 0 0 0-.25.25v12.5c0 .138.112.25.25.25h9.5a.25.25 0 0 0 .25-.25V6h-2.75A1.75 1.75 0 0 1 9 4.25V1.5Zm6.75.062V4.25c0 .138.112.25.25.25h2.688l-.011-.013-2.914-2.914-.013-.011Z"></path></svg></div><span class="PRIVATE_TreeView-item-content-text"><span>Lab1_LoansDataSet.ipynb</span></span></div></div></li><li class="PRIVATE_TreeView-item" tabindex="0" id="code/Week02_DataPrep/Lab2_ImputeMissingValue.ipynb-item" role="treeitem" aria-labelledby=":R1midaj5djal5:" aria-describedby=":R1midaj5djal5H1: :R1midaj5djal5H2:" aria-level="3" aria-selected="false"><div class="PRIVATE_TreeView-item-container" style="--level:3;content-visibility:auto;contain-intrinsic-size:auto 2rem"><div style="grid-area:spacer;display:flex"><div style="width:100%;display:flex"><div class="PRIVATE_TreeView-item-level-line"></div><div class="PRIVATE_TreeView-item-level-line"></div></div></div><div id=":R1midaj5djal5:" class="PRIVATE_TreeView-item-content"><div class="PRIVATE_VisuallyHidden" aria-hidden="true" id=":R1midaj5djal5H1:"></div><div class="PRIVATE_TreeView-item-visual" aria-hidden="true"><svg aria-hidden="true" focusable="false" role="img" class="octicon octicon-file" viewBox="0 0 16 16" width="16" height="16" fill="currentColor" style="display:inline-block;user-select:none;vertical-align:text-bottom;overflow:visible"><path d="M2 1.75C2 .784 2.784 0 3.75 0h6.586c.464 0 .909.184 1.237.513l2.914 2.914c.329.328.513.773.513 1.237v9.586A1.75 1.75 0 0 1 13.25 16h-9.5A1.75 1.75 0 0 1 2 14.25Zm1.75-.25a.25.25 0 0 0-.25.25v12.5c0 .138.112.25.25.25h9.5a.25.25 0 0 0 .25-.25V6h-2.75A1.75 1.75 0 0 1 9 4.25V1.5Zm6.75.062V4.25c0 .138.112.25.25.25h2.688l-.011-.013-2.914-2.914-.013-.011Z"></path></svg></div><span class="PRIVATE_TreeView-item-content-text"><span>Lab2_ImputeMissingValue.ipynb</span></span></div></div></li><li class="PRIVATE_TreeView-item" tabindex="0" id="code/Week02_DataPrep/Lab3_SplitTrainTest.ipynb-item" role="treeitem" aria-labelledby=":R26idaj5djal5:" aria-describedby=":R26idaj5djal5H1: :R26idaj5djal5H2:" aria-level="3" aria-selected="false"><div class="PRIVATE_TreeView-item-container" style="--level:3;content-visibility:auto;contain-intrinsic-size:auto 2rem"><div style="grid-area:spacer;display:flex"><div style="width:100%;display:flex"><div class="PRIVATE_TreeView-item-level-line"></div><div class="PRIVATE_TreeView-item-level-line"></div></div></div><div id=":R26idaj5djal5:" class="PRIVATE_TreeView-item-content"><div class="PRIVATE_VisuallyHidden" aria-hidden="true" id=":R26idaj5djal5H1:"></div><div class="PRIVATE_TreeView-item-visual" aria-hidden="true"><svg aria-hidden="true" focusable="false" role="img" class="octicon octicon-file" viewBox="0 0 16 16" width="16" height="16" fill="currentColor" style="display:inline-block;user-select:none;vertical-align:text-bottom;overflow:visible"><path d="M2 1.75C2 .784 2.784 0 3.75 0h6.586c.464 0 .909.184 1.237.513l2.914 2.914c.329.328.513.773.513 1.237v9.586A1.75 1.75 0 0 1 13.25 16h-9.5A1.75 1.75 0 0 1 2 14.25Zm1.75-.25a.25.25 0 0 0-.25.25v12.5c0 .138.112.25.25.25h9.5a.25.25 0 0 0 .25-.25V6h-2.75A1.75 1.75 0 0 1 9 4.25V1.5Zm6.75.062V4.25c0 .138.112.25.25.25h2.688l-.011-.013-2.914-2.914-.013-.011Z"></path></svg></div><span class="PRIVATE_TreeView-item-content-text"><span>Lab3_SplitTrainTest.ipynb</span></span></div></div></li><li class="PRIVATE_TreeView-item" tabindex="0" id="code/Week02_DataPrep/Lab4_Outliers_Titanic.ipynb-item" role="treeitem" aria-labelledby=":R2midaj5djal5:" aria-describedby=":R2midaj5djal5H1: :R2midaj5djal5H2:" aria-level="3" aria-current="true" aria-selected="false"><div class="PRIVATE_TreeView-item-container" style="--level:3"><div style="grid-area:spacer;display:flex"><div style="width:100%;display:flex"><div class="PRIVATE_TreeView-item-level-line"></div><div class="PRIVATE_TreeView-item-level-line"></div></div></div><div id=":R2midaj5djal5:" class="PRIVATE_TreeView-item-content"><div class="PRIVATE_VisuallyHidden" aria-hidden="true" id=":R2midaj5djal5H1:"></div><div class="PRIVATE_TreeView-item-visual" aria-hidden="true"><svg aria-hidden="true" focusable="false" role="img" class="octicon octicon-file" viewBox="0 0 16 16" width="16" height="16" fill="currentColor" style="display:inline-block;user-select:none;vertical-align:text-bottom;overflow:visible"><path d="M2 1.75C2 .784 2.784 0 3.75 0h6.586c.464 0 .909.184 1.237.513l2.914 2.914c.329.328.513.773.513 1.237v9.586A1.75 1.75 0 0 1 13.25 16h-9.5A1.75 1.75 0 0 1 2 14.25Zm1.75-.25a.25.25 0 0 0-.25.25v12.5c0 .138.112.25.25.25h9.5a.25.25 0 0 0 .25-.25V6h-2.75A1.75 1.75 0 0 1 9 4.25V1.5Zm6.75.062V4.25c0 .138.112.25.25.25h2.688l-.011-.013-2.914-2.914-.013-.011Z"></path></svg></div><span class="PRIVATE_TreeView-item-content-text"><span>Lab4_Outliers_Titanic.ipynb</span></span></div></div></li><li class="PRIVATE_TreeView-item" tabindex="0" id="code/Week02_DataPrep/Lab5_Outliers_Boston_(optional).ipynb-item" role="treeitem" aria-labelledby=":R36idaj5djal5:" aria-describedby=":R36idaj5djal5H1: :R36idaj5djal5H2:" aria-level="3" aria-selected="false"><div class="PRIVATE_TreeView-item-container" style="--level:3;content-visibility:auto;contain-intrinsic-size:auto 2rem"><div style="grid-area:spacer;display:flex"><div style="width:100%;display:flex"><div class="PRIVATE_TreeView-item-level-line"></div><div class="PRIVATE_TreeView-item-level-line"></div></div></div><div id=":R36idaj5djal5:" class="PRIVATE_TreeView-item-content"><div class="PRIVATE_VisuallyHidden" aria-hidden="true" id=":R36idaj5djal5H1:"></div><div class="PRIVATE_TreeView-item-visual" aria-hidden="true"><svg aria-hidden="true" focusable="false" role="img" class="octicon octicon-file" viewBox="0 0 16 16" width="16" height="16" fill="currentColor" style="display:inline-block;user-select:none;vertical-align:text-bottom;overflow:visible"><path d="M2 1.75C2 .784 2.784 0 3.75 0h6.586c.464 0 .909.184 1.237.513l2.914 2.914c.329.328.513.773.513 1.237v9.586A1.75 1.75 0 0 1 13.25 16h-9.5A1.75 1.75 0 0 1 2 14.25Zm1.75-.25a.25.25 0 0 0-.25.25v12.5c0 .138.112.25.25.25h9.5a.25.25 0 0 0 .25-.25V6h-2.75A1.75 1.75 0 0 1 9 4.25V1.5Zm6.75.062V4.25c0 .138.112.25.25.25h2.688l-.011-.013-2.914-2.914-.013-.011Z"></path></svg></div><span class="PRIVATE_TreeView-item-content-text"><span>Lab5_Outliers_Boston_(optional).ipynb</span></span></div></div></li><li class="PRIVATE_TreeView-item" tabindex="0" id="code/Week02_DataPrep/README.md-item" role="treeitem" aria-labelledby=":R3midaj5djal5:" aria-describedby=":R3midaj5djal5H1: :R3midaj5djal5H2:" aria-level="3" aria-selected="false"><div class="PRIVATE_TreeView-item-container" style="--level:3;content-visibility:auto;contain-intrinsic-size:auto 2rem"><div style="grid-area:spacer;display:flex"><div style="width:100%;display:flex"><div class="PRIVATE_TreeView-item-level-line"></div><div class="PRIVATE_TreeView-item-level-line"></div></div></div><div id=":R3midaj5djal5:" class="PRIVATE_TreeView-item-content"><div class="PRIVATE_VisuallyHidden" aria-hidden="true" id=":R3midaj5djal5H1:"></div><div class="PRIVATE_TreeView-item-visual" aria-hidden="true"><svg aria-hidden="true" focusable="false" role="img" class="octicon octicon-file" viewBox="0 0 16 16" width="16" height="16" fill="currentColor" style="display:inline-block;user-select:none;vertical-align:text-bottom;overflow:visible"><path d="M2 1.75C2 .784 2.784 0 3.75 0h6.586c.464 0 .909.184 1.237.513l2.914 2.914c.329.328.513.773.513 1.237v9.586A1.75 1.75 0 0 1 13.25 16h-9.5A1.75 1.75 0 0 1 2 14.25Zm1.75-.25a.25.25 0 0 0-.25.25v12.5c0 .138.112.25.25.25h9.5a.25.25 0 0 0 .25-.25V6h-2.75A1.75 1.75 0 0 1 9 4.25V1.5Zm6.75.062V4.25c0 .138.112.25.25.25h2.688l-.011-.013-2.914-2.914-.013-.011Z"></path></svg></div><span class="PRIVATE_TreeView-item-content-text"><span>README.md</span></span></div></div></li></ul></li><li class="PRIVATE_TreeView-item" tabindex="0" id="code/Week03_ML-item" role="treeitem" aria-labelledby=":R3daj5djal5:" aria-describedby=":R3daj5djal5H1: :R3daj5djal5H2:" aria-level="2" aria-expanded="false" aria-selected="false"><div class="PRIVATE_TreeView-item-container" style="--level:2;content-visibility:auto;contain-intrinsic-size:auto 2rem"><div style="grid-area:spacer;display:flex"><div style="width:100%;display:flex"><div class="PRIVATE_TreeView-item-level-line"></div></div></div><div class="PRIVATE_TreeView-item-toggle PRIVATE_TreeView-item-toggle--hover"><svg aria-hidden="true" focusable="false" role="img" class="octicon octicon-chevron-right" viewBox="0 0 12 12" width="12" height="12" fill="currentColor" style="display:inline-block;user-select:none;vertical-align:text-bottom;overflow:visible"><path d="M4.7 10c-.2 0-.4-.1-.5-.2-.3-.3-.3-.8 0-1.1L6.9 6 4.2 3.3c-.3-.3-.3-.8 0-1.1.3-.3.8-.3 1.1 0l3.3 3.2c.3.3.3.8 0 1.1L5.3 9.7c-.2.2-.4.3-.6.3Z"></path></svg></div><div id=":R3daj5djal5:" class="PRIVATE_TreeView-item-content"><div class="PRIVATE_VisuallyHidden" aria-hidden="true" id=":R3daj5djal5H1:"></div><div class="PRIVATE_TreeView-item-visual" aria-hidden="true"><div class="PRIVATE_TreeView-directory-icon"><svg aria-hidden="true" focusable="false" role="img" class="octicon octicon-file-directory-fill" viewBox="0 0 16 16" width="16" height="16" fill="currentColor" style="display:inline-block;user-select:none;vertical-align:text-bottom;overflow:visible"><path d="M1.75 1A1.75 1.75 0 0 0 0 2.75v10.5C0 14.216.784 15 1.75 15h12.5A1.75 1.75 0 0 0 16 13.25v-8.5A1.75 1.75 0 0 0 14.25 3H7.5a.25.25 0 0 1-.2-.1l-.9-1.2C6.07 1.26 5.55 1 5 1H1.75Z"></path></svg></div></div><span class="PRIVATE_TreeView-item-content-text"><span>Week03_ML</span></span></div></div></li><li class="PRIVATE_TreeView-item" tabindex="0" id="code/Week05_Intro_Deep_Learning-item" role="treeitem" aria-labelledby=":R4daj5djal5:" aria-describedby=":R4daj5djal5H1: :R4daj5djal5H2:" aria-level="2" aria-expanded="false" aria-selected="false"><div class="PRIVATE_TreeView-item-container" style="--level:2;content-visibility:auto;contain-intrinsic-size:auto 2rem"><div style="grid-area:spacer;display:flex"><div style="width:100%;display:flex"><div class="PRIVATE_TreeView-item-level-line"></div></div></div><div class="PRIVATE_TreeView-item-toggle PRIVATE_TreeView-item-toggle--hover"><svg aria-hidden="true" focusable="false" role="img" class="octicon octicon-chevron-right" viewBox="0 0 12 12" width="12" height="12" fill="currentColor" style="display:inline-block;user-select:none;vertical-align:text-bottom;overflow:visible"><path d="M4.7 10c-.2 0-.4-.1-.5-.2-.3-.3-.3-.8 0-1.1L6.9 6 4.2 3.3c-.3-.3-.3-.8 0-1.1.3-.3.8-.3 1.1 0l3.3 3.2c.3.3.3.8 0 1.1L5.3 9.7c-.2.2-.4.3-.6.3Z"></path></svg></div><div id=":R4daj5djal5:" class="PRIVATE_TreeView-item-content"><div class="PRIVATE_VisuallyHidden" aria-hidden="true" id=":R4daj5djal5H1:"></div><div class="PRIVATE_TreeView-item-visual" aria-hidden="true"><div class="PRIVATE_TreeView-directory-icon"><svg aria-hidden="true" focusable="false" role="img" class="octicon octicon-file-directory-fill" viewBox="0 0 16 16" width="16" height="16" fill="currentColor" style="display:inline-block;user-select:none;vertical-align:text-bottom;overflow:visible"><path d="M1.75 1A1.75 1.75 0 0 0 0 2.75v10.5C0 14.216.784 15 1.75 15h12.5A1.75 1.75 0 0 0 16 13.25v-8.5A1.75 1.75 0 0 0 14.25 3H7.5a.25.25 0 0 1-.2-.1l-.9-1.2C6.07 1.26 5.55 1 5 1H1.75Z"></path></svg></div></div><span class="PRIVATE_TreeView-item-content-text"><span>Week05_Intro_Deep_Learning</span></span></div></div></li><li class="PRIVATE_TreeView-item" tabindex="0" id="code/Week06_AdvancedML-item" role="treeitem" aria-labelledby=":R5daj5djal5:" aria-describedby=":R5daj5djal5H1: :R5daj5djal5H2:" aria-level="2" aria-expanded="false" aria-selected="false"><div class="PRIVATE_TreeView-item-container" style="--level:2;content-visibility:auto;contain-intrinsic-size:auto 2rem"><div style="grid-area:spacer;display:flex"><div style="width:100%;display:flex"><div class="PRIVATE_TreeView-item-level-line"></div></div></div><div class="PRIVATE_TreeView-item-toggle PRIVATE_TreeView-item-toggle--hover"><svg aria-hidden="true" focusable="false" role="img" class="octicon octicon-chevron-right" viewBox="0 0 12 12" width="12" height="12" fill="currentColor" style="display:inline-block;user-select:none;vertical-align:text-bottom;overflow:visible"><path d="M4.7 10c-.2 0-.4-.1-.5-.2-.3-.3-.3-.8 0-1.1L6.9 6 4.2 3.3c-.3-.3-.3-.8 0-1.1.3-.3.8-.3 1.1 0l3.3 3.2c.3.3.3.8 0 1.1L5.3 9.7c-.2.2-.4.3-.6.3Z"></path></svg></div><div id=":R5daj5djal5:" class="PRIVATE_TreeView-item-content"><div class="PRIVATE_VisuallyHidden" aria-hidden="true" id=":R5daj5djal5H1:"></div><div class="PRIVATE_TreeView-item-visual" aria-hidden="true"><div class="PRIVATE_TreeView-directory-icon"><svg aria-hidden="true" focusable="false" role="img" class="octicon octicon-file-directory-fill" viewBox="0 0 16 16" width="16" height="16" fill="currentColor" style="display:inline-block;user-select:none;vertical-align:text-bottom;overflow:visible"><path d="M1.75 1A1.75 1.75 0 0 0 0 2.75v10.5C0 14.216.784 15 1.75 15h12.5A1.75 1.75 0 0 0 16 13.25v-8.5A1.75 1.75 0 0 0 14.25 3H7.5a.25.25 0 0 1-.2-.1l-.9-1.2C6.07 1.26 5.55 1 5 1H1.75Z"></path></svg></div></div><span class="PRIVATE_TreeView-item-content-text"><span>Week06_AdvancedML</span></span></div></div></li><li class="PRIVATE_TreeView-item" tabindex="0" id="code/Week07_Architecture_and_Storage-item" role="treeitem" aria-labelledby=":R6daj5djal5:" aria-describedby=":R6daj5djal5H1: :R6daj5djal5H2:" aria-level="2" aria-expanded="false" aria-selected="false"><div class="PRIVATE_TreeView-item-container" style="--level:2;content-visibility:auto;contain-intrinsic-size:auto 2rem"><div style="grid-area:spacer;display:flex"><div style="width:100%;display:flex"><div class="PRIVATE_TreeView-item-level-line"></div></div></div><div class="PRIVATE_TreeView-item-toggle PRIVATE_TreeView-item-toggle--hover"><svg aria-hidden="true" focusable="false" role="img" class="octicon octicon-chevron-right" viewBox="0 0 12 12" width="12" height="12" fill="currentColor" style="display:inline-block;user-select:none;vertical-align:text-bottom;overflow:visible"><path d="M4.7 10c-.2 0-.4-.1-.5-.2-.3-.3-.3-.8 0-1.1L6.9 6 4.2 3.3c-.3-.3-.3-.8 0-1.1.3-.3.8-.3 1.1 0l3.3 3.2c.3.3.3.8 0 1.1L5.3 9.7c-.2.2-.4.3-.6.3Z"></path></svg></div><div id=":R6daj5djal5:" class="PRIVATE_TreeView-item-content"><div class="PRIVATE_VisuallyHidden" aria-hidden="true" id=":R6daj5djal5H1:"></div><div class="PRIVATE_TreeView-item-visual" aria-hidden="true"><div class="PRIVATE_TreeView-directory-icon"><svg aria-hidden="true" focusable="false" role="img" class="octicon octicon-file-directory-fill" viewBox="0 0 16 16" width="16" height="16" fill="currentColor" style="display:inline-block;user-select:none;vertical-align:text-bottom;overflow:visible"><path d="M1.75 1A1.75 1.75 0 0 0 0 2.75v10.5C0 14.216.784 15 1.75 15h12.5A1.75 1.75 0 0 0 16 13.25v-8.5A1.75 1.75 0 0 0 14.25 3H7.5a.25.25 0 0 1-.2-.1l-.9-1.2C6.07 1.26 5.55 1 5 1H1.75Z"></path></svg></div></div><span class="PRIVATE_TreeView-item-content-text"><span>Week07_Architecture_and_Storage</span></span></div></div></li><li class="PRIVATE_TreeView-item" tabindex="0" id="code/Week08_DataExtraction-item" role="treeitem" aria-labelledby=":R7daj5djal5:" aria-describedby=":R7daj5djal5H1: :R7daj5djal5H2:" aria-level="2" aria-expanded="false" aria-selected="false"><div class="PRIVATE_TreeView-item-container" style="--level:2;content-visibility:auto;contain-intrinsic-size:auto 2rem"><div style="grid-area:spacer;display:flex"><div style="width:100%;display:flex"><div class="PRIVATE_TreeView-item-level-line"></div></div></div><div class="PRIVATE_TreeView-item-toggle PRIVATE_TreeView-item-toggle--hover"><svg aria-hidden="true" focusable="false" role="img" class="octicon octicon-chevron-right" viewBox="0 0 12 12" width="12" height="12" fill="currentColor" style="display:inline-block;user-select:none;vertical-align:text-bottom;overflow:visible"><path d="M4.7 10c-.2 0-.4-.1-.5-.2-.3-.3-.3-.8 0-1.1L6.9 6 4.2 3.3c-.3-.3-.3-.8 0-1.1.3-.3.8-.3 1.1 0l3.3 3.2c.3.3.3.8 0 1.1L5.3 9.7c-.2.2-.4.3-.6.3Z"></path></svg></div><div id=":R7daj5djal5:" class="PRIVATE_TreeView-item-content"><div class="PRIVATE_VisuallyHidden" aria-hidden="true" id=":R7daj5djal5H1:"></div><div class="PRIVATE_TreeView-item-visual" aria-hidden="true"><div class="PRIVATE_TreeView-directory-icon"><svg aria-hidden="true" focusable="false" role="img" class="octicon octicon-file-directory-fill" viewBox="0 0 16 16" width="16" height="16" fill="currentColor" style="display:inline-block;user-select:none;vertical-align:text-bottom;overflow:visible"><path d="M1.75 1A1.75 1.75 0 0 0 0 2.75v10.5C0 14.216.784 15 1.75 15h12.5A1.75 1.75 0 0 0 16 13.25v-8.5A1.75 1.75 0 0 0 14.25 3H7.5a.25.25 0 0 1-.2-.1l-.9-1.2C6.07 1.26 5.55 1 5 1H1.75Z"></path></svg></div></div><span class="PRIVATE_TreeView-item-content-text"><span>Week08_DataExtraction</span></span></div></div></li><li class="PRIVATE_TreeView-item" tabindex="0" id="code/Week09_DataIngestion-item" role="treeitem" aria-labelledby=":R8daj5djal5:" aria-describedby=":R8daj5djal5H1: :R8daj5djal5H2:" aria-level="2" aria-expanded="false" aria-selected="false"><div class="PRIVATE_TreeView-item-container" style="--level:2;content-visibility:auto;contain-intrinsic-size:auto 2rem"><div style="grid-area:spacer;display:flex"><div style="width:100%;display:flex"><div class="PRIVATE_TreeView-item-level-line"></div></div></div><div class="PRIVATE_TreeView-item-toggle PRIVATE_TreeView-item-toggle--hover"><svg aria-hidden="true" focusable="false" role="img" class="octicon octicon-chevron-right" viewBox="0 0 12 12" width="12" height="12" fill="currentColor" style="display:inline-block;user-select:none;vertical-align:text-bottom;overflow:visible"><path d="M4.7 10c-.2 0-.4-.1-.5-.2-.3-.3-.3-.8 0-1.1L6.9 6 4.2 3.3c-.3-.3-.3-.8 0-1.1.3-.3.8-.3 1.1 0l3.3 3.2c.3.3.3.8 0 1.1L5.3 9.7c-.2.2-.4.3-.6.3Z"></path></svg></div><div id=":R8daj5djal5:" class="PRIVATE_TreeView-item-content"><div class="PRIVATE_VisuallyHidden" aria-hidden="true" id=":R8daj5djal5H1:"></div><div class="PRIVATE_TreeView-item-visual" aria-hidden="true"><div class="PRIVATE_TreeView-directory-icon"><svg aria-hidden="true" focusable="false" role="img" class="octicon octicon-file-directory-fill" viewBox="0 0 16 16" width="16" height="16" fill="currentColor" style="display:inline-block;user-select:none;vertical-align:text-bottom;overflow:visible"><path d="M1.75 1A1.75 1.75 0 0 0 0 2.75v10.5C0 14.216.784 15 1.75 15h12.5A1.75 1.75 0 0 0 16 13.25v-8.5A1.75 1.75 0 0 0 14.25 3H7.5a.25.25 0 0 1-.2-.1l-.9-1.2C6.07 1.26 5.55 1 5 1H1.75Z"></path></svg></div></div><span class="PRIVATE_TreeView-item-content-text"><span>Week09_DataIngestion</span></span></div></div></li><li class="PRIVATE_TreeView-item" tabindex="0" id="code/Week10_Spark-item" role="treeitem" aria-labelledby=":R9daj5djal5:" aria-describedby=":R9daj5djal5H1: :R9daj5djal5H2:" aria-level="2" aria-expanded="false" aria-selected="false"><div class="PRIVATE_TreeView-item-container" style="--level:2;content-visibility:auto;contain-intrinsic-size:auto 2rem"><div style="grid-area:spacer;display:flex"><div style="width:100%;display:flex"><div class="PRIVATE_TreeView-item-level-line"></div></div></div><div class="PRIVATE_TreeView-item-toggle PRIVATE_TreeView-item-toggle--hover"><svg aria-hidden="true" focusable="false" role="img" class="octicon octicon-chevron-right" viewBox="0 0 12 12" width="12" height="12" fill="currentColor" style="display:inline-block;user-select:none;vertical-align:text-bottom;overflow:visible"><path d="M4.7 10c-.2 0-.4-.1-.5-.2-.3-.3-.3-.8 0-1.1L6.9 6 4.2 3.3c-.3-.3-.3-.8 0-1.1.3-.3.8-.3 1.1 0l3.3 3.2c.3.3.3.8 0 1.1L5.3 9.7c-.2.2-.4.3-.6.3Z"></path></svg></div><div id=":R9daj5djal5:" class="PRIVATE_TreeView-item-content"><div class="PRIVATE_VisuallyHidden" aria-hidden="true" id=":R9daj5djal5H1:"></div><div class="PRIVATE_TreeView-item-visual" aria-hidden="true"><div class="PRIVATE_TreeView-directory-icon"><svg aria-hidden="true" focusable="false" role="img" class="octicon octicon-file-directory-fill" viewBox="0 0 16 16" width="16" height="16" fill="currentColor" style="display:inline-block;user-select:none;vertical-align:text-bottom;overflow:visible"><path d="M1.75 1A1.75 1.75 0 0 0 0 2.75v10.5C0 14.216.784 15 1.75 15h12.5A1.75 1.75 0 0 0 16 13.25v-8.5A1.75 1.75 0 0 0 14.25 3H7.5a.25.25 0 0 1-.2-.1l-.9-1.2C6.07 1.26 5.55 1 5 1H1.75Z"></path></svg></div></div><span class="PRIVATE_TreeView-item-content-text"><span>Week10_Spark</span></span></div></div></li><li class="PRIVATE_TreeView-item" tabindex="0" id="code/Week11_OpsStars-item" role="treeitem" aria-labelledby=":Radaj5djal5:" aria-describedby=":Radaj5djal5H1: :Radaj5djal5H2:" aria-level="2" aria-expanded="false" aria-selected="false"><div class="PRIVATE_TreeView-item-container" style="--level:2;content-visibility:auto;contain-intrinsic-size:auto 2rem"><div style="grid-area:spacer;display:flex"><div style="width:100%;display:flex"><div class="PRIVATE_TreeView-item-level-line"></div></div></div><div class="PRIVATE_TreeView-item-toggle PRIVATE_TreeView-item-toggle--hover"><svg aria-hidden="true" focusable="false" role="img" class="octicon octicon-chevron-right" viewBox="0 0 12 12" width="12" height="12" fill="currentColor" style="display:inline-block;user-select:none;vertical-align:text-bottom;overflow:visible"><path d="M4.7 10c-.2 0-.4-.1-.5-.2-.3-.3-.3-.8 0-1.1L6.9 6 4.2 3.3c-.3-.3-.3-.8 0-1.1.3-.3.8-.3 1.1 0l3.3 3.2c.3.3.3.8 0 1.1L5.3 9.7c-.2.2-.4.3-.6.3Z"></path></svg></div><div id=":Radaj5djal5:" class="PRIVATE_TreeView-item-content"><div class="PRIVATE_VisuallyHidden" aria-hidden="true" id=":Radaj5djal5H1:"></div><div class="PRIVATE_TreeView-item-visual" aria-hidden="true"><div class="PRIVATE_TreeView-directory-icon"><svg aria-hidden="true" focusable="false" role="img" class="octicon octicon-file-directory-fill" viewBox="0 0 16 16" width="16" height="16" fill="currentColor" style="display:inline-block;user-select:none;vertical-align:text-bottom;overflow:visible"><path d="M1.75 1A1.75 1.75 0 0 0 0 2.75v10.5C0 14.216.784 15 1.75 15h12.5A1.75 1.75 0 0 0 16 13.25v-8.5A1.75 1.75 0 0 0 14.25 3H7.5a.25.25 0 0 1-.2-.1l-.9-1.2C6.07 1.26 5.55 1 5 1H1.75Z"></path></svg></div></div><span class="PRIVATE_TreeView-item-content-text"><span>Week11_OpsStars</span></span></div></div></li><li class="PRIVATE_TreeView-item" tabindex="0" id="code/README.md-item" role="treeitem" aria-labelledby=":Rbdaj5djal5:" aria-describedby=":Rbdaj5djal5H1: :Rbdaj5djal5H2:" aria-level="2" aria-selected="false"><div class="PRIVATE_TreeView-item-container" style="--level:2;content-visibility:auto;contain-intrinsic-size:auto 2rem"><div style="grid-area:spacer;display:flex"><div style="width:100%;display:flex"><div class="PRIVATE_TreeView-item-level-line"></div></div></div><div id=":Rbdaj5djal5:" class="PRIVATE_TreeView-item-content"><div class="PRIVATE_VisuallyHidden" aria-hidden="true" id=":Rbdaj5djal5H1:"></div><div class="PRIVATE_TreeView-item-visual" aria-hidden="true"><svg aria-hidden="true" focusable="false" role="img" class="octicon octicon-file" viewBox="0 0 16 16" width="16" height="16" fill="currentColor" style="display:inline-block;user-select:none;vertical-align:text-bottom;overflow:visible"><path d="M2 1.75C2 .784 2.784 0 3.75 0h6.586c.464 0 .909.184 1.237.513l2.914 2.914c.329.328.513.773.513 1.237v9.586A1.75 1.75 0 0 1 13.25 16h-9.5A1.75 1.75 0 0 1 2 14.25Zm1.75-.25a.25.25 0 0 0-.25.25v12.5c0 .138.112.25.25.25h9.5a.25.25 0 0 0 .25-.25V6h-2.75A1.75 1.75 0 0 1 9 4.25V1.5Zm6.75.062V4.25c0 .138.112.25.25.25h2.688l-.011-.013-2.914-2.914-.013-.011Z"></path></svg></div><span class="PRIVATE_TreeView-item-content-text"><span>README.md</span></span></div></div></li></ul></li><li class="PRIVATE_TreeView-item" tabindex="0" id="img-item" role="treeitem" aria-labelledby=":Rej5djal5:" aria-describedby=":Rej5djal5H1: :Rej5djal5H2:" aria-level="1" aria-expanded="false" aria-selected="false"><div class="PRIVATE_TreeView-item-container" style="--level:1;content-visibility:auto;contain-intrinsic-size:auto 2rem"><div style="grid-area:spacer;display:flex"><div style="width:100%;display:flex"></div></div><div class="PRIVATE_TreeView-item-toggle PRIVATE_TreeView-item-toggle--hover PRIVATE_TreeView-item-toggle--end"><svg aria-hidden="true" focusable="false" role="img" class="octicon octicon-chevron-right" viewBox="0 0 12 12" width="12" height="12" fill="currentColor" style="display:inline-block;user-select:none;vertical-align:text-bottom;overflow:visible"><path d="M4.7 10c-.2 0-.4-.1-.5-.2-.3-.3-.3-.8 0-1.1L6.9 6 4.2 3.3c-.3-.3-.3-.8 0-1.1.3-.3.8-.3 1.1 0l3.3 3.2c.3.3.3.8 0 1.1L5.3 9.7c-.2.2-.4.3-.6.3Z"></path></svg></div><div id=":Rej5djal5:" class="PRIVATE_TreeView-item-content"><div class="PRIVATE_VisuallyHidden" aria-hidden="true" id=":Rej5djal5H1:"></div><div class="PRIVATE_TreeView-item-visual" aria-hidden="true"><div class="PRIVATE_TreeView-directory-icon"><svg aria-hidden="true" focusable="false" role="img" class="octicon octicon-file-directory-fill" viewBox="0 0 16 16" width="16" height="16" fill="currentColor" style="display:inline-block;user-select:none;vertical-align:text-bottom;overflow:visible"><path d="M1.75 1A1.75 1.75 0 0 0 0 2.75v10.5C0 14.216.784 15 1.75 15h12.5A1.75 1.75 0 0 0 16 13.25v-8.5A1.75 1.75 0 0 0 14.25 3H7.5a.25.25 0 0 1-.2-.1l-.9-1.2C6.07 1.26 5.55 1 5 1H1.75Z"></path></svg></div></div><span class="PRIVATE_TreeView-item-content-text"><span>img</span></span></div></div></li><li class="PRIVATE_TreeView-item" tabindex="0" id="slide-item" role="treeitem" aria-labelledby=":Rij5djal5:" aria-describedby=":Rij5djal5H1: :Rij5djal5H2:" aria-level="1" aria-expanded="false" aria-selected="false"><div class="PRIVATE_TreeView-item-container" style="--level:1;content-visibility:auto;contain-intrinsic-size:auto 2rem"><div style="grid-area:spacer;display:flex"><div style="width:100%;display:flex"></div></div><div class="PRIVATE_TreeView-item-toggle PRIVATE_TreeView-item-toggle--hover PRIVATE_TreeView-item-toggle--end"><svg aria-hidden="true" focusable="false" role="img" class="octicon octicon-chevron-right" viewBox="0 0 12 12" width="12" height="12" fill="currentColor" style="display:inline-block;user-select:none;vertical-align:text-bottom;overflow:visible"><path d="M4.7 10c-.2 0-.4-.1-.5-.2-.3-.3-.3-.8 0-1.1L6.9 6 4.2 3.3c-.3-.3-.3-.8 0-1.1.3-.3.8-.3 1.1 0l3.3 3.2c.3.3.3.8 0 1.1L5.3 9.7c-.2.2-.4.3-.6.3Z"></path></svg></div><div id=":Rij5djal5:" class="PRIVATE_TreeView-item-content"><div class="PRIVATE_VisuallyHidden" aria-hidden="true" id=":Rij5djal5H1:"></div><div class="PRIVATE_TreeView-item-visual" aria-hidden="true"><div class="PRIVATE_TreeView-directory-icon"><svg aria-hidden="true" focusable="false" role="img" class="octicon octicon-file-directory-fill" viewBox="0 0 16 16" width="16" height="16" fill="currentColor" style="display:inline-block;user-select:none;vertical-align:text-bottom;overflow:visible"><path d="M1.75 1A1.75 1.75 0 0 0 0 2.75v10.5C0 14.216.784 15 1.75 15h12.5A1.75 1.75 0 0 0 16 13.25v-8.5A1.75 1.75 0 0 0 14.25 3H7.5a.25.25 0 0 1-.2-.1l-.9-1.2C6.07 1.26 5.55 1 5 1H1.75Z"></path></svg></div></div><span class="PRIVATE_TreeView-item-content-text"><span>slide</span></span></div></div></li><li class="PRIVATE_TreeView-item" tabindex="0" id=".gitignore-item" role="treeitem" aria-labelledby=":Rmj5djal5:" aria-describedby=":Rmj5djal5H1: :Rmj5djal5H2:" aria-level="1" aria-selected="false"><div class="PRIVATE_TreeView-item-container" style="--level:1;content-visibility:auto;contain-intrinsic-size:auto 2rem"><div style="grid-area:spacer;display:flex"><div style="width:100%;display:flex"></div></div><div id=":Rmj5djal5:" class="PRIVATE_TreeView-item-content"><div class="PRIVATE_VisuallyHidden" aria-hidden="true" id=":Rmj5djal5H1:"></div><div class="PRIVATE_TreeView-item-visual" aria-hidden="true"><svg aria-hidden="true" focusable="false" role="img" class="octicon octicon-file" viewBox="0 0 16 16" width="16" height="16" fill="currentColor" style="display:inline-block;user-select:none;vertical-align:text-bottom;overflow:visible"><path d="M2 1.75C2 .784 2.784 0 3.75 0h6.586c.464 0 .909.184 1.237.513l2.914 2.914c.329.328.513.773.513 1.237v9.586A1.75 1.75 0 0 1 13.25 16h-9.5A1.75 1.75 0 0 1 2 14.25Zm1.75-.25a.25.25 0 0 0-.25.25v12.5c0 .138.112.25.25.25h9.5a.25.25 0 0 0 .25-.25V6h-2.75A1.75 1.75 0 0 1 9 4.25V1.5Zm6.75.062V4.25c0 .138.112.25.25.25h2.688l-.011-.013-2.914-2.914-.013-.011Z"></path></svg></div><span class="PRIVATE_TreeView-item-content-text"><span>.gitignore</span></span></div></div></li><li class="PRIVATE_TreeView-item" tabindex="0" id="DataScience_Syllabus_2023s1_v1.pdf-item" role="treeitem" aria-labelledby=":Rqj5djal5:" aria-describedby=":Rqj5djal5H1: :Rqj5djal5H2:" aria-level="1" aria-selected="false"><div class="PRIVATE_TreeView-item-container" style="--level:1;content-visibility:auto;contain-intrinsic-size:auto 2rem"><div style="grid-area:spacer;display:flex"><div style="width:100%;display:flex"></div></div><div id=":Rqj5djal5:" class="PRIVATE_TreeView-item-content"><div class="PRIVATE_VisuallyHidden" aria-hidden="true" id=":Rqj5djal5H1:"></div><div class="PRIVATE_TreeView-item-visual" aria-hidden="true"><svg aria-hidden="true" focusable="false" role="img" class="octicon octicon-file" viewBox="0 0 16 16" width="16" height="16" fill="currentColor" style="display:inline-block;user-select:none;vertical-align:text-bottom;overflow:visible"><path d="M2 1.75C2 .784 2.784 0 3.75 0h6.586c.464 0 .909.184 1.237.513l2.914 2.914c.329.328.513.773.513 1.237v9.586A1.75 1.75 0 0 1 13.25 16h-9.5A1.75 1.75 0 0 1 2 14.25Zm1.75-.25a.25.25 0 0 0-.25.25v12.5c0 .138.112.25.25.25h9.5a.25.25 0 0 0 .25-.25V6h-2.75A1.75 1.75 0 0 1 9 4.25V1.5Zm6.75.062V4.25c0 .138.112.25.25.25h2.688l-.011-.013-2.914-2.914-.013-.011Z"></path></svg></div><span class="PRIVATE_TreeView-item-content-text"><span>DataScience_Syllabus_2023s1_v1.pdf</span></span></div></div></li><li class="PRIVATE_TreeView-item" tabindex="0" id="README.md-item" role="treeitem" aria-labelledby=":Ruj5djal5:" aria-describedby=":Ruj5djal5H1: :Ruj5djal5H2:" aria-level="1" aria-selected="false"><div class="PRIVATE_TreeView-item-container" style="--level:1;content-visibility:auto;contain-intrinsic-size:auto 2rem"><div style="grid-area:spacer;display:flex"><div style="width:100%;display:flex"></div></div><div id=":Ruj5djal5:" class="PRIVATE_TreeView-item-content"><div class="PRIVATE_VisuallyHidden" aria-hidden="true" id=":Ruj5djal5H1:"></div><div class="PRIVATE_TreeView-item-visual" aria-hidden="true"><svg aria-hidden="true" focusable="false" role="img" class="octicon octicon-file" viewBox="0 0 16 16" width="16" height="16" fill="currentColor" style="display:inline-block;user-select:none;vertical-align:text-bottom;overflow:visible"><path d="M2 1.75C2 .784 2.784 0 3.75 0h6.586c.464 0 .909.184 1.237.513l2.914 2.914c.329.328.513.773.513 1.237v9.586A1.75 1.75 0 0 1 13.25 16h-9.5A1.75 1.75 0 0 1 2 14.25Zm1.75-.25a.25.25 0 0 0-.25.25v12.5c0 .138.112.25.25.25h9.5a.25.25 0 0 0 .25-.25V6h-2.75A1.75 1.75 0 0 1 9 4.25V1.5Zm6.75.062V4.25c0 .138.112.25.25.25h2.688l-.011-.013-2.914-2.914-.013-.011Z"></path></svg></div><span class="PRIVATE_TreeView-item-content-text"><span>README.md</span></span></div></div></li></ul></nav></div></div></div></div></div></div><div class="Box-sc-g0xbh4-0 hAeDYA"><div role="slider" aria-label="Draggable pane splitter" aria-valuemin="0" aria-valuemax="0" aria-valuenow="0" aria-valuetext="Pane width 0 pixels" tabindex="0" class="Box-sc-g0xbh4-0 ekKrwo"></div></div></div></div><div class="Box-sc-g0xbh4-0 emFMJu"><div class="Box-sc-g0xbh4-0"></div><div class="Box-sc-g0xbh4-0 hlUAHL"><div data-selector="repos-split-pane-content" tabindex="0" class="Box-sc-g0xbh4-0 iStsmI"><div class="Box-sc-g0xbh4-0 eIgvIk"><div class="Box-sc-g0xbh4-0 eVFfWF container"><div class="Box-sc-g0xbh4-0 kgXdnT react-code-view-header--narrow"><div class="Box-sc-g0xbh4-0 kzTa-dF"><div class="Box-sc-g0xbh4-0 bbXCl"><h2 class="Heading__StyledHeading-sc-1c1dgg0-0 fNPcqd"><button style="--button-color:fg.muted" type="button" aria-label="Expand file tree" data-testid="expand-file-tree-button-mobile" class="types__StyledButton-sc-ws60qy-0 dpmVDB"><span data-component="buttonContent" class="Box-sc-g0xbh4-0 kkrdEu"><span data-component="leadingVisual" class="Box-sc-g0xbh4-0 trpoQ"><svg aria-hidden="true" focusable="false" role="img" class="octicon octicon-arrow-left" viewBox="0 0 16 16" width="16" height="16" fill="currentColor" style="display:inline-block;user-select:none;vertical-align:text-bottom;overflow:visible"><path d="M7.78 12.53a.75.75 0 0 1-1.06 0L2.47 8.28a.75.75 0 0 1 0-1.06l4.25-4.25a.751.751 0 0 1 1.042.018.751.751 0 0 1 .018 1.042L4.81 7h7.44a.75.75 0 0 1 0 1.5H4.81l2.97 2.97a.75.75 0 0 1 0 1.06Z"></path></svg></span><span data-component="text">Files</span></span></button><span role="tooltip" aria-label="Collapse file tree" id="expand-button-file-tree-button" class="Tooltip__TooltipBase-sc-17tf59c-0 cXRxE tooltipped-se"><button data-component="IconButton" type="button" data-testid="collapse-file-tree-button" aria-labelledby="expand-button-file-tree-button" aria-expanded="true" aria-controls="repos-file-tree" class="types__StyledButton-sc-ws60qy-0 kuQWBL" data-no-visuals="true"><svg aria-hidden="true" focusable="false" role="img" class="octicon octicon-sidebar-expand" viewBox="0 0 16 16" width="16" height="16" fill="currentColor" style="display:inline-block;user-select:none;vertical-align:text-bottom;overflow:visible"><path d="m4.177 7.823 2.396-2.396A.25.25 0 0 1 7 5.604v4.792a.25.25 0 0 1-.427.177L4.177 8.177a.25.25 0 0 1 0-.354Z"></path><path d="M0 1.75C0 .784.784 0 1.75 0h12.5C15.216 0 16 .784 16 1.75v12.5A1.75 1.75 0 0 1 14.25 16H1.75A1.75 1.75 0 0 1 0 14.25Zm1.75-.25a.25.25 0 0 0-.25.25v12.5c0 .138.112.25.25.25H9.5v-13Zm12.5 13a.25.25 0 0 0 .25-.25V1.75a.25.25 0 0 0-.25-.25H11v13Z"></path></svg></button></span><button hidden="" data-testid="" data-hotkey-scope="read-only-cursor-text-area"></button></h2><div class="Box-sc-g0xbh4-0 hGGMNu"><div class="Box-sc-g0xbh4-0 eHRrYV"><button type="button" id="branch-picker-repos-header-ref-selector-narrow" aria-haspopup="true" tabindex="0" aria-label="main branch" data-testid="anchor-button" class="types__StyledButton-sc-ws60qy-0 gDcRcS ref-selector-class"><span data-component="buttonContent" class="Box-sc-g0xbh4-0 kkrdEu"><span data-component="text"><div class="Box-sc-g0xbh4-0 bKgizp"><div class="Box-sc-g0xbh4-0 kYlvBX"><svg aria-hidden="true" focusable="false" role="img" class="octicon octicon-git-branch" viewBox="0 0 16 16" width="16" height="16" fill="currentColor" style="display:inline-block;user-select:none;vertical-align:text-bottom;overflow:visible"><path d="M9.5 3.25a2.25 2.25 0 1 1 3 2.122V6A2.5 2.5 0 0 1 10 8.5H6a1 1 0 0 0-1 1v1.128a2.251 2.251 0 1 1-1.5 0V5.372a2.25 2.25 0 1 1 1.5 0v1.836A2.493 2.493 0 0 1 6 7h4a1 1 0 0 0 1-1v-.628A2.25 2.25 0 0 1 9.5 3.25Zm-6 0a.75.75 0 1 0 1.5 0 .75.75 0 0 0-1.5 0Zm8.25-.75a.75.75 0 1 0 0 1.5.75.75 0 0 0 0-1.5ZM4.25 12a.75.75 0 1 0 0 1.5.75.75 0 0 0 0-1.5Z"></path></svg></div><div class="Box-sc-g0xbh4-0 dKmYfk ref-selector-button-text-container"><span class="Text-sc-17v1xeu-0 bOMzPg"> <!-- -->main</span></div></div></span><span data-component="trailingVisual" class="Box-sc-g0xbh4-0 trpoQ"><svg aria-hidden="true" focusable="false" role="img" class="octicon octicon-triangle-down" viewBox="0 0 16 16" width="16" height="16" fill="currentColor" style="display:inline-block;user-select:none;vertical-align:text-bottom;overflow:visible"><path d="m4.427 7.427 3.396 3.396a.25.25 0 0 0 .354 0l3.396-3.396A.25.25 0 0 0 11.396 7H4.604a.25.25 0 0 0-.177.427Z"></path></svg></span></span></button><button hidden="" data-hotkey-scope="read-only-cursor-text-area"></button></div> <button type="button" data-no-visuals="true" class="types__StyledButton-sc-ws60qy-0 dfaHcy"><span data-component="buttonContent" class="Box-sc-g0xbh4-0 kkrdEu"><span data-component="text">Blame</span></span></button><button hidden="" data-testid="" data-hotkey-scope="read-only-cursor-text-area"></button><button data-component="IconButton" type="button" aria-label="More file actions" class="types__StyledButton-sc-ws60qy-0 iNXtMc js-blob-dropdown-click" title="More file actions" data-testid="more-file-actions-button" id=":R9aaqjal5:" aria-haspopup="true" tabindex="0" data-no-visuals="true"><svg aria-hidden="true" focusable="false" role="img" class="octicon octicon-kebab-horizontal" viewBox="0 0 16 16" width="16" height="16" fill="currentColor" style="display:inline-block;user-select:none;vertical-align:text-bottom;overflow:visible"><path d="M8 9a1.5 1.5 0 1 0 0-3 1.5 1.5 0 0 0 0 3ZM1.5 9a1.5 1.5 0 1 0 0-3 1.5 1.5 0 0 0 0 3Zm13 0a1.5 1.5 0 1 0 0-3 1.5 1.5 0 0 0 0 3Z"></path></svg></button> </div></div><div class="Box-sc-g0xbh4-0 hSNzKh"><div class="Box-sc-g0xbh4-0 eTvGbF"><nav data-testid="breadcrumbs" aria-labelledby="repos-header-breadcrumb-mobile-heading" id="repos-header-breadcrumb-mobile" class="Box-sc-g0xbh4-0 kzRgrI"><h2 class="Heading__StyledHeading-sc-1c1dgg0-0 cgQnMS sr-only" data-testid="screen-reader-heading" id="repos-header-breadcrumb-mobile-heading">Breadcrumbs</h2><ol class="Box-sc-g0xbh4-0 cmAPIB"><li class="Box-sc-g0xbh4-0 jwXCBK"><a sx="[object Object]" data-testid="breadcrumbs-repo-link" class="Link__StyledLink-sc-14289xe-0 bNUcdA" href="/pvateekul/2110531_DSDE_2023s1/tree/main">2110531_DSDE_2023s1</a></li><li class="Box-sc-g0xbh4-0 jwXCBK"><span aria-hidden="true" class="Text-sc-17v1xeu-0 ivLLle">/</span><a sx="[object Object]" class="Link__StyledLink-sc-14289xe-0 bmInES" href="/pvateekul/2110531_DSDE_2023s1/tree/main/code">code</a></li><li class="Box-sc-g0xbh4-0 jwXCBK"><span aria-hidden="true" class="Text-sc-17v1xeu-0 ivLLle">/</span><a sx="[object Object]" class="Link__StyledLink-sc-14289xe-0 bmInES" href="/pvateekul/2110531_DSDE_2023s1/tree/main/code/Week02_DataPrep">Week02_DataPrep</a></li></ol></nav><div data-testid="breadcrumbs-filename" class="Box-sc-g0xbh4-0 jwXCBK"><span aria-hidden="true" class="Text-sc-17v1xeu-0 ivLLle">/</span><h1 tabindex="-1" id="file-name-id-mobile" class="Heading__StyledHeading-sc-1c1dgg0-0 diwsLq">Lab4_Outliers_Titanic.ipynb</h1></div><button data-component="IconButton" type="button" aria-label="Copy path" data-testid="breadcrumb-copy-path-button" data-size="small" data-no-visuals="true" class="types__StyledButton-sc-ws60qy-0 fFejDP"><svg aria-hidden="true" focusable="false" role="img" class="octicon octicon-copy" viewBox="0 0 16 16" width="16" height="16" fill="currentColor" style="display:inline-block;user-select:none;vertical-align:text-bottom;overflow:visible"><path d="M0 6.75C0 5.784.784 5 1.75 5h1.5a.75.75 0 0 1 0 1.5h-1.5a.25.25 0 0 0-.25.25v7.5c0 .138.112.25.25.25h7.5a.25.25 0 0 0 .25-.25v-1.5a.75.75 0 0 1 1.5 0v1.5A1.75 1.75 0 0 1 9.25 16h-7.5A1.75 1.75 0 0 1 0 14.25Z"></path><path d="M5 1.75C5 .784 5.784 0 6.75 0h7.5C15.216 0 16 .784 16 1.75v7.5A1.75 1.75 0 0 1 14.25 11h-7.5A1.75 1.75 0 0 1 5 9.25Zm1.75-.25a.25.25 0 0 0-.25.25v7.5c0 .138.112.25.25.25h7.5a.25.25 0 0 0 .25-.25v-7.5a.25.25 0 0 0-.25-.25Z"></path></svg></button></div></div></div></div><div id="StickyHeader" class="Box-sc-g0xbh4-0 bDwCYs react-code-view-header--wide"><div class="Box-sc-g0xbh4-0 fywjmm"><div class="Box-sc-g0xbh4-0 dyczTK"><div class="Box-sc-g0xbh4-0 kszRgZ"><div class="Box-sc-g0xbh4-0 eTvGbF"><nav data-testid="breadcrumbs" aria-labelledby="repos-header-breadcrumb-wide-heading" id="repos-header-breadcrumb-wide" class="Box-sc-g0xbh4-0 kzRgrI"><h2 class="Heading__StyledHeading-sc-1c1dgg0-0 cgQnMS sr-only" data-testid="screen-reader-heading" id="repos-header-breadcrumb-wide-heading">Breadcrumbs</h2><ol class="Box-sc-g0xbh4-0 cmAPIB"><li class="Box-sc-g0xbh4-0 jwXCBK"><a sx="[object Object]" data-testid="breadcrumbs-repo-link" class="Link__StyledLink-sc-14289xe-0 bNUcdA" href="/pvateekul/2110531_DSDE_2023s1/tree/main">2110531_DSDE_2023s1</a></li><li class="Box-sc-g0xbh4-0 jwXCBK"><span aria-hidden="true" class="Text-sc-17v1xeu-0 ivLLle">/</span><a sx="[object Object]" class="Link__StyledLink-sc-14289xe-0 bmInES" href="/pvateekul/2110531_DSDE_2023s1/tree/main/code">code</a></li><li class="Box-sc-g0xbh4-0 jwXCBK"><span aria-hidden="true" class="Text-sc-17v1xeu-0 ivLLle">/</span><a sx="[object Object]" class="Link__StyledLink-sc-14289xe-0 bmInES" href="/pvateekul/2110531_DSDE_2023s1/tree/main/code/Week02_DataPrep">Week02_DataPrep</a></li></ol></nav><div data-testid="breadcrumbs-filename" class="Box-sc-g0xbh4-0 jwXCBK"><span aria-hidden="true" class="Text-sc-17v1xeu-0 ivLLle">/</span><h1 tabindex="-1" id="file-name-id-wide" class="Heading__StyledHeading-sc-1c1dgg0-0 diwsLq">Lab4_Outliers_Titanic.ipynb</h1></div><button data-component="IconButton" type="button" aria-label="Copy path" data-testid="breadcrumb-copy-path-button" data-size="small" data-no-visuals="true" class="types__StyledButton-sc-ws60qy-0 fFejDP"><svg aria-hidden="true" focusable="false" role="img" class="octicon octicon-copy" viewBox="0 0 16 16" width="16" height="16" fill="currentColor" style="display:inline-block;user-select:none;vertical-align:text-bottom;overflow:visible"><path d="M0 6.75C0 5.784.784 5 1.75 5h1.5a.75.75 0 0 1 0 1.5h-1.5a.25.25 0 0 0-.25.25v7.5c0 .138.112.25.25.25h7.5a.25.25 0 0 0 .25-.25v-1.5a.75.75 0 0 1 1.5 0v1.5A1.75 1.75 0 0 1 9.25 16h-7.5A1.75 1.75 0 0 1 0 14.25Z"></path><path d="M5 1.75C5 .784 5.784 0 6.75 0h7.5C15.216 0 16 .784 16 1.75v7.5A1.75 1.75 0 0 1 14.25 11h-7.5A1.75 1.75 0 0 1 5 9.25Zm1.75-.25a.25.25 0 0 0-.25.25v7.5c0 .138.112.25.25.25h7.5a.25.25 0 0 0 .25-.25v-7.5a.25.25 0 0 0-.25-.25Z"></path></svg></button></div></div><div class="Box-sc-g0xbh4-0 gtBUEp"><div class="d-flex gap-2"> <button type="button" data-no-visuals="true" class="types__StyledButton-sc-ws60qy-0 dfaHcy"><span data-component="buttonContent" class="Box-sc-g0xbh4-0 kkrdEu"><span data-component="text">Blame</span></span></button><button hidden="" data-testid="" data-hotkey-scope="read-only-cursor-text-area"></button><button data-component="IconButton" type="button" aria-label="More file actions" class="types__StyledButton-sc-ws60qy-0 iNXtMc js-blob-dropdown-click" title="More file actions" data-testid="more-file-actions-button" id=":R9pkqjal5:" aria-haspopup="true" tabindex="0" data-no-visuals="true"><svg aria-hidden="true" focusable="false" role="img" class="octicon octicon-kebab-horizontal" viewBox="0 0 16 16" width="16" height="16" fill="currentColor" style="display:inline-block;user-select:none;vertical-align:text-bottom;overflow:visible"><path d="M8 9a1.5 1.5 0 1 0 0-3 1.5 1.5 0 0 0 0 3ZM1.5 9a1.5 1.5 0 1 0 0-3 1.5 1.5 0 0 0 0 3Zm13 0a1.5 1.5 0 1 0 0-3 1.5 1.5 0 0 0 0 3Z"></path></svg></button> </div></div></div></div></div></div></div><div class="Box-sc-g0xbh4-0 MERGN react-code-view-bottom-padding"> <div class="Box-sc-g0xbh4-0 cMYnca"></div><div class="Box-sc-g0xbh4-0"></div> <!-- --> <!-- --> </div><div class="Box-sc-g0xbh4-0 MERGN"> <!-- --> <!-- --> <div class="Box-sc-g0xbh4-0 kLxXov"><div class="Box-sc-g0xbh4-0 eYedVD"><h2 class="Heading__StyledHeading-sc-1c1dgg0-0 cgQnMS sr-only" data-testid="screen-reader-heading">Latest commit</h2><div style="width:120px" class="Skeleton Skeleton--text" data-testid="loading"> </div><div class="Box-sc-g0xbh4-0 jGfYmh"><div data-testid="latest-commit-details" class="Box-sc-g0xbh4-0 lhFvfi"></div><h2 class="Heading__StyledHeading-sc-1c1dgg0-0 cgQnMS sr-only" data-testid="screen-reader-heading">History</h2><a class="types__StyledButton-sc-ws60qy-0 hsBZZU react-last-commit-history-group" href="/pvateekul/2110531_DSDE_2023s1/commits/main/code/Week02_DataPrep/Lab4_Outliers_Titanic.ipynb" data-size="small"><span data-component="buttonContent" class="Box-sc-g0xbh4-0 kkrdEu"><span data-component="leadingVisual" class="Box-sc-g0xbh4-0 trpoQ"><svg aria-hidden="true" focusable="false" role="img" class="octicon octicon-history" viewBox="0 0 16 16" width="16" height="16" fill="currentColor" style="display:inline-block;user-select:none;vertical-align:text-bottom;overflow:visible"><path d="m.427 1.927 1.215 1.215a8.002 8.002 0 1 1-1.6 5.685.75.75 0 1 1 1.493-.154 6.5 6.5 0 1 0 1.18-4.458l1.358 1.358A.25.25 0 0 1 3.896 6H.25A.25.25 0 0 1 0 5.75V2.104a.25.25 0 0 1 .427-.177ZM7.75 4a.75.75 0 0 1 .75.75v2.992l2.028.812a.75.75 0 0 1-.557 1.392l-2.5-1A.751.751 0 0 1 7 8.25v-3.5A.75.75 0 0 1 7.75 4Z"></path></svg></span><span data-component="text"><span class="Text-sc-17v1xeu-0 ghRVGj">History</span></span></span></a><div class="Box-sc-g0xbh4-0 bqgLjk"></div><span role="tooltip" aria-label="Commit history" class="Tooltip__TooltipBase-sc-17tf59c-0 cXRxE tooltipped-n"><a class="types__StyledButton-sc-ws60qy-0 hsBZZU react-last-commit-history-icon" href="/pvateekul/2110531_DSDE_2023s1/commits/main/code/Week02_DataPrep/Lab4_Outliers_Titanic.ipynb"><span data-component="buttonContent" class="Box-sc-g0xbh4-0 kkrdEu"><span data-component="leadingVisual" class="Box-sc-g0xbh4-0 trpoQ"><svg aria-hidden="true" focusable="false" role="img" class="octicon octicon-history" viewBox="0 0 16 16" width="16" height="16" fill="currentColor" style="display:inline-block;user-select:none;vertical-align:text-bottom;overflow:visible"><path d="m.427 1.927 1.215 1.215a8.002 8.002 0 1 1-1.6 5.685.75.75 0 1 1 1.493-.154 6.5 6.5 0 1 0 1.18-4.458l1.358 1.358A.25.25 0 0 1 3.896 6H.25A.25.25 0 0 1 0 5.75V2.104a.25.25 0 0 1 .427-.177ZM7.75 4a.75.75 0 0 1 .75.75v2.992l2.028.812a.75.75 0 0 1-.557 1.392l-2.5-1A.751.751 0 0 1 7 8.25v-3.5A.75.75 0 0 1 7.75 4Z"></path></svg></span></span></a></span></div></div></div><div class="Box-sc-g0xbh4-0 iJmJly"><div class="Box-sc-g0xbh4-0 jACbi container"><div class="Box-sc-g0xbh4-0 bSdwWB react-code-size-details-banner"><div class="Box-sc-g0xbh4-0 fleZSW react-code-size-details-banner"><div class="Box-sc-g0xbh4-0 bZpGqz text-mono"><div title="84.9 KB" data-testid="blob-size" class="Truncate__StyledTruncate-sc-23o1d2-0 fUpWeN"><span class="Text-sc-17v1xeu-0 gPDEWA">583 lines (583 loc) · 84.9 KB</span></div></div></div><div class="Box-sc-g0xbh4-0 react-code-size-details-banner"><button style="--button-color:fg.default" type="button" id=":R2bqlajal5:" aria-haspopup="true" tabindex="0" data-testid="copilot-popover-button" data-size="small" class="types__StyledButton-sc-ws60qy-0 ctemji"><span data-component="buttonContent" class="Box-sc-g0xbh4-0 kkrdEu"><span data-component="leadingVisual" class="Box-sc-g0xbh4-0 trpoQ"><svg aria-hidden="true" focusable="false" role="img" class="octicon octicon-copilot" viewBox="0 0 16 16" width="16" height="16" fill="currentColor" style="display:inline-block;user-select:none;vertical-align:text-bottom;overflow:visible"><path d="M7.998 15.035c-4.562 0-7.873-2.914-7.998-3.749V9.338c.085-.628.677-1.686 1.588-2.065.013-.07.024-.143.036-.218.029-.183.06-.384.126-.612-.201-.508-.254-1.084-.254-1.656 0-.87.128-1.769.693-2.484.579-.733 1.494-1.124 2.724-1.261 1.206-.134 2.262.034 2.944.765.05.053.096.108.139.165.044-.057.094-.112.143-.165.682-.731 1.738-.899 2.944-.765 1.23.137 2.145.528 2.724 1.261.566.715.693 1.614.693 2.484 0 .572-.053 1.148-.254 1.656.066.228.098.429.126.612.012.076.024.148.037.218.924.385 1.522 1.471 1.591 2.095v1.872c0 .766-3.351 3.795-8.002 3.795Zm0-1.485c2.28 0 4.584-1.11 5.002-1.433V7.862l-.023-.116c-.49.21-1.075.291-1.727.291-1.146 0-2.059-.327-2.71-.991A3.222 3.222 0 0 1 8 6.303a3.24 3.24 0 0 1-.544.743c-.65.664-1.563.991-2.71.991-.652 0-1.236-.081-1.727-.291l-.023.116v4.255c.419.323 2.722 1.433 5.002 1.433ZM6.762 2.83c-.193-.206-.637-.413-1.682-.297-1.019.113-1.479.404-1.713.7-.247.312-.369.789-.369 1.554 0 .793.129 1.171.308 1.371.162.181.519.379 1.442.379.853 0 1.339-.235 1.638-.54.315-.322.527-.827.617-1.553.117-.935-.037-1.395-.241-1.614Zm4.155-.297c-1.044-.116-1.488.091-1.681.297-.204.219-.359.679-.242 1.614.091.726.303 1.231.618 1.553.299.305.784.54 1.638.54.922 0 1.28-.198 1.442-.379.179-.2.308-.578.308-1.371 0-.765-.123-1.242-.37-1.554-.233-.296-.693-.587-1.713-.7Z"></path><path d="M6.25 9.037a.75.75 0 0 1 .75.75v1.501a.75.75 0 0 1-1.5 0V9.787a.75.75 0 0 1 .75-.75Zm4.25.75v1.501a.75.75 0 0 1-1.5 0V9.787a.75.75 0 0 1 1.5 0Z"></path></svg></span><span data-component="text">Code 55% faster with GitHub Copilot</span></span></button></div></div><div class="Box-sc-g0xbh4-0 gIACTV react-blob-view-header-sticky" id="repos-sticky-header"><div class="Box-sc-g0xbh4-0 ePiodO"><div class="Box-sc-g0xbh4-0 react-blob-sticky-header"><div class="Box-sc-g0xbh4-0 kQJlnf"><div class="Box-sc-g0xbh4-0 gJICKO"><div class="Box-sc-g0xbh4-0 iZJewz"><nav data-testid="breadcrumbs" aria-labelledby="sticky-breadcrumb-heading" id="sticky-breadcrumb" class="Box-sc-g0xbh4-0 kzRgrI"><h2 class="Heading__StyledHeading-sc-1c1dgg0-0 cgQnMS sr-only" data-testid="screen-reader-heading" id="sticky-breadcrumb-heading">Breadcrumbs</h2><ol class="Box-sc-g0xbh4-0 cmAPIB"><li class="Box-sc-g0xbh4-0 jwXCBK"><a sx="[object Object]" data-testid="breadcrumbs-repo-link" class="Link__StyledLink-sc-14289xe-0 bNUcdA" href="/pvateekul/2110531_DSDE_2023s1/tree/main">2110531_DSDE_2023s1</a></li><li class="Box-sc-g0xbh4-0 jwXCBK"><span aria-hidden="true" class="Text-sc-17v1xeu-0 dZAxGI">/</span><a sx="[object Object]" class="Link__StyledLink-sc-14289xe-0 bmInES" href="/pvateekul/2110531_DSDE_2023s1/tree/main/code">code</a></li><li class="Box-sc-g0xbh4-0 jwXCBK"><span aria-hidden="true" class="Text-sc-17v1xeu-0 dZAxGI">/</span><a sx="[object Object]" class="Link__StyledLink-sc-14289xe-0 bmInES" href="/pvateekul/2110531_DSDE_2023s1/tree/main/code/Week02_DataPrep">Week02_DataPrep</a></li></ol></nav><div data-testid="breadcrumbs-filename" class="Box-sc-g0xbh4-0 jwXCBK"><span aria-hidden="true" class="Text-sc-17v1xeu-0 dZAxGI">/</span><h1 tabindex="-1" id="sticky-file-name-id" class="Heading__StyledHeading-sc-1c1dgg0-0 jAEDJk">Lab4_Outliers_Titanic.ipynb</h1></div></div><button style="--button-color:fg.default" type="button" data-size="small" class="types__StyledButton-sc-ws60qy-0 iukPok"><span data-component="buttonContent" class="Box-sc-g0xbh4-0 kkrdEu"><span data-component="leadingVisual" class="Box-sc-g0xbh4-0 trpoQ"><svg aria-hidden="true" focusable="false" role="img" class="octicon octicon-arrow-up" viewBox="0 0 16 16" width="16" height="16" fill="currentColor" style="display:inline-block;user-select:none;vertical-align:text-bottom;overflow:visible"><path d="M3.47 7.78a.75.75 0 0 1 0-1.06l4.25-4.25a.75.75 0 0 1 1.06 0l4.25 4.25a.751.751 0 0 1-.018 1.042.751.751 0 0 1-1.042.018L9 4.81v7.44a.75.75 0 0 1-1.5 0V4.81L4.53 7.78a.75.75 0 0 1-1.06 0Z"></path></svg></span><span data-component="text">Top</span></span></button></div></div></div><div class="Box-sc-g0xbh4-0 bvEDG"><h2 class="Heading__StyledHeading-sc-1c1dgg0-0 cgQnMS sr-only" data-testid="screen-reader-heading">File metadata and controls</h2><div class="Box-sc-g0xbh4-0 bfkNRF"><ul aria-label="File view" class="SegmentedControl__SegmentedControlList-sc-1rzig82-0 iYVwMz"><li class="Box-sc-g0xbh4-0 fXBLEV"><button aria-current="true" class="SegmentedControlButton__SegmentedControlButtonStyled-sc-8lkgxl-0 bDmUQT"><span class="segmentedControl-content"><div class="Box-sc-g0xbh4-0 segmentedControl-text">Preview</div></span></button></li><li class="Box-sc-g0xbh4-0 jkTWSe"><button aria-current="false" class="SegmentedControlButton__SegmentedControlButtonStyled-sc-8lkgxl-0 fzMylw"><span class="segmentedControl-content"><div class="Box-sc-g0xbh4-0 segmentedControl-text">Code</div></span></button></li><li class="Box-sc-g0xbh4-0 jkTWSe"><button aria-current="false" class="SegmentedControlButton__SegmentedControlButtonStyled-sc-8lkgxl-0 hBvGcq"><span class="segmentedControl-content"><div class="Box-sc-g0xbh4-0 segmentedControl-text">Blame</div></span></button></li></ul><button hidden="" data-testid="" data-hotkey-scope="read-only-cursor-text-area"></button><button hidden="" data-testid="" data-hotkey-scope="read-only-cursor-text-area"></button><button hidden="" data-testid="" data-hotkey-scope="read-only-cursor-text-area"></button><div class="Box-sc-g0xbh4-0 fleZSW react-code-size-details-in-header"><div class="Box-sc-g0xbh4-0 bZpGqz text-mono"><div title="84.9 KB" data-testid="blob-size" class="Truncate__StyledTruncate-sc-23o1d2-0 fUpWeN"><span class="Text-sc-17v1xeu-0 gPDEWA">583 lines (583 loc) · 84.9 KB</span></div></div></div><div class="Box-sc-g0xbh4-0 react-code-size-details-in-header"><button style="--button-color:fg.default" type="button" id=":R79jqlajal5:" aria-haspopup="true" tabindex="0" data-testid="copilot-popover-button" data-size="small" class="types__StyledButton-sc-ws60qy-0 ctemji"><span data-component="buttonContent" class="Box-sc-g0xbh4-0 kkrdEu"><span data-component="leadingVisual" class="Box-sc-g0xbh4-0 trpoQ"><svg aria-hidden="true" focusable="false" role="img" class="octicon octicon-copilot" viewBox="0 0 16 16" width="16" height="16" fill="currentColor" style="display:inline-block;user-select:none;vertical-align:text-bottom;overflow:visible"><path d="M7.998 15.035c-4.562 0-7.873-2.914-7.998-3.749V9.338c.085-.628.677-1.686 1.588-2.065.013-.07.024-.143.036-.218.029-.183.06-.384.126-.612-.201-.508-.254-1.084-.254-1.656 0-.87.128-1.769.693-2.484.579-.733 1.494-1.124 2.724-1.261 1.206-.134 2.262.034 2.944.765.05.053.096.108.139.165.044-.057.094-.112.143-.165.682-.731 1.738-.899 2.944-.765 1.23.137 2.145.528 2.724 1.261.566.715.693 1.614.693 2.484 0 .572-.053 1.148-.254 1.656.066.228.098.429.126.612.012.076.024.148.037.218.924.385 1.522 1.471 1.591 2.095v1.872c0 .766-3.351 3.795-8.002 3.795Zm0-1.485c2.28 0 4.584-1.11 5.002-1.433V7.862l-.023-.116c-.49.21-1.075.291-1.727.291-1.146 0-2.059-.327-2.71-.991A3.222 3.222 0 0 1 8 6.303a3.24 3.24 0 0 1-.544.743c-.65.664-1.563.991-2.71.991-.652 0-1.236-.081-1.727-.291l-.023.116v4.255c.419.323 2.722 1.433 5.002 1.433ZM6.762 2.83c-.193-.206-.637-.413-1.682-.297-1.019.113-1.479.404-1.713.7-.247.312-.369.789-.369 1.554 0 .793.129 1.171.308 1.371.162.181.519.379 1.442.379.853 0 1.339-.235 1.638-.54.315-.322.527-.827.617-1.553.117-.935-.037-1.395-.241-1.614Zm4.155-.297c-1.044-.116-1.488.091-1.681.297-.204.219-.359.679-.242 1.614.091.726.303 1.231.618 1.553.299.305.784.54 1.638.54.922 0 1.28-.198 1.442-.379.179-.2.308-.578.308-1.371 0-.765-.123-1.242-.37-1.554-.233-.296-.693-.587-1.713-.7Z"></path><path d="M6.25 9.037a.75.75 0 0 1 .75.75v1.501a.75.75 0 0 1-1.5 0V9.787a.75.75 0 0 1 .75-.75Zm4.25.75v1.501a.75.75 0 0 1-1.5 0V9.787a.75.75 0 0 1 1.5 0Z"></path></svg></span><span data-component="text">Code 55% faster with GitHub Copilot</span></span></button></div></div><div class="Box-sc-g0xbh4-0 iBylDf"><div class="Box-sc-g0xbh4-0 kSGBPx react-blob-header-edit-and-raw-actions"><div class="ButtonGroup-sc-1gxhls1-0 cjbBGq"><a href="https://github.com/pvateekul/2110531_DSDE_2023s1/raw/main/code/Week02_DataPrep/Lab4_Outliers_Titanic.ipynb" data-testid="raw-button" data-size="small" data-no-visuals="true" class="types__StyledButton-sc-ws60qy-0 cCLqJS"><span data-component="buttonContent" class="Box-sc-g0xbh4-0 kkrdEu"><span data-component="text">Raw</span></span></a><button data-component="IconButton" type="button" aria-label="Copy raw content" data-testid="copy-raw-button" data-size="small" data-no-visuals="true" class="types__StyledButton-sc-ws60qy-0 crfMWv"><svg aria-hidden="true" focusable="false" role="img" class="octicon octicon-copy" viewBox="0 0 16 16" width="16" height="16" fill="currentColor" style="display:inline-block;user-select:none;vertical-align:text-bottom;overflow:visible"><path d="M0 6.75C0 5.784.784 5 1.75 5h1.5a.75.75 0 0 1 0 1.5h-1.5a.25.25 0 0 0-.25.25v7.5c0 .138.112.25.25.25h7.5a.25.25 0 0 0 .25-.25v-1.5a.75.75 0 0 1 1.5 0v1.5A1.75 1.75 0 0 1 9.25 16h-7.5A1.75 1.75 0 0 1 0 14.25Z"></path><path d="M5 1.75C5 .784 5.784 0 6.75 0h7.5C15.216 0 16 .784 16 1.75v7.5A1.75 1.75 0 0 1 14.25 11h-7.5A1.75 1.75 0 0 1 5 9.25Zm1.75-.25a.25.25 0 0 0-.25.25v7.5c0 .138.112.25.25.25h7.5a.25.25 0 0 0 .25-.25v-7.5a.25.25 0 0 0-.25-.25Z"></path></svg></button><span role="tooltip" aria-label="Download raw file" class="Tooltip__TooltipBase-sc-17tf59c-0 cXRxE tooltipped-n"><button data-component="IconButton" type="button" aria-label="Download raw content" data-testid="download-raw-button" data-size="small" data-no-visuals="true" class="types__StyledButton-sc-ws60qy-0 dKBeSn"><svg aria-hidden="true" focusable="false" role="img" class="octicon octicon-download" viewBox="0 0 16 16" width="16" height="16" fill="currentColor" style="display:inline-block;user-select:none;vertical-align:text-bottom;overflow:visible"><path d="M2.75 14A1.75 1.75 0 0 1 1 12.25v-2.5a.75.75 0 0 1 1.5 0v2.5c0 .138.112.25.25.25h10.5a.25.25 0 0 0 .25-.25v-2.5a.75.75 0 0 1 1.5 0v2.5A1.75 1.75 0 0 1 13.25 14Z"></path><path d="M7.25 7.689V2a.75.75 0 0 1 1.5 0v5.689l1.97-1.969a.749.749 0 1 1 1.06 1.06l-3.25 3.25a.749.749 0 0 1-1.06 0L4.22 6.78a.749.749 0 1 1 1.06-1.06l1.97 1.969Z"></path></svg></button></span></div><button hidden="" data-testid="raw-button-shortcut" data-hotkey-scope="read-only-cursor-text-area"></button><button hidden="" data-testid="copy-raw-button-shortcut" data-hotkey-scope="read-only-cursor-text-area"></button><button hidden="" data-testid="download-raw-button-shortcut" data-hotkey-scope="read-only-cursor-text-area"></button><a class="Link__StyledLink-sc-14289xe-0 bKUZnR js-github-dev-shortcut d-none" href="https://github.dev/"></a><button hidden="" data-testid="" data-hotkey-scope="read-only-cursor-text-area"></button><a class="Link__StyledLink-sc-14289xe-0 bKUZnR js-github-dev-new-tab-shortcut d-none" href="https://github.dev/" target="_blank"></a><button hidden="" data-testid="" data-hotkey-scope="read-only-cursor-text-area"></button><div class="ButtonGroup-sc-1gxhls1-0 cjbBGq"><span role="tooltip" aria-label="Edit this file" class="Tooltip__TooltipBase-sc-17tf59c-0 cXRxE tooltipped-nw"><a sx="[object Object]" data-component="IconButton" type="button" aria-label="Edit file" data-testid="edit-button" data-size="small" data-no-visuals="true" class="types__StyledButton-sc-ws60qy-0 cPmGel" href="/pvateekul/2110531_DSDE_2023s1/edit/main/code/Week02_DataPrep/Lab4_Outliers_Titanic.ipynb"><svg aria-hidden="true" focusable="false" role="img" class="octicon octicon-pencil" viewBox="0 0 16 16" width="16" height="16" fill="currentColor" style="display:inline-block;user-select:none;vertical-align:text-bottom;overflow:visible"><path d="M11.013 1.427a1.75 1.75 0 0 1 2.474 0l1.086 1.086a1.75 1.75 0 0 1 0 2.474l-8.61 8.61c-.21.21-.47.364-.756.445l-3.251.93a.75.75 0 0 1-.927-.928l.929-3.25c.081-.286.235-.547.445-.758l8.61-8.61Zm.176 4.823L9.75 4.81l-6.286 6.287a.253.253 0 0 0-.064.108l-.558 1.953 1.953-.558a.253.253 0 0 0 .108-.064Zm1.238-3.763a.25.25 0 0 0-.354 0L10.811 3.75l1.439 1.44 1.263-1.263a.25.25 0 0 0 0-.354Z"></path></svg></a></span><button data-component="IconButton" type="button" aria-label="More edit options" data-testid="more-edit-button" id=":Rl9pjqlajal5:" aria-haspopup="true" tabindex="0" data-size="small" data-no-visuals="true" class="types__StyledButton-sc-ws60qy-0 crfMWv"><svg aria-hidden="true" focusable="false" role="img" class="octicon octicon-triangle-down" viewBox="0 0 16 16" width="16" height="16" fill="currentColor" style="display:inline-block;user-select:none;vertical-align:text-bottom;overflow:visible"><path d="m4.427 7.427 3.396 3.396a.25.25 0 0 0 .354 0l3.396-3.396A.25.25 0 0 0 11.396 7H4.604a.25.25 0 0 0-.177.427Z"></path></svg></button></div><button hidden="" data-testid="" data-hotkey="e,Shift+E" data-hotkey-scope="read-only-cursor-text-area"></button></div><div class="Box-sc-g0xbh4-0 react-blob-header-edit-and-raw-actions-combined"><button data-component="IconButton" type="button" aria-label="Edit and raw actions" class="types__StyledButton-sc-ws60qy-0 lhbNLx js-blob-dropdown-click" title="More file actions" data-testid="more-file-actions-button" id=":R1fpjqlajal5:" aria-haspopup="true" tabindex="0" data-size="small" data-no-visuals="true"><svg aria-hidden="true" focusable="false" role="img" class="octicon octicon-kebab-horizontal" viewBox="0 0 16 16" width="16" height="16" fill="currentColor" style="display:inline-block;user-select:none;vertical-align:text-bottom;overflow:visible"><path d="M8 9a1.5 1.5 0 1 0 0-3 1.5 1.5 0 0 0 0 3ZM1.5 9a1.5 1.5 0 1 0 0-3 1.5 1.5 0 0 0 0 3Zm13 0a1.5 1.5 0 1 0 0-3 1.5 1.5 0 0 0 0 3Z"></path></svg></button></div></div></div></div><div class="Box-sc-g0xbh4-0"></div></div><div class="Box-sc-g0xbh4-0 flDsrw"><section aria-labelledby="file-name-id-wide file-name-id-mobile" class="Box-sc-g0xbh4-0 eJsjkT"><!--$!--><template></template><div data-testid="suspense-spinner" class="Box-sc-g0xbh4-0 bAzdCq"><svg height="32px" width="32px" viewBox="0 0 16 16" fill="none" aria-label="Loading" class="Spinner__StyledSpinner-sc-1knt686-0 hPEVNM"><circle cx="8" cy="8" r="7" stroke="currentColor" stroke-opacity="0.25" stroke-width="2" vector-effect="non-scaling-stroke"></circle><path d="M15 8a7.002 7.002 0 00-7-7" stroke="currentColor" stroke-width="2" stroke-linecap="round" vector-effect="non-scaling-stroke"></path></svg></div><!--/$--></section></div></div></div> <!-- --> <!-- --> </div></div></div><div class="Box-sc-g0xbh4-0"></div></div></div></div></div><div id="find-result-marks-container" class="Box-sc-g0xbh4-0 aZrVR"></div><button hidden="" data-testid="" data-hotkey-scope="read-only-cursor-text-area"></button><button hidden=""></button></div> <!-- --> <!-- --> <!-- --> <script type="application/json" id="__PRIMER_DATA__">{"resolvedServerColorMode":"day"}</script></div>
</react-app>
</turbo-frame>



  </div>

</turbo-frame>

    </main>
  </div>

  </div>

          <footer class="footer p-responsive pt-8 pb-6 f6 color-fg-muted" role="contentinfo">
  <h2 class='sr-only'>Footer</h2>


  <div class="d-flex flex-justify-center flex-items-center flex-column-reverse flex-lg-row flex-wrap flex-lg-nowrap">
    <div class="d-flex flex-items-center mx-2">
      <a aria-label="Homepage" title="GitHub" class="footer-octicon mr-2" href="https://github.com">
        <svg aria-hidden="true" height="24" viewBox="0 0 16 16" version="1.1" width="24" data-view-component="true" class="octicon octicon-mark-github">
    <path d="M8 0c4.42 0 8 3.58 8 8a8.013 8.013 0 0 1-5.45 7.59c-.4.08-.55-.17-.55-.38 0-.27.01-1.13.01-2.2 0-.75-.25-1.23-.54-1.48 1.78-.2 3.65-.88 3.65-3.95 0-.88-.31-1.59-.82-2.15.08-.2.36-1.02-.08-2.12 0 0-.67-.22-2.2.82-.64-.18-1.32-.27-2-.27-.68 0-1.36.09-2 .27-1.53-1.03-2.2-.82-2.2-.82-.44 1.1-.16 1.92-.08 2.12-.51.56-.82 1.28-.82 2.15 0 3.06 1.86 3.75 3.64 3.95-.23.2-.44.55-.51 1.07-.46.21-1.61.55-2.33-.66-.15-.24-.6-.83-1.23-.82-.67.01-.27.38.01.53.34.19.73.9.82 1.13.16.45.68 1.31 2.69.94 0 .67.01 1.3.01 1.49 0 .21-.15.45-.55.38A7.995 7.995 0 0 1 0 8c0-4.42 3.58-8 8-8Z"></path>
</svg>
</a>
      <span>
        &copy; 2024 GitHub, Inc.
      </span>
    </div>

    <nav aria-label="Footer">
      <h3 class="sr-only" id="sr-footer-heading">Footer navigation</h3>

      <ul class="list-style-none d-flex flex-justify-center flex-wrap mb-2 mb-lg-0" aria-labelledby="sr-footer-heading">

          <li class="mx-2">
            <a data-analytics-event="{&quot;category&quot;:&quot;Footer&quot;,&quot;action&quot;:&quot;go to Terms&quot;,&quot;label&quot;:&quot;text:terms&quot;}" href="https://docs.github.com/site-policy/github-terms/github-terms-of-service" data-view-component="true" class="Link--secondary Link">Terms</a>
          </li>

          <li class="mx-2">
            <a data-analytics-event="{&quot;category&quot;:&quot;Footer&quot;,&quot;action&quot;:&quot;go to privacy&quot;,&quot;label&quot;:&quot;text:privacy&quot;}" href="https://docs.github.com/site-policy/privacy-policies/github-privacy-statement" data-view-component="true" class="Link--secondary Link">Privacy</a>
          </li>

          <li class="mx-2">
            <a data-analytics-event="{&quot;category&quot;:&quot;Footer&quot;,&quot;action&quot;:&quot;go to security&quot;,&quot;label&quot;:&quot;text:security&quot;}" href="/security" data-view-component="true" class="Link--secondary Link">Security</a>
          </li>

          <li class="mx-2">
            <a data-analytics-event="{&quot;category&quot;:&quot;Footer&quot;,&quot;action&quot;:&quot;go to status&quot;,&quot;label&quot;:&quot;text:status&quot;}" href="https://www.githubstatus.com/" data-view-component="true" class="Link--secondary Link">Status</a>
          </li>

          <li class="mx-2">
            <a data-analytics-event="{&quot;category&quot;:&quot;Footer&quot;,&quot;action&quot;:&quot;go to docs&quot;,&quot;label&quot;:&quot;text:docs&quot;}" href="https://docs.github.com" data-view-component="true" class="Link--secondary Link">Docs</a>
          </li>

          <li class="mx-2">
            <a data-analytics-event="{&quot;category&quot;:&quot;Footer&quot;,&quot;action&quot;:&quot;go to contact&quot;,&quot;label&quot;:&quot;text:contact&quot;}" href="https://support.github.com?tags=dotcom-footer" data-view-component="true" class="Link--secondary Link">Contact</a>
          </li>

          <li class="mx-2">
  <cookie-consent-link>
    <button type="button" class="Link--secondary underline-on-hover border-0 p-0 color-bg-transparent" data-action="click:cookie-consent-link#showConsentManagement">
      Manage cookies
    </button>
  </cookie-consent-link>
</li>

<li class="mx-2">
  <cookie-consent-link>
    <button type="button" class="Link--secondary underline-on-hover border-0 p-0 color-bg-transparent" data-action="click:cookie-consent-link#showConsentManagement">
      Do not share my personal information
    </button>
  </cookie-consent-link>
</li>

      </ul>
    </nav>
  </div>

</footer>




    <cookie-consent id="cookie-consent-banner" class="position-fixed bottom-0 left-0" style="z-index: 999999" data-initial-cookie-consent-allowed="" data-cookie-consent-required="false"></cookie-consent>


  <div id="ajax-error-message" class="ajax-error-message flash flash-error" hidden>
    <svg aria-hidden="true" height="16" viewBox="0 0 16 16" version="1.1" width="16" data-view-component="true" class="octicon octicon-alert">
    <path d="M6.457 1.047c.659-1.234 2.427-1.234 3.086 0l6.082 11.378A1.75 1.75 0 0 1 14.082 15H1.918a1.75 1.75 0 0 1-1.543-2.575Zm1.763.707a.25.25 0 0 0-.44 0L1.698 13.132a.25.25 0 0 0 .22.368h12.164a.25.25 0 0 0 .22-.368Zm.53 3.996v2.5a.75.75 0 0 1-1.5 0v-2.5a.75.75 0 0 1 1.5 0ZM9 11a1 1 0 1 1-2 0 1 1 0 0 1 2 0Z"></path>
</svg>
    <button type="button" class="flash-close js-ajax-error-dismiss" aria-label="Dismiss error">
      <svg aria-hidden="true" height="16" viewBox="0 0 16 16" version="1.1" width="16" data-view-component="true" class="octicon octicon-x">
    <path d="M3.72 3.72a.75.75 0 0 1 1.06 0L8 6.94l3.22-3.22a.749.749 0 0 1 1.275.326.749.749 0 0 1-.215.734L9.06 8l3.22 3.22a.749.749 0 0 1-.326 1.275.749.749 0 0 1-.734-.215L8 9.06l-3.22 3.22a.751.751 0 0 1-1.042-.018.751.751 0 0 1-.018-1.042L6.94 8 3.72 4.78a.75.75 0 0 1 0-1.06Z"></path>
</svg>
    </button>
    You can’t perform that action at this time.
  </div>

    <template id="site-details-dialog">
  <details class="details-reset details-overlay details-overlay-dark lh-default color-fg-default hx_rsm" open>
    <summary role="button" aria-label="Close dialog"></summary>
    <details-dialog class="Box Box--overlay d-flex flex-column anim-fade-in fast hx_rsm-dialog hx_rsm-modal">
      <button class="Box-btn-octicon m-0 btn-octicon position-absolute right-0 top-0" type="button" aria-label="Close dialog" data-close-dialog>
        <svg aria-hidden="true" height="16" viewBox="0 0 16 16" version="1.1" width="16" data-view-component="true" class="octicon octicon-x">
    <path d="M3.72 3.72a.75.75 0 0 1 1.06 0L8 6.94l3.22-3.22a.749.749 0 0 1 1.275.326.749.749 0 0 1-.215.734L9.06 8l3.22 3.22a.749.749 0 0 1-.326 1.275.749.749 0 0 1-.734-.215L8 9.06l-3.22 3.22a.751.751 0 0 1-1.042-.018.751.751 0 0 1-.018-1.042L6.94 8 3.72 4.78a.75.75 0 0 1 0-1.06Z"></path>
</svg>
      </button>
      <div class="octocat-spinner my-6 js-details-dialog-spinner"></div>
    </details-dialog>
  </details>
</template>

    <div class="Popover js-hovercard-content position-absolute" style="display: none; outline: none;" tabindex="0">
  <div class="Popover-message Popover-message--bottom-left Popover-message--large Box color-shadow-large" style="width:360px;">
  </div>
</div>

    <template id="snippet-clipboard-copy-button">
  <div class="zeroclipboard-container position-absolute right-0 top-0">
    <clipboard-copy aria-label="Copy" class="ClipboardButton btn js-clipboard-copy m-2 p-0 tooltipped-no-delay" data-copy-feedback="Copied!" data-tooltip-direction="w">
      <svg aria-hidden="true" height="16" viewBox="0 0 16 16" version="1.1" width="16" data-view-component="true" class="octicon octicon-copy js-clipboard-copy-icon m-2">
    <path d="M0 6.75C0 5.784.784 5 1.75 5h1.5a.75.75 0 0 1 0 1.5h-1.5a.25.25 0 0 0-.25.25v7.5c0 .138.112.25.25.25h7.5a.25.25 0 0 0 .25-.25v-1.5a.75.75 0 0 1 1.5 0v1.5A1.75 1.75 0 0 1 9.25 16h-7.5A1.75 1.75 0 0 1 0 14.25Z"></path><path d="M5 1.75C5 .784 5.784 0 6.75 0h7.5C15.216 0 16 .784 16 1.75v7.5A1.75 1.75 0 0 1 14.25 11h-7.5A1.75 1.75 0 0 1 5 9.25Zm1.75-.25a.25.25 0 0 0-.25.25v7.5c0 .138.112.25.25.25h7.5a.25.25 0 0 0 .25-.25v-7.5a.25.25 0 0 0-.25-.25Z"></path>
</svg>
      <svg aria-hidden="true" height="16" viewBox="0 0 16 16" version="1.1" width="16" data-view-component="true" class="octicon octicon-check js-clipboard-check-icon color-fg-success d-none m-2">
    <path d="M13.78 4.22a.75.75 0 0 1 0 1.06l-7.25 7.25a.75.75 0 0 1-1.06 0L2.22 9.28a.751.751 0 0 1 .018-1.042.751.751 0 0 1 1.042-.018L6 10.94l6.72-6.72a.75.75 0 0 1 1.06 0Z"></path>
</svg>
    </clipboard-copy>
  </div>
</template>
<template id="snippet-clipboard-copy-button-unpositioned">
  <div class="zeroclipboard-container">
    <clipboard-copy aria-label="Copy" class="ClipboardButton btn btn-invisible js-clipboard-copy m-2 p-0 tooltipped-no-delay d-flex flex-justify-center flex-items-center" data-copy-feedback="Copied!" data-tooltip-direction="w">
      <svg aria-hidden="true" height="16" viewBox="0 0 16 16" version="1.1" width="16" data-view-component="true" class="octicon octicon-copy js-clipboard-copy-icon">
    <path d="M0 6.75C0 5.784.784 5 1.75 5h1.5a.75.75 0 0 1 0 1.5h-1.5a.25.25 0 0 0-.25.25v7.5c0 .138.112.25.25.25h7.5a.25.25 0 0 0 .25-.25v-1.5a.75.75 0 0 1 1.5 0v1.5A1.75 1.75 0 0 1 9.25 16h-7.5A1.75 1.75 0 0 1 0 14.25Z"></path><path d="M5 1.75C5 .784 5.784 0 6.75 0h7.5C15.216 0 16 .784 16 1.75v7.5A1.75 1.75 0 0 1 14.25 11h-7.5A1.75 1.75 0 0 1 5 9.25Zm1.75-.25a.25.25 0 0 0-.25.25v7.5c0 .138.112.25.25.25h7.5a.25.25 0 0 0 .25-.25v-7.5a.25.25 0 0 0-.25-.25Z"></path>
</svg>
      <svg aria-hidden="true" height="16" viewBox="0 0 16 16" version="1.1" width="16" data-view-component="true" class="octicon octicon-check js-clipboard-check-icon color-fg-success d-none">
    <path d="M13.78 4.22a.75.75 0 0 1 0 1.06l-7.25 7.25a.75.75 0 0 1-1.06 0L2.22 9.28a.751.751 0 0 1 .018-1.042.751.751 0 0 1 1.042-.018L6 10.94l6.72-6.72a.75.75 0 0 1 1.06 0Z"></path>
</svg>
    </clipboard-copy>
  </div>
</template>


    <style>
      .user-mention[href$="/pvateekul"] {
        color: var(--color-user-mention-fg);
        background-color: var(--color-user-mention-bg);
        border-radius: 2px;
        margin-left: -2px;
        margin-right: -2px;
        padding: 0 2px;
      }
    </style>


    </div>

    <div id="js-global-screen-reader-notice" class="sr-only" aria-live="polite" aria-atomic="true" ></div>
    <div id="js-global-screen-reader-notice-assertive" class="sr-only" aria-live="assertive" aria-atomic="true"></div>
  </body>
</html>

